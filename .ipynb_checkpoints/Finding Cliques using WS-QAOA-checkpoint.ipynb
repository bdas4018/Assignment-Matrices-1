{
 "cells": [
  {
   "cell_type": "code",
   "execution_count": 126,
   "id": "rising-elements",
   "metadata": {},
   "outputs": [],
   "source": [
    "# useful additional packages \n",
    "import matplotlib.pyplot as plt\n",
    "import matplotlib.axes as axes\n",
    "%matplotlib inline\n",
    "import numpy as np\n",
    "import networkx as nx\n",
    "\n",
    "from qiskit import Aer\n",
    "from qiskit.tools.visualization import plot_histogram\n",
    "from qiskit.circuit.library import TwoLocal\n",
    "from qiskit_optimization.applications import Maxcut, Tsp, VertexCover\n",
    "from qiskit.algorithms import VQE, NumPyMinimumEigensolver\n",
    "from qiskit.algorithms.optimizers import SPSA,COBYLA,SLSQP\n",
    "from qiskit.utils import algorithm_globals, QuantumInstance\n",
    "from qiskit_optimization.algorithms import MinimumEigenOptimizer\n",
    "from qiskit_optimization.problems import QuadraticProgram\n",
    "from qiskit_optimization.algorithms import MinimumEigenOptimizer, CplexOptimizer\n",
    "import numpy as np\n",
    "import copy\n",
    "\n",
    "from qiskit_optimization.algorithms import CobylaOptimizer,SlsqpOptimizer\n",
    "# Problem modelling imports\n",
    "\n",
    "from docplex.mp.model import Model\n",
    "\n",
    "# Qiskit imports\n",
    "from qiskit import BasicAer\n",
    "from qiskit.utils import QuantumInstance\n",
    "from qiskit.algorithms import QAOA, NumPyMinimumEigensolver\n",
    "from qiskit.utils.algorithm_globals import algorithm_globals\n",
    "from qiskit_optimization.algorithms import MinimumEigenOptimizer, CplexOptimizer\n",
    "from qiskit_optimization import QuadraticProgram\n",
    "from qiskit_optimization.problems.variable import VarType\n",
    "from qiskit_optimization.converters.quadratic_program_to_qubo import QuadraticProgramToQubo"
   ]
  },
  {
   "cell_type": "code",
   "execution_count": 127,
   "id": "facial-helen",
   "metadata": {},
   "outputs": [],
   "source": [
    "import numpy as np\n",
    "import copy\n",
    "\n",
    "# Problem modelling imports\n",
    "from docplex.mp.model import Model\n",
    "\n",
    "# Qiskit imports\n",
    "from qiskit import BasicAer\n",
    "from qiskit.utils import QuantumInstance\n",
    "from qiskit.algorithms import QAOA, NumPyMinimumEigensolver\n",
    "from qiskit.utils.algorithm_globals import algorithm_globals\n",
    "from qiskit_optimization.algorithms import MinimumEigenOptimizer, CplexOptimizer\n",
    "from qiskit_optimization import QuadraticProgram\n",
    "from qiskit_optimization.problems.variable import VarType\n",
    "from qiskit_optimization.converters.quadratic_program_to_qubo import QuadraticProgramToQubo"
   ]
  },
  {
   "cell_type": "code",
   "execution_count": 128,
   "id": "systematic-leadership",
   "metadata": {},
   "outputs": [
    {
     "data": {
      "image/png": "[encoded data removed]",
      "text/plain": [
       "<Figure size 432x288 with 1 Axes>"
      ]
     },
     "metadata": {},
     "output_type": "display_data"
    }
   ],
   "source": [
    "# Generating a graph of 4 nodes \n",
    "\n",
    "n=5 # Number of nodes in graph\n",
    "G=nx.Graph()\n",
    "G.add_nodes_from(np.arange(0,n,1))\n",
    "elist=[(0,3,1.0),(0,4,1.0),(1,3,1.0),(1,4,1.0),(2,3,1.0),(2,4,1.0)]\n",
    "# tuple is (i,j,weight) where (i,j) is the edge\n",
    "G.add_weighted_edges_from(elist)\n",
    "\n",
    "colors = ['r' for node in G.nodes()]\n",
    "pos = nx.spring_layout(G)\n",
    "\n",
    "def draw_graph(G, colors, pos):\n",
    "    default_axes = plt.axes(frameon=True)\n",
    "    nx.draw_networkx(G, node_color=colors, node_size=600, alpha=.8, ax=default_axes, pos=pos)\n",
    "    edge_labels = nx.get_edge_attributes(G, 'weight')\n",
    "    nx.draw_networkx_edge_labels(G, pos=pos, edge_labels=edge_labels)\n",
    "    \n",
    "draw_graph(G, colors, pos)"
   ]
  },
  {
   "cell_type": "code",
   "execution_count": 129,
   "id": "massive-pledge",
   "metadata": {},
   "outputs": [
    {
     "name": "stdout",
     "output_type": "stream",
     "text": [
      "[[0. 0. 0. 1. 1.]\n",
      " [0. 0. 0. 1. 1.]\n",
      " [0. 0. 0. 1. 1.]\n",
      " [1. 1. 1. 0. 0.]\n",
      " [1. 1. 1. 0. 0.]]\n"
     ]
    }
   ],
   "source": [
    "# Computing the weight matrix from the random graph\n",
    "w = np.zeros([n,n])\n",
    "for i in range(n):\n",
    "    for j in range(n):\n",
    "        temp = G.get_edge_data(i,j,default=0)\n",
    "        if temp != 0:\n",
    "            w[i,j] = temp['weight'] \n",
    "print(w)"
   ]
  },
  {
   "cell_type": "code",
   "execution_count": null,
   "id": "bizarre-notebook",
   "metadata": {},
   "outputs": [],
   "source": [
    " "
   ]
  },
  {
   "cell_type": "code",
   "execution_count": 130,
   "id": "absolute-hanging",
   "metadata": {},
   "outputs": [
    {
     "name": "stdout",
     "output_type": "stream",
     "text": [
      "// This file has been generated by DOcplex\n",
      "// model name is: Vertex cover\n",
      "// single vars section\n",
      "dvar bool x_0;\n",
      "dvar bool x_1;\n",
      "dvar bool x_2;\n",
      "dvar bool x_3;\n",
      "dvar bool x_4;\n",
      "\n",
      "minimize\n",
      " x_0 + x_1 + x_2 + x_3 + x_4;\n",
      " \n",
      "subject to {\n",
      " c0:\n",
      "  x_0 + x_3 >= 1;\n",
      " c1:\n",
      "  x_0 + x_4 >= 1;\n",
      " c2:\n",
      "  x_1 + x_3 >= 1;\n",
      " c3:\n",
      "  x_1 + x_4 >= 1;\n",
      " c4:\n",
      "  x_2 + x_3 >= 1;\n",
      " c5:\n",
      "  x_2 + x_4 >= 1;\n",
      "\n",
      "}\n",
      "\\ This file has been generated by DOcplex\n",
      "\\ ENCODING=ISO-8859-1\n",
      "\\Problem name: Vertex cover\n",
      "\n",
      "Minimize\n",
      " obj: x_0 + x_1 + x_2 + x_3 + x_4\n",
      "Subject To\n",
      " c0: x_0 + x_3 - c0@int_slack = 1\n",
      " c1: x_0 + x_4 - c1@int_slack = 1\n",
      " c2: x_1 + x_3 - c2@int_slack = 1\n",
      " c3: x_1 + x_4 - c3@int_slack = 1\n",
      " c4: x_2 + x_3 - c4@int_slack = 1\n",
      " c5: x_2 + x_4 - c5@int_slack = 1\n",
      "\n",
      "Bounds\n",
      " 0 <= x_0 <= 1\n",
      " 0 <= x_1 <= 1\n",
      " 0 <= x_2 <= 1\n",
      " 0 <= x_3 <= 1\n",
      " 0 <= x_4 <= 1\n",
      "       c0@int_slack <= 1\n",
      "       c1@int_slack <= 1\n",
      "       c2@int_slack <= 1\n",
      "       c3@int_slack <= 1\n",
      "       c4@int_slack <= 1\n",
      "       c5@int_slack <= 1\n",
      "\n",
      "Binaries\n",
      " x_0 x_1 x_2 x_3 x_4\n",
      "\n",
      "Generals\n",
      " c0@int_slack c1@int_slack c2@int_slack c3@int_slack c4@int_slack c5@int_slack\n",
      "End\n",
      "\n"
     ]
    }
   ],
   "source": [
    "vertex_cover = VertexCover(w)\n",
    "qp = vertex_cover.to_quadratic_program()\n",
    "qp.to_docplex().prettyprint()\n",
    "#CplexOptimizer().solve(qp)\n",
    "\n",
    "from qiskit_optimization.converters import InequalityToEquality\n",
    "ineq2eq = InequalityToEquality()\n",
    "qp_eq = ineq2eq.convert(qp)\n",
    "print(qp_eq.export_as_lp_string())"
   ]
  },
  {
   "cell_type": "code",
   "execution_count": 131,
   "id": "rental-peninsula",
   "metadata": {},
   "outputs": [
    {
     "name": "stdout",
     "output_type": "stream",
     "text": [
      "\\ This file has been generated by DOcplex\n",
      "\\ ENCODING=ISO-8859-1\n",
      "\\Problem name: Vertex cover\n",
      "\n",
      "Minimize\n",
      " obj: x_0 + x_1 + x_2 + x_3 + x_4\n",
      "Subject To\n",
      " c0: x_0 + x_3 - c0@int_slack@0 = 1\n",
      " c1: x_0 + x_4 - c1@int_slack@0 = 1\n",
      " c2: x_1 + x_3 - c2@int_slack@0 = 1\n",
      " c3: x_1 + x_4 - c3@int_slack@0 = 1\n",
      " c4: x_2 + x_3 - c4@int_slack@0 = 1\n",
      " c5: x_2 + x_4 - c5@int_slack@0 = 1\n",
      "\n",
      "Bounds\n",
      " 0 <= x_0 <= 1\n",
      " 0 <= x_1 <= 1\n",
      " 0 <= x_2 <= 1\n",
      " 0 <= x_3 <= 1\n",
      " 0 <= x_4 <= 1\n",
      " 0 <= c0@int_slack@0 <= 1\n",
      " 0 <= c1@int_slack@0 <= 1\n",
      " 0 <= c2@int_slack@0 <= 1\n",
      " 0 <= c3@int_slack@0 <= 1\n",
      " 0 <= c4@int_slack@0 <= 1\n",
      " 0 <= c5@int_slack@0 <= 1\n",
      "\n",
      "Binaries\n",
      " x_0 x_1 x_2 x_3 x_4 c0@int_slack@0 c1@int_slack@0 c2@int_slack@0 c3@int_slack@0\n",
      " c4@int_slack@0 c5@int_slack@0\n",
      "End\n",
      "\n",
      "\\ This file has been generated by DOcplex\n",
      "\\ ENCODING=ISO-8859-1\n",
      "\\Problem name: Vertex cover\n",
      "\n",
      "Minimize\n",
      " obj: x_0 + x_1 + x_2 + x_3 + x_4\n",
      "Subject To\n",
      " c0: x_0 + x_3 - c0@int_slack = 1\n",
      " c1: x_0 + x_4 - c1@int_slack = 1\n",
      " c2: x_1 + x_3 - c2@int_slack = 1\n",
      " c3: x_1 + x_4 - c3@int_slack = 1\n",
      " c4: x_2 + x_3 - c4@int_slack = 1\n",
      " c5: x_2 + x_4 - c5@int_slack = 1\n",
      "\n",
      "Bounds\n",
      " 0 <= x_0 <= 1\n",
      " 0 <= x_1 <= 1\n",
      " 0 <= x_2 <= 1\n",
      " 0 <= x_3 <= 1\n",
      " 0 <= x_4 <= 1\n",
      "       c0@int_slack <= 1\n",
      "       c1@int_slack <= 1\n",
      "       c2@int_slack <= 1\n",
      "       c3@int_slack <= 1\n",
      "       c4@int_slack <= 1\n",
      "       c5@int_slack <= 1\n",
      "\n",
      "Binaries\n",
      " x_0 x_1 x_2 x_3 x_4\n",
      "\n",
      "Generals\n",
      " c0@int_slack c1@int_slack c2@int_slack c3@int_slack c4@int_slack c5@int_slack\n",
      "End\n",
      "\n",
      "\\ This file has been generated by DOcplex\n",
      "\\ ENCODING=ISO-8859-1\n",
      "\\Problem name: Vertex cover\n",
      "\n",
      "Minimize\n",
      " obj: x_0 + x_1 + x_2 + x_3 + x_4\n",
      "Subject To\n",
      " c0: x_0 + x_3 - c0@int_slack = 1\n",
      " c1: x_0 + x_4 - c1@int_slack = 1\n",
      " c2: x_1 + x_3 - c2@int_slack = 1\n",
      " c3: x_1 + x_4 - c3@int_slack = 1\n",
      " c4: x_2 + x_3 - c4@int_slack = 1\n",
      " c5: x_2 + x_4 - c5@int_slack = 1\n",
      "\n",
      "Bounds\n",
      " 0 <= x_0 <= 1\n",
      " 0 <= x_1 <= 1\n",
      " 0 <= x_2 <= 1\n",
      " 0 <= x_3 <= 1\n",
      " 0 <= x_4 <= 1\n",
      "       c0@int_slack <= 1\n",
      "       c1@int_slack <= 1\n",
      "       c2@int_slack <= 1\n",
      "       c3@int_slack <= 1\n",
      "       c4@int_slack <= 1\n",
      "       c5@int_slack <= 1\n",
      "\n",
      "Binaries\n",
      " x_0 x_1 x_2 x_3 x_4\n",
      "\n",
      "Generals\n",
      " c0@int_slack c1@int_slack c2@int_slack c3@int_slack c4@int_slack c5@int_slack\n",
      "End\n",
      "\n",
      "\\ This file has been generated by DOcplex\n",
      "\\ ENCODING=ISO-8859-1\n",
      "\\Problem name: Vertex cover\n",
      "\n",
      "Minimize\n",
      " obj: x_0 + x_1 + x_2 + x_3 + x_4\n",
      "Subject To\n",
      " c0: x_0 + x_3 - c0@int_slack@0 = 1\n",
      " c1: x_0 + x_4 - c1@int_slack@0 = 1\n",
      " c2: x_1 + x_3 - c2@int_slack@0 = 1\n",
      " c3: x_1 + x_4 - c3@int_slack@0 = 1\n",
      " c4: x_2 + x_3 - c4@int_slack@0 = 1\n",
      " c5: x_2 + x_4 - c5@int_slack@0 = 1\n",
      "\n",
      "Bounds\n",
      " 0 <= x_0 <= 1\n",
      " 0 <= x_1 <= 1\n",
      " 0 <= x_2 <= 1\n",
      " 0 <= x_3 <= 1\n",
      " 0 <= x_4 <= 1\n",
      " 0 <= c0@int_slack@0 <= 1\n",
      " 0 <= c1@int_slack@0 <= 1\n",
      " 0 <= c2@int_slack@0 <= 1\n",
      " 0 <= c3@int_slack@0 <= 1\n",
      " 0 <= c4@int_slack@0 <= 1\n",
      " 0 <= c5@int_slack@0 <= 1\n",
      "\n",
      "Binaries\n",
      " x_0 x_1 x_2 x_3 x_4 c0@int_slack@0 c1@int_slack@0 c2@int_slack@0 c3@int_slack@0\n",
      " c4@int_slack@0 c5@int_slack@0\n",
      "End\n",
      "\n",
      "\\ This file has been generated by DOcplex\n",
      "\\ ENCODING=ISO-8859-1\n",
      "\\Problem name: Vertex cover\n",
      "\n",
      "Minimize\n",
      " obj: - 23 x_0 - 23 x_1 - 23 x_2 - 35 x_3 - 35 x_4 + 12 c0@int_slack@0\n",
      "      + 12 c1@int_slack@0 + 12 c2@int_slack@0 + 12 c3@int_slack@0\n",
      "      + 12 c4@int_slack@0 + 12 c5@int_slack@0 + [ 24 x_0^2 + 24 x_0*x_3\n",
      "      + 24 x_0*x_4 - 24 x_0*c0@int_slack@0 - 24 x_0*c1@int_slack@0 + 24 x_1^2\n",
      "      + 24 x_1*x_3 + 24 x_1*x_4 - 24 x_1*c2@int_slack@0 - 24 x_1*c3@int_slack@0\n",
      "      + 24 x_2^2 + 24 x_2*x_3 + 24 x_2*x_4 - 24 x_2*c4@int_slack@0\n",
      "      - 24 x_2*c5@int_slack@0 + 36 x_3^2 - 24 x_3*c0@int_slack@0\n",
      "      - 24 x_3*c2@int_slack@0 - 24 x_3*c4@int_slack@0 + 36 x_4^2\n",
      "      - 24 x_4*c1@int_slack@0 - 24 x_4*c3@int_slack@0 - 24 x_4*c5@int_slack@0\n",
      "      + 12 c0@int_slack@0^2 + 12 c1@int_slack@0^2 + 12 c2@int_slack@0^2\n",
      "      + 12 c3@int_slack@0^2 + 12 c4@int_slack@0^2 + 12 c5@int_slack@0^2 ]/2 + 36\n",
      "Subject To\n",
      "\n",
      "Bounds\n",
      " 0 <= x_0 <= 1\n",
      " 0 <= x_1 <= 1\n",
      " 0 <= x_2 <= 1\n",
      " 0 <= x_3 <= 1\n",
      " 0 <= x_4 <= 1\n",
      " 0 <= c0@int_slack@0 <= 1\n",
      " 0 <= c1@int_slack@0 <= 1\n",
      " 0 <= c2@int_slack@0 <= 1\n",
      " 0 <= c3@int_slack@0 <= 1\n",
      " 0 <= c4@int_slack@0 <= 1\n",
      " 0 <= c5@int_slack@0 <= 1\n",
      "\n",
      "Binaries\n",
      " x_0 x_1 x_2 x_3 x_4 c0@int_slack@0 c1@int_slack@0 c2@int_slack@0 c3@int_slack@0\n",
      " c4@int_slack@0 c5@int_slack@0\n",
      "End\n",
      "\n"
     ]
    }
   ],
   "source": [
    "from qiskit_optimization.converters import LinearEqualityToPenalty\n",
    "\n",
    "\n",
    "#lineq2penalty = LinearEqualityToPenalty()\n",
    "#qp2 = lineq2penalty.convert(qp)\n",
    "#print(qp2.export_as_lp_string())\n",
    "\n",
    "from qiskit_optimization.converters import IntegerToBinary\n",
    "int2bin = IntegerToBinary()\n",
    "qp_eq_bin = int2bin.convert(qp_eq)\n",
    "print(qp_eq_bin.export_as_lp_string())\n",
    "\n",
    "from qiskit_optimization.converters import InequalityToEquality\n",
    "ineq2eq = InequalityToEquality()\n",
    "qp_eq = ineq2eq.convert(qp)\n",
    "print(qp_eq.export_as_lp_string())\n",
    "\n",
    "\n",
    "ineq2eq = InequalityToEquality()\n",
    "qp_eq = ineq2eq.convert(qp)\n",
    "print(qp_eq.export_as_lp_string())\n",
    "\n",
    "int2bin = IntegerToBinary()\n",
    "qp_eq_bin = int2bin.convert(qp_eq)\n",
    "print(qp_eq_bin.export_as_lp_string())\n",
    "\n",
    "\n",
    "from qiskit_optimization.converters import LinearEqualityToPenalty\n",
    "lineq2penalty = LinearEqualityToPenalty()\n",
    "qubo = lineq2penalty.convert(qp_eq_bin)\n",
    "print(qubo.export_as_lp_string())\n",
    "\n",
    "#qubitOp, offset = qp.to_ising()\n",
    "#print('Offset:', offset)\n",
    "#print('Ising Hamiltonian:')\n",
    "#print(str(qubitOp))"
   ]
  },
  {
   "cell_type": "code",
   "execution_count": 132,
   "id": "affecting-entrepreneur",
   "metadata": {},
   "outputs": [],
   "source": [
    "#from qiskit_optimization.converters import LinearEqualityToPenalty\n",
    "def relax_problem(problem) -> QuadraticProgram:\n",
    "    \"\"\"Change all variables to continuous.\"\"\"\n",
    "    relaxed_problem = copy.deepcopy(problem)\n",
    "    for variable in relaxed_problem.variables:\n",
    "        variable.vartype = VarType.CONTINUOUS\n",
    "\n",
    "    return relaxed_problem\n"
   ]
  },
  {
   "cell_type": "code",
   "execution_count": 133,
   "id": "cardiovascular-president",
   "metadata": {},
   "outputs": [],
   "source": [
    "#lineq2penalty = LinearEqualityToPenalty()\n",
    "#qubo1 = lineq2penalty.convert(qp)\n",
    "#print(qubo1.export_as_lp_string())"
   ]
  },
  {
   "cell_type": "code",
   "execution_count": 134,
   "id": "aggressive-valentine",
   "metadata": {},
   "outputs": [
    {
     "data": {
      "text/plain": [
       "optimal function value: 2.0\n",
       "optimal value: [0. 0. 0. 1. 1. 0. 0. 0. 0. 0. 0.]\n",
       "status: SUCCESS"
      ]
     },
     "execution_count": 134,
     "metadata": {},
     "output_type": "execute_result"
    }
   ],
   "source": [
    "CplexOptimizer().solve(qubo)"
   ]
  },
  {
   "cell_type": "code",
   "execution_count": null,
   "id": "ruled-daughter",
   "metadata": {},
   "outputs": [],
   "source": []
  },
  {
   "cell_type": "code",
   "execution_count": 135,
   "id": "ongoing-multiple",
   "metadata": {},
   "outputs": [
    {
     "data": {
      "text/plain": [
       "optimal function value: 1.972222222222257\n",
       "optimal value: [1.87179933e-14 1.95775792e-14 1.69753483e-14 9.72222222e-01\n",
       " 9.72222222e-01 6.10622664e-16 1.05471187e-15 1.22124533e-15\n",
       " 1.16573418e-15 1.05471187e-15 7.77156117e-16]\n",
       "status: SUCCESS"
      ]
     },
     "execution_count": 135,
     "metadata": {},
     "output_type": "execute_result"
    }
   ],
   "source": [
    "qp1 = relax_problem(QuadraticProgramToQubo().convert(qubo))\n",
    "qp1\n",
    "#exact1 = MinimumEigenOptimizer(NumPyMinimumEigensolver())\n",
    "#result1 = exact1.solve(qp1)\n",
    "#print(result1)\n",
    "optimizer = SlsqpOptimizer()\n",
    "result = optimizer.solve(qp1) \n",
    "result"
   ]
  },
  {
   "cell_type": "code",
   "execution_count": 136,
   "id": "continuing-romania",
   "metadata": {},
   "outputs": [
    {
     "data": {
      "text/plain": [
       "array([1.87179933e-14, 1.95775792e-14, 1.69753483e-14, 9.72222222e-01,\n",
       "       9.72222222e-01, 6.10622664e-16, 1.05471187e-15, 1.22124533e-15,\n",
       "       1.16573418e-15, 1.05471187e-15, 7.77156117e-16])"
      ]
     },
     "execution_count": 136,
     "metadata": {},
     "output_type": "execute_result"
    }
   ],
   "source": [
    "c_stars = result.samples[0].x\n",
    "c_stars"
   ]
  },
  {
   "cell_type": "code",
   "execution_count": 209,
   "id": "coordinated-prototype",
   "metadata": {},
   "outputs": [],
   "source": [
    "algorithm_globals.random_seed = 12345\n",
    "quantum_instance = QuantumInstance(BasicAer.get_backend('statevector_simulator'),\n",
    "                                   seed_simulator=algorithm_globals.random_seed,\n",
    "                                   seed_transpiler=algorithm_globals.random_seed)\n",
    "qaoa_mes = QAOA(quantum_instance=quantum_instance, initial_point=[1., 1.],optimizer=COBYLA())\n",
    "exact_mes = NumPyMinimumEigensolver()"
   ]
  },
  {
   "cell_type": "code",
   "execution_count": 210,
   "id": "champion-worry",
   "metadata": {},
   "outputs": [],
   "source": [
    "qaoa = MinimumEigenOptimizer(qaoa_mes)"
   ]
  },
  {
   "cell_type": "code",
   "execution_count": 211,
   "id": "beginning-tennis",
   "metadata": {},
   "outputs": [
    {
     "name": "stdout",
     "output_type": "stream",
     "text": [
      "optimal function value: 2.0\n",
      "optimal value: [0. 0. 0. 1. 1. 0. 0. 0. 0. 0. 0.]\n",
      "status: SUCCESS\n"
     ]
    }
   ],
   "source": [
    "qaoa_result = qaoa.solve(qubo)\n",
    "print(qaoa_result)"
   ]
  },
  {
   "cell_type": "code",
   "execution_count": 212,
   "id": "wrong-atlanta",
   "metadata": {},
   "outputs": [
    {
     "name": "stdout",
     "output_type": "stream",
     "text": [
      "0\n",
      "1\n",
      "2\n",
      "3\n",
      "4\n",
      "5\n",
      "6\n",
      "7\n",
      "8\n",
      "9\n",
      "10\n"
     ]
    },
    {
     "data": {
      "image/png": "[encoded data removed]",
      "text/plain": [
       "<Figure size 219.833x686.28 with 1 Axes>"
      ]
     },
     "execution_count": 212,
     "metadata": {},
     "output_type": "execute_result"
    }
   ],
   "source": [
    "from qiskit import QuantumCircuit\n",
    "\n",
    "thetas = [2*np.arcsin(np.sqrt(c_star)) for c_star in c_stars]\n",
    "\n",
    "init_qc = QuantumCircuit((11))\n",
    "for idx, theta in enumerate(thetas):\n",
    "    init_qc.ry(theta, idx)\n",
    "    print(idx)\n",
    "    \n",
    "\n",
    "init_qc.draw(output='mpl')"
   ]
  },
  {
   "cell_type": "code",
   "execution_count": 213,
   "id": "champion-toddler",
   "metadata": {},
   "outputs": [
    {
     "data": {
      "image/png": "[encoded data removed]",
      "text/plain": [
       "<Figure size 400.433x686.28 with 1 Axes>"
      ]
     },
     "execution_count": 213,
     "metadata": {},
     "output_type": "execute_result"
    }
   ],
   "source": [
    "from qiskit.circuit import Parameter\n",
    "\n",
    "beta = Parameter('β')\n",
    "\n",
    "ws_mixer = QuantumCircuit(11)\n",
    "for idx, theta in enumerate(thetas):\n",
    "    ws_mixer.ry(-theta, idx)\n",
    "    ws_mixer.rz(-2*beta, idx)\n",
    "    ws_mixer.ry(theta, idx)\n",
    "    \n",
    "ws_mixer.draw(output='mpl')"
   ]
  },
  {
   "cell_type": "code",
   "execution_count": 214,
   "id": "alpha-subscriber",
   "metadata": {},
   "outputs": [],
   "source": [
    "ws_qaoa_mes = QAOA(quantum_instance=quantum_instance, \n",
    "                   initial_state=init_qc, \n",
    "                   mixer=ws_mixer,\n",
    "                   initial_point=[1., 1.],optimizer=COBYLA())"
   ]
  },
  {
   "cell_type": "code",
   "execution_count": 215,
   "id": "pacific-analysis",
   "metadata": {},
   "outputs": [],
   "source": [
    "ws_qaoa = MinimumEigenOptimizer(ws_qaoa_mes)"
   ]
  },
  {
   "cell_type": "code",
   "execution_count": 216,
   "id": "administrative-james",
   "metadata": {},
   "outputs": [
    {
     "name": "stdout",
     "output_type": "stream",
     "text": [
      "optimal function value: 2.0\n",
      "optimal value: [0. 0. 0. 1. 1. 0. 0. 0. 0. 0. 0.]\n",
      "status: SUCCESS\n"
     ]
    }
   ],
   "source": [
    "ws_qaoa_result = ws_qaoa.solve(qubo)\n",
    "print(ws_qaoa_result)"
   ]
  },
  {
   "cell_type": "markdown",
   "id": "quiet-wagon",
   "metadata": {},
   "source": []
  },
  {
   "cell_type": "code",
   "execution_count": 252,
   "id": "helpful-rehabilitation",
   "metadata": {},
   "outputs": [
    {
     "data": {
      "text/plain": [
       "['00011000000: value: 2.000, probability: 0.01150358847%',\n",
       " '11000000000: value: 14.000, probability: 0.01554514366%',\n",
       " '10100000000: value: 14.000, probability: 0.01554514366%',\n",
       " '01100000000: value: 14.000, probability: 0.01554514366%',\n",
       " '10010000000: value: 20.000, probability: 0.00815554815%',\n",
       " '01010000000: value: 20.000, probability: 0.00815554815%',\n",
       " '00110000000: value: 20.000, probability: 0.00815554815%',\n",
       " '10001000000: value: 20.000, probability: 0.00815554815%',\n",
       " '01001000000: value: 20.000, probability: 0.00815554815%',\n",
       " '00101000000: value: 20.000, probability: 0.00815554815%',\n",
       " '00010100000: value: 25.000, probability: 0.00134240160%']"
      ]
     },
     "execution_count": 252,
     "metadata": {},
     "output_type": "execute_result"
    }
   ],
   "source": [
    "def format_qaoa_samples(samples, max_len: int = 11):\n",
    "    qaoa_res = []\n",
    "    for s in samples:\n",
    "        if sum(s.x) == 2:\n",
    "            qaoa_res.append((''.join([str(int(_)) for _ in s.x]), s.fval, s.probability))\n",
    "         \n",
    "    res = sorted(qaoa_res, key=lambda x: x[1])[0:max_len]\n",
    "            \n",
    "    return [(_[0] + f': value: {_[1]:.3f}, probability: {1e2*_[2]:.11f}%') for _ in res]\n",
    "\n",
    "format_qaoa_samples(qaoa_result.samples)\n",
    "\n",
    "#print(qaoa_result.raw_samples)"
   ]
  },
  {
   "cell_type": "code",
   "execution_count": null,
   "id": "structural-worse",
   "metadata": {},
   "outputs": [],
   "source": []
  },
  {
   "cell_type": "code",
   "execution_count": null,
   "id": "serial-firmware",
   "metadata": {},
   "outputs": [],
   "source": []
  },
  {
   "cell_type": "code",
   "execution_count": null,
   "id": "regular-convergence",
   "metadata": {},
   "outputs": [],
   "source": []
  },
  {
   "cell_type": "code",
   "execution_count": null,
   "id": "global-organizer",
   "metadata": {},
   "outputs": [],
   "source": []
  },
  {
   "cell_type": "code",
   "execution_count": 250,
   "id": "female-zoning",
   "metadata": {},
   "outputs": [
    {
     "data": {
      "text/plain": [
       "['00011000000: value: -2.000, probability: 99.99973925228%']"
      ]
     },
     "execution_count": 250,
     "metadata": {},
     "output_type": "execute_result"
    }
   ],
   "source": [
    "format_qaoa_samples(ws_qaoa_result.samples)\n",
    "\n",
    "#format_qaoa_samples(ws_qaoa_result.raw_samples)"
   ]
  },
  {
   "cell_type": "code",
   "execution_count": 223,
   "id": "through-train",
   "metadata": {},
   "outputs": [],
   "source": [
    "from qiskit_optimization.algorithms import WarmStartQAOAOptimizer"
   ]
  },
  {
   "cell_type": "code",
   "execution_count": 229,
   "id": "packed-calendar",
   "metadata": {},
   "outputs": [],
   "source": [
    "qaoa_mes = QAOA(quantum_instance=quantum_instance, initial_point=[0., 1.])\n",
    "ws_qaoa = WarmStartQAOAOptimizer(pre_solver=CplexOptimizer(), relax_for_pre_solver=True, \n",
    "                                 qaoa=qaoa_mes, epsilon=0.0)"
   ]
  },
  {
   "cell_type": "code",
   "execution_count": 230,
   "id": "established-elizabeth",
   "metadata": {},
   "outputs": [
    {
     "data": {
      "text/plain": [
       "optimal function value: 2.0\n",
       "optimal value: [0. 0. 0. 1. 1. 0. 0. 0. 0. 0. 0.]\n",
       "status: SUCCESS"
      ]
     },
     "execution_count": 230,
     "metadata": {},
     "output_type": "execute_result"
    }
   ],
   "source": [
    "ws_result = ws_qaoa.solve(qubo)\n",
    "ws_result"
   ]
  },
  {
   "cell_type": "code",
   "execution_count": 231,
   "id": "individual-armor",
   "metadata": {},
   "outputs": [
    {
     "data": {
      "text/plain": [
       "['00011000000: value: 2.000, probability: 100.0%',\n",
       " '00011000000: value: 2.000, probability: 100.0%',\n",
       " '00011000000: value: 2.000, probability: 100.0%',\n",
       " '00011000000: value: 2.000, probability: 100.0%']"
      ]
     },
     "execution_count": 231,
     "metadata": {},
     "output_type": "execute_result"
    }
   ],
   "source": [
    "format_qaoa_samples(ws_result.samples)"
   ]
  },
  {
   "cell_type": "code",
   "execution_count": null,
   "id": "attended-broadcast",
   "metadata": {},
   "outputs": [],
   "source": []
  },
  {
   "cell_type": "code",
   "execution_count": null,
   "id": "considered-galaxy",
   "metadata": {},
   "outputs": [],
   "source": []
  },
  {
   "cell_type": "code",
   "execution_count": null,
   "id": "instructional-folder",
   "metadata": {},
   "outputs": [],
   "source": []
  }
 ],
 "metadata": {
  "kernelspec": {
   "display_name": "Python 3",
   "language": "python",
   "name": "python3"
  },
  "language_info": {
   "codemirror_mode": {
    "name": "ipython",
    "version": 3
   },
   "file_extension": ".py",
   "mimetype": "text/x-python",
   "name": "python",
   "nbconvert_exporter": "python",
   "pygments_lexer": "ipython3",
   "version": "3.8.8"
  }
 },
 "nbformat": 4,
 "nbformat_minor": 5
}
