{
 "cells": [
  {
   "cell_type": "code",
   "execution_count": 121,
   "id": "controlling-insertion",
   "metadata": {},
   "outputs": [],
   "source": [
    "import qiskit\n",
    "qiskit.__qiskit_version__\n",
    "from qiskit.visualization import plot_histogram\n",
    "from matplotlib import cm\n",
    "from matplotlib.ticker import LinearLocator, FormatStrFormatter\n",
    "import scipy.optimize as optimize"
   ]
  },
  {
   "cell_type": "code",
   "execution_count": 122,
   "id": "pleased-bargain",
   "metadata": {},
   "outputs": [],
   "source": [
    "import numpy as np\n",
    "import networkx as nx\n",
    "import matplotlib.pyplot as plt\n",
    "from collections import defaultdict\n",
    "from operator import itemgetter\n",
    "from scipy.optimize import minimize\n",
    "from qiskit import QuantumCircuit, QuantumRegister, ClassicalRegister, execute, Aer\n",
    "#from qiskit.aqua.algorithms import NumPyEigensolver\n",
    "from qiskit.algorithms import QAOA, NumPyMinimumEigensolver\n",
    "from qiskit.quantum_info import Pauli\n",
    "#from qiskit.aqua.operators import op_converter\n",
    "#from qiskit.aqua.operators import WeightedPauliOperator\n",
    "import qiskit \n",
    "import networkx as nx\n",
    "import matplotlib.pyplot as plt\n",
    "import numpy as np\n",
    "import scipy"
   ]
  },
  {
   "cell_type": "code",
   "execution_count": 123,
   "id": "catholic-perfume",
   "metadata": {},
   "outputs": [
    {
     "data": {
      "image/png": "[encoded data removed]",
      "text/plain": [
       "<Figure size 432x288 with 1 Axes>"
      ]
     },
     "metadata": {},
     "output_type": "display_data"
    }
   ],
   "source": [
    "def butterfly():\n",
    "    '''Generating the butterfly graph with 5 nodes'''\n",
    "    n     = 5\n",
    "    V     = np.arange(0,n,1)\n",
    "    E     =[(0,3,1.0),(0,4,1.0),(1,3,1.0),(1,4,1.0),(2,3,1.0),(2,4,1.0)] \n",
    "    \n",
    "    G     = nx.Graph()\n",
    "    G.add_nodes_from(V)\n",
    "    G.add_weighted_edges_from(E)\n",
    "    return G\n",
    "\n",
    "\n",
    "\n",
    "\n",
    "\n",
    "#G = nx.Graph()\n",
    "#G.add_edges_from([[0,3],[0,4],[1,3],[1,4],[2,3],[2,4]])\n",
    "#nx.draw(G, pos=nx.bipartite_layout(G, [0,1,2]))\n",
    "#backend = Aer.get_backend('qasm_simulator')\n",
    "backend = Aer.get_backend('qasm_simulator', basis_gates=basis_gates,noise_model=noise_model)\n",
    "\n",
    "\n",
    "\n",
    "def diamond():\n",
    "    '''\n",
    "    Creates a diamond graph, i.e. a graph with 4 nodes and 5 edges \n",
    "    Also see https://www.graphclasses.org/smallgraphs.html#nodes4\n",
    "    '''\n",
    "    n = 5 # Number of nodes in graph\n",
    "    G = nx.Graph()\n",
    "    G.add_nodes_from(np.arange(0,n,1))\n",
    "    elist = [(0,3,1.0),(0,2,1.0),(0,3,1.0),(1,2,1.0),(2,3,1.0),()]\n",
    "    # tuple is (i,j,weight) where (i,j) is the edge\n",
    "    G.add_weighted_edges_from(elist)\n",
    "    \n",
    "    return G\n",
    "\n",
    "G=butterfly()\n",
    "nx.draw(G)"
   ]
  },
  {
   "cell_type": "code",
   "execution_count": 124,
   "id": "chronic-emphasis",
   "metadata": {},
   "outputs": [],
   "source": [
    "def objective(G, x):\n",
    "    '''Calculating the value of a cut x on graph G, \n",
    "    where x is represented by a numpy array of 1s and 0s\n",
    "    '''\n",
    "    w = nx.to_numpy_array(G)\n",
    "    spin = pow(-1,x) # bijection from 0,1 to 1,-1\n",
    "    \n",
    "    return 0.5*sum([w[i,j]*(1-spin[i]*spin[j]) for i,j in G.edges]) \n",
    "\n",
    "def create_circuit(G, gamma, beta):\n",
    "    '''Creating QAOA circuit for given angles'''\n",
    "    # Setting p (and checking if beta and gamma are of the same size)\n",
    "    #print(len(beta))\n",
    "    if len(beta) == len(gamma):\n",
    "        p = len(beta)\n",
    "    else:\n",
    "        raise ValueError(\"The parameter array beta must have the same length as parameter gamma\")\n",
    "    \n",
    "    n = len(G)\n",
    "    circ = qiskit.QuantumCircuit(n)\n",
    "    \n",
    "    for i in range(n):\n",
    "        circ.h(i)\n",
    "        \n",
    "    for i in range(p):\n",
    "        for a,b in G.edges:\n",
    "            circ.cx(a,b)\n",
    "            circ.rz(-gamma[i],b) #PLUS or MINUS! Does it matter? We optimize anyway - it does affect the range of gamma and the patterns\n",
    "            circ.cx(a,b)\n",
    "        circ.barrier()\n",
    "        for a in G.nodes:\n",
    "            circ.rx(beta[i], a)\n",
    "    \n",
    "    circ.measure_all()\n",
    "    \n",
    "    return circ\n",
    "\n",
    "def expectation(G, gamma, beta, backend, n_samples = 1024):\n",
    "    '''Evaluates expectation for given graph and angles'''\n",
    "    \n",
    "    # create circuit and run it n_shots times\n",
    "    counts = sample(G, gamma, beta, backend, n_samples = n_samples)\n",
    "    \n",
    "    def bitstring_to_array(x):\n",
    "        return np.array([int(d) for d in str(x)])\n",
    "    \n",
    "    avg = sum([counts[x] * objective(G,bitstring_to_array(x)) for x in counts])/n_samples\n",
    "    \n",
    "    return avg\n",
    "\n",
    "def find_local_angles(G, gamma, beta, backend, n_samples = 1024, optimizer = 'COBYLA', optimizer_options = None):\n",
    "    '''Find local optimum beginning from gamma, beta (these are overwritten)\n",
    "    Note that (gamma,beta) is the initial point and are overwritten when this method is run\n",
    "    '''    \n",
    "\n",
    "    def fun(angles):\n",
    "        ''' The objective function to be optimised by varying the angles\n",
    "        Note, we want to maximize the expectation <Hc>, this is equivalent to \n",
    "        minimizing - <Hc>'''\n",
    "        new_gamma = angles[:len(angles)//2]\n",
    "        new_beta = angles[len(angles)//2:]\n",
    "        \n",
    "        # maximize f = minimize -f \n",
    "        return -expectation(G, new_gamma, new_beta, backend, n_samples) \n",
    "    \n",
    "    x0 = gamma+beta\n",
    "    result = scipy.optimize.minimize(fun, x0, method= optimizer,options={'maxiter':2500})\n",
    "    \n",
    "    # finding angles\n",
    "    angles = result.x\n",
    "    new_gamma = angles[:len(angles)//2]\n",
    "    new_beta = angles[len(angles)//2:]\n",
    "    return result,new_gamma, new_beta\n",
    "  \n",
    "\n",
    "    \n",
    "def sample(G, gamma, beta, backend, n_samples = 1024, plot_histogram = False):\n",
    "    circ = create_circuit(G,beta,gamma)\n",
    "    #backend = Aer.get_backend(’qasm_simulator’, basis_gates=basis_gates,noise_model=noise_model)\n",
    "    result = qiskit.execute(circ, Aer.get_backend('qasm_simulator'), shots = n_samples,coupling_map=coupling_map,\n",
    "                 basis_gates=basis_gates,\n",
    "                 noise_model=noise_model).result()\n",
    "    counts = result.get_counts()\n",
    "    counts=invert_counts(counts)\n",
    "    if plot_histogram:\n",
    "        from qiskit.tools.visualization import plot_histogram\n",
    "        plot_histogram(counts)\n",
    "        \n",
    "    return counts\n",
    "\n",
    "def get_angles_INTERP(G, p, backend, initial_gamma = [1.2], initial_beta = [2]):\n",
    "    '''\n",
    "    Finds quasi-optimal angles for a given graph G\n",
    "    Iteratively increase p, using an interpolation-based strategy\n",
    "    to find initial points for optimization\n",
    "    '''\n",
    "    \n",
    "    def INTERP_next_angles(angles):\n",
    "        '''Takes in a set of p angles and returns a new set of p+1 angles using the INTERP method'''\n",
    "        \n",
    "        assert len(gamma) == len(beta), \"Both lists of parameters gamma, beta must be of the same length\"\n",
    "        \n",
    "        p = len(angles)\n",
    "        \n",
    "        new_angles = [angles[0]] # i = 1, the first angles coincide\n",
    "        for i in range(2, p+1):\n",
    "            new_angles.append( (i-1)/p*angles[i-2] + (p-i+1)/p*angles[i-1]) # i in {2, ... , p}, interpolation \n",
    "        new_angles.append(angles[-1]) # i = p+1, the last angles coincide\n",
    "            \n",
    "        return new_angles\n",
    "\n",
    "    # p = 1 (check this - in Zhou et al. gamma in [-pi/2,pi/2) for udR graphs and beta in [-pi/4, pi/4]]) in general\n",
    "    \n",
    "    # find first set of angles\n",
    "    result,gamma,beta = find_local_angles(G,initial_gamma,initial_beta,backend)\n",
    "    \n",
    "    for i in range(p-1):\n",
    "        gamma_ansatz,beta_ansatz = INTERP_next_angles(gamma), INTERP_next_angles(beta) # new initial points\n",
    "        print(\"ansatz gamma, beta\", gamma_ansatz, beta_ansatz)\n",
    "        result,gamma,beta = find_local_angles(G,gamma_ansatz,beta_ansatz,backend) # new (local) optima  \n",
    "        print(\"RESULT :\",result)\n",
    "        print(\"local optima\",result, gamma, beta)\n",
    "    \n",
    "    return result,gamma, beta\n",
    "\n",
    "def invert_counts(counts):\n",
    "    return {k[::-1]:v for k, v in counts.items()}"
   ]
  },
  {
   "cell_type": "code",
   "execution_count": null,
   "id": "residential-mexican",
   "metadata": {},
   "outputs": [
    {
     "name": "stdout",
     "output_type": "stream",
     "text": [
      "ansatz gamma, beta [1.0000610953764861, 1.0000610953764861] [1.0000791666278934, 1.0000791666278934]\n",
      "RESULT :      fun: -3.2509765625\n",
      "   maxcv: 0.0\n",
      " message: 'Optimization terminated successfully.'\n",
      "    nfev: 52\n",
      "  status: 1\n",
      " success: True\n",
      "       x: array([ 0.2924612 ,  1.02669484, -0.00535924,  0.86269426])\n",
      "local optima      fun: -3.2509765625\n",
      "   maxcv: 0.0\n",
      " message: 'Optimization terminated successfully.'\n",
      "    nfev: 52\n",
      "  status: 1\n",
      " success: True\n",
      "       x: array([ 0.2924612 ,  1.02669484, -0.00535924,  0.86269426]) [0.2924612  1.02669484] [-0.00535924  0.86269426]\n",
      "ansatz gamma, beta [0.2924612041985631, 0.6595780241545354, 1.0266948441105077] [-0.005359240569467248, 0.428667509879627, 0.8626942603287212]\n",
      "RESULT :      fun: -3.2373046875\n",
      "   maxcv: 0.0\n",
      " message: 'Optimization terminated successfully.'\n",
      "    nfev: 52\n",
      "  status: 1\n",
      " success: True\n",
      "       x: array([ 0.04497039,  1.65955376,  1.06149169, -0.00532591,  0.42864003,\n",
      "        0.86269002])\n",
      "local optima      fun: -3.2373046875\n",
      "   maxcv: 0.0\n",
      " message: 'Optimization terminated successfully.'\n",
      "    nfev: 52\n",
      "  status: 1\n",
      " success: True\n",
      "       x: array([ 0.04497039,  1.65955376,  1.06149169, -0.00532591,  0.42864003,\n",
      "        0.86269002]) [0.04497039 1.65955376 1.06149169] [-0.00532591  0.42864003  0.86269002]\n",
      "ansatz gamma, beta [0.04497039219957188, 1.12135930483902, 1.4601997363437782, 1.0614916867138464] [-0.005325908912599678, 0.2839847186948536, 0.5733233619538454, 0.862690020864376]\n"
     ]
    }
   ],
   "source": [
    "result,optimal_gamma,optimal_beta=get_angles_INTERP(G, 4, backend, initial_gamma = [0.], initial_beta = [1.])"
   ]
  },
  {
   "cell_type": "code",
   "execution_count": null,
   "id": "basic-fluid",
   "metadata": {},
   "outputs": [],
   "source": [
    "print(optimal_gamma)"
   ]
  },
  {
   "cell_type": "code",
   "execution_count": null,
   "id": "regulation-herald",
   "metadata": {},
   "outputs": [],
   "source": [
    "qc = create_circuit(G,[np.pi/3], [np.pi/2])\n",
    "qc.draw(output='mpl')"
   ]
  },
  {
   "cell_type": "code",
   "execution_count": null,
   "id": "exciting-advisory",
   "metadata": {},
   "outputs": [],
   "source": [
    "S = sample(G, optimal_gamma,optimal_beta, backend, n_samples = 1024, plot_histogram=True)"
   ]
  },
  {
   "cell_type": "code",
   "execution_count": null,
   "id": "permanent-israeli",
   "metadata": {},
   "outputs": [],
   "source": [
    "print(S)"
   ]
  },
  {
   "cell_type": "code",
   "execution_count": null,
   "id": "geological-church",
   "metadata": {
    "scrolled": true
   },
   "outputs": [],
   "source": [
    "plot_histogram(S)"
   ]
  },
  {
   "cell_type": "code",
   "execution_count": null,
   "id": "standing-wagon",
   "metadata": {},
   "outputs": [],
   "source": [
    "def bitstring_to_array(x):\n",
    "        return np.array([int(d) for d in str(x)])"
   ]
  },
  {
   "cell_type": "code",
   "execution_count": null,
   "id": "interim-monaco",
   "metadata": {},
   "outputs": [],
   "source": [
    "energies = defaultdict(int)\n",
    "for k, v in S.items():\n",
    "    z = bitstring_to_array(k)\n",
    "    energies[objective(G,z)]+=v\n",
    "x,y = zip(*energies.items())\n",
    "plt.bar(x,y)\n",
    "\n",
    "\n",
    "\n",
    "plot_histogram(energies)"
   ]
  },
  {
   "cell_type": "code",
   "execution_count": null,
   "id": "terminal-collins",
   "metadata": {},
   "outputs": [],
   "source": [
    "\n"
   ]
  },
  {
   "cell_type": "code",
   "execution_count": null,
   "id": "organizational-swing",
   "metadata": {},
   "outputs": [],
   "source": []
  },
  {
   "cell_type": "code",
   "execution_count": null,
   "id": "streaming-ambassador",
   "metadata": {},
   "outputs": [],
   "source": [
    "from qiskit.providers.aer.noise import NoiseModel\n",
    "import qiskit.providers.aer.noise as noise\n",
    "provider = IBMQ.load_account()\n",
    "backend = provider.get_backend('ibmq_16_melbourne')\n",
    "noise_model = NoiseModel.from_backend(backend)\n",
    "# Set coupling map from backend\n",
    "coupling_map = backend.configuration().coupling_map\n",
    "# Set basis gates from noise model\n",
    "basis_gates = noise_model.basis_gates\n",
    "\n"
   ]
  },
  {
   "cell_type": "code",
   "execution_count": null,
   "id": "welcome-edwards",
   "metadata": {},
   "outputs": [],
   "source": [
    "print(noise_model)\n"
   ]
  },
  {
   "cell_type": "code",
   "execution_count": null,
   "id": "seven-russia",
   "metadata": {},
   "outputs": [],
   "source": []
  },
  {
   "cell_type": "code",
   "execution_count": null,
   "id": "included-adult",
   "metadata": {},
   "outputs": [],
   "source": []
  },
  {
   "cell_type": "code",
   "execution_count": 33,
   "id": "amber-olympus",
   "metadata": {},
   "outputs": [],
   "source": [
    " backend = Aer.get_backend('qasm_simulator', basis_gates=basis_gates,noise_model=noise_model)"
   ]
  },
  {
   "cell_type": "code",
   "execution_count": 29,
   "id": "heated-northwest",
   "metadata": {},
   "outputs": [],
   "source": [
    "from qiskit import IBMQ"
   ]
  },
  {
   "cell_type": "code",
   "execution_count": null,
   "id": "ordered-substance",
   "metadata": {},
   "outputs": [],
   "source": []
  }
 ],
 "metadata": {
  "kernelspec": {
   "display_name": "Python 3",
   "language": "python",
   "name": "python3"
  },
  "language_info": {
   "codemirror_mode": {
    "name": "ipython",
    "version": 3
   },
   "file_extension": ".py",
   "mimetype": "text/x-python",
   "name": "python",
   "nbconvert_exporter": "python",
   "pygments_lexer": "ipython3",
   "version": "3.8.8"
  }
 },
 "nbformat": 4,
 "nbformat_minor": 5
}
