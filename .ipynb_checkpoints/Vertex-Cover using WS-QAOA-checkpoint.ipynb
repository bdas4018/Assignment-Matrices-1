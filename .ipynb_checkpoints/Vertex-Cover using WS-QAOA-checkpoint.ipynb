{
 "cells": [
  {
   "cell_type": "code",
   "execution_count": 31,
   "id": "rising-elements",
   "metadata": {},
   "outputs": [],
   "source": [
    "# useful additional packages \n",
    "import matplotlib.pyplot as plt\n",
    "import matplotlib.axes as axes\n",
    "%matplotlib inline\n",
    "import numpy as np\n",
    "import networkx as nx\n",
    "\n",
    "from qiskit import Aer\n",
    "from qiskit.tools.visualization import plot_histogram\n",
    "from qiskit.circuit.library import TwoLocal\n",
    "from qiskit_optimization.applications import Maxcut, Tsp\n",
    "from qiskit.algorithms import VQE, NumPyMinimumEigensolver\n",
    "from qiskit.algorithms.optimizers import SPSA,COBYLA,SLSQP\n",
    "from qiskit.utils import algorithm_globals, QuantumInstance\n",
    "from qiskit_optimization.algorithms import MinimumEigenOptimizer\n",
    "from qiskit_optimization.problems import QuadraticProgram\n",
    "from qiskit_optimization.algorithms import MinimumEigenOptimizer, CplexOptimizer\n",
    "import numpy as np\n",
    "import copy\n",
    "\n",
    "from qiskit_optimization.algorithms import CobylaOptimizer\n",
    "# Problem modelling imports\n",
    "\n",
    "from docplex.mp.model import Model\n",
    "\n",
    "# Qiskit imports\n",
    "from qiskit import BasicAer\n",
    "from qiskit.utils import QuantumInstance\n",
    "from qiskit.algorithms import QAOA, NumPyMinimumEigensolver\n",
    "from qiskit.utils.algorithm_globals import algorithm_globals\n",
    "from qiskit_optimization.algorithms import MinimumEigenOptimizer, CplexOptimizer\n",
    "from qiskit_optimization import QuadraticProgram\n",
    "from qiskit_optimization.problems.variable import VarType\n",
    "from qiskit_optimization.converters.quadratic_program_to_qubo import QuadraticProgramToQubo"
   ]
  },
  {
   "cell_type": "code",
   "execution_count": 32,
   "id": "facial-helen",
   "metadata": {},
   "outputs": [],
   "source": [
    "import numpy as np\n",
    "import copy\n",
    "\n",
    "# Problem modelling imports\n",
    "from docplex.mp.model import Model\n",
    "\n",
    "# Qiskit imports\n",
    "from qiskit import BasicAer\n",
    "from qiskit.utils import QuantumInstance\n",
    "from qiskit.algorithms import QAOA, NumPyMinimumEigensolver\n",
    "from qiskit.utils.algorithm_globals import algorithm_globals\n",
    "from qiskit_optimization.algorithms import MinimumEigenOptimizer, CplexOptimizer\n",
    "from qiskit_optimization import QuadraticProgram\n",
    "from qiskit_optimization.problems.variable import VarType\n",
    "from qiskit_optimization.converters.quadratic_program_to_qubo import QuadraticProgramToQubo"
   ]
  },
  {
   "cell_type": "code",
   "execution_count": 33,
   "id": "systematic-leadership",
   "metadata": {},
   "outputs": [
    {
     "data": {
      "image/png": "[encoded data removed]",
      "text/plain": [
       "<Figure size 432x288 with 1 Axes>"
      ]
     },
     "metadata": {},
     "output_type": "display_data"
    }
   ],
   "source": [
    "# Generating a graph of 4 nodes \n",
    "\n",
    "n=5 # Number of nodes in graph\n",
    "G=nx.Graph()\n",
    "G.add_nodes_from(np.arange(0,n,1))\n",
    "elist=[(0,3,1.0),(0,4,1.0),(1,3,1.0),(1,4,1.0),(2,3,1.0),(2,4,1.0)]\n",
    "# tuple is (i,j,weight) where (i,j) is the edge\n",
    "G.add_weighted_edges_from(elist)\n",
    "\n",
    "colors = ['r' for node in G.nodes()]\n",
    "pos = nx.spring_layout(G)\n",
    "\n",
    "def draw_graph(G, colors, pos):\n",
    "    default_axes = plt.axes(frameon=True)\n",
    "    nx.draw_networkx(G, node_color=colors, node_size=600, alpha=.8, ax=default_axes, pos=pos)\n",
    "    edge_labels = nx.get_edge_attributes(G, 'weight')\n",
    "    nx.draw_networkx_edge_labels(G, pos=pos, edge_labels=edge_labels)\n",
    "    \n",
    "draw_graph(G, colors, pos)"
   ]
  },
  {
   "cell_type": "code",
   "execution_count": 34,
   "id": "massive-pledge",
   "metadata": {},
   "outputs": [
    {
     "name": "stdout",
     "output_type": "stream",
     "text": [
      "[[0. 0. 0. 1. 1.]\n",
      " [0. 0. 0. 1. 1.]\n",
      " [0. 0. 0. 1. 1.]\n",
      " [1. 1. 1. 0. 0.]\n",
      " [1. 1. 1. 0. 0.]]\n"
     ]
    }
   ],
   "source": [
    "# Computing the weight matrix from the random graph\n",
    "w = np.zeros([n,n])\n",
    "for i in range(n):\n",
    "    for j in range(n):\n",
    "        temp = G.get_edge_data(i,j,default=0)\n",
    "        if temp != 0:\n",
    "            w[i,j] = temp['weight'] \n",
    "print(w)"
   ]
  },
  {
   "cell_type": "code",
   "execution_count": 35,
   "id": "bizarre-notebook",
   "metadata": {},
   "outputs": [
    {
     "name": "stdout",
     "output_type": "stream",
     "text": [
      "case = [0, 0, 0, 0, 0] cost = 0.0\n",
      "case = [1, 0, 0, 0, 0] cost = 2.0\n",
      "case = [0, 1, 0, 0, 0] cost = 2.0\n",
      "case = [1, 1, 0, 0, 0] cost = 4.0\n",
      "case = [0, 0, 1, 0, 0] cost = 2.0\n",
      "case = [1, 0, 1, 0, 0] cost = 4.0\n",
      "case = [0, 1, 1, 0, 0] cost = 4.0\n",
      "case = [1, 1, 1, 0, 0] cost = 6.0\n",
      "case = [0, 0, 0, 1, 0] cost = 3.0\n",
      "case = [1, 0, 0, 1, 0] cost = 3.0\n",
      "case = [0, 1, 0, 1, 0] cost = 3.0\n",
      "case = [1, 1, 0, 1, 0] cost = 3.0\n",
      "case = [0, 0, 1, 1, 0] cost = 3.0\n",
      "case = [1, 0, 1, 1, 0] cost = 3.0\n",
      "case = [0, 1, 1, 1, 0] cost = 3.0\n",
      "case = [1, 1, 1, 1, 0] cost = 3.0\n",
      "case = [0, 0, 0, 0, 1] cost = 3.0\n",
      "case = [1, 0, 0, 0, 1] cost = 3.0\n",
      "case = [0, 1, 0, 0, 1] cost = 3.0\n",
      "case = [1, 1, 0, 0, 1] cost = 3.0\n",
      "case = [0, 0, 1, 0, 1] cost = 3.0\n",
      "case = [1, 0, 1, 0, 1] cost = 3.0\n",
      "case = [0, 1, 1, 0, 1] cost = 3.0\n",
      "case = [1, 1, 1, 0, 1] cost = 3.0\n",
      "case = [0, 0, 0, 1, 1] cost = 6.0\n",
      "case = [1, 0, 0, 1, 1] cost = 4.0\n",
      "case = [0, 1, 0, 1, 1] cost = 4.0\n",
      "case = [1, 1, 0, 1, 1] cost = 2.0\n",
      "case = [0, 0, 1, 1, 1] cost = 4.0\n",
      "case = [1, 0, 1, 1, 1] cost = 2.0\n",
      "case = [0, 1, 1, 1, 1] cost = 2.0\n",
      "case = [1, 1, 1, 1, 1] cost = 0.0\n",
      "\n",
      "Best solution = [1, 1, 1, 0, 0] cost = 6.0\n"
     ]
    },
    {
     "data": {
      "image/png": "[encoded data removed]",
      "text/plain": [
       "<Figure size 432x288 with 1 Axes>"
      ]
     },
     "metadata": {},
     "output_type": "display_data"
    }
   ],
   "source": [
    "best_cost_brute = 0\n",
    "for b in range(2**n):\n",
    "    x = [int(t) for t in reversed(list(bin(b)[2:].zfill(n)))]\n",
    "    cost = 0\n",
    "    for i in range(n):\n",
    "        for j in range(n):\n",
    "            cost = cost + w[i,j]*x[i]*(1-x[j])\n",
    "    if best_cost_brute < cost:\n",
    "        best_cost_brute = cost\n",
    "        xbest_brute = x \n",
    "    print('case = ' + str(x)+ ' cost = ' + str(cost))\n",
    "\n",
    "colors = ['r' if xbest_brute[i] == 0 else 'c' for i in range(n)]\n",
    "draw_graph(G, colors, pos)\n",
    "print('\\nBest solution = ' + str(xbest_brute) + ' cost = ' + str(best_cost_brute))    "
   ]
  },
  {
   "cell_type": "code",
   "execution_count": 36,
   "id": "absolute-hanging",
   "metadata": {},
   "outputs": [
    {
     "name": "stdout",
     "output_type": "stream",
     "text": [
      "// This file has been generated by DOcplex\n",
      "// model name is: Max-cut\n",
      "// single vars section\n",
      "dvar bool x_0;\n",
      "dvar bool x_1;\n",
      "dvar bool x_2;\n",
      "dvar bool x_3;\n",
      "dvar bool x_4;\n",
      "\n",
      "maximize\n",
      " 2 x_0 + 2 x_1 + 2 x_2 + 3 x_3 + 3 x_4 [ - 2 x_0*x_3 - 2 x_0*x_4 - 2 x_1*x_3\n",
      " - 2 x_1*x_4 - 2 x_2*x_3 - 2 x_2*x_4 ];\n",
      " \n",
      "subject to {\n",
      "\n",
      "}\n"
     ]
    }
   ],
   "source": [
    "max_cut = Maxcut(w)\n",
    "qp = max_cut.to_quadratic_program()\n",
    "qp.to_docplex().prettyprint()\n",
    "#CplexOptimizer().solve(qp)"
   ]
  },
  {
   "cell_type": "code",
   "execution_count": 37,
   "id": "rental-peninsula",
   "metadata": {},
   "outputs": [],
   "source": [
    "def relax_problem(problem) -> QuadraticProgram:\n",
    "    \"\"\"Change all variables to continuous.\"\"\"\n",
    "    relaxed_problem = copy.deepcopy(problem)\n",
    "    for variable in relaxed_problem.variables:\n",
    "        variable.vartype = VarType.CONTINUOUS\n",
    "\n",
    "    return relaxed_problem\n",
    "\n",
    "\n",
    "\n",
    "\n",
    "\n",
    "#qubitOp, offset = qp.to_ising()\n",
    "#print('Offset:', offset)\n",
    "#print('Ising Hamiltonian:')\n",
    "#print(str(qubitOp))"
   ]
  },
  {
   "cell_type": "code",
   "execution_count": 38,
   "id": "affecting-entrepreneur",
   "metadata": {},
   "outputs": [],
   "source": [
    "#from qiskit_optimization.converters import LinearEqualityToPenalty"
   ]
  },
  {
   "cell_type": "code",
   "execution_count": 39,
   "id": "cardiovascular-president",
   "metadata": {},
   "outputs": [],
   "source": [
    "#lineq2penalty = LinearEqualityToPenalty()\n",
    "#qubo1 = lineq2penalty.convert(qp)\n",
    "#print(qubo1.export_as_lp_string())"
   ]
  },
  {
   "cell_type": "code",
   "execution_count": 40,
   "id": "aggressive-valentine",
   "metadata": {},
   "outputs": [
    {
     "data": {
      "text/plain": [
       "optimal function value: 6.0\n",
       "optimal value: [1. 1. 1. 0. 0.]\n",
       "status: SUCCESS"
      ]
     },
     "execution_count": 40,
     "metadata": {},
     "output_type": "execute_result"
    }
   ],
   "source": [
    "CplexOptimizer().solve(qp)"
   ]
  },
  {
   "cell_type": "code",
   "execution_count": null,
   "id": "ruled-daughter",
   "metadata": {},
   "outputs": [],
   "source": []
  },
  {
   "cell_type": "code",
   "execution_count": 41,
   "id": "ongoing-multiple",
   "metadata": {},
   "outputs": [
    {
     "data": {
      "text/plain": [
       "optimal function value: 6.0\n",
       "optimal value: [1. 1. 1. 0. 0.]\n",
       "status: SUCCESS"
      ]
     },
     "execution_count": 41,
     "metadata": {},
     "output_type": "execute_result"
    }
   ],
   "source": [
    "qp1 = relax_problem(QuadraticProgramToQubo().convert(qp))\n",
    "qp1\n",
    "#exact1 = MinimumEigenOptimizer(NumPyMinimumEigensolver())\n",
    "#result1 = exact1.solve(qp1)\n",
    "#print(result1)\n",
    "optimizer = CobylaOptimizer()\n",
    "result = optimizer.solve(qp1) \n",
    "result"
   ]
  },
  {
   "cell_type": "code",
   "execution_count": 42,
   "id": "continuing-romania",
   "metadata": {},
   "outputs": [
    {
     "data": {
      "text/plain": [
       "array([1., 1., 1., 0., 0.])"
      ]
     },
     "execution_count": 42,
     "metadata": {},
     "output_type": "execute_result"
    }
   ],
   "source": [
    "c_stars = result.samples[0].x\n",
    "c_stars"
   ]
  },
  {
   "cell_type": "code",
   "execution_count": 43,
   "id": "coordinated-prototype",
   "metadata": {},
   "outputs": [],
   "source": [
    "algorithm_globals.random_seed = 12345\n",
    "quantum_instance = QuantumInstance(BasicAer.get_backend('statevector_simulator'),\n",
    "                                   seed_simulator=algorithm_globals.random_seed,\n",
    "                                   seed_transpiler=algorithm_globals.random_seed)\n",
    "qaoa_mes = QAOA(quantum_instance=quantum_instance, initial_point=[0., 1.])\n",
    "exact_mes = NumPyMinimumEigensolver()"
   ]
  },
  {
   "cell_type": "code",
   "execution_count": 44,
   "id": "champion-worry",
   "metadata": {},
   "outputs": [],
   "source": [
    "qaoa = MinimumEigenOptimizer(qaoa_mes)"
   ]
  },
  {
   "cell_type": "code",
   "execution_count": 45,
   "id": "beginning-tennis",
   "metadata": {},
   "outputs": [
    {
     "name": "stdout",
     "output_type": "stream",
     "text": [
      "optimal function value: 6.0\n",
      "optimal value: [1. 1. 1. 0. 0.]\n",
      "status: SUCCESS\n"
     ]
    }
   ],
   "source": [
    "qaoa_result = qaoa.solve(qp)\n",
    "print(qaoa_result)"
   ]
  },
  {
   "cell_type": "code",
   "execution_count": 46,
   "id": "wrong-atlanta",
   "metadata": {},
   "outputs": [
    {
     "data": {
      "image/png": "[encoded data removed]",
      "text/plain": [
       "<Figure size 146.797x325.08 with 1 Axes>"
      ]
     },
     "execution_count": 46,
     "metadata": {},
     "output_type": "execute_result"
    }
   ],
   "source": [
    "from qiskit import QuantumCircuit\n",
    "\n",
    "thetas = [2*np.arcsin(np.sqrt(c_star)) for c_star in c_stars]\n",
    "\n",
    "init_qc = QuantumCircuit((n))\n",
    "for idx, theta in enumerate(thetas):\n",
    "    init_qc.ry(theta, idx)\n",
    "    \n",
    "init_qc.draw(output='mpl')"
   ]
  },
  {
   "cell_type": "code",
   "execution_count": 47,
   "id": "champion-toddler",
   "metadata": {},
   "outputs": [
    {
     "data": {
      "image/png": "[encoded data removed]",
      "text/plain": [
       "<Figure size 267.197x325.08 with 1 Axes>"
      ]
     },
     "execution_count": 47,
     "metadata": {},
     "output_type": "execute_result"
    }
   ],
   "source": [
    "from qiskit.circuit import Parameter\n",
    "\n",
    "beta = Parameter('β')\n",
    "\n",
    "ws_mixer = QuantumCircuit(n)\n",
    "for idx, theta in enumerate(thetas):\n",
    "    ws_mixer.ry(-theta, idx)\n",
    "    ws_mixer.rz(-2*beta, idx)\n",
    "    ws_mixer.ry(theta, idx)\n",
    "    \n",
    "ws_mixer.draw(output='mpl')"
   ]
  },
  {
   "cell_type": "code",
   "execution_count": 48,
   "id": "alpha-subscriber",
   "metadata": {},
   "outputs": [],
   "source": [
    "ws_qaoa_mes = QAOA(quantum_instance=quantum_instance, \n",
    "                   initial_state=init_qc, \n",
    "                   mixer=ws_mixer,\n",
    "                   initial_point=[0., 1.])"
   ]
  },
  {
   "cell_type": "code",
   "execution_count": 49,
   "id": "pacific-analysis",
   "metadata": {},
   "outputs": [],
   "source": [
    "ws_qaoa = MinimumEigenOptimizer(ws_qaoa_mes)"
   ]
  },
  {
   "cell_type": "code",
   "execution_count": 50,
   "id": "administrative-james",
   "metadata": {},
   "outputs": [
    {
     "name": "stdout",
     "output_type": "stream",
     "text": [
      "optimal function value: 6.0\n",
      "optimal value: [1. 1. 1. 0. 0.]\n",
      "status: SUCCESS\n"
     ]
    }
   ],
   "source": [
    "ws_qaoa_result = ws_qaoa.solve(qp)\n",
    "print(ws_qaoa_result)"
   ]
  },
  {
   "cell_type": "markdown",
   "id": "quiet-wagon",
   "metadata": {},
   "source": []
  },
  {
   "cell_type": "code",
   "execution_count": 51,
   "id": "helpful-rehabilitation",
   "metadata": {},
   "outputs": [
    {
     "data": {
      "text/plain": [
       "['11100: value: 6.000, probability: 20.2%',\n",
       " '00011: value: 6.000, probability: 20.2%',\n",
       " '11000: value: 4.000, probability: 2.9%',\n",
       " '10100: value: 4.000, probability: 2.9%',\n",
       " '01100: value: 4.000, probability: 2.9%',\n",
       " '10011: value: 4.000, probability: 2.9%',\n",
       " '01011: value: 4.000, probability: 2.9%',\n",
       " '00111: value: 4.000, probability: 2.9%',\n",
       " '10010: value: 3.000, probability: 3.0%',\n",
       " '01010: value: 3.000, probability: 3.0%']"
      ]
     },
     "execution_count": 51,
     "metadata": {},
     "output_type": "execute_result"
    }
   ],
   "source": [
    "def format_qaoa_samples(samples, max_len: int = 10):\n",
    "    qaoa_res = []\n",
    "    for s in samples:\n",
    "        if sum(s.x) == 2:\n",
    "            qaoa_res.append((''.join([str(int(_)) for _ in s.x]), s.fval, s.probability))\n",
    "        if sum(s.x) == 3:\n",
    "            qaoa_res.append((''.join([str(int(_)) for _ in s.x]), s.fval, s.probability))\n",
    "        if sum(s.x) == 4:\n",
    "            qaoa_res.append((''.join([str(int(_)) for _ in s.x]), s.fval, s.probability))  \n",
    "        if sum(s.x) == 5:\n",
    "            qaoa_res.append((''.join([str(int(_)) for _ in s.x]), s.fval, s.probability))    \n",
    "    res = sorted(qaoa_res, key=lambda x: -x[1])[0:max_len]\n",
    "            \n",
    "    return [(_[0] + f': value: {_[1]:.3f}, probability: {1e2*_[2]:.1f}%') for _ in res]\n",
    "\n",
    "format_qaoa_samples(qaoa_result.samples)\n",
    "\n",
    "#print(qaoa_result.raw_samples)"
   ]
  },
  {
   "cell_type": "code",
   "execution_count": null,
   "id": "structural-worse",
   "metadata": {},
   "outputs": [],
   "source": []
  },
  {
   "cell_type": "code",
   "execution_count": null,
   "id": "serial-firmware",
   "metadata": {},
   "outputs": [],
   "source": []
  },
  {
   "cell_type": "code",
   "execution_count": null,
   "id": "regular-convergence",
   "metadata": {},
   "outputs": [],
   "source": []
  },
  {
   "cell_type": "code",
   "execution_count": null,
   "id": "global-organizer",
   "metadata": {},
   "outputs": [],
   "source": []
  },
  {
   "cell_type": "code",
   "execution_count": 52,
   "id": "female-zoning",
   "metadata": {},
   "outputs": [
    {
     "data": {
      "text/plain": [
       "['11100: value: 6.000, probability: 100.0%']"
      ]
     },
     "execution_count": 52,
     "metadata": {},
     "output_type": "execute_result"
    }
   ],
   "source": [
    "format_qaoa_samples(ws_qaoa_result.samples)"
   ]
  },
  {
   "cell_type": "code",
   "execution_count": 53,
   "id": "through-train",
   "metadata": {},
   "outputs": [],
   "source": [
    "from qiskit_optimization.algorithms import WarmStartQAOAOptimizer"
   ]
  },
  {
   "cell_type": "code",
   "execution_count": 54,
   "id": "packed-calendar",
   "metadata": {},
   "outputs": [],
   "source": [
    "qaoa_mes = QAOA(quantum_instance=quantum_instance, initial_point=[0., 1.])\n",
    "ws_qaoa = WarmStartQAOAOptimizer(pre_solver=CobylaOptimizer(), relax_for_pre_solver=True, \n",
    "                                 qaoa=qaoa_mes, epsilon=0.0)"
   ]
  },
  {
   "cell_type": "code",
   "execution_count": 55,
   "id": "established-elizabeth",
   "metadata": {},
   "outputs": [
    {
     "data": {
      "text/plain": [
       "optimal function value: 6.0\n",
       "optimal value: [1. 1. 1. 0. 0.]\n",
       "status: SUCCESS"
      ]
     },
     "execution_count": 55,
     "metadata": {},
     "output_type": "execute_result"
    }
   ],
   "source": [
    "ws_result = ws_qaoa.solve(qp)\n",
    "ws_result"
   ]
  },
  {
   "cell_type": "code",
   "execution_count": 56,
   "id": "individual-armor",
   "metadata": {},
   "outputs": [
    {
     "data": {
      "text/plain": [
       "['11100: value: 6.000, probability: 100.0%']"
      ]
     },
     "execution_count": 56,
     "metadata": {},
     "output_type": "execute_result"
    }
   ],
   "source": [
    "format_qaoa_samples(ws_result.samples)"
   ]
  },
  {
   "cell_type": "code",
   "execution_count": null,
   "id": "attended-broadcast",
   "metadata": {},
   "outputs": [],
   "source": []
  },
  {
   "cell_type": "code",
   "execution_count": null,
   "id": "considered-galaxy",
   "metadata": {},
   "outputs": [],
   "source": []
  }
 ],
 "metadata": {
  "kernelspec": {
   "display_name": "Python 3",
   "language": "python",
   "name": "python3"
  },
  "language_info": {
   "codemirror_mode": {
    "name": "ipython",
    "version": 3
   },
   "file_extension": ".py",
   "mimetype": "text/x-python",
   "name": "python",
   "nbconvert_exporter": "python",
   "pygments_lexer": "ipython3",
   "version": "3.8.8"
  }
 },
 "nbformat": 4,
 "nbformat_minor": 5
}
