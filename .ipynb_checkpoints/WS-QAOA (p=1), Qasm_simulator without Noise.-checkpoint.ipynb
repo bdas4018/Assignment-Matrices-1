{
 "cells": [
  {
   "cell_type": "markdown",
   "metadata": {
    "slideshow": {
     "slide_type": "slide"
    }
   },
   "source": []
  },
  {
   "cell_type": "code",
   "execution_count": 1,
   "metadata": {},
   "outputs": [],
   "source": []
  },
  {
   "cell_type": "markdown",
   "metadata": {},
   "source": []
  },
  {
   "cell_type": "code",
   "execution_count": 302,
   "metadata": {
    "scrolled": true
   },
   "outputs": [
    {
     "data": {
      "text/plain": [
       "{'qiskit-terra': '0.17.0', 'qiskit-aer': '0.7.6', 'qiskit-ignis': '0.7.0', 'qiskit-ibmq-provider': '0.13.0', 'qiskit-aqua': None, 'qiskit': None}"
      ]
     },
     "execution_count": 302,
     "metadata": {},
     "output_type": "execute_result"
    }
   ],
   "source": [
    "import qiskit\n",
    "qiskit.__qiskit_version__"
   ]
  },
  {
   "cell_type": "markdown",
   "metadata": {
    "slideshow": {
     "slide_type": "slide"
    }
   },
   "source": []
  },
  {
   "cell_type": "markdown",
   "metadata": {
    "slideshow": {
     "slide_type": "slide"
    }
   },
   "source": []
  },
  {
   "cell_type": "markdown",
   "metadata": {
    "slideshow": {
     "slide_type": "slide"
    }
   },
   "source": []
  },
  {
   "cell_type": "markdown",
   "metadata": {
    "slideshow": {
     "slide_type": "slide"
    }
   },
   "source": []
  },
  {
   "cell_type": "code",
   "execution_count": 412,
   "metadata": {
    "slideshow": {
     "slide_type": "-"
    }
   },
   "outputs": [],
   "source": [
    "# import warnings; warnings.filterwarnings(\"ignore\")\n",
    "import numpy as np\n",
    "import networkx as nx\n",
    "import matplotlib.pyplot as plt\n",
    "from collections import defaultdict\n",
    "from operator import itemgetter\n",
    "from scipy.optimize import minimize\n",
    "from qiskit import QuantumCircuit, QuantumRegister, ClassicalRegister, execute, Aer\n",
    "from qiskit.algorithms import NumPyEigensolver\n",
    "from qiskit.quantum_info import Pauli\n",
    "#from qiskit.operators import op_converter\n",
    "#from qiskit.operators import WeightedPauliOperator\n",
    "from time import time\n",
    "from qiskit.visualization import plot_histogram"
   ]
  },
  {
   "cell_type": "markdown",
   "metadata": {
    "slideshow": {
     "slide_type": "slide"
    }
   },
   "source": []
  },
  {
   "cell_type": "code",
   "execution_count": 304,
   "metadata": {},
   "outputs": [
    {
     "data": {
      "image/png": "[encoded data removed]",
      "text/plain": [
       "<Figure size 432x288 with 1 Axes>"
      ]
     },
     "metadata": {},
     "output_type": "display_data"
    }
   ],
   "source": [
    "G = nx.Graph()\n",
    "G.add_edges_from([[0,3],[0,4],[1,3],[1,4],[2,3],[2,4]])\n",
    "nx.draw(G, pos=nx.bipartite_layout(G, [0,1,2]))"
   ]
  },
  {
   "cell_type": "markdown",
   "metadata": {
    "slideshow": {
     "slide_type": "slide"
    }
   },
   "source": []
  },
  {
   "cell_type": "code",
   "execution_count": null,
   "metadata": {
    "slideshow": {
     "slide_type": "-"
    }
   },
   "outputs": [],
   "source": []
  },
  {
   "cell_type": "markdown",
   "metadata": {
    "slideshow": {
     "slide_type": "slide"
    }
   },
   "source": []
  },
  {
   "cell_type": "code",
   "execution_count": null,
   "metadata": {},
   "outputs": [],
   "source": []
  },
  {
   "cell_type": "markdown",
   "metadata": {
    "slideshow": {
     "slide_type": "slide"
    }
   },
   "source": []
  },
  {
   "cell_type": "code",
   "execution_count": null,
   "metadata": {
    "slideshow": {
     "slide_type": "fragment"
    }
   },
   "outputs": [],
   "source": [
    "\n"
   ]
  },
  {
   "cell_type": "markdown",
   "metadata": {
    "slideshow": {
     "slide_type": "slide"
    }
   },
   "source": []
  },
  {
   "cell_type": "code",
   "execution_count": 305,
   "metadata": {},
   "outputs": [],
   "source": [
    "def create_circuit(G, gamma, beta):\n",
    "    '''Creating QAOA circuit for given angles'''\n",
    "    # Setting p (and checking if beta and gamma are of the same size)\n",
    "    #print(len(beta))\n",
    "    if len(beta) == len(gamma):\n",
    "        p = len(beta)\n",
    "    else:\n",
    "        raise ValueError(\"The parameter array beta must have the same length as parameter gamma\")\n",
    "    \n",
    "    n = len(G)\n",
    "    circ = QuantumCircuit(n)\n",
    "    \n",
    "    # for i in range(n):\n",
    "    #    circ.h(i)\n",
    "    thetas = [2*np.arcsin(np.sqrt(c_star)) for c_star in c_stars]\n",
    "\n",
    "    for idx, theta in enumerate(thetas):\n",
    "        circ.ry(theta, idx)\n",
    "        \n",
    "        \n",
    "    for i in range(p):\n",
    "        for a,b in G.edges:\n",
    "            circ.cx(a,b)\n",
    "            circ.rz(-gamma[i],b) #PLUS or MINUS! Does it matter? We optimize anyway - it does affect the range of gamma and the patterns\n",
    "            circ.cx(a,b)\n",
    "        circ.barrier()\n",
    "        for idx, theta in enumerate(thetas): \n",
    "            circ.ry(-theta, idx)\n",
    "            circ.rz(-2*beta[i], idx)\n",
    "            circ.ry(theta, idx)    \n",
    "            \n",
    "    \n",
    "    \n",
    "    \n",
    "    \n",
    "    circ.measure_all()\n",
    "    \n",
    "    return circ"
   ]
  },
  {
   "cell_type": "markdown",
   "metadata": {
    "slideshow": {
     "slide_type": "slide"
    }
   },
   "source": []
  },
  {
   "cell_type": "code",
   "execution_count": null,
   "metadata": {},
   "outputs": [],
   "source": []
  },
  {
   "cell_type": "markdown",
   "metadata": {
    "slideshow": {
     "slide_type": "slide"
    }
   },
   "source": []
  },
  {
   "cell_type": "code",
   "execution_count": 306,
   "metadata": {},
   "outputs": [
    {
     "data": {
      "text/html": [
       "<pre style=\"word-wrap: normal;white-space: pre;background: #fff0;line-height: 1.1;font-family: &quot;Courier New&quot;,Courier,monospace\">        ┌───────┐                                                             »\n",
       "   q_0: ┤ RY(π) ├──■────────────────■────■────────────────────────────■───────»\n",
       "        ├───────┤  │                │    │     ┌───┐    ┌──────────┐  │  ┌───┐»\n",
       "   q_1: ┤ RY(π) ├──┼────────────────┼────┼─────┤ X ├────┤ RZ(-π/3) ├──┼──┤ X ├»\n",
       "        ├───────┤  │                │    │     └─┬─┘    └──────────┘  │  └─┬─┘»\n",
       "   q_2: ┤ RY(π) ├──┼────────────────┼────┼───────┼────────────────────┼────┼──»\n",
       "        ├───────┤┌─┴─┐┌──────────┐┌─┴─┐  │       │                    │    │  »\n",
       "   q_3: ┤ RY(0) ├┤ X ├┤ RZ(-π/3) ├┤ X ├──┼───────■────────────────────┼────■──»\n",
       "        ├───────┤└───┘└──────────┘└───┘┌─┴─┐┌──────────┐            ┌─┴─┐     »\n",
       "   q_4: ┤ RY(0) ├──────────────────────┤ X ├┤ RZ(-π/3) ├────────────┤ X ├─────»\n",
       "        └───────┘                      └───┘└──────────┘            └───┘     »\n",
       "meas: 5/══════════════════════════════════════════════════════════════════════»\n",
       "                                                                              »\n",
       "«                                                               ░ ┌────────┐»\n",
       "«   q_0: ───────────────────────────────────────────────────────░─┤ RY(-π) ├»\n",
       "«             ┌───┐┌──────────┐     ┌───┐                       ░ ├────────┤»\n",
       "«   q_1: ─────┤ X ├┤ RZ(-π/3) ├─────┤ X ├───────────────────────░─┤ RY(-π) ├»\n",
       "«        ┌───┐└─┬─┘├──────────┤┌───┐└─┬─┘┌───┐┌──────────┐┌───┐ ░ ├────────┤»\n",
       "«   q_2: ┤ X ├──┼──┤ RZ(-π/3) ├┤ X ├──┼──┤ X ├┤ RZ(-π/3) ├┤ X ├─░─┤ RY(-π) ├»\n",
       "«        └─┬─┘  │  └──────────┘└─┬─┘  │  └─┬─┘└──────────┘└─┬─┘ ░ ├───────┬┘»\n",
       "«   q_3: ──■────┼────────────────■────┼────┼────────────────┼───░─┤ RY(0) ├─»\n",
       "«               │                     │    │                │   ░ ├───────┤ »\n",
       "«   q_4: ───────■─────────────────────■────■────────────────■───░─┤ RY(0) ├─»\n",
       "«                                                               ░ └───────┘ »\n",
       "«meas: 5/═══════════════════════════════════════════════════════════════════»\n",
       "«                                                                           »\n",
       "«        ┌────────┐┌───────┐ ░ ┌─┐            \n",
       "«   q_0: ┤ RZ(-π) ├┤ RY(π) ├─░─┤M├────────────\n",
       "«        ├────────┤├───────┤ ░ └╥┘┌─┐         \n",
       "«   q_1: ┤ RZ(-π) ├┤ RY(π) ├─░──╫─┤M├─────────\n",
       "«        ├────────┤├───────┤ ░  ║ └╥┘┌─┐      \n",
       "«   q_2: ┤ RZ(-π) ├┤ RY(π) ├─░──╫──╫─┤M├──────\n",
       "«        ├────────┤├───────┤ ░  ║  ║ └╥┘┌─┐   \n",
       "«   q_3: ┤ RZ(-π) ├┤ RY(0) ├─░──╫──╫──╫─┤M├───\n",
       "«        ├────────┤├───────┤ ░  ║  ║  ║ └╥┘┌─┐\n",
       "«   q_4: ┤ RZ(-π) ├┤ RY(0) ├─░──╫──╫──╫──╫─┤M├\n",
       "«        └────────┘└───────┘ ░  ║  ║  ║  ║ └╥┘\n",
       "«meas: 5/═══════════════════════╩══╩══╩══╩══╩═\n",
       "«                               0  1  2  3  4 </pre>"
      ],
      "text/plain": [
       "        ┌───────┐                                                             »\n",
       "   q_0: ┤ RY(π) ├──■────────────────■────■────────────────────────────■───────»\n",
       "        ├───────┤  │                │    │     ┌───┐    ┌──────────┐  │  ┌───┐»\n",
       "   q_1: ┤ RY(π) ├──┼────────────────┼────┼─────┤ X ├────┤ RZ(-π/3) ├──┼──┤ X ├»\n",
       "        ├───────┤  │                │    │     └─┬─┘    └──────────┘  │  └─┬─┘»\n",
       "   q_2: ┤ RY(π) ├──┼────────────────┼────┼───────┼────────────────────┼────┼──»\n",
       "        ├───────┤┌─┴─┐┌──────────┐┌─┴─┐  │       │                    │    │  »\n",
       "   q_3: ┤ RY(0) ├┤ X ├┤ RZ(-π/3) ├┤ X ├──┼───────■────────────────────┼────■──»\n",
       "        ├───────┤└───┘└──────────┘└───┘┌─┴─┐┌──────────┐            ┌─┴─┐     »\n",
       "   q_4: ┤ RY(0) ├──────────────────────┤ X ├┤ RZ(-π/3) ├────────────┤ X ├─────»\n",
       "        └───────┘                      └───┘└──────────┘            └───┘     »\n",
       "meas: 5/══════════════════════════════════════════════════════════════════════»\n",
       "                                                                              »\n",
       "«                                                               ░ ┌────────┐»\n",
       "«   q_0: ───────────────────────────────────────────────────────░─┤ RY(-π) ├»\n",
       "«             ┌───┐┌──────────┐     ┌───┐                       ░ ├────────┤»\n",
       "«   q_1: ─────┤ X ├┤ RZ(-π/3) ├─────┤ X ├───────────────────────░─┤ RY(-π) ├»\n",
       "«        ┌───┐└─┬─┘├──────────┤┌───┐└─┬─┘┌───┐┌──────────┐┌───┐ ░ ├────────┤»\n",
       "«   q_2: ┤ X ├──┼──┤ RZ(-π/3) ├┤ X ├──┼──┤ X ├┤ RZ(-π/3) ├┤ X ├─░─┤ RY(-π) ├»\n",
       "«        └─┬─┘  │  └──────────┘└─┬─┘  │  └─┬─┘└──────────┘└─┬─┘ ░ ├───────┬┘»\n",
       "«   q_3: ──■────┼────────────────■────┼────┼────────────────┼───░─┤ RY(0) ├─»\n",
       "«               │                     │    │                │   ░ ├───────┤ »\n",
       "«   q_4: ───────■─────────────────────■────■────────────────■───░─┤ RY(0) ├─»\n",
       "«                                                               ░ └───────┘ »\n",
       "«meas: 5/═══════════════════════════════════════════════════════════════════»\n",
       "«                                                                           »\n",
       "«        ┌────────┐┌───────┐ ░ ┌─┐            \n",
       "«   q_0: ┤ RZ(-π) ├┤ RY(π) ├─░─┤M├────────────\n",
       "«        ├────────┤├───────┤ ░ └╥┘┌─┐         \n",
       "«   q_1: ┤ RZ(-π) ├┤ RY(π) ├─░──╫─┤M├─────────\n",
       "«        ├────────┤├───────┤ ░  ║ └╥┘┌─┐      \n",
       "«   q_2: ┤ RZ(-π) ├┤ RY(π) ├─░──╫──╫─┤M├──────\n",
       "«        ├────────┤├───────┤ ░  ║  ║ └╥┘┌─┐   \n",
       "«   q_3: ┤ RZ(-π) ├┤ RY(0) ├─░──╫──╫──╫─┤M├───\n",
       "«        ├────────┤├───────┤ ░  ║  ║  ║ └╥┘┌─┐\n",
       "«   q_4: ┤ RZ(-π) ├┤ RY(0) ├─░──╫──╫──╫──╫─┤M├\n",
       "«        └────────┘└───────┘ ░  ║  ║  ║  ║ └╥┘\n",
       "«meas: 5/═══════════════════════╩══╩══╩══╩══╩═\n",
       "«                               0  1  2  3  4 "
      ]
     },
     "execution_count": 306,
     "metadata": {},
     "output_type": "execute_result"
    }
   ],
   "source": [
    "qc = create_circuit(G,[np.pi/3], [np.pi/2])\n",
    "qc.draw()\n"
   ]
  },
  {
   "cell_type": "markdown",
   "metadata": {
    "slideshow": {
     "slide_type": "slide"
    }
   },
   "source": []
  },
  {
   "cell_type": "markdown",
   "metadata": {
    "slideshow": {
     "slide_type": "fragment"
    }
   },
   "source": [
    "\n"
   ]
  },
  {
   "cell_type": "code",
   "execution_count": 307,
   "metadata": {},
   "outputs": [],
   "source": [
    "def invert_counts(counts):\n",
    "    return {k[::-1]:v for k, v in counts.items()}"
   ]
  },
  {
   "cell_type": "markdown",
   "metadata": {
    "slideshow": {
     "slide_type": "slide"
    }
   },
   "source": []
  },
  {
   "cell_type": "code",
   "execution_count": 308,
   "metadata": {
    "slideshow": {
     "slide_type": "-"
    }
   },
   "outputs": [
    {
     "name": "stdout",
     "output_type": "stream",
     "text": [
      "{'00000': 17, '10000': 25, '01001': 2, '11001': 3, '00101': 4, '10101': 11, '01101': 25, '11101': 20, '01011': 1, '11011': 1, '00111': 1, '10111': 4, '01111': 3, '11111': 6, '01000': 30, '11000': 96, '00100': 19, '10100': 121, '01100': 73, '11100': 433, '00010': 3, '10010': 8, '01010': 10, '11010': 9, '00110': 6, '10110': 22, '01110': 16, '11110': 55}\n"
     ]
    }
   ],
   "source": [
    "#backend = Aer.get_backend('qasm_simulator')\n",
    "\n",
    "\n",
    "results = execute(qc, Aer.get_backend('qasm_simulator'), shots = 1024,coupling_map=coupling_map,\n",
    "                 basis_gates=basis_gates,\n",
    "                 noise_model=noise_model).result()\n",
    "#job = execute(qc, backend)\n",
    "#result = job.result()\n",
    "print(invert_counts(results.get_counts()))"
   ]
  },
  {
   "cell_type": "markdown",
   "metadata": {
    "slideshow": {
     "slide_type": "slide"
    }
   },
   "source": []
  },
  {
   "cell_type": "code",
   "execution_count": 309,
   "metadata": {},
   "outputs": [
    {
     "data": {
      "text/plain": [
       "-6"
      ]
     },
     "execution_count": 309,
     "metadata": {},
     "output_type": "execute_result"
    }
   ],
   "source": [
    "def maxcut_obj(x,G):\n",
    "    cut = 0\n",
    "    for i, j in G.edges():\n",
    "        if x[i] != x[j]:\n",
    "            # the edge is cut\n",
    "            cut -= 1\n",
    "    return cut\n",
    "\n",
    "maxcut_obj('00011', G)\n",
    "\n",
    "\n"
   ]
  },
  {
   "cell_type": "markdown",
   "metadata": {
    "slideshow": {
     "slide_type": "slide"
    }
   },
   "source": []
  },
  {
   "cell_type": "code",
   "execution_count": 310,
   "metadata": {
    "slideshow": {
     "slide_type": "-"
    }
   },
   "outputs": [
    {
     "data": {
      "text/plain": [
       "-4.98828125"
      ]
     },
     "execution_count": 310,
     "metadata": {},
     "output_type": "execute_result"
    }
   ],
   "source": [
    "def compute_maxcut_energy(counts, G):\n",
    "    energy = 0\n",
    "    total_counts = 0\n",
    "    for meas, meas_count in counts.items():\n",
    "        obj_for_meas = maxcut_obj(meas, G)\n",
    "        energy += obj_for_meas * meas_count\n",
    "        total_counts += meas_count\n",
    "    return energy / total_counts\n",
    "\n",
    "compute_maxcut_energy(invert_counts(result.get_counts()), G)"
   ]
  },
  {
   "cell_type": "markdown",
   "metadata": {
    "slideshow": {
     "slide_type": "slide"
    }
   },
   "source": []
  },
  {
   "cell_type": "code",
   "execution_count": 415,
   "metadata": {},
   "outputs": [],
   "source": [
    "def get_black_box_objective(G,p):\n",
    "    backend = Aer.get_backend('qasm_simulator')\n",
    "    def f(theta):\n",
    "        # let's assume first half is betas, second half is gammas\n",
    "        gamma = theta[:p]\n",
    "        beta = theta[p:]\n",
    "        qc = create_circuit(G,gamma,beta)\n",
    "        #counts = execute(qc, backend, seed_simulator=10).result().get_counts()\n",
    "        results = execute(qc, Aer.get_backend('qasm_simulator'), shots = 1024,coupling_map=coupling_map,\n",
    "                 basis_gates=basis_gates,\n",
    "                 noise_model=noise_model).result()\n",
    "        counts=results.get_counts()\n",
    "        # return the energy\n",
    "        return compute_maxcut_energy(invert_counts(counts), G)\n",
    "    return f"
   ]
  },
  {
   "cell_type": "markdown",
   "metadata": {
    "slideshow": {
     "slide_type": "slide"
    }
   },
   "source": []
  },
  {
   "cell_type": "code",
   "execution_count": 453,
   "metadata": {},
   "outputs": [
    {
     "data": {
      "text/plain": [
       "19.695250988006592"
      ]
     },
     "execution_count": 453,
     "metadata": {},
     "output_type": "execute_result"
    }
   ],
   "source": [
    "# p is the number of QAOA alternating operators\n",
    "t0=time()\n",
    "p = 3\n",
    "obj = get_black_box_objective(G, p)\n",
    "#,1.,2.,4.,1.2,0.9,0.5,0.6,1.,2.\n",
    "init_point = np.array([0.,1.,2.,4.,1.2,0.9])\n",
    "# We are going to limit the number of iterations to 2500\n",
    "res_sample = minimize(obj, init_point, method='COBYLA', options={'maxiter':2500, 'disp': True})\n",
    "res_sample\n",
    "optimal_theta = res_sample['x']\n",
    "qc = create_circuit(G, optimal_theta[:p], optimal_theta[p:])\n",
    "result = execute(qc,Aer.get_backend('qasm_simulator'), shots = 1024,coupling_map=coupling_map,\n",
    "                 basis_gates=basis_gates,\n",
    "                 noise_model=noise_model).result()\n",
    "counts= invert_counts(result.get_counts())\n",
    "time()-t0\n"
   ]
  },
  {
   "cell_type": "markdown",
   "metadata": {
    "slideshow": {
     "slide_type": "slide"
    }
   },
   "source": []
  },
  {
   "cell_type": "code",
   "execution_count": 454,
   "metadata": {},
   "outputs": [
    {
     "data": {
      "text/plain": [
       "{'00000': 43,\n",
       " '10000': 64,\n",
       " '00001': 7,\n",
       " '10001': 10,\n",
       " '01001': 14,\n",
       " '11001': 8,\n",
       " '00101': 15,\n",
       " '10101': 23,\n",
       " '01101': 18,\n",
       " '11101': 20,\n",
       " '00011': 1,\n",
       " '10011': 4,\n",
       " '01011': 5,\n",
       " '11011': 5,\n",
       " '00111': 10,\n",
       " '10111': 5,\n",
       " '01111': 3,\n",
       " '11111': 5,\n",
       " '01000': 61,\n",
       " '11000': 109,\n",
       " '00100': 48,\n",
       " '10100': 126,\n",
       " '01100': 62,\n",
       " '11100': 143,\n",
       " '00010': 13,\n",
       " '10010': 25,\n",
       " '01010': 22,\n",
       " '11010': 33,\n",
       " '00110': 23,\n",
       " '10110': 33,\n",
       " '01110': 20,\n",
       " '11110': 46}"
      ]
     },
     "execution_count": 454,
     "metadata": {},
     "output_type": "execute_result"
    }
   ],
   "source": [
    "optimal_theta = res_sample['x']\n",
    "qc = create_circuit(G, optimal_theta[:p], optimal_theta[p:])\n",
    "result = execute(qc,Aer.get_backend('qasm_simulator'), shots = 1024,coupling_map=coupling_map,\n",
    "                 basis_gates=basis_gates,\n",
    "                 noise_model=noise_model).result()\n",
    "counts= invert_counts(result.get_counts())\n",
    "\n",
    "counts\n"
   ]
  },
  {
   "cell_type": "markdown",
   "metadata": {
    "slideshow": {
     "slide_type": "slide"
    }
   },
   "source": []
  },
  {
   "cell_type": "code",
   "execution_count": 455,
   "metadata": {},
   "outputs": [
    {
     "data": {
      "image/png": "[encoded data removed]",
      "text/plain": [
       "<Figure size 504x360 with 1 Axes>"
      ]
     },
     "execution_count": 455,
     "metadata": {},
     "output_type": "execute_result"
    },
    {
     "data": {
      "image/png": "[encoded data removed]",
      "text/plain": [
       "<Figure size 432x288 with 1 Axes>"
      ]
     },
     "metadata": {
      "needs_background": "light"
     },
     "output_type": "display_data"
    }
   ],
   "source": [
    "energies = defaultdict(int)\n",
    "for k, v in counts.items():\n",
    "    energies[maxcut_obj(k,G)] += v\n",
    "\n",
    "x,y = zip(*energies.items())\n",
    "plt.bar(x,y)\n",
    "plot_histogram(energies)"
   ]
  },
  {
   "cell_type": "markdown",
   "metadata": {},
   "source": [
    "Pretty good! Most of the results we get correspond to good solutions!"
   ]
  },
  {
   "cell_type": "code",
   "execution_count": 456,
   "metadata": {
    "slideshow": {
     "slide_type": "slide"
    }
   },
   "outputs": [
    {
     "data": {
      "image/png": "[encoded data removed]",
      "text/plain": [
       "<Figure size 504x360 with 1 Axes>"
      ]
     },
     "execution_count": 456,
     "metadata": {},
     "output_type": "execute_result"
    }
   ],
   "source": [
    "plot_histogram(counts)\n"
   ]
  },
  {
   "cell_type": "markdown",
   "metadata": {
    "slideshow": {
     "slide_type": "slide"
    }
   },
   "source": []
  },
  {
   "cell_type": "code",
   "execution_count": 457,
   "metadata": {},
   "outputs": [
    {
     "name": "stdout",
     "output_type": "stream",
     "text": [
      "{'00000': 43, '00001': 64, '10000': 7, '10001': 10, '10010': 14, '10011': 8, '10100': 15, '10101': 23, '10110': 18, '10111': 20, '11000': 1, '11001': 4, '11010': 5, '11011': 5, '11100': 10, '11101': 5, '11110': 3, '11111': 5, '00010': 61, '00011': 109, '00100': 48, '00101': 126, '00110': 62, '00111': 143, '01000': 13, '01001': 25, '01010': 22, '01011': 33, '01100': 23, '01101': 33, '01110': 20, '01111': 46}\n"
     ]
    }
   ],
   "source": [
    "from qiskit import IBMQ\n",
    "print(result.get_counts())"
   ]
  },
  {
   "cell_type": "markdown",
   "metadata": {
    "slideshow": {
     "slide_type": "slide"
    }
   },
   "source": [
    "Less luckily, qubit ordering considerations still apply. Below are some helper functions we're going to use."
   ]
  },
  {
   "cell_type": "code",
   "execution_count": 458,
   "metadata": {},
   "outputs": [
    {
     "name": "stderr",
     "output_type": "stream",
     "text": [
      "ibmqfactory.load_account:WARNING:2021-05-02 12:36:30,571: Credentials are already in use. The existing account in the session will be replaced.\n"
     ]
    }
   ],
   "source": [
    "from qiskit.providers.aer.noise import NoiseModel\n",
    "import qiskit.providers.aer.noise as noise\n",
    "provider = IBMQ.load_account()\n",
    "backend = provider.get_backend('ibmq_16_melbourne')\n",
    "noise_model = NoiseModel.from_backend(backend)\n",
    "# Set coupling map from backend\n",
    "coupling_map = backend.configuration().coupling_map\n",
    "# Set basis gates from noise model\n",
    "basis_gates = noise_model.basis_gates\n",
    "\n",
    "backend = Aer.get_backend('qasm_simulator', basis_gates=basis_gates,noise_model=noise_model)"
   ]
  },
  {
   "cell_type": "markdown",
   "metadata": {
    "slideshow": {
     "slide_type": "slide"
    }
   },
   "source": []
  },
  {
   "cell_type": "code",
   "execution_count": 459,
   "metadata": {},
   "outputs": [
    {
     "name": "stdout",
     "output_type": "stream",
     "text": [
      "NoiseModel:\n",
      "  Basis gates: ['cx', 'id', 'rz', 'sx', 'x']\n",
      "  Instructions with noise: ['measure', 'id', 'cx', 'x', 'sx']\n",
      "  Qubits with noise: [0, 1, 2, 3, 4, 5, 6, 7, 8, 9, 10, 11, 12, 13, 14]\n",
      "  Specific qubit errors: [('id', [0]), ('id', [1]), ('id', [2]), ('id', [3]), ('id', [4]), ('id', [5]), ('id', [6]), ('id', [7]), ('id', [8]), ('id', [9]), ('id', [10]), ('id', [11]), ('id', [12]), ('id', [13]), ('id', [14]), ('sx', [0]), ('sx', [1]), ('sx', [2]), ('sx', [3]), ('sx', [4]), ('sx', [5]), ('sx', [6]), ('sx', [7]), ('sx', [8]), ('sx', [9]), ('sx', [10]), ('sx', [11]), ('sx', [12]), ('sx', [13]), ('sx', [14]), ('x', [0]), ('x', [1]), ('x', [2]), ('x', [3]), ('x', [4]), ('x', [5]), ('x', [6]), ('x', [7]), ('x', [8]), ('x', [9]), ('x', [10]), ('x', [11]), ('x', [12]), ('x', [13]), ('x', [14]), ('cx', [14, 0]), ('cx', [0, 14]), ('cx', [14, 13]), ('cx', [13, 14]), ('cx', [6, 8]), ('cx', [8, 6]), ('cx', [5, 9]), ('cx', [9, 5]), ('cx', [4, 10]), ('cx', [10, 4]), ('cx', [11, 3]), ('cx', [3, 11]), ('cx', [12, 2]), ('cx', [2, 12]), ('cx', [13, 1]), ('cx', [1, 13]), ('cx', [13, 12]), ('cx', [12, 13]), ('cx', [11, 12]), ('cx', [12, 11]), ('cx', [10, 11]), ('cx', [11, 10]), ('cx', [9, 10]), ('cx', [10, 9]), ('cx', [9, 8]), ('cx', [8, 9]), ('cx', [7, 8]), ('cx', [8, 7]), ('cx', [5, 6]), ('cx', [6, 5]), ('cx', [5, 4]), ('cx', [4, 5]), ('cx', [4, 3]), ('cx', [3, 4]), ('cx', [2, 3]), ('cx', [3, 2]), ('cx', [1, 2]), ('cx', [2, 1]), ('cx', [1, 0]), ('cx', [0, 1]), ('measure', [0]), ('measure', [1]), ('measure', [2]), ('measure', [3]), ('measure', [4]), ('measure', [5]), ('measure', [6]), ('measure', [7]), ('measure', [8]), ('measure', [9]), ('measure', [10]), ('measure', [11]), ('measure', [12]), ('measure', [13]), ('measure', [14])]\n"
     ]
    }
   ],
   "source": [
    "c_stars=np.array([1., 1., 1., 0., 0.])\n",
    "raw_counts = results.get_counts()\n",
    "raw_counts\n",
    "print(noise_model)"
   ]
  },
  {
   "cell_type": "markdown",
   "metadata": {
    "slideshow": {
     "slide_type": "slide"
    }
   },
   "source": [
    "Second, we need to get which amplitudes correspond to which computational basis states (= binary strings)"
   ]
  },
  {
   "cell_type": "code",
   "execution_count": 460,
   "metadata": {},
   "outputs": [
    {
     "name": "stdout",
     "output_type": "stream",
     "text": [
      "[[1. 0. 0. ... 0. 0. 0.]\n",
      " [0. 1. 0. ... 0. 0. 0.]\n",
      " [0. 0. 1. ... 0. 0. 0.]\n",
      " ...\n",
      " [0. 0. 0. ... 1. 0. 0.]\n",
      " [0. 0. 0. ... 0. 1. 0.]\n",
      " [0. 0. 0. ... 0. 0. 1.]]\n"
     ]
    },
    {
     "data": {
      "image/png": "[encoded data removed]",
      "text/plain": [
       "<Figure size 432x288 with 2 Axes>"
      ]
     },
     "metadata": {
      "needs_background": "light"
     },
     "output_type": "display_data"
    },
    {
     "name": "stdout",
     "output_type": "stream",
     "text": [
      "[[0.891 0.054 0.045 ... 0.    0.    0.   ]\n",
      " [0.005 0.836 0.001 ... 0.    0.    0.   ]\n",
      " [0.019 0.001 0.86  ... 0.    0.001 0.   ]\n",
      " ...\n",
      " [0.    0.    0.    ... 0.695 0.    0.04 ]\n",
      " [0.    0.    0.    ... 0.003 0.748 0.04 ]\n",
      " [0.    0.    0.    ... 0.017 0.004 0.709]]\n"
     ]
    },
    {
     "data": {
      "image/png": "[encoded data removed]",
      "text/plain": [
       "<Figure size 432x288 with 2 Axes>"
      ]
     },
     "metadata": {
      "needs_background": "light"
     },
     "output_type": "display_data"
    }
   ],
   "source": [
    "qr = QuantumRegister(5)\n",
    "qubit_list = [0,1,2,3,4]\n",
    "meas_calibs, state_labels = complete_meas_cal(qubit_list=qubit_list, qr=qr, circlabel='mcal')\n",
    "\n",
    "backend = Aer.get_backend('qasm_simulator')\n",
    "job = qiskit.execute(meas_calibs, backend=backend, shots=1000)\n",
    "cal_results = job.result()\n",
    "meas_fitter = CompleteMeasFitter(cal_results, state_labels, circlabel='mcal')\n",
    "print(meas_fitter.cal_matrix)\n",
    "meas_fitter.plot_calibration()\n",
    "\n",
    "# With noise.\n",
    "backend = Aer.get_backend('qasm_simulator')\n",
    "job = execute(meas_calibs, backend=backend, shots=1000, noise_model=noise_model)\n",
    "cal1_results = job.result()\n",
    "meas_fitter = CompleteMeasFitter(cal1_results, state_labels, qubit_list=qubit_list, circlabel='mcal')\n",
    "print(meas_fitter.cal_matrix)\n",
    "\n",
    "\n",
    "meas_fitter.plot_calibration()\n",
    "\n",
    "\n",
    "# Get the filter object\n"
   ]
  },
  {
   "cell_type": "markdown",
   "metadata": {
    "slideshow": {
     "slide_type": "slide"
    }
   },
   "source": []
  },
  {
   "cell_type": "code",
   "execution_count": 461,
   "metadata": {},
   "outputs": [],
   "source": [
    "from qiskit.ignis.mitigation.measurement import (complete_meas_cal, tensored_meas_cal,\n",
    "                                                 CompleteMeasFitter, TensoredMeasFitter)"
   ]
  },
  {
   "cell_type": "markdown",
   "metadata": {
    "slideshow": {
     "slide_type": "slide"
    }
   },
   "source": []
  },
  {
   "cell_type": "code",
   "execution_count": 462,
   "metadata": {},
   "outputs": [
    {
     "data": {
      "image/png": "[encoded data removed]",
      "text/plain": [
       "<Figure size 504x360 with 1 Axes>"
      ]
     },
     "execution_count": 462,
     "metadata": {},
     "output_type": "execute_result"
    }
   ],
   "source": [
    "meas_filter = meas_fitter.filter\n",
    "\n",
    "# Results with mitigation\n",
    "mitigated_results = meas_filter.apply(result)\n",
    "mitigated_counts = invert_counts(mitigated_results.get_counts(qc))\n",
    "plot_histogram([counts, mitigated_counts], legend=['device (noisy)', 'mitigated (mitigated)'],color=['#2f7ed8','#0d233a'])\n",
    "\n"
   ]
  },
  {
   "cell_type": "markdown",
   "metadata": {},
   "source": []
  },
  {
   "cell_type": "markdown",
   "metadata": {
    "slideshow": {
     "slide_type": "slide"
    }
   },
   "source": []
  },
  {
   "cell_type": "code",
   "execution_count": 441,
   "metadata": {},
   "outputs": [
    {
     "data": {
      "image/png": "[encoded data removed]",
      "text/plain": [
       "<Figure size 504x360 with 1 Axes>"
      ]
     },
     "execution_count": 441,
     "metadata": {},
     "output_type": "execute_result"
    }
   ],
   "source": [
    "plot_histogram([mitigated_counts], legend=['mitigated (mitigated)'],color='#0d233a') "
   ]
  },
  {
   "cell_type": "markdown",
   "metadata": {
    "slideshow": {
     "slide_type": "slide"
    }
   },
   "source": []
  },
  {
   "cell_type": "code",
   "execution_count": 463,
   "metadata": {},
   "outputs": [
    {
     "data": {
      "image/png": "[encoded data removed]",
      "text/plain": [
       "<Figure size 504x360 with 1 Axes>"
      ]
     },
     "execution_count": 463,
     "metadata": {},
     "output_type": "execute_result"
    }
   ],
   "source": [
    "energies = defaultdict(int)\n",
    "for k, v in counts.items():\n",
    "    energies[maxcut_obj(k,G)] += v\n",
    "\n",
    "x,y = zip(*energies.items())\n",
    "#plt.bar(x,y)\n",
    "energies1 = defaultdict(int)\n",
    "for k, v in mitigated_counts.items():\n",
    "    energies1[maxcut_obj(k,G)] += v\n",
    "\n",
    "x,y = zip(*energies1.items())\n",
    "#plt.bar(x,y)\n",
    "\n",
    "\n",
    "plot_histogram([energies,energies1])"
   ]
  },
  {
   "cell_type": "markdown",
   "metadata": {
    "slideshow": {
     "slide_type": "slide"
    }
   },
   "source": []
  },
  {
   "cell_type": "code",
   "execution_count": null,
   "metadata": {},
   "outputs": [],
   "source": []
  },
  {
   "cell_type": "markdown",
   "metadata": {
    "slideshow": {
     "slide_type": "fragment"
    }
   },
   "source": []
  },
  {
   "cell_type": "code",
   "execution_count": null,
   "metadata": {},
   "outputs": [],
   "source": []
  },
  {
   "cell_type": "markdown",
   "metadata": {},
   "source": []
  },
  {
   "cell_type": "markdown",
   "metadata": {
    "slideshow": {
     "slide_type": "slide"
    }
   },
   "source": []
  },
  {
   "cell_type": "code",
   "execution_count": null,
   "metadata": {},
   "outputs": [],
   "source": []
  },
  {
   "cell_type": "markdown",
   "metadata": {},
   "source": []
  },
  {
   "cell_type": "markdown",
   "metadata": {
    "slideshow": {
     "slide_type": "slide"
    }
   },
   "source": []
  },
  {
   "cell_type": "markdown",
   "metadata": {
    "slideshow": {
     "slide_type": "slide"
    }
   },
   "source": []
  },
  {
   "cell_type": "markdown",
   "metadata": {
    "slideshow": {
     "slide_type": "slide"
    }
   },
   "source": []
  },
  {
   "cell_type": "markdown",
   "metadata": {
    "slideshow": {
     "slide_type": "fragment"
    }
   },
   "source": []
  },
  {
   "cell_type": "markdown",
   "metadata": {
    "slideshow": {
     "slide_type": "slide"
    }
   },
   "source": []
  },
  {
   "cell_type": "code",
   "execution_count": null,
   "metadata": {},
   "outputs": [],
   "source": []
  },
  {
   "cell_type": "markdown",
   "metadata": {
    "slideshow": {
     "slide_type": "slide"
    }
   },
   "source": []
  },
  {
   "cell_type": "code",
   "execution_count": null,
   "metadata": {},
   "outputs": [],
   "source": []
  },
  {
   "cell_type": "markdown",
   "metadata": {},
   "source": []
  },
  {
   "cell_type": "markdown",
   "metadata": {
    "slideshow": {
     "slide_type": "slide"
    }
   },
   "source": []
  },
  {
   "cell_type": "markdown",
   "metadata": {
    "slideshow": {
     "slide_type": "slide"
    }
   },
   "source": []
  },
  {
   "cell_type": "code",
   "execution_count": null,
   "metadata": {
    "slideshow": {
     "slide_type": "-"
    }
   },
   "outputs": [],
   "source": [
    "\n"
   ]
  },
  {
   "cell_type": "markdown",
   "metadata": {
    "slideshow": {
     "slide_type": "slide"
    }
   },
   "source": []
  },
  {
   "cell_type": "code",
   "execution_count": null,
   "metadata": {},
   "outputs": [],
   "source": []
  },
  {
   "cell_type": "markdown",
   "metadata": {},
   "source": [
    "\n"
   ]
  },
  {
   "cell_type": "markdown",
   "metadata": {
    "slideshow": {
     "slide_type": "slide"
    }
   },
   "source": []
  },
  {
   "cell_type": "code",
   "execution_count": null,
   "metadata": {},
   "outputs": [],
   "source": []
  },
  {
   "cell_type": "markdown",
   "metadata": {},
   "source": []
  },
  {
   "cell_type": "markdown",
   "metadata": {
    "slideshow": {
     "slide_type": "slide"
    }
   },
   "source": []
  },
  {
   "cell_type": "code",
   "execution_count": null,
   "metadata": {},
   "outputs": [],
   "source": []
  },
  {
   "cell_type": "markdown",
   "metadata": {},
   "source": []
  },
  {
   "cell_type": "markdown",
   "metadata": {
    "slideshow": {
     "slide_type": "slide"
    }
   },
   "source": [
    "\n"
   ]
  },
  {
   "cell_type": "code",
   "execution_count": null,
   "metadata": {},
   "outputs": [],
   "source": []
  },
  {
   "cell_type": "markdown",
   "metadata": {
    "slideshow": {
     "slide_type": "slide"
    }
   },
   "source": []
  },
  {
   "cell_type": "code",
   "execution_count": null,
   "metadata": {},
   "outputs": [],
   "source": [
    "\n"
   ]
  },
  {
   "cell_type": "markdown",
   "metadata": {
    "slideshow": {
     "slide_type": "slide"
    }
   },
   "source": []
  },
  {
   "cell_type": "code",
   "execution_count": null,
   "metadata": {},
   "outputs": [],
   "source": []
  },
  {
   "cell_type": "code",
   "execution_count": null,
   "metadata": {
    "scrolled": false,
    "slideshow": {
     "slide_type": "fragment"
    }
   },
   "outputs": [],
   "source": []
  },
  {
   "cell_type": "markdown",
   "metadata": {
    "slideshow": {
     "slide_type": "slide"
    }
   },
   "source": []
  },
  {
   "cell_type": "markdown",
   "metadata": {
    "slideshow": {
     "slide_type": "slide"
    }
   },
   "source": []
  },
  {
   "cell_type": "code",
   "execution_count": null,
   "metadata": {},
   "outputs": [],
   "source": []
  },
  {
   "cell_type": "markdown",
   "metadata": {
    "slideshow": {
     "slide_type": "slide"
    }
   },
   "source": []
  },
  {
   "cell_type": "code",
   "execution_count": null,
   "metadata": {},
   "outputs": [],
   "source": []
  },
  {
   "cell_type": "markdown",
   "metadata": {
    "slideshow": {
     "slide_type": "slide"
    }
   },
   "source": []
  },
  {
   "cell_type": "code",
   "execution_count": null,
   "metadata": {
    "scrolled": true
   },
   "outputs": [],
   "source": []
  },
  {
   "cell_type": "code",
   "execution_count": null,
   "metadata": {},
   "outputs": [],
   "source": []
  }
 ],
 "metadata": {
  "celltoolbar": "Slideshow",
  "kernelspec": {
   "display_name": "Python 3",
   "language": "python",
   "name": "python3"
  },
  "language_info": {
   "codemirror_mode": {
    "name": "ipython",
    "version": 3
   },
   "file_extension": ".py",
   "mimetype": "text/x-python",
   "name": "python",
   "nbconvert_exporter": "python",
   "pygments_lexer": "ipython3",
   "version": "3.8.8"
  }
 },
 "nbformat": 4,
 "nbformat_minor": 2
}
