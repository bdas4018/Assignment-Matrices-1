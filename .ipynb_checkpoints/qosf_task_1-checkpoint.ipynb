{
 "cells": [
  {
   "cell_type": "markdown",
   "metadata": {},
   "source": [
    "# Task - 1"
   ]
  },
  {
   "cell_type": "markdown",
   "metadata": {},
   "source": [
    "#### There are two implementations of task-1 in this jupyter notebook.\n",
    "**A**: When in each layer we have 4 different angles (parameters) same in both even and odd layers.\n",
    "\n",
    "**B**: When in each layer we have 8 different angles (parameters).\n",
    "\n",
    "After that we will repeat the same experiment for random gates as mentiioned in the bonus part of the question."
   ]
  },
  {
   "cell_type": "markdown",
   "metadata": {},
   "source": [
    "## Steps\n",
    "\n",
    "p := parameters in each layer\n",
    "\n",
    "l := number of layers\n",
    "\n",
    "*Step 1:* **Generate a random vector phi(ϕ)**\n",
    "\n",
    "*Step 2:* **For l in range(0, 10) repeat steps 3 to 7**\n",
    "\n",
    "*Step 3:* **Generate a parameter set of size (l*p) all in between range 0 to 2pi** \n",
    "\n",
    "*Step 4:* **Generate a parameterized vector psi(ψ(θ)) using the parameters generated in step 3** \n",
    "\n",
    "*Step 5:* **Using gradient descent and a cost function, calculate the ideal set of parameters(θ)**\n",
    "\n",
    "*Step 6:* **Using the new set of parameters, calculate the vector psi(ψ(θ)) again**\n",
    "\n",
    "*Step 7:* **Calculate the distance between psi(ψ(θ)) and phi(ϕ) and append it to a variable that store distance in layer l**\n",
    "\n",
    "*Step 8:* **Plot a graph showing the variation in distance (using the ideal parameters between psi(ψ(θ)) and phi(ϕ)) versus the number of layers**\n",
    "\n",
    "*Step 9:* **Repeat the same for random parameterized circuits**\n"
   ]
  },
  {
   "cell_type": "markdown",
   "metadata": {},
   "source": [
    "## We will do **A** first"
   ]
  },
  {
   "cell_type": "markdown",
   "metadata": {},
   "source": [
    "### A. Importing required libraries"
   ]
  },
  {
   "cell_type": "code",
   "execution_count": 1,
   "metadata": {},
   "outputs": [
    {
     "ename": "ModuleNotFoundError",
     "evalue": "No module named 'pennylane'",
     "output_type": "error",
     "traceback": [
      "\u001b[1;31m---------------------------------------------------------------------------\u001b[0m",
      "\u001b[1;31mModuleNotFoundError\u001b[0m                       Traceback (most recent call last)",
      "\u001b[1;32m<ipython-input-1-8dfd9ba19683>\u001b[0m in \u001b[0;36m<module>\u001b[1;34m\u001b[0m\n\u001b[0;32m      1\u001b[0m \u001b[1;31m## Importing required libraries\u001b[0m\u001b[1;33m\u001b[0m\u001b[1;33m\u001b[0m\u001b[1;33m\u001b[0m\u001b[0m\n\u001b[0;32m      2\u001b[0m \u001b[1;33m\u001b[0m\u001b[0m\n\u001b[1;32m----> 3\u001b[1;33m \u001b[1;32mimport\u001b[0m \u001b[0mpennylane\u001b[0m \u001b[1;32mas\u001b[0m \u001b[0mqml\u001b[0m\u001b[1;33m\u001b[0m\u001b[1;33m\u001b[0m\u001b[0m\n\u001b[0m\u001b[0;32m      4\u001b[0m \u001b[1;32mfrom\u001b[0m \u001b[0mpennylane\u001b[0m \u001b[1;32mimport\u001b[0m \u001b[0mnumpy\u001b[0m \u001b[1;32mas\u001b[0m \u001b[0mnp\u001b[0m\u001b[1;33m\u001b[0m\u001b[1;33m\u001b[0m\u001b[0m\n\u001b[0;32m      5\u001b[0m \u001b[1;32mimport\u001b[0m \u001b[0mrandom\u001b[0m\u001b[1;33m\u001b[0m\u001b[1;33m\u001b[0m\u001b[0m\n",
      "\u001b[1;31mModuleNotFoundError\u001b[0m: No module named 'pennylane'"
     ]
    }
   ],
   "source": [
    "## Importing required libraries\n",
    "\n",
    "import pennylane as qml\n",
    "from pennylane import numpy as np\n",
    "import random\n",
    "from math import pi\n",
    "import matplotlib.pyplot as plt\n",
    "%matplotlib inline"
   ]
  },
  {
   "cell_type": "markdown",
   "metadata": {},
   "source": [
    "### B. Setting devices to be used"
   ]
  },
  {
   "cell_type": "code",
   "execution_count": null,
   "metadata": {},
   "outputs": [],
   "source": [
    "phi = qml.device(\"default.qubit\", wires=4)\n",
    "psi = qml.device(\"default.qubit\", wires=4)"
   ]
  },
  {
   "cell_type": "markdown",
   "metadata": {},
   "source": [
    "### C. Defining some initial parameters"
   ]
  },
  {
   "cell_type": "code",
   "execution_count": null,
   "metadata": {},
   "outputs": [],
   "source": [
    "#np.random.seed(10)\n",
    "t1 = np.random.uniform(0, 2*pi)\n",
    "t2 = np.random.uniform(0, 2*pi)\n",
    "t3 = np.random.uniform(0, 2*pi)\n",
    "t4 = np.random.uniform(0, 2*pi)\n",
    "psi_params = [t1, t2, t3, t4]\n",
    "layers = [1,2,3,4,5,6,7,8,9,10]\n",
    "o = qml.GradientDescentOptimizer(0.01)"
   ]
  },
  {
   "cell_type": "markdown",
   "metadata": {},
   "source": [
    "### D. Defining Helper Functions"
   ]
  },
  {
   "cell_type": "markdown",
   "metadata": {},
   "source": [
    "#### D.1: Function for cost calculation (MSE)"
   ]
  },
  {
   "cell_type": "code",
   "execution_count": null,
   "metadata": {},
   "outputs": [],
   "source": [
    "# minimum distance between phi and psi(θ) where θ is minimum parameter set\n",
    "\n",
    "def cost(params):\n",
    "    y = layer(params)\n",
    "    loss = np.mean(np.abs(y - y_)**2)\n",
    "    return loss"
   ]
  },
  {
   "cell_type": "markdown",
   "metadata": {},
   "source": [
    "#### D.2: Function that calculates ideal parameters using Gradient Descent Optimizer"
   ]
  },
  {
   "cell_type": "code",
   "execution_count": null,
   "metadata": {},
   "outputs": [],
   "source": [
    "# function that returns ideal parameters i.e. min θ values\n",
    "\n",
    "def ideal_params(params):\n",
    "    cost_set = []\n",
    "    init_params = params\n",
    "    for it in range(100):\n",
    "        params = o.step(cost, params)\n",
    "        print(\"Cost in step\" , it+1 , \":\", cost(params))\n",
    "        cost_set.append(cost(params))\n",
    "    \n",
    "    return params, cost_set"
   ]
  },
  {
   "cell_type": "markdown",
   "metadata": {},
   "source": [
    "### Function for creating random vector (psi)"
   ]
  },
  {
   "cell_type": "code",
   "execution_count": null,
   "metadata": {},
   "outputs": [],
   "source": [
    "# circuit for creating random vector \n",
    "\n",
    "@qml.qnode(psi)\n",
    "def rand_vec(params):#a,b,c,d):#params):\n",
    "\n",
    "    qml.RX(params[0], wires=0)\n",
    "    qml.RX(params[1], wires=1)\n",
    "    qml.RY(params[2], wires=2)\n",
    "    qml.RY(params[3], wires=3)\n",
    "    return [qml.expval(qml.PauliZ(0)), qml.expval(qml.PauliZ(1)), qml.expval(qml.PauliZ(2)), qml.expval(qml.PauliZ(3))]\n",
    "\n",
    "y_ = rand_vec(psi_params)"
   ]
  },
  {
   "cell_type": "markdown",
   "metadata": {},
   "source": [
    "### Function for creating layered circuit (psi)"
   ]
  },
  {
   "cell_type": "code",
   "execution_count": null,
   "metadata": {},
   "outputs": [],
   "source": [
    "# circuit for even layer\n",
    "\n",
    "def layer_even(params):\n",
    "    qml.RZ(params[0], wires=0)\n",
    "    qml.RZ(params[1], wires=1)\n",
    "    qml.RZ(params[2], wires=2)\n",
    "    qml.RZ(params[3], wires=3)\n",
    "    \n",
    "    qml.CZ(wires = [0, 1])\n",
    "    qml.CZ(wires = [0, 2])\n",
    "    qml.CZ(wires = [0, 3])\n",
    "    qml.CZ(wires = [1, 2])\n",
    "    qml.CZ(wires = [1, 3])\n",
    "    qml.CZ(wires = [2, 3])\n",
    "\n",
    "# circuit for odd layer\n",
    "\n",
    "def layer_odd(params):\n",
    "    qml.RX(params[0], wires=0)\n",
    "    qml.RX(params[1], wires=1)\n",
    "    qml.RX(params[2], wires=2)\n",
    "    qml.RX(params[3], wires=3)\n",
    "\n",
    "# combined layers\n",
    "    \n",
    "@qml.qnode(phi)    \n",
    "def layer(params):\n",
    "    for param in params:\n",
    "        layer_even(param) \n",
    "        layer_odd(param)\n",
    "    return [qml.expval(qml.PauliZ(0)), qml.expval(qml.PauliZ(1)), qml.expval(qml.PauliZ(2)), qml.expval(qml.PauliZ(3))]"
   ]
  },
  {
   "cell_type": "markdown",
   "metadata": {},
   "source": [
    "### Actual training process"
   ]
  },
  {
   "cell_type": "code",
   "execution_count": null,
   "metadata": {
    "scrolled": true
   },
   "outputs": [],
   "source": [
    "distance_ = []\n",
    "cost_dict = {}\n",
    "for i in layers:\n",
    "    cost_dict[str(i)] = []\n",
    "for l in layers:\n",
    "    print()\n",
    "    print(\"Layer : \", l)\n",
    "    print()\n",
    "    # initilize new params\n",
    "    np.random.seed(10)\n",
    "    params = np.random.uniform(low=0, high=2*pi, size=(l,4))\n",
    "    print(\"Initial set of Parameters are: \",params)\n",
    "    # get the ideal parameters using gradiesnt descent\n",
    "    new_params, dist = ideal_params(params)\n",
    "    print(\"Ideal set of Parameters are: \",new_params)\n",
    "    \n",
    "    # get the optimized vector \n",
    "    y = layer(new_params)\n",
    "    \n",
    "    # calculate the distance between y and y_\n",
    "    # y is out parameterized vector and y_ is the randomly generated vector on 4 qubits\n",
    "    distance = np.mean(np.abs(y - y_)**2)\n",
    "    distance_.append(distance)\n",
    "    cost_dict[str(l)] = dist\n",
    "\n",
    "print(layers)"
   ]
  },
  {
   "cell_type": "markdown",
   "metadata": {},
   "source": [
    "### Plotting Distances vs Layers (minimum distance between psi and phi in each layer after applying ideal set of parameters)"
   ]
  },
  {
   "cell_type": "code",
   "execution_count": null,
   "metadata": {},
   "outputs": [],
   "source": [
    "import matplotlib.pyplot as plt\n",
    "plt.plot(layers, distance_, marker = 'o', label = ('distance'))\n",
    "plt.title('Distances vs Layers')\n",
    "plt.xlabel('Number of Layers')\n",
    "plt.ylabel('Distance')\n",
    "plt.legend()\n",
    "plt.show()"
   ]
  },
  {
   "cell_type": "markdown",
   "metadata": {},
   "source": [
    "## Results: \n",
    "As we increase the number of layers, with the ideal set of parameters(θ), the distance between our dummy vector (phi, ϕ)  and parameterized vector (psi, ψ(θ)) decreases."
   ]
  },
  {
   "cell_type": "code",
   "execution_count": null,
   "metadata": {},
   "outputs": [],
   "source": []
  },
  {
   "cell_type": "code",
   "execution_count": null,
   "metadata": {},
   "outputs": [],
   "source": []
  },
  {
   "cell_type": "markdown",
   "metadata": {},
   "source": [
    "#### And now we will repeat the same process for **B** with a slight variation in angles (parameter) of layer"
   ]
  },
  {
   "cell_type": "markdown",
   "metadata": {},
   "source": [
    "### Function for creating random vector (psi)"
   ]
  },
  {
   "cell_type": "code",
   "execution_count": null,
   "metadata": {},
   "outputs": [],
   "source": [
    "# circuit for creating random vector \n",
    "\n",
    "@qml.qnode(psi)\n",
    "def rand_vec(params):#a,b,c,d):#params):\n",
    "\n",
    "    qml.RX(params[0], wires=0)\n",
    "    qml.RX(params[1], wires=1)\n",
    "    qml.RY(params[2], wires=2)\n",
    "    qml.RY(params[3], wires=3)\n",
    "    return [qml.expval(qml.PauliZ(0)), qml.expval(qml.PauliZ(1)), qml.expval(qml.PauliZ(2)), qml.expval(qml.PauliZ(3))]\n",
    "\n",
    "y_ = rand_vec(psi_params)"
   ]
  },
  {
   "cell_type": "markdown",
   "metadata": {},
   "source": [
    "### Function for creating layered paramaterized circuit (psi)"
   ]
  },
  {
   "cell_type": "code",
   "execution_count": null,
   "metadata": {},
   "outputs": [],
   "source": [
    "def layer_(params):\n",
    "    \n",
    "# circuit for even layer\n",
    "    qml.RZ(params[0], wires=0)\n",
    "    qml.RZ(params[1], wires=1)\n",
    "    qml.RZ(params[2], wires=2)\n",
    "    qml.RZ(params[3], wires=3)\n",
    "    \n",
    "    qml.CZ(wires = [0, 1])\n",
    "    qml.CZ(wires = [0, 2])\n",
    "    qml.CZ(wires = [0, 3])\n",
    "    qml.CZ(wires = [1, 2])\n",
    "    qml.CZ(wires = [1, 3])\n",
    "    qml.CZ(wires = [2, 3])\n",
    "\n",
    "# circuit for odd layer\n",
    "    qml.RX(params[4], wires=0)\n",
    "    qml.RX(params[5], wires=1)\n",
    "    qml.RX(params[6], wires=2)\n",
    "    qml.RX(params[7], wires=3)\n",
    "\n",
    "# quantum node\n",
    "@qml.qnode(phi)    \n",
    "def layer(params):\n",
    "    for param in params:\n",
    "        layer_(param) \n",
    "    return [qml.expval(qml.PauliZ(0)), qml.expval(qml.PauliZ(1)), qml.expval(qml.PauliZ(2)), qml.expval(qml.PauliZ(3))]"
   ]
  },
  {
   "cell_type": "markdown",
   "metadata": {},
   "source": [
    "### Actual training process"
   ]
  },
  {
   "cell_type": "code",
   "execution_count": null,
   "metadata": {
    "scrolled": true
   },
   "outputs": [],
   "source": [
    "distance_ = []\n",
    "cost_dict = {}\n",
    "for i in layers:\n",
    "    cost_dict[str(i)] = []\n",
    "for l in layers:\n",
    "    print()\n",
    "    print(\"Total Layers => \", l)\n",
    "    print()\n",
    "    # initilize new params\n",
    "    np.random.seed(10)\n",
    "    params = np.random.uniform(low=0, high=2*pi, size=(l,8))\n",
    "    print(\"Initial set of Parameters are: \",params)\n",
    "    \n",
    "    # get the ideal parameters using gradiesnt descent\n",
    "    new_params, dist = ideal_params(params)\n",
    "    print(\"Ideal set of Parameters are: \",new_params)\n",
    "\n",
    "    # get the optimized vector \n",
    "    y = layer(new_params)\n",
    "    \n",
    "    # calculate the distance between y and y_\n",
    "    # y is out parameterized vector and y_ is the randomly generated vector on 4 qubits\n",
    "    distance = np.mean(np.abs(y - y_)**2)\n",
    "    distance_.append(distance)\n",
    "    cost_dict[str(l)] = dist\n",
    "\n",
    "print(layers)"
   ]
  },
  {
   "cell_type": "markdown",
   "metadata": {},
   "source": [
    "### Plotting Distances vs Layers (minimum distance between psi and phi in each layer after applying ideal set of parameters)"
   ]
  },
  {
   "cell_type": "code",
   "execution_count": null,
   "metadata": {},
   "outputs": [],
   "source": [
    "import matplotlib.pyplot as plt\n",
    "plt.plot(layers, distance_, marker = 'o', label = ('distance'))\n",
    "plt.title('Distances vs Layers')\n",
    "plt.xlabel('Number of Layers')\n",
    "plt.ylabel('Distance')\n",
    "plt.legend()\n",
    "plt.show()"
   ]
  },
  {
   "cell_type": "code",
   "execution_count": null,
   "metadata": {},
   "outputs": [],
   "source": []
  },
  {
   "cell_type": "code",
   "execution_count": null,
   "metadata": {},
   "outputs": [],
   "source": []
  },
  {
   "cell_type": "markdown",
   "metadata": {},
   "source": [
    "### Function for creating random vector (psi)"
   ]
  },
  {
   "cell_type": "code",
   "execution_count": null,
   "metadata": {},
   "outputs": [],
   "source": [
    "# circuit for creating random vector \n",
    "\n",
    "@qml.qnode(psi)\n",
    "def rand_vec(params):#a,b,c,d):#params):\n",
    "\n",
    "    qml.RZ(params[0], wires=0)\n",
    "    qml.RZ(params[1], wires=1)\n",
    "    qml.RZ(params[2], wires=2)\n",
    "    qml.RZ(params[3], wires=3)\n",
    "    return [qml.expval(qml.PauliZ(0)), qml.expval(qml.PauliZ(1)), qml.expval(qml.PauliZ(2)), qml.expval(qml.PauliZ(3))]\n",
    "y_ = rand_vec(psi_params)"
   ]
  },
  {
   "cell_type": "markdown",
   "metadata": {},
   "source": [
    "### Function for creating layered paramaterized circuit (psi)"
   ]
  },
  {
   "cell_type": "code",
   "execution_count": null,
   "metadata": {},
   "outputs": [],
   "source": [
    "def layer_(params):\n",
    "    \n",
    "# circuit for even layer\n",
    "    qml.RX(params[0], wires=0)\n",
    "    qml.RX(params[1], wires=1)\n",
    "    qml.RX(params[2], wires=2)\n",
    "    qml.RX(params[3], wires=3)\n",
    "    \n",
    "    qml.CZ(wires = [0, 1])\n",
    "    qml.CZ(wires = [0, 2])\n",
    "    qml.CZ(wires = [0, 3])\n",
    "    qml.CZ(wires = [1, 2])\n",
    "    qml.CZ(wires = [1, 3])\n",
    "    qml.CZ(wires = [2, 3])\n",
    "\n",
    "# circuit for odd layer\n",
    "    qml.RX(params[4], wires=0)\n",
    "    qml.RX(params[5], wires=1)\n",
    "    qml.RX(params[6], wires=2)\n",
    "    qml.RX(params[7], wires=3)\n",
    "\n",
    "# quantum node\n",
    "@qml.qnode(phi)    \n",
    "def layer(params):\n",
    "    for param in params:\n",
    "        layer_(param) \n",
    "    return [qml.expval(qml.PauliZ(0)), qml.expval(qml.PauliZ(1)), qml.expval(qml.PauliZ(2)), qml.expval(qml.PauliZ(3))]"
   ]
  },
  {
   "cell_type": "markdown",
   "metadata": {},
   "source": [
    "### Actual training process"
   ]
  },
  {
   "cell_type": "code",
   "execution_count": null,
   "metadata": {
    "scrolled": true
   },
   "outputs": [],
   "source": [
    "distance_ = []\n",
    "cost_dict = {}\n",
    "for i in layers:\n",
    "    cost_dict[str(i)] = []\n",
    "for l in layers:\n",
    "    print()\n",
    "    print(\"Total Layers => \", l)\n",
    "    print()\n",
    "    # initilize new params\n",
    "    np.random.seed(10)\n",
    "    params = np.random.uniform(low=0, high=2*pi, size=(l,8))\n",
    "    print(\"Initial set of Parameters are: \",params)\n",
    "    # get the ideal parameters using gradiesnt descent\n",
    "    new_params, dist = ideal_params(params)\n",
    "    print(\"Ideal set of Parameters are: \",new_params)\n",
    "    \n",
    "    \n",
    "    # get the optimized vector \n",
    "    y = layer(new_params)\n",
    "    \n",
    "    # calculate the distance between y and y_\n",
    "    # y is out parameterized vector and y_ is the randomly generated vector on 4 qubits\n",
    "    distance = np.mean(np.abs(y - y_)**2)\n",
    "    distance_.append(distance)\n",
    "    cost_dict[str(l)] = dist\n",
    "\n",
    "print(layers)"
   ]
  },
  {
   "cell_type": "markdown",
   "metadata": {},
   "source": [
    "### Plotting Distances vs Layers (minimum distance between psi and phi in each layer after applying ideal set of parameters)"
   ]
  },
  {
   "cell_type": "code",
   "execution_count": null,
   "metadata": {},
   "outputs": [],
   "source": [
    "import matplotlib.pyplot as plt\n",
    "plt.plot(layers, distance_, marker = 'o', label = ('distance'))\n",
    "plt.title('Distances vs Layers')\n",
    "plt.xlabel('Number of Layers')\n",
    "plt.ylabel('Distance')\n",
    "plt.legend()\n",
    "plt.show()"
   ]
  },
  {
   "cell_type": "code",
   "execution_count": null,
   "metadata": {},
   "outputs": [],
   "source": []
  },
  {
   "cell_type": "code",
   "execution_count": null,
   "metadata": {},
   "outputs": [],
   "source": []
  },
  {
   "cell_type": "code",
   "execution_count": null,
   "metadata": {},
   "outputs": [],
   "source": []
  },
  {
   "cell_type": "code",
   "execution_count": null,
   "metadata": {},
   "outputs": [],
   "source": []
  },
  {
   "cell_type": "markdown",
   "metadata": {},
   "source": [
    "### Function for creating random vector (psi)"
   ]
  },
  {
   "cell_type": "code",
   "execution_count": null,
   "metadata": {},
   "outputs": [],
   "source": [
    "# circuit for creating random vector \n",
    "\n",
    "@qml.qnode(psi)\n",
    "def rand_vec(params):#a,b,c,d):#params):\n",
    "\n",
    "    qml.RY(params[0], wires=0)\n",
    "    qml.RY(params[1], wires=1)\n",
    "    qml.RY(params[2], wires=2)\n",
    "    qml.RY(params[3], wires=3)\n",
    "    return [qml.expval(qml.PauliZ(0)), qml.expval(qml.PauliZ(1)), qml.expval(qml.PauliZ(2)), qml.expval(qml.PauliZ(3))]\n",
    "y_ = rand_vec(psi_params)"
   ]
  },
  {
   "cell_type": "markdown",
   "metadata": {},
   "source": [
    "### Function for creating layered paramaterized circuit (psi)"
   ]
  },
  {
   "cell_type": "code",
   "execution_count": null,
   "metadata": {},
   "outputs": [],
   "source": [
    "def layer_(params):\n",
    "    \n",
    "# circuit for even layer\n",
    "    qml.RZ(params[0], wires=0)\n",
    "    qml.RZ(params[1], wires=1)\n",
    "    qml.RZ(params[2], wires=2)\n",
    "    qml.RZ(params[3], wires=3)\n",
    "    \n",
    "    qml.CZ(wires = [0, 1])\n",
    "    qml.CZ(wires = [0, 2])\n",
    "    qml.CZ(wires = [0, 3])\n",
    "    qml.CZ(wires = [1, 2])\n",
    "    qml.CZ(wires = [1, 3])\n",
    "    qml.CZ(wires = [2, 3])\n",
    "\n",
    "# circuit for odd layer\n",
    "    qml.RX(params[4], wires=0)\n",
    "    qml.RX(params[5], wires=1)\n",
    "    qml.RX(params[6], wires=2)\n",
    "    qml.RX(params[7], wires=3)\n",
    "\n",
    "# quantum node\n",
    "@qml.qnode(phi)    \n",
    "def layer(params):\n",
    "    for param in params:\n",
    "        layer_(param) \n",
    "    return [qml.expval(qml.PauliZ(0)), qml.expval(qml.PauliZ(1)), qml.expval(qml.PauliZ(2)), qml.expval(qml.PauliZ(3))]"
   ]
  },
  {
   "cell_type": "markdown",
   "metadata": {},
   "source": [
    "### Actual training process"
   ]
  },
  {
   "cell_type": "code",
   "execution_count": null,
   "metadata": {
    "scrolled": true
   },
   "outputs": [],
   "source": [
    "distance_ = []\n",
    "cost_dict = {}\n",
    "for i in layers:\n",
    "    cost_dict[str(i)] = []\n",
    "for l in layers:\n",
    "    print()\n",
    "    print(\"Total Layers => \", l)\n",
    "    print()\n",
    "    # initilize new params\n",
    "    np.random.seed(10)\n",
    "    params = np.random.uniform(low=0, high=2*pi, size=(l,8))\n",
    "    print(\"Initial set of Parameters are: \",params)\n",
    "    # get the ideal parameters using gradiesnt descent\n",
    "    new_params, dist = ideal_params(params)\n",
    "    print(\"Ideal set of Parameters are: \",new_params)\n",
    "    \n",
    "    \n",
    "    # get the optimized vector \n",
    "    y = layer(new_params)\n",
    "    \n",
    "    # calculate the distance between y and y_\n",
    "    # y is out parameterized vector and y_ is the randomly generated vector on 4 qubits\n",
    "    distance = np.mean(np.abs(y - y_)**2)\n",
    "    distance_.append(distance)\n",
    "    cost_dict[str(l)] = dist\n",
    "\n",
    "print(layers)"
   ]
  },
  {
   "cell_type": "markdown",
   "metadata": {},
   "source": [
    "### Plotting Distances vs Layers (minimum distance between psi and phi in each layer after applying ideal set of parameters)"
   ]
  },
  {
   "cell_type": "code",
   "execution_count": null,
   "metadata": {},
   "outputs": [],
   "source": [
    "import matplotlib.pyplot as plt\n",
    "plt.plot(layers, distance_, marker = 'o', label = ('distance'))\n",
    "plt.title('Distances vs Layers')\n",
    "plt.xlabel('Number of Layers')\n",
    "plt.ylabel('Distance')\n",
    "plt.legend()\n",
    "plt.show()"
   ]
  },
  {
   "cell_type": "code",
   "execution_count": null,
   "metadata": {},
   "outputs": [],
   "source": []
  },
  {
   "cell_type": "code",
   "execution_count": null,
   "metadata": {},
   "outputs": [],
   "source": []
  },
  {
   "cell_type": "code",
   "execution_count": null,
   "metadata": {},
   "outputs": [],
   "source": []
  },
  {
   "cell_type": "markdown",
   "metadata": {},
   "source": [
    "### Function for creating random vector (psi)"
   ]
  },
  {
   "cell_type": "code",
   "execution_count": null,
   "metadata": {},
   "outputs": [],
   "source": [
    "# circuit for creating random vector \n",
    "\n",
    "@qml.qnode(psi)\n",
    "def rand_vec(params):#a,b,c,d):#params):\n",
    "\n",
    "    qml.RY(params[0], wires=0)\n",
    "    qml.RZ(params[1], wires=1)\n",
    "    qml.RY(params[2], wires=2)\n",
    "    qml.RZ(params[3], wires=3)\n",
    "    return [qml.expval(qml.PauliZ(0)), qml.expval(qml.PauliZ(1)), qml.expval(qml.PauliZ(2)), qml.expval(qml.PauliZ(3))]\n",
    "y_ = rand_vec(psi_params)"
   ]
  },
  {
   "cell_type": "markdown",
   "metadata": {},
   "source": [
    "### Function for creating layered paramaterized circuit (psi)"
   ]
  },
  {
   "cell_type": "code",
   "execution_count": null,
   "metadata": {},
   "outputs": [],
   "source": [
    "def layer_(params):\n",
    "    \n",
    "# circuit for even layer\n",
    "    qml.RZ(params[0], wires=0)\n",
    "    qml.RX(params[1], wires=1)\n",
    "    qml.RZ(params[2], wires=2)\n",
    "    qml.RX(params[3], wires=3)\n",
    "    \n",
    "    qml.CZ(wires = [0, 1])\n",
    "    qml.CZ(wires = [0, 2])\n",
    "    qml.CZ(wires = [0, 3])\n",
    "    qml.CZ(wires = [1, 2])\n",
    "    qml.CZ(wires = [1, 3])\n",
    "    qml.CZ(wires = [2, 3])\n",
    "\n",
    "# circuit for odd layer\n",
    "    qml.RY(params[4], wires=0)\n",
    "    qml.RY(params[5], wires=1)\n",
    "    qml.RY(params[6], wires=2)\n",
    "    qml.RY(params[7], wires=3)\n",
    "\n",
    "# quantum node\n",
    "@qml.qnode(phi)    \n",
    "def layer(params):\n",
    "    for param in params:\n",
    "        layer_(param) \n",
    "    return [qml.expval(qml.PauliZ(0)), qml.expval(qml.PauliZ(1)), qml.expval(qml.PauliZ(2)), qml.expval(qml.PauliZ(3))]"
   ]
  },
  {
   "cell_type": "markdown",
   "metadata": {},
   "source": [
    "### Actual training process"
   ]
  },
  {
   "cell_type": "code",
   "execution_count": null,
   "metadata": {
    "scrolled": true
   },
   "outputs": [],
   "source": [
    "distance_ = []\n",
    "cost_dict = {}\n",
    "for i in layers:\n",
    "    cost_dict[str(i)] = []\n",
    "for l in layers:\n",
    "    print()\n",
    "    print(\"Total Layers => \", l)\n",
    "    print()\n",
    "    # initilize new params\n",
    "    np.random.seed(10)\n",
    "    params = np.random.uniform(low=0, high=2*pi, size=(l,8))\n",
    "    print(\"Initial set of Parameters are: \",params)\n",
    "    # get the ideal parameters using gradiesnt descent\n",
    "    new_params, dist = ideal_params(params)\n",
    "    print(\"Ideal set of Parameters are: \",new_params)\n",
    "    \n",
    "    \n",
    "    # get the optimized vector \n",
    "    y = layer(new_params)\n",
    "    \n",
    "    # calculate the distance between y and y_\n",
    "    # y is out parameterized vector and y_ is the randomly generated vector on 4 qubits\n",
    "    distance = np.mean(np.abs(y - y_)**2)\n",
    "    distance_.append(distance)\n",
    "    cost_dict[str(l)] = dist\n",
    "\n",
    "print(layers)"
   ]
  },
  {
   "cell_type": "markdown",
   "metadata": {},
   "source": [
    "### Plotting Distances vs Layers (minimum distance between psi and phi in each layer after applying ideal set of parameters)"
   ]
  },
  {
   "cell_type": "code",
   "execution_count": null,
   "metadata": {},
   "outputs": [],
   "source": [
    "import matplotlib.pyplot as plt\n",
    "plt.plot(layers, distance_, marker = 'o', label = ('distance'))\n",
    "plt.title('Distances vs Layers')\n",
    "plt.xlabel('Number of Layers')\n",
    "plt.ylabel('Distance')\n",
    "plt.legend()\n",
    "plt.show()"
   ]
  },
  {
   "cell_type": "code",
   "execution_count": null,
   "metadata": {},
   "outputs": [],
   "source": []
  },
  {
   "cell_type": "code",
   "execution_count": null,
   "metadata": {},
   "outputs": [],
   "source": []
  },
  {
   "cell_type": "code",
   "execution_count": null,
   "metadata": {},
   "outputs": [],
   "source": []
  },
  {
   "cell_type": "markdown",
   "metadata": {},
   "source": [
    "### Function for creating random vector (psi)"
   ]
  },
  {
   "cell_type": "code",
   "execution_count": null,
   "metadata": {},
   "outputs": [],
   "source": [
    "# circuit for creating random vector \n",
    "\n",
    "@qml.qnode(psi)\n",
    "def rand_vec(params):#a,b,c,d):#params):\n",
    "\n",
    "    qml.RY(params[0], wires=0)\n",
    "    qml.RY(params[1], wires=1)\n",
    "    qml.RY(params[2], wires=2)\n",
    "    qml.RY(params[3], wires=3)\n",
    "    return [qml.expval(qml.PauliZ(0)), qml.expval(qml.PauliZ(1)), qml.expval(qml.PauliZ(2)), qml.expval(qml.PauliZ(3))]\n",
    "y_ = rand_vec(psi_params)"
   ]
  },
  {
   "cell_type": "markdown",
   "metadata": {},
   "source": [
    "### Function for creating layered paramaterized circuit (psi)"
   ]
  },
  {
   "cell_type": "code",
   "execution_count": null,
   "metadata": {},
   "outputs": [],
   "source": [
    "# circuit for even layer\n",
    "\n",
    "def layer_even(params):\n",
    "    qml.RZ(params[0], wires=0)\n",
    "    qml.RZ(params[1], wires=1)\n",
    "    qml.RZ(params[2], wires=2)\n",
    "    qml.RZ(params[3], wires=3)\n",
    "    \n",
    "    qml.CZ(wires = [0, 1])\n",
    "    qml.CZ(wires = [0, 2])\n",
    "    qml.CZ(wires = [0, 3])\n",
    "    qml.CZ(wires = [1, 2])\n",
    "    qml.CZ(wires = [1, 3])\n",
    "    qml.CZ(wires = [2, 3])\n",
    "\n",
    "# circuit for odd layer\n",
    "\n",
    "def layer_odd(params):\n",
    "    qml.RZ(params[0], wires=0)\n",
    "    qml.RZ(params[1], wires=1)\n",
    "    qml.RZ(params[2], wires=2)\n",
    "    qml.RZ(params[3], wires=3)\n",
    "\n",
    "# combined layers\n",
    "    \n",
    "@qml.qnode(phi)    \n",
    "def layer(params):\n",
    "    for param in params:\n",
    "        layer_even(param) \n",
    "        layer_odd(param)\n",
    "    return [qml.expval(qml.PauliZ(0)), qml.expval(qml.PauliZ(1)), qml.expval(qml.PauliZ(2)), qml.expval(qml.PauliZ(3))]"
   ]
  },
  {
   "cell_type": "markdown",
   "metadata": {},
   "source": [
    "### Actual training process"
   ]
  },
  {
   "cell_type": "code",
   "execution_count": null,
   "metadata": {
    "scrolled": true
   },
   "outputs": [],
   "source": [
    "distance_ = []\n",
    "cost_dict = {}\n",
    "for i in layers:\n",
    "    cost_dict[str(i)] = []\n",
    "for l in layers:\n",
    "    print()\n",
    "    print(\"Layer : \", l)\n",
    "    print()\n",
    "    # initilize new params\n",
    "    np.random.seed(10)\n",
    "    params = np.random.uniform(low=0, high=2*pi, size=(l,4))\n",
    "    print(\"Initial set of Parameters are: \",params)\n",
    "    # get the ideal parameters using gradiesnt descent\n",
    "    new_params, dist = ideal_params(params)\n",
    "    print(\"Ideal set of Parameters are: \",new_params)\n",
    "    \n",
    "    \n",
    "    # get the optimized vector \n",
    "    y = layer(new_params)\n",
    "    \n",
    "    # calculate the distance between y and y_\n",
    "    # y is out parameterized vector and y_ is the randomly generated vector on 4 qubits\n",
    "    distance = np.mean(np.abs(y - y_)**2)\n",
    "    distance_.append(distance)\n",
    "    cost_dict[str(l)] = dist\n",
    "\n",
    "print(layers)"
   ]
  },
  {
   "cell_type": "markdown",
   "metadata": {},
   "source": [
    "### Plotting Distances vs Layers (minimum distance between psi and phi in each layer after applying ideal set of parameters)"
   ]
  },
  {
   "cell_type": "code",
   "execution_count": null,
   "metadata": {},
   "outputs": [],
   "source": [
    "import matplotlib.pyplot as plt\n",
    "plt.plot(layers, distance_, marker = 'o', label = ('distance'))\n",
    "plt.title('Distances vs Layers')\n",
    "plt.xlabel('Number of Layers')\n",
    "plt.ylabel('Distance')\n",
    "plt.legend()\n",
    "plt.show()"
   ]
  },
  {
   "cell_type": "code",
   "execution_count": null,
   "metadata": {},
   "outputs": [],
   "source": []
  },
  {
   "cell_type": "code",
   "execution_count": null,
   "metadata": {},
   "outputs": [],
   "source": []
  },
  {
   "cell_type": "code",
   "execution_count": null,
   "metadata": {},
   "outputs": [],
   "source": []
  },
  {
   "cell_type": "markdown",
   "metadata": {},
   "source": [
    "### Function for creating random vector (psi)"
   ]
  },
  {
   "cell_type": "code",
   "execution_count": null,
   "metadata": {},
   "outputs": [],
   "source": [
    "# circuit for creating random vector \n",
    "\n",
    "@qml.qnode(psi)\n",
    "def rand_vec(params):#a,b,c,d):#params):\n",
    "\n",
    "    qml.RZ(params[0], wires=0)\n",
    "    qml.RZ(params[1], wires=1)\n",
    "    qml.RZ(params[2], wires=2)\n",
    "    qml.RZ(params[3], wires=3)\n",
    "    return [qml.expval(qml.PauliZ(0)), qml.expval(qml.PauliZ(1)), qml.expval(qml.PauliZ(2)), qml.expval(qml.PauliZ(3))]\n",
    "y_ = rand_vec(psi_params)"
   ]
  },
  {
   "cell_type": "markdown",
   "metadata": {},
   "source": [
    "### Function for creating layered paramaterized circuit (psi)"
   ]
  },
  {
   "cell_type": "code",
   "execution_count": null,
   "metadata": {},
   "outputs": [],
   "source": [
    "# circuit for even layer\n",
    "\n",
    "def layer_even(params):\n",
    "    qml.RX(params[0], wires=0)\n",
    "    qml.RX(params[1], wires=1)\n",
    "    qml.RX(params[2], wires=2)\n",
    "    qml.RX(params[3], wires=3)\n",
    "    \n",
    "    qml.CZ(wires = [0, 1])\n",
    "    qml.CZ(wires = [0, 2])\n",
    "    qml.CZ(wires = [0, 3])\n",
    "    qml.CZ(wires = [1, 2])\n",
    "    qml.CZ(wires = [1, 3])\n",
    "    qml.CZ(wires = [2, 3])\n",
    "\n",
    "# circuit for odd layer\n",
    "\n",
    "def layer_odd(params):\n",
    "    qml.RY(params[0], wires=0)\n",
    "    qml.RY(params[1], wires=1)\n",
    "    qml.RY(params[2], wires=2)\n",
    "    qml.RY(params[3], wires=3)\n",
    "\n",
    "# combined layers\n",
    "    \n",
    "@qml.qnode(phi)    \n",
    "def layer(params):\n",
    "    for param in params:\n",
    "        layer_even(param) \n",
    "        layer_odd(param)\n",
    "    return [qml.expval(qml.PauliZ(0)), qml.expval(qml.PauliZ(1)), qml.expval(qml.PauliZ(2)), qml.expval(qml.PauliZ(3))]"
   ]
  },
  {
   "cell_type": "markdown",
   "metadata": {},
   "source": [
    "### Actual training process"
   ]
  },
  {
   "cell_type": "code",
   "execution_count": null,
   "metadata": {
    "scrolled": true
   },
   "outputs": [],
   "source": [
    "distance_ = []\n",
    "cost_dict = {}\n",
    "for i in layers:\n",
    "    cost_dict[str(i)] = []\n",
    "for l in layers:\n",
    "    print()\n",
    "    print(\"Layer : \", l)\n",
    "    print()\n",
    "    # initilize new params\n",
    "    np.random.seed(10)\n",
    "    params = np.random.uniform(low=0, high=2*pi, size=(l,4))\n",
    "    print(\"Initial set of Parameters are: \",params)\n",
    "    # get the ideal parameters using gradiesnt descent\n",
    "    new_params, dist = ideal_params(params)\n",
    "    print(\"Ideal set of Parameters are: \",new_params)\n",
    "    \n",
    "    # get the optimized vector \n",
    "    y = layer(new_params)\n",
    "    \n",
    "    # calculate the distance between y and y_\n",
    "    # y is out parameterized vector and y_ is the randomly generated vector on 4 qubits\n",
    "    distance = np.mean(np.abs(y - y_)**2)\n",
    "    distance_.append(distance)\n",
    "    cost_dict[str(l)] = dist\n",
    "\n",
    "print(layers)"
   ]
  },
  {
   "cell_type": "markdown",
   "metadata": {},
   "source": [
    "### Plotting Distances vs Layers (minimum distance between psi and phi in each layer after applying ideal set of parameters)"
   ]
  },
  {
   "cell_type": "code",
   "execution_count": null,
   "metadata": {},
   "outputs": [],
   "source": [
    "import matplotlib.pyplot as plt\n",
    "plt.plot(layers, distance_, marker = 'o', label = ('distance'))\n",
    "plt.title('Distances vs Layers')\n",
    "plt.xlabel('Number of Layers')\n",
    "plt.ylabel('Distance')\n",
    "plt.legend()\n",
    "plt.show()"
   ]
  },
  {
   "cell_type": "code",
   "execution_count": null,
   "metadata": {},
   "outputs": [],
   "source": []
  },
  {
   "cell_type": "code",
   "execution_count": null,
   "metadata": {},
   "outputs": [],
   "source": []
  },
  {
   "cell_type": "code",
   "execution_count": null,
   "metadata": {},
   "outputs": [],
   "source": []
  },
  {
   "cell_type": "code",
   "execution_count": null,
   "metadata": {},
   "outputs": [],
   "source": []
  }
 ],
 "metadata": {
  "kernelspec": {
   "display_name": "Python 3",
   "language": "python",
   "name": "python3"
  },
  "language_info": {
   "codemirror_mode": {
    "name": "ipython",
    "version": 3
   },
   "file_extension": ".py",
   "mimetype": "text/x-python",
   "name": "python",
   "nbconvert_exporter": "python",
   "pygments_lexer": "ipython3",
   "version": "3.8.5"
  }
 },
 "nbformat": 4,
 "nbformat_minor": 2
}
