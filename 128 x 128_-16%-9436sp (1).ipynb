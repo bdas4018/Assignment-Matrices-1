{
 "cells": [
  {
   "cell_type": "markdown",
   "metadata": {},
   "source": [
    "# Material Deformation - Using QUBO\n"
   ]
  },
  {
   "cell_type": "code",
   "execution_count": null,
   "metadata": {},
   "outputs": [],
   "source": [
    "\n",
    "\n",
    "\n"
   ]
  },
  {
   "cell_type": "code",
   "execution_count": null,
   "metadata": {},
   "outputs": [],
   "source": []
  },
  {
   "cell_type": "code",
   "execution_count": null,
   "metadata": {},
   "outputs": [],
   "source": []
  },
  {
   "cell_type": "code",
   "execution_count": null,
   "metadata": {},
   "outputs": [],
   "source": []
  },
  {
   "cell_type": "code",
   "execution_count": null,
   "metadata": {},
   "outputs": [],
   "source": []
  },
  {
   "cell_type": "code",
   "execution_count": 1,
   "metadata": {},
   "outputs": [],
   "source": [
    "import sys as sys\n",
    "import pandas as pd\n",
    "import numpy as np\n",
    "import pandas as pd\n",
    "import random, math\n",
    "import copy\n",
    "import numba\n",
    "from numba import jit\n",
    "import tqdm\n",
    "from time import time\n",
    "from tqdm import tqdm\n",
    "from matplotlib import pyplot as plt\n",
    "df = pd.read_csv(r'C:\\Users\\Bhargav\\BMW\\Set A\\128x128_-16%-9436.csv',header=None)\n",
    "#df.as_matrix()\n",
    "\n"
   ]
  },
  {
   "cell_type": "code",
   "execution_count": 2,
   "metadata": {},
   "outputs": [],
   "source": [
    "#np.set_printoptions(threshold=sys.maxsize)"
   ]
  },
  {
   "cell_type": "code",
   "execution_count": 3,
   "metadata": {},
   "outputs": [],
   "source": [
    "X1 = df.values"
   ]
  },
  {
   "cell_type": "code",
   "execution_count": 4,
   "metadata": {},
   "outputs": [
    {
     "data": {
      "text/plain": [
       "array([[ 0.,  0.,  0., ...,  0., 18.,  0.],\n",
       "       [ 0.,  0.,  0., ...,  0.,  0.,  0.],\n",
       "       [30.,  0.,  0., ...,  0., 26.,  0.],\n",
       "       ...,\n",
       "       [ 0.,  0.,  0., ..., 21.,  0.,  0.],\n",
       "       [ 0.,  0.,  0., ...,  0.,  0.,  0.],\n",
       "       [ 0.,  0.,  0., ...,  0.,  0.,  0.]])"
      ]
     },
     "execution_count": 4,
     "metadata": {},
     "output_type": "execute_result"
    }
   ],
   "source": [
    "X1"
   ]
  },
  {
   "cell_type": "code",
   "execution_count": 5,
   "metadata": {},
   "outputs": [
    {
     "data": {
      "text/plain": [
       "(128, 128)"
      ]
     },
     "execution_count": 5,
     "metadata": {},
     "output_type": "execute_result"
    }
   ],
   "source": [
    "\n",
    "X1.shape"
   ]
  },
  {
   "cell_type": "code",
   "execution_count": 6,
   "metadata": {},
   "outputs": [],
   "source": [
    "X = np.true_divide(X1 ,  2000)"
   ]
  },
  {
   "cell_type": "code",
   "execution_count": 7,
   "metadata": {
    "scrolled": true
   },
   "outputs": [
    {
     "data": {
      "text/plain": [
       "array([[0.    , 0.    , 0.    , ..., 0.    , 0.009 , 0.    ],\n",
       "       [0.    , 0.    , 0.    , ..., 0.    , 0.    , 0.    ],\n",
       "       [0.015 , 0.    , 0.    , ..., 0.    , 0.013 , 0.    ],\n",
       "       ...,\n",
       "       [0.    , 0.    , 0.    , ..., 0.0105, 0.    , 0.    ],\n",
       "       [0.    , 0.    , 0.    , ..., 0.    , 0.    , 0.    ],\n",
       "       [0.    , 0.    , 0.    , ..., 0.    , 0.    , 0.    ]])"
      ]
     },
     "execution_count": 7,
     "metadata": {},
     "output_type": "execute_result"
    }
   ],
   "source": [
    "X"
   ]
  },
  {
   "cell_type": "code",
   "execution_count": 8,
   "metadata": {},
   "outputs": [
    {
     "data": {
      "image/png": "[encoded data removed]",
      "text/plain": [
       "<Figure size 1080x720 with 1 Axes>"
      ]
     },
     "metadata": {
      "needs_background": "light"
     },
     "output_type": "display_data"
    }
   ],
   "source": [
    "plt.spy(X, precision = 0.01, markersize = 4)\n",
    "# betterspy.write_png(\"out.png\", X , border_width=2, border_color=\"red\", colormap=\"viridis\")\n",
    "# betterspy 1138.mtx [Matrix.png]\n",
    "# betterspy.show(X)\n",
    "# betterspy.write_png(\"X matrix\", X)\n",
    "F = plt.gcf()\n",
    "Size = F.get_size_inches()\n",
    "F.set_size_inches(Size[0]*2.5, Size[1]*2.5, forward=True)\n",
    "\n",
    "# plt.colorbar()\n",
    "# plt.show()"
   ]
  },
  {
   "cell_type": "code",
   "execution_count": 9,
   "metadata": {},
   "outputs": [],
   "source": [
    "df1 = pd.read_csv(r'C:\\Users\\Bhargav\\BMW\\Set A\\128x1_-16%-9436.csv',header=None)\n",
    "#df.as_matrix()"
   ]
  },
  {
   "cell_type": "code",
   "execution_count": 10,
   "metadata": {},
   "outputs": [],
   "source": [
    "\n",
    "\n",
    "Y1=df1.values"
   ]
  },
  {
   "cell_type": "code",
   "execution_count": 11,
   "metadata": {},
   "outputs": [
    {
     "data": {
      "text/plain": [
       "(128, 1)"
      ]
     },
     "execution_count": 11,
     "metadata": {},
     "output_type": "execute_result"
    }
   ],
   "source": [
    "Y1.shape"
   ]
  },
  {
   "cell_type": "code",
   "execution_count": 12,
   "metadata": {},
   "outputs": [],
   "source": [
    "Y = np.true_divide(Y1 , 2000)"
   ]
  },
  {
   "cell_type": "code",
   "execution_count": 13,
   "metadata": {},
   "outputs": [
    {
     "data": {
      "text/plain": [
       "array([[0.    ],\n",
       "       [0.0125],\n",
       "       [0.0155],\n",
       "       [0.    ],\n",
       "       [0.    ],\n",
       "       [0.    ],\n",
       "       [0.    ],\n",
       "       [0.0095],\n",
       "       [0.011 ],\n",
       "       [0.    ],\n",
       "       [0.    ],\n",
       "       [0.    ],\n",
       "       [0.013 ],\n",
       "       [0.    ],\n",
       "       [0.0095],\n",
       "       [0.0115],\n",
       "       [0.    ],\n",
       "       [0.    ],\n",
       "       [0.    ],\n",
       "       [0.    ],\n",
       "       [0.    ],\n",
       "       [0.    ],\n",
       "       [0.0085],\n",
       "       [0.    ],\n",
       "       [0.    ],\n",
       "       [0.01  ],\n",
       "       [0.007 ],\n",
       "       [0.    ],\n",
       "       [0.012 ],\n",
       "       [0.    ],\n",
       "       [0.    ],\n",
       "       [0.009 ],\n",
       "       [0.    ],\n",
       "       [0.0125],\n",
       "       [0.0115],\n",
       "       [0.0105],\n",
       "       [0.01  ],\n",
       "       [0.0125],\n",
       "       [0.013 ],\n",
       "       [0.0145],\n",
       "       [0.    ],\n",
       "       [0.    ],\n",
       "       [0.    ],\n",
       "       [0.    ],\n",
       "       [0.0135],\n",
       "       [0.    ],\n",
       "       [0.0115],\n",
       "       [0.0115],\n",
       "       [0.009 ],\n",
       "       [0.    ],\n",
       "       [0.0115],\n",
       "       [0.    ],\n",
       "       [0.0095],\n",
       "       [0.011 ],\n",
       "       [0.012 ],\n",
       "       [0.    ],\n",
       "       [0.    ],\n",
       "       [0.013 ],\n",
       "       [0.    ],\n",
       "       [0.0135],\n",
       "       [0.    ],\n",
       "       [0.0125],\n",
       "       [0.    ],\n",
       "       [0.0105],\n",
       "       [0.    ],\n",
       "       [0.    ],\n",
       "       [0.0115],\n",
       "       [0.011 ],\n",
       "       [0.018 ],\n",
       "       [0.    ],\n",
       "       [0.    ],\n",
       "       [0.0105],\n",
       "       [0.013 ],\n",
       "       [0.    ],\n",
       "       [0.0135],\n",
       "       [0.    ],\n",
       "       [0.    ],\n",
       "       [0.0105],\n",
       "       [0.0135],\n",
       "       [0.0145],\n",
       "       [0.    ],\n",
       "       [0.    ],\n",
       "       [0.    ],\n",
       "       [0.    ],\n",
       "       [0.0105],\n",
       "       [0.    ],\n",
       "       [0.013 ],\n",
       "       [0.0115],\n",
       "       [0.    ],\n",
       "       [0.    ],\n",
       "       [0.0155],\n",
       "       [0.    ],\n",
       "       [0.    ],\n",
       "       [0.    ],\n",
       "       [0.0145],\n",
       "       [0.    ],\n",
       "       [0.0175],\n",
       "       [0.    ],\n",
       "       [0.013 ],\n",
       "       [0.0165],\n",
       "       [0.    ],\n",
       "       [0.0115],\n",
       "       [0.015 ],\n",
       "       [0.012 ],\n",
       "       [0.    ],\n",
       "       [0.014 ],\n",
       "       [0.0095],\n",
       "       [0.0125],\n",
       "       [0.    ],\n",
       "       [0.0105],\n",
       "       [0.    ],\n",
       "       [0.0135],\n",
       "       [0.0145],\n",
       "       [0.011 ],\n",
       "       [0.012 ],\n",
       "       [0.    ],\n",
       "       [0.    ],\n",
       "       [0.014 ],\n",
       "       [0.013 ],\n",
       "       [0.0115],\n",
       "       [0.0105],\n",
       "       [0.    ],\n",
       "       [0.    ],\n",
       "       [0.    ],\n",
       "       [0.    ],\n",
       "       [0.    ],\n",
       "       [0.0105],\n",
       "       [0.    ]])"
      ]
     },
     "execution_count": 13,
     "metadata": {},
     "output_type": "execute_result"
    }
   ],
   "source": [
    "Y"
   ]
  },
  {
   "cell_type": "code",
   "execution_count": 14,
   "metadata": {},
   "outputs": [],
   "source": [
    "Dimension = 128\n",
    "bits = 13     \n",
    "#b = HDimension = 16\n",
    "#qubits = 2\n",
    "A = X\n",
    "b = Y\n",
    "m = 6"
   ]
  },
  {
   "cell_type": "code",
   "execution_count": 15,
   "metadata": {},
   "outputs": [],
   "source": [
    "t0 = time()"
   ]
  },
  {
   "cell_type": "code",
   "execution_count": 16,
   "metadata": {},
   "outputs": [
    {
     "data": {
      "text/plain": [
       "array([[0., 0., 0., ..., 0., 0., 0.],\n",
       "       [0., 0., 0., ..., 0., 0., 0.],\n",
       "       [0., 0., 0., ..., 0., 0., 0.],\n",
       "       ...,\n",
       "       [0., 0., 0., ..., 0., 0., 0.],\n",
       "       [0., 0., 0., ..., 0., 0., 0.],\n",
       "       [0., 0., 0., ..., 0., 0., 0.]])"
      ]
     },
     "execution_count": 16,
     "metadata": {},
     "output_type": "execute_result"
    }
   ],
   "source": [
    "QM = np.zeros(((bits+1)*Dimension, (bits+1)*Dimension), dtype=np.float64)\n",
    "QM"
   ]
  },
  {
   "cell_type": "code",
   "execution_count": 17,
   "metadata": {},
   "outputs": [
    {
     "data": {
      "text/plain": [
       "(1792, 1792)"
      ]
     },
     "execution_count": 17,
     "metadata": {},
     "output_type": "execute_result"
    }
   ],
   "source": [
    "QM.shape"
   ]
  },
  {
   "cell_type": "code",
   "execution_count": 18,
   "metadata": {},
   "outputs": [],
   "source": [
    "for k in range(Dimension):\n",
    "    for i in range(Dimension):\n",
    "        for l in range(-8,5):\n",
    "            cef1 = pow(2,2*l)* pow (A[k][i],2)-pow(2,l+1)* A[k][i]*b[k]\n",
    "            po1 = 14*i + l + 8\n",
    "            QM[po1][po1] = QM[po1][po1] + cef1\n",
    "            #################################################\n",
    "            cef2 = -pow(2,(l+m+2))* pow (A[k][i],2)\n",
    "            po3 = 14*i + 1  # q_i-\n",
    "            po4 = 14*i + l + 8 #q_i,l +\n",
    "            QM[po3][po4] = QM[po3][po4] + cef2\n",
    "            \n",
    "            \n",
    "#QM #okkkkkkkkkkkkkkkkkkkkkk"
   ]
  },
  {
   "cell_type": "code",
   "execution_count": 19,
   "metadata": {},
   "outputs": [],
   "source": [
    "\n",
    "# No l loop +13?????\n",
    "\n",
    "# 2nd for loop\n",
    "for k in range(Dimension):\n",
    "    for i in range(Dimension):\n",
    "            cef1 = pow(2,(2*m+2))* pow (A[k][i],2)\n",
    "            cef2= pow(2,m+2)* A[k][i]*b[k]\n",
    "            po1 = 14*i  \n",
    "            po2 = 14*i + 1\n",
    "            QM[po2][po2] = QM[po2][po2] + cef1 #q-\n",
    "            QM[po1][po1] = QM[po1][po1] + cef2  # q+\n",
    "            \n",
    "#QM #okkkkkkkkkkkkkkkkkk"
   ]
  },
  {
   "cell_type": "code",
   "execution_count": null,
   "metadata": {},
   "outputs": [],
   "source": []
  },
  {
   "cell_type": "code",
   "execution_count": null,
   "metadata": {},
   "outputs": [],
   "source": []
  },
  {
   "cell_type": "code",
   "execution_count": 20,
   "metadata": {},
   "outputs": [],
   "source": [
    "# 3rd for loop\n",
    "@jit(nopython=True)\n",
    "\n",
    "def faster0(QM): \n",
    "    for k in range(Dimension):\n",
    "        for i in range(Dimension):\n",
    "            for l1 in range(-8,5):\n",
    "                for l2 in range(l1+1,5):\n",
    "                    qcef = pow(2, l1+l2+1)*pow(A[k][i],2)\n",
    "                    po1 = 14*i + l1 + 8\n",
    "                    po2 = 14*i + l2 + 8\n",
    "                    QM[po1][po2] = QM[po1][po2] + qcef\n",
    "    return QM\n",
    "\n",
    "QM = faster0(QM)  \n",
    "#QM\n",
    "######### okkkkkk "
   ]
  },
  {
   "cell_type": "code",
   "execution_count": null,
   "metadata": {},
   "outputs": [],
   "source": []
  },
  {
   "cell_type": "code",
   "execution_count": 21,
   "metadata": {},
   "outputs": [],
   "source": [
    "## 4th for loop\n",
    "@jit(nopython=True)\n",
    "\n",
    "def faster(QM):  \n",
    "    for k in range(Dimension):\n",
    "        for i in range(Dimension-1):\n",
    "            for j in range(i+1,Dimension):\n",
    "                for l1 in range(-8,5):\n",
    "                    for l2 in range(-8,5):\n",
    "                        qcef = pow(2, l1+l2+1) * A[k][i] * A[k][j]\n",
    "                        po1 = 14*i + l1 + 8\n",
    "                        po2 = 14*j + l2 + 8\n",
    "                        QM[po1][po2] = QM[po1][po2] + qcef\n",
    "    return QM\n",
    "\n",
    "QM = faster(QM) \n",
    "#QM\n",
    "#### okkkkkkkkkkkkkkkkkkkkk"
   ]
  },
  {
   "cell_type": "code",
   "execution_count": 22,
   "metadata": {
    "scrolled": true
   },
   "outputs": [],
   "source": [
    "###5th loop\n",
    "@jit(nopython=True)\n",
    "\n",
    "def faster1(QM): \n",
    "    for k in range(Dimension):\n",
    "        for i in range(Dimension-1):\n",
    "            for j in range(i+1,Dimension):\n",
    "                qcef = pow(2, m+3) * A[k][i]*A[k][j]\n",
    "                po1 = 14*i + 1\n",
    "                po2 = 14*j + 1\n",
    "                QM[po1][po2] = QM[po1][po2] + qcef\n",
    "\n",
    "                for l in range(-8,5):\n",
    "                    qcef1 = -pow(2, l+m+2) * A[k][i] * A[k][j]\n",
    "                    po1 = 14*i + 1  # q_i -\n",
    "                    po2 = 14*j + l + 8 # q_j,l +\n",
    "                    QM[po1][po2] = QM[po1][po2] + qcef1\n",
    "\n",
    "                    po3 = 14*i + l + 8  #q_i,l+\n",
    "                    po4 = 14*j + 1  # q_j-\n",
    "                    QM[po3][po4] = QM[po3][po4] + qcef1\n",
    "    return QM\n",
    "                \n",
    "QM = faster1(QM)\n",
    "#QM\n",
    "###okkkkkkkkkkkkk"
   ]
  },
  {
   "cell_type": "code",
   "execution_count": null,
   "metadata": {},
   "outputs": [],
   "source": []
  },
  {
   "cell_type": "code",
   "execution_count": 23,
   "metadata": {},
   "outputs": [
    {
     "data": {
      "text/plain": [
       "array([[ 5.17808254e-01,  0.00000000e+00,  0.00000000e+00, ...,\n",
       "         0.00000000e+00,  0.00000000e+00,  0.00000000e+00],\n",
       "       [-3.72525000e-03,  6.10270141e+01, -1.49010000e-02, ...,\n",
       "        -7.93600000e-01, -1.58720000e+00,  0.00000000e+00],\n",
       "       [ 0.00000000e+00,  0.00000000e+00, -6.23014526e-05, ...,\n",
       "         0.00000000e+00,  0.00000000e+00,  0.00000000e+00],\n",
       "       ...,\n",
       "       [ 0.00000000e+00,  0.00000000e+00,  0.00000000e+00, ...,\n",
       "         1.39260000e-01,  6.60992000e-01,  0.00000000e+00],\n",
       "       [ 0.00000000e+00,  0.00000000e+00,  0.00000000e+00, ...,\n",
       "         0.00000000e+00,  6.09016000e-01,  0.00000000e+00],\n",
       "       [ 0.00000000e+00,  0.00000000e+00,  0.00000000e+00, ...,\n",
       "         0.00000000e+00,  0.00000000e+00,  0.00000000e+00]])"
      ]
     },
     "execution_count": 23,
     "metadata": {},
     "output_type": "execute_result"
    }
   ],
   "source": [
    "QM"
   ]
  },
  {
   "cell_type": "code",
   "execution_count": 24,
   "metadata": {},
   "outputs": [
    {
     "data": {
      "text/plain": [
       "9.424916744232178"
      ]
     },
     "execution_count": 24,
     "metadata": {},
     "output_type": "execute_result"
    }
   ],
   "source": [
    "time_taken_qubogen=time()-t0\n",
    "time_taken_qubogen"
   ]
  },
  {
   "cell_type": "code",
   "execution_count": 25,
   "metadata": {},
   "outputs": [],
   "source": [
    "from dwave.system import LeapHybridSampler"
   ]
  },
  {
   "cell_type": "code",
   "execution_count": 26,
   "metadata": {},
   "outputs": [],
   "source": [
    "sampler = LeapHybridSampler(Profile='Max1')"
   ]
  },
  {
   "cell_type": "code",
   "execution_count": 27,
   "metadata": {},
   "outputs": [],
   "source": [
    "# %%capture captured\n",
    "# # Print Python code for the run in D-Wave quantum processing unit\n",
    "# print(\"\\n\\nfrom dwave.system import DWaveSampler, EmbeddingComposite\")\n",
    "# print(\"sampler_auto = EmbeddingComposite(DWaveSampler(solver={'qpu': True}))\\n\")\n",
    "# #from dwave.system import DWaveSampler, EmbeddingComposite\n",
    "# #sampler_auto = EmbeddingComposite(DWaveSampler(solver={'qpu': True}))\n",
    "\n",
    "# print(\"linear = {\", end = \"\")\n",
    "# for i in range((bits+1)*Dimension-1): \n",
    "#     linear = i + 1\n",
    "#     print (\"('q\",linear,\"','q\",linear,\"'):\",format(QM[i][i]),sep='', end = \", \")\n",
    "# print (\"('q\",(bits+1)*Dimension,\"','q\",(bits+1)*Dimension,\"'):\",format(QM[(bits+1)*Dimension-1][(bits+1)*Dimension-1]),\"}\", sep='')\n",
    "\n",
    "# print(\"\\nquadratic = {\", end = \"\")\n",
    "# for i in range((bits+1)*Dimension-1):\n",
    "#     for j in range(i+1,(bits+1)*Dimension):\n",
    "#         if QM[i][j] != 0:\n",
    "#             qdrt1 = i + 1\n",
    "#             qdrt2 = j + 1\n",
    "#             if i == (bits+1)*Dimension-2 and j == (bits+1)*Dimension-1:\n",
    "#                 print (\"('q\",qdrt1,\"','q\",qdrt2,\"'):\",format(QM[i][j]), \"}\", sep='')\n",
    "#             else:\n",
    "#                 print (\"('q\",qdrt1,\"','q\",qdrt2,\"'):\",format(QM[i][j]), sep ='', end = \", \")\n",
    "\n",
    "# print(\"\\nQ = dict(linear)\")\n",
    "# print(\"Q.update(quadratic)\\n\")\n",
    "\n",
    "# qa_iter = 1000\n",
    "# #print(\"sampleset = sampler_auto.sample_qubo(Q, num_reads=\",qa_iter,\")\", sep = \"\")\n",
    "# #print(\"print(sampleset)\")\n",
    "\n",
    "# #Q = dict(linear)\n",
    "# #Q.update(quadratic)\n",
    "# print(\"sampleset = sampler.sample_qubo(Q)\")\n",
    "# print(\"print(sampleset)\")\n",
    "# #sampleset = sampler_auto.sample_qubo(Q, num_reads=1000)\n",
    "# #print(sampleset)\n"
   ]
  },
  {
   "cell_type": "code",
   "execution_count": 28,
   "metadata": {},
   "outputs": [],
   "source": [
    "f = open(\"code128_16sp1%.py\", \"a\")\n",
    "# Print Python code for the run in D-Wave quantum processing unit\n",
    "print(\"\\n\\nfrom dwave.system import DWaveSampler, EmbeddingComposite\", file=f)\n",
    "print(\"#sampler_auto = EmbeddingComposite(DWaveSampler(solver={'qpu': True}))\\n\", file=f)\n",
    "print(\"linear = {\", end = \"\", file=f)\n",
    "\n",
    "for i in range((bits+1)*Dimension-1):\n",
    "    linear = i + 1\n",
    "    print (\"('q\",linear,\"','q\",linear,\"'):\",format(QM[i][i]),sep='', end = \", \", file=f)\n",
    "print (\"('q\",(bits+1)*Dimension,\"','q\",(bits+1)*Dimension,\"'):\",format(QM[((bits+1)*Dimension)-1][((bits+1)*Dimension)-1]),\"}\", sep='', file=f)\n",
    "print(\"\\nquadratic = {\", end = \"\", file=f)\n",
    "for i in range((bits+1)*Dimension-1):\n",
    "    for j in range(i+1,(bits+1)*Dimension):\n",
    "        if QM[i][j] != 0:\n",
    "            qdrt1 = i + 1\n",
    "            qdrt2 = j + 1\n",
    "            if i == (bits+1)*Dimension-2 and j == (bits+1)*Dimension-1:\n",
    "                print (\"('q\",qdrt1,\"','q\",qdrt2,\"'):\",format(QM[i][j]), \"}\", sep='', file=f)\n",
    "            else:\n",
    "                print (\"('q\",qdrt1,\"','q\",qdrt2,\"'):\",format(QM[i][j]), sep ='', end = \", \", file=f)\n",
    "print(\"\\nQ = dict(linear)\", file=f)\n",
    "print(\"Q.update(quadratic)\\n\", file=f)\n",
    "qa_iter = 1000\n",
    "print(\"sampleset = sampler.sample_qubo(Q)\", sep = \"\", file=f)\n",
    "print(\"print(sampleset)\", file=f)\n",
    "f.close()\n",
    "\n",
    "\n",
    "\n"
   ]
  },
  {
   "cell_type": "code",
   "execution_count": 31,
   "metadata": {},
   "outputs": [],
   "source": [
    "t1 = time()"
   ]
  },
  {
   "cell_type": "code",
   "execution_count": 32,
   "metadata": {},
   "outputs": [
    {
     "name": "stdout",
     "output_type": "stream",
     "text": [
      "  q1 q10 q100 q1000 q1001 q1002 q1003 q1004 ... q999        energy num_oc.\n",
      "0  0   1    1     1     1     1     1     1 ...    1 -53303.528778       1\n",
      "['BINARY', 1 rows, 1 samples, 1792 variables]\n"
     ]
    }
   ],
   "source": [
    "f = open(\"code128_16sp1%.py\", \"r\")\n",
    "exec(f.read())\n",
    "f.close()"
   ]
  },
  {
   "cell_type": "code",
   "execution_count": 33,
   "metadata": {},
   "outputs": [
    {
     "data": {
      "text/plain": [
       "63.782625675201416"
      ]
     },
     "execution_count": 33,
     "metadata": {},
     "output_type": "execute_result"
    }
   ],
   "source": [
    "time_taken_quboans=time()-t1\n",
    "time_taken_quboans"
   ]
  },
  {
   "cell_type": "code",
   "execution_count": null,
   "metadata": {},
   "outputs": [],
   "source": [
    "#str=captured.stdout"
   ]
  },
  {
   "cell_type": "code",
   "execution_count": null,
   "metadata": {},
   "outputs": [],
   "source": [
    "#exec(str)"
   ]
  },
  {
   "cell_type": "markdown",
   "metadata": {},
   "source": [
    "## Sample code for testing the zip method"
   ]
  },
  {
   "cell_type": "code",
   "execution_count": 46,
   "metadata": {},
   "outputs": [
    {
     "name": "stdout",
     "output_type": "stream",
     "text": [
      "[1, 1, 1, 0, 0, 1, 0, 1, 1]\n"
     ]
    }
   ],
   "source": [
    "hi_1 = [ 1, 0 , 1 , 1 , 1 , 1, 0 , 0, 1 ]\n",
    "hello_1 =[1,5,  3,  6,  9,  2, 4, 7,   8]\n",
    "\n",
    "hi_1_sorted = [x for _,x in sorted(zip(hello_1,hi_1))]\n",
    "print(hi_1_sorted)     # 1,2,3,4,5,6,7,8,9 <-> 1,1,1,0,0,1,0,1,1"
   ]
  },
  {
   "cell_type": "markdown",
   "metadata": {},
   "source": [
    "# Sorting record array with respect to variables array."
   ]
  },
  {
   "cell_type": "code",
   "execution_count": 41,
   "metadata": {},
   "outputs": [
    {
     "data": {
      "text/plain": [
       "rec.array([([0, 1, 1, 1, 1, 1, 1, 1, 1, 1, 1, 0, 0, 1, 1, 1, 1, 1, 1, 1, 1, 1, 1, 1, 1, 1, 1, 1, 0, 1, 1, 1, 1, 1, 1, 1, 1, 1, 1, 1, 1, 1, 0, 0, 1, 1, 1, 1, 1, 1, 1, 1, 1, 1, 1, 1, 1, 1, 1, 0, 1, 1, 1, 1, 1, 1, 1, 1, 1, 1, 1, 1, 1, 0, 0, 1, 1, 1, 1, 1, 1, 1, 1, 1, 1, 1, 1, 1, 0, 0, 1, 1, 1, 1, 1, 1, 1, 1, 1, 1, 1, 1, 1, 1, 1, 0, 1, 1, 1, 1, 1, 1, 1, 1, 1, 1, 1, 1, 1, 1, 0, 0, 1, 1, 1, 1, 1, 1, 1, 1, 1, 1, 1, 1, 1, 1, 1, 0, 1, 1, 1, 1, 1, 1, 1, 1, 0, 1, 1, 1, 1, 1, 0, 1, 1, 1, 1, 1, 1, 1, 1, 1, 1, 1, 1, 1, 1, 0, 1, 1, 1, 1, 1, 1, 1, 1, 1, 1, 1, 1, 1, 1, 0, 0, 1, 1, 1, 1, 1, 1, 1, 1, 1, 1, 1, 1, 1, 1, 0, 1, 1, 1, 1, 1, 1, 1, 1, 1, 1, 1, 1, 1, 1, 1, 0, 1, 1, 1, 1, 1, 1, 1, 1, 1, 1, 1, 1, 1, 1, 0, 0, 1, 1, 1, 1, 1, 1, 1, 1, 1, 1, 1, 1, 1, 0, 0, 1, 1, 1, 1, 1, 1, 1, 1, 1, 1, 1, 1, 1, 1, 0, 0, 1, 1, 1, 1, 1, 1, 1, 1, 1, 1, 1, 1, 1, 1, 0, 1, 1, 1, 1, 1, 1, 1, 1, 1, 1, 1, 1, 1, 0, 0, 0, 1, 1, 1, 1, 1, 1, 1, 1, 0, 1, 1, 1, 1, 0, 0, 1, 1, 1, 1, 1, 1, 1, 1, 1, 1, 1, 1, 1, 1, 0, 1, 1, 1, 1, 1, 1, 1, 1, 1, 1, 1, 1, 1, 1, 1, 0, 0, 1, 1, 1, 1, 1, 1, 1, 1, 1, 1, 1, 1, 1, 0, 0, 1, 1, 1, 1, 1, 1, 1, 1, 1, 1, 1, 1, 1, 1, 1, 0, 1, 1, 1, 1, 1, 1, 1, 1, 1, 1, 1, 1, 1, 1, 0, 1, 1, 1, 1, 1, 1, 1, 1, 1, 1, 1, 1, 1, 0, 0, 1, 1, 1, 1, 1, 1, 1, 1, 1, 1, 1, 1, 1, 1, 1, 0, 1, 1, 1, 1, 1, 1, 1, 1, 1, 1, 1, 1, 1, 1, 0, 1, 1, 1, 1, 1, 1, 1, 1, 1, 1, 1, 1, 1, 1, 0, 0, 0, 1, 1, 1, 1, 1, 1, 1, 1, 0, 1, 1, 1, 1, 0, 0, 1, 1, 1, 1, 1, 1, 1, 1, 1, 1, 1, 1, 1, 1, 0, 1, 1, 1, 1, 1, 1, 1, 1, 1, 1, 1, 1, 1, 1, 0, 0, 1, 1, 1, 1, 1, 1, 1, 1, 1, 1, 1, 1, 1, 1, 0, 1, 1, 1, 1, 1, 1, 1, 1, 1, 1, 1, 1, 1, 1, 0, 0, 1, 1, 1, 1, 1, 1, 1, 1, 1, 1, 1, 1, 1, 0, 0, 1, 1, 1, 1, 1, 1, 1, 1, 1, 1, 1, 1, 1, 1, 0, 0, 1, 1, 1, 1, 1, 1, 1, 1, 1, 1, 1, 1, 1, 1, 0, 0, 1, 1, 1, 1, 1, 1, 1, 1, 1, 1, 1, 1, 1, 0, 0, 1, 1, 1, 1, 1, 1, 1, 1, 1, 1, 1, 1, 1, 0, 0, 0, 1, 1, 1, 1, 1, 1, 1, 1, 0, 1, 1, 1, 1, 0, 0, 1, 1, 1, 1, 1, 1, 1, 1, 1, 1, 1, 1, 1, 0, 0, 1, 1, 1, 1, 1, 1, 1, 1, 1, 1, 1, 1, 1, 1, 1, 0, 1, 1, 1, 1, 1, 1, 1, 1, 1, 1, 1, 1, 1, 0, 0, 1, 1, 1, 1, 1, 1, 1, 1, 1, 1, 1, 1, 1, 1, 1, 0, 0, 1, 1, 1, 1, 1, 1, 1, 1, 1, 1, 1, 1, 1, 0, 0, 1, 1, 1, 1, 1, 1, 1, 1, 1, 1, 1, 1, 1, 0, 0, 1, 1, 1, 1, 1, 1, 1, 1, 1, 1, 1, 1, 1, 1, 1, 0, 1, 1, 1, 1, 1, 1, 1, 1, 1, 1, 1, 1, 1, 1, 0, 1, 1, 1, 1, 1, 1, 1, 1, 1, 1, 1, 1, 1, 1, 1, 0, 1, 1, 1, 1, 1, 1, 1, 1, 0, 1, 1, 1, 1, 1, 0, 1, 1, 1, 1, 1, 1, 1, 1, 1, 1, 1, 1, 1, 1, 0, 0, 1, 1, 1, 1, 1, 1, 1, 1, 1, 1, 1, 1, 1, 1, 1, 0, 1, 1, 1, 1, 1, 1, 1, 1, 1, 1, 1, 1, 1, 0, 0, 1, 1, 1, 1, 1, 1, 1, 1, 1, 1, 1, 1, 1, 1, 0, 0, 1, 1, 1, 1, 1, 1, 1, 1, 1, 1, 1, 1, 1, 0, 0, 1, 1, 1, 1, 1, 1, 1, 1, 1, 1, 1, 1, 1, 0, 0, 1, 1, 1, 1, 1, 1, 1, 1, 1, 1, 1, 1, 1, 1, 0, 1, 1, 1, 1, 0, 1, 1, 1, 1, 1, 1, 1, 1, 1, 1, 1, 1, 1, 1, 0, 1, 1, 1, 1, 1, 1, 1, 1, 1, 1, 1, 1, 1, 1, 1, 0, 0, 1, 1, 1, 1, 1, 1, 1, 1, 1, 1, 1, 1, 1, 0, 0, 1, 1, 1, 1, 1, 1, 1, 1, 1, 1, 1, 1, 1, 1, 0, 1, 1, 1, 1, 1, 1, 1, 1, 1, 1, 1, 1, 1, 1, 1, 0, 1, 1, 1, 1, 1, 1, 1, 1, 1, 1, 1, 1, 1, 1, 0, 1, 1, 1, 1, 1, 1, 1, 1, 1, 1, 1, 1, 1, 0, 1, 0, 1, 1, 1, 1, 1, 1, 1, 1, 0, 1, 1, 1, 1, 1, 0, 1, 1, 1, 1, 1, 1, 1, 1, 1, 1, 1, 1, 1, 1, 1, 0, 1, 1, 1, 1, 1, 1, 1, 1, 1, 1, 1, 1, 1, 1, 0, 0, 1, 1, 1, 1, 1, 1, 1, 1, 1, 1, 1, 1, 1, 1, 0, 1, 1, 1, 1, 1, 1, 1, 1, 1, 1, 1, 1, 1, 1, 1, 0, 1, 1, 1, 1, 1, 1, 1, 1, 1, 1, 1, 1, 1, 1, 0, 1, 1, 1, 1, 1, 1, 1, 1, 1, 1, 1, 1, 1, 0, 0, 1, 1, 1, 1, 1, 1, 1, 1, 1, 1, 1, 1, 1, 1, 0, 0, 1, 1, 1, 1, 1, 1, 1, 1, 1, 1, 1, 1, 1, 1, 0, 0, 1, 1, 1, 1, 1, 1, 1, 1, 1, 1, 1, 1, 1, 0, 0, 0, 1, 1, 1, 1, 1, 1, 1, 1, 0, 1, 1, 1, 1, 1, 0, 1, 1, 1, 1, 1, 1, 1, 1, 1, 1, 1, 1, 1, 0, 0, 1, 1, 1, 1, 1, 1, 1, 1, 1, 1, 1, 1, 1, 1, 0, 0, 1, 1, 1, 1, 1, 1, 1, 1, 1, 1, 1, 1, 1, 1, 0, 1, 1, 1, 1, 1, 1, 1, 1, 1, 1, 1, 1, 1, 1, 0, 0, 1, 1, 1, 1, 1, 1, 1, 1, 1, 1, 1, 1, 1, 1, 1, 1, 1, 1, 1, 1, 1, 1, 1, 1, 1, 1, 1, 1, 1, 0, 0, 1, 1, 1, 1, 1, 1, 1, 1, 1, 1, 1, 1, 1, 1, 0, 0, 1, 1, 1, 1, 1, 1, 1, 1, 1, 1, 1, 1, 1, 0, 0, 1, 1, 1, 1, 1, 1, 1, 1, 1, 1, 1, 1, 1, 1, 0, 0, 1, 1, 1, 1, 1, 1, 1, 1, 0, 1, 1, 1, 1, 0, 0, 1, 1, 1, 1, 1, 1, 1, 1, 1, 1, 1, 1, 1, 0, 0, 1, 1, 1, 1, 1, 1, 1, 1, 1, 1, 1, 1, 1, 1, 1, 0, 0, 1, 1, 1, 1, 1, 1, 1, 1, 1, 1, 1, 1, 1, 1, 0, 1, 1, 1, 1, 1, 1, 1, 1, 1, 1, 1, 1, 1, 1, 0, 0, 1, 1, 1, 1, 1, 1, 1, 1, 1, 1, 1, 1, 1, 1, 0, 1, 1, 1, 1, 1, 1, 1, 1, 1, 1, 1, 1, 1, 1, 0, 1, 1, 1, 1, 1, 1, 1, 1, 1, 1, 1, 1, 1, 1, 0, 0, 1, 1, 1, 1, 1, 1, 1, 1, 1, 1, 1, 1, 1, 0, 0, 1, 1, 1, 1, 1, 1, 1, 1, 1, 1, 1, 1, 1, 1, 0, 1, 0, 1, 1, 1, 1, 1, 1, 1, 1, 0, 1, 1, 1, 1, 0, 0, 1, 1, 1, 1, 1, 1, 1, 1, 1, 1, 1, 1, 1, 1, 0, 1, 1, 1, 1, 1, 1, 1, 1, 1, 1, 1, 1, 1, 1, 0, 0, 1, 1, 1, 1, 1, 1, 1, 1, 1, 1, 1, 1, 1, 0, 0, 1, 1, 1, 1, 1, 1, 1, 1, 1, 1, 1, 1, 1, 1, 0, 0, 1, 1, 1, 1, 1, 1, 1, 1, 1, 1, 1, 1, 1, 1, 0, 1, 1, 1, 1, 1, 1, 1, 1, 1, 1, 1, 1, 1, 0, 0, 1, 1, 1, 1, 1, 1, 1, 1, 1, 1, 1, 1, 1, 1, 1, 0, 0, 1, 1, 1, 1, 1, 1, 1, 1, 1, 1, 1, 1, 1, 1, 0, 1, 1, 1, 1, 1, 1, 1, 1, 1, 1, 1, 1, 1, 0, 1, 0, 1, 1, 1, 1, 1, 1, 1, 1, 0, 1, 1, 1, 1, 0, 0, 1, 1, 1, 1, 1, 1, 1, 1, 1, 1, 1, 1, 1, 0, 0, 1, 1, 1, 1, 1, 1, 1, 1, 1, 1, 1, 1, 1, 1, 0, 0, 1, 1, 1, 1, 1, 1, 1, 1, 1, 1, 1, 1, 1, 1, 0, 1, 1, 1, 1, 1, 1, 1, 1, 1, 1, 1, 1, 1, 1, 1, 1, 0, 1, 1, 1, 1, 1, 1, 1, 1, 1, 1, 1, 1, 1, 1, 0, 1, 1, 1, 1, 1, 1, 1, 1, 1, 1, 1, 1, 1, 0, 0, 1, 1, 1, 1, 1, 1, 1, 1, 1, 1, 1, 1, 1, 1, 0, 0, 1, 1, 1, 1, 1, 1, 1, 1, 1, 1, 1, 1, 1, 1, 0, 1, 1, 1, 1, 1, 1, 1, 1, 1, 1, 1, 1, 1, 1, 1, 0, 1, 1, 1, 1, 1, 1, 1, 1, 0, 1, 1, 1, 1, 0, 0, 1, 1, 1, 1], -53303.52877831, 1)],\n",
       "          dtype=[('sample', '<i4', (1792,)), ('energy', '<f8'), ('num_occurrences', '<i8')])"
      ]
     },
     "execution_count": 41,
     "metadata": {},
     "output_type": "execute_result"
    }
   ],
   "source": [
    "#qubit_values\n",
    "sampleset.record"
   ]
  },
  {
   "cell_type": "code",
   "execution_count": 42,
   "metadata": {},
   "outputs": [
    {
     "data": {
      "text/plain": [
       "Variables(['q1', 'q10', 'q100', 'q1000', 'q1001', 'q1002', 'q1003', 'q1004', 'q1005', 'q1006', 'q1007', 'q1008', 'q1009', 'q101', 'q1010', 'q1011', 'q1012', 'q1013', 'q1014', 'q1015', 'q1016', 'q1017', 'q1018', 'q1019', 'q102', 'q1020', 'q1021', 'q1022', 'q1023', 'q1024', 'q1025', 'q1026', 'q1027', 'q1028', 'q1029', 'q103', 'q1030', 'q1031', 'q1032', 'q1033', 'q1034', 'q1035', 'q1036', 'q1037', 'q1038', 'q1039', 'q104', 'q1040', 'q1041', 'q1042', 'q1043', 'q1044', 'q1045', 'q1046', 'q1047', 'q1048', 'q1049', 'q105', 'q1050', 'q1051', 'q1052', 'q1053', 'q1054', 'q1055', 'q1056', 'q1057', 'q1058', 'q1059', 'q106', 'q1060', 'q1061', 'q1062', 'q1063', 'q1064', 'q1065', 'q1066', 'q1067', 'q1068', 'q1069', 'q107', 'q1070', 'q1071', 'q1072', 'q1073', 'q1074', 'q1075', 'q1076', 'q1077', 'q1078', 'q1079', 'q108', 'q1080', 'q1081', 'q1082', 'q1083', 'q1084', 'q1085', 'q1086', 'q1087', 'q1088', 'q1089', 'q109', 'q1090', 'q1091', 'q1092', 'q1093', 'q1094', 'q1095', 'q1096', 'q1097', 'q1098', 'q1099', 'q11', 'q110', 'q1100', 'q1101', 'q1102', 'q1103', 'q1104', 'q1105', 'q1106', 'q1107', 'q1108', 'q1109', 'q111', 'q1110', 'q1111', 'q1112', 'q1113', 'q1114', 'q1115', 'q1116', 'q1117', 'q1118', 'q1119', 'q112', 'q1120', 'q1121', 'q1122', 'q1123', 'q1124', 'q1125', 'q1126', 'q1127', 'q1128', 'q1129', 'q113', 'q1130', 'q1131', 'q1132', 'q1133', 'q1134', 'q1135', 'q1136', 'q1137', 'q1138', 'q1139', 'q114', 'q1140', 'q1141', 'q1142', 'q1143', 'q1144', 'q1145', 'q1146', 'q1147', 'q1148', 'q1149', 'q115', 'q1150', 'q1151', 'q1152', 'q1153', 'q1154', 'q1155', 'q1156', 'q1157', 'q1158', 'q1159', 'q116', 'q1160', 'q1161', 'q1162', 'q1163', 'q1164', 'q1165', 'q1166', 'q1167', 'q1168', 'q1169', 'q117', 'q1170', 'q1171', 'q1172', 'q1173', 'q1174', 'q1175', 'q1176', 'q1177', 'q1178', 'q1179', 'q118', 'q1180', 'q1181', 'q1182', 'q1183', 'q1184', 'q1185', 'q1186', 'q1187', 'q1188', 'q1189', 'q119', 'q1190', 'q1191', 'q1192', 'q1193', 'q1194', 'q1195', 'q1196', 'q1197', 'q1198', 'q1199', 'q12', 'q120', 'q1200', 'q1201', 'q1202', 'q1203', 'q1204', 'q1205', 'q1206', 'q1207', 'q1208', 'q1209', 'q121', 'q1210', 'q1211', 'q1212', 'q1213', 'q1214', 'q1215', 'q1216', 'q1217', 'q1218', 'q1219', 'q122', 'q1220', 'q1221', 'q1222', 'q1223', 'q1224', 'q1225', 'q1226', 'q1227', 'q1228', 'q1229', 'q123', 'q1230', 'q1231', 'q1232', 'q1233', 'q1234', 'q1235', 'q1236', 'q1237', 'q1238', 'q1239', 'q124', 'q1240', 'q1241', 'q1242', 'q1243', 'q1244', 'q1245', 'q1246', 'q1247', 'q1248', 'q1249', 'q125', 'q1250', 'q1251', 'q1252', 'q1253', 'q1254', 'q1255', 'q1256', 'q1257', 'q1258', 'q1259', 'q126', 'q1260', 'q1261', 'q1262', 'q1263', 'q1264', 'q1265', 'q1266', 'q1267', 'q1268', 'q1269', 'q127', 'q1270', 'q1271', 'q1272', 'q1273', 'q1274', 'q1275', 'q1276', 'q1277', 'q1278', 'q1279', 'q128', 'q1280', 'q1281', 'q1282', 'q1283', 'q1284', 'q1285', 'q1286', 'q1287', 'q1288', 'q1289', 'q129', 'q1290', 'q1291', 'q1292', 'q1293', 'q1294', 'q1295', 'q1296', 'q1297', 'q1298', 'q1299', 'q13', 'q130', 'q1300', 'q1301', 'q1302', 'q1303', 'q1304', 'q1305', 'q1306', 'q1307', 'q1308', 'q1309', 'q131', 'q1310', 'q1311', 'q1312', 'q1313', 'q1314', 'q1315', 'q1316', 'q1317', 'q1318', 'q1319', 'q132', 'q1320', 'q1321', 'q1322', 'q1323', 'q1324', 'q1325', 'q1326', 'q1327', 'q1328', 'q1329', 'q133', 'q1330', 'q1331', 'q1332', 'q1333', 'q1334', 'q1335', 'q1336', 'q1337', 'q1338', 'q1339', 'q134', 'q1340', 'q1341', 'q1342', 'q1343', 'q1344', 'q1345', 'q1346', 'q1347', 'q1348', 'q1349', 'q135', 'q1350', 'q1351', 'q1352', 'q1353', 'q1354', 'q1355', 'q1356', 'q1357', 'q1358', 'q1359', 'q136', 'q1360', 'q1361', 'q1362', 'q1363', 'q1364', 'q1365', 'q1366', 'q1367', 'q1368', 'q1369', 'q137', 'q1370', 'q1371', 'q1372', 'q1373', 'q1374', 'q1375', 'q1376', 'q1377', 'q1378', 'q1379', 'q138', 'q1380', 'q1381', 'q1382', 'q1383', 'q1384', 'q1385', 'q1386', 'q1387', 'q1388', 'q1389', 'q139', 'q1390', 'q1391', 'q1392', 'q1393', 'q1394', 'q1395', 'q1396', 'q1397', 'q1398', 'q1399', 'q14', 'q140', 'q1400', 'q1401', 'q1402', 'q1403', 'q1404', 'q1405', 'q1406', 'q1407', 'q1408', 'q1409', 'q141', 'q1410', 'q1411', 'q1412', 'q1413', 'q1414', 'q1415', 'q1416', 'q1417', 'q1418', 'q1419', 'q142', 'q1420', 'q1421', 'q1422', 'q1423', 'q1424', 'q1425', 'q1426', 'q1427', 'q1428', 'q1429', 'q143', 'q1430', 'q1431', 'q1432', 'q1433', 'q1434', 'q1435', 'q1436', 'q1437', 'q1438', 'q1439', 'q144', 'q1440', 'q1441', 'q1442', 'q1443', 'q1444', 'q1445', 'q1446', 'q1447', 'q1448', 'q1449', 'q145', 'q1450', 'q1451', 'q1452', 'q1453', 'q1454', 'q1455', 'q1456', 'q1457', 'q1458', 'q1459', 'q146', 'q1460', 'q1461', 'q1462', 'q1463', 'q1464', 'q1465', 'q1466', 'q1467', 'q1468', 'q1469', 'q147', 'q1470', 'q1471', 'q1472', 'q1473', 'q1474', 'q1475', 'q1476', 'q1477', 'q1478', 'q1479', 'q148', 'q1480', 'q1481', 'q1482', 'q1483', 'q1484', 'q1485', 'q1486', 'q1487', 'q1488', 'q1489', 'q149', 'q1490', 'q1491', 'q1492', 'q1493', 'q1494', 'q1495', 'q1496', 'q1497', 'q1498', 'q1499', 'q15', 'q150', 'q1500', 'q1501', 'q1502', 'q1503', 'q1504', 'q1505', 'q1506', 'q1507', 'q1508', 'q1509', 'q151', 'q1510', 'q1511', 'q1512', 'q1513', 'q1514', 'q1515', 'q1516', 'q1517', 'q1518', 'q1519', 'q152', 'q1520', 'q1521', 'q1522', 'q1523', 'q1524', 'q1525', 'q1526', 'q1527', 'q1528', 'q1529', 'q153', 'q1530', 'q1531', 'q1532', 'q1533', 'q1534', 'q1535', 'q1536', 'q1537', 'q1538', 'q1539', 'q154', 'q1540', 'q1541', 'q1542', 'q1543', 'q1544', 'q1545', 'q1546', 'q1547', 'q1548', 'q1549', 'q155', 'q1550', 'q1551', 'q1552', 'q1553', 'q1554', 'q1555', 'q1556', 'q1557', 'q1558', 'q1559', 'q156', 'q1560', 'q1561', 'q1562', 'q1563', 'q1564', 'q1565', 'q1566', 'q1567', 'q1568', 'q1569', 'q157', 'q1570', 'q1571', 'q1572', 'q1573', 'q1574', 'q1575', 'q1576', 'q1577', 'q1578', 'q1579', 'q158', 'q1580', 'q1581', 'q1582', 'q1583', 'q1584', 'q1585', 'q1586', 'q1587', 'q1588', 'q1589', 'q159', 'q1590', 'q1591', 'q1592', 'q1593', 'q1594', 'q1595', 'q1596', 'q1597', 'q1598', 'q1599', 'q16', 'q160', 'q1600', 'q1601', 'q1602', 'q1603', 'q1604', 'q1605', 'q1606', 'q1607', 'q1608', 'q1609', 'q161', 'q1610', 'q1611', 'q1612', 'q1613', 'q1614', 'q1615', 'q1616', 'q1617', 'q1618', 'q1619', 'q162', 'q1620', 'q1621', 'q1622', 'q1623', 'q1624', 'q1625', 'q1626', 'q1627', 'q1628', 'q1629', 'q163', 'q1630', 'q1631', 'q1632', 'q1633', 'q1634', 'q1635', 'q1636', 'q1637', 'q1638', 'q1639', 'q164', 'q1640', 'q1641', 'q1642', 'q1643', 'q1644', 'q1645', 'q1646', 'q1647', 'q1648', 'q1649', 'q165', 'q1650', 'q1651', 'q1652', 'q1653', 'q1654', 'q1655', 'q1656', 'q1657', 'q1658', 'q1659', 'q166', 'q1660', 'q1661', 'q1662', 'q1663', 'q1664', 'q1665', 'q1666', 'q1667', 'q1668', 'q1669', 'q167', 'q1670', 'q1671', 'q1672', 'q1673', 'q1674', 'q1675', 'q1676', 'q1677', 'q1678', 'q1679', 'q168', 'q1680', 'q1681', 'q1682', 'q1683', 'q1684', 'q1685', 'q1686', 'q1687', 'q1688', 'q1689', 'q169', 'q1690', 'q1691', 'q1692', 'q1693', 'q1694', 'q1695', 'q1696', 'q1697', 'q1698', 'q1699', 'q17', 'q170', 'q1700', 'q1701', 'q1702', 'q1703', 'q1704', 'q1705', 'q1706', 'q1707', 'q1708', 'q1709', 'q171', 'q1710', 'q1711', 'q1712', 'q1713', 'q1714', 'q1715', 'q1716', 'q1717', 'q1718', 'q1719', 'q172', 'q1720', 'q1721', 'q1722', 'q1723', 'q1724', 'q1725', 'q1726', 'q1727', 'q1728', 'q1729', 'q173', 'q1730', 'q1731', 'q1732', 'q1733', 'q1734', 'q1735', 'q1736', 'q1737', 'q1738', 'q1739', 'q174', 'q1740', 'q1741', 'q1742', 'q1743', 'q1744', 'q1745', 'q1746', 'q1747', 'q1748', 'q1749', 'q175', 'q1750', 'q1751', 'q1752', 'q1753', 'q1754', 'q1755', 'q1756', 'q1757', 'q1758', 'q1759', 'q176', 'q1760', 'q1761', 'q1762', 'q1763', 'q1764', 'q1765', 'q1766', 'q1767', 'q1768', 'q1769', 'q177', 'q1770', 'q1771', 'q1772', 'q1773', 'q1774', 'q1775', 'q1776', 'q1777', 'q1778', 'q1779', 'q178', 'q1780', 'q1781', 'q1782', 'q1783', 'q1784', 'q1785', 'q1786', 'q1787', 'q1788', 'q1789', 'q179', 'q1790', 'q1791', 'q1792', 'q18', 'q180', 'q181', 'q182', 'q183', 'q184', 'q185', 'q186', 'q187', 'q188', 'q189', 'q19', 'q190', 'q191', 'q192', 'q193', 'q194', 'q195', 'q196', 'q197', 'q198', 'q199', 'q2', 'q20', 'q200', 'q201', 'q202', 'q203', 'q204', 'q205', 'q206', 'q207', 'q208', 'q209', 'q21', 'q210', 'q211', 'q212', 'q213', 'q214', 'q215', 'q216', 'q217', 'q218', 'q219', 'q22', 'q220', 'q221', 'q222', 'q223', 'q224', 'q225', 'q226', 'q227', 'q228', 'q229', 'q23', 'q230', 'q231', 'q232', 'q233', 'q234', 'q235', 'q236', 'q237', 'q238', 'q239', 'q24', 'q240', 'q241', 'q242', 'q243', 'q244', 'q245', 'q246', 'q247', 'q248', 'q249', 'q25', 'q250', 'q251', 'q252', 'q253', 'q254', 'q255', 'q256', 'q257', 'q258', 'q259', 'q26', 'q260', 'q261', 'q262', 'q263', 'q264', 'q265', 'q266', 'q267', 'q268', 'q269', 'q27', 'q270', 'q271', 'q272', 'q273', 'q274', 'q275', 'q276', 'q277', 'q278', 'q279', 'q28', 'q280', 'q281', 'q282', 'q283', 'q284', 'q285', 'q286', 'q287', 'q288', 'q289', 'q29', 'q290', 'q291', 'q292', 'q293', 'q294', 'q295', 'q296', 'q297', 'q298', 'q299', 'q3', 'q30', 'q300', 'q301', 'q302', 'q303', 'q304', 'q305', 'q306', 'q307', 'q308', 'q309', 'q31', 'q310', 'q311', 'q312', 'q313', 'q314', 'q315', 'q316', 'q317', 'q318', 'q319', 'q32', 'q320', 'q321', 'q322', 'q323', 'q324', 'q325', 'q326', 'q327', 'q328', 'q329', 'q33', 'q330', 'q331', 'q332', 'q333', 'q334', 'q335', 'q336', 'q337', 'q338', 'q339', 'q34', 'q340', 'q341', 'q342', 'q343', 'q344', 'q345', 'q346', 'q347', 'q348', 'q349', 'q35', 'q350', 'q351', 'q352', 'q353', 'q354', 'q355', 'q356', 'q357', 'q358', 'q359', 'q36', 'q360', 'q361', 'q362', 'q363', 'q364', 'q365', 'q366', 'q367', 'q368', 'q369', 'q37', 'q370', 'q371', 'q372', 'q373', 'q374', 'q375', 'q376', 'q377', 'q378', 'q379', 'q38', 'q380', 'q381', 'q382', 'q383', 'q384', 'q385', 'q386', 'q387', 'q388', 'q389', 'q39', 'q390', 'q391', 'q392', 'q393', 'q394', 'q395', 'q396', 'q397', 'q398', 'q399', 'q4', 'q40', 'q400', 'q401', 'q402', 'q403', 'q404', 'q405', 'q406', 'q407', 'q408', 'q409', 'q41', 'q410', 'q411', 'q412', 'q413', 'q414', 'q415', 'q416', 'q417', 'q418', 'q419', 'q42', 'q420', 'q421', 'q422', 'q423', 'q424', 'q425', 'q426', 'q427', 'q428', 'q429', 'q43', 'q430', 'q431', 'q432', 'q433', 'q434', 'q435', 'q436', 'q437', 'q438', 'q439', 'q44', 'q440', 'q441', 'q442', 'q443', 'q444', 'q445', 'q446', 'q447', 'q448', 'q449', 'q45', 'q450', 'q451', 'q452', 'q453', 'q454', 'q455', 'q456', 'q457', 'q458', 'q459', 'q46', 'q460', 'q461', 'q462', 'q463', 'q464', 'q465', 'q466', 'q467', 'q468', 'q469', 'q47', 'q470', 'q471', 'q472', 'q473', 'q474', 'q475', 'q476', 'q477', 'q478', 'q479', 'q48', 'q480', 'q481', 'q482', 'q483', 'q484', 'q485', 'q486', 'q487', 'q488', 'q489', 'q49', 'q490', 'q491', 'q492', 'q493', 'q494', 'q495', 'q496', 'q497', 'q498', 'q499', 'q5', 'q50', 'q500', 'q501', 'q502', 'q503', 'q504', 'q505', 'q506', 'q507', 'q508', 'q509', 'q51', 'q510', 'q511', 'q512', 'q513', 'q514', 'q515', 'q516', 'q517', 'q518', 'q519', 'q52', 'q520', 'q521', 'q522', 'q523', 'q524', 'q525', 'q526', 'q527', 'q528', 'q529', 'q53', 'q530', 'q531', 'q532', 'q533', 'q534', 'q535', 'q536', 'q537', 'q538', 'q539', 'q54', 'q540', 'q541', 'q542', 'q543', 'q544', 'q545', 'q546', 'q547', 'q548', 'q549', 'q55', 'q550', 'q551', 'q552', 'q553', 'q554', 'q555', 'q556', 'q557', 'q558', 'q559', 'q56', 'q560', 'q561', 'q562', 'q563', 'q564', 'q565', 'q566', 'q567', 'q568', 'q569', 'q57', 'q570', 'q571', 'q572', 'q573', 'q574', 'q575', 'q576', 'q577', 'q578', 'q579', 'q58', 'q580', 'q581', 'q582', 'q583', 'q584', 'q585', 'q586', 'q587', 'q588', 'q589', 'q59', 'q590', 'q591', 'q592', 'q593', 'q594', 'q595', 'q596', 'q597', 'q598', 'q599', 'q6', 'q60', 'q600', 'q601', 'q602', 'q603', 'q604', 'q605', 'q606', 'q607', 'q608', 'q609', 'q61', 'q610', 'q611', 'q612', 'q613', 'q614', 'q615', 'q616', 'q617', 'q618', 'q619', 'q62', 'q620', 'q621', 'q622', 'q623', 'q624', 'q625', 'q626', 'q627', 'q628', 'q629', 'q63', 'q630', 'q631', 'q632', 'q633', 'q634', 'q635', 'q636', 'q637', 'q638', 'q639', 'q64', 'q640', 'q641', 'q642', 'q643', 'q644', 'q645', 'q646', 'q647', 'q648', 'q649', 'q65', 'q650', 'q651', 'q652', 'q653', 'q654', 'q655', 'q656', 'q657', 'q658', 'q659', 'q66', 'q660', 'q661', 'q662', 'q663', 'q664', 'q665', 'q666', 'q667', 'q668', 'q669', 'q67', 'q670', 'q671', 'q672', 'q673', 'q674', 'q675', 'q676', 'q677', 'q678', 'q679', 'q68', 'q680', 'q681', 'q682', 'q683', 'q684', 'q685', 'q686', 'q687', 'q688', 'q689', 'q69', 'q690', 'q691', 'q692', 'q693', 'q694', 'q695', 'q696', 'q697', 'q698', 'q699', 'q7', 'q70', 'q700', 'q701', 'q702', 'q703', 'q704', 'q705', 'q706', 'q707', 'q708', 'q709', 'q71', 'q710', 'q711', 'q712', 'q713', 'q714', 'q715', 'q716', 'q717', 'q718', 'q719', 'q72', 'q720', 'q721', 'q722', 'q723', 'q724', 'q725', 'q726', 'q727', 'q728', 'q729', 'q73', 'q730', 'q731', 'q732', 'q733', 'q734', 'q735', 'q736', 'q737', 'q738', 'q739', 'q74', 'q740', 'q741', 'q742', 'q743', 'q744', 'q745', 'q746', 'q747', 'q748', 'q749', 'q75', 'q750', 'q751', 'q752', 'q753', 'q754', 'q755', 'q756', 'q757', 'q758', 'q759', 'q76', 'q760', 'q761', 'q762', 'q763', 'q764', 'q765', 'q766', 'q767', 'q768', 'q769', 'q77', 'q770', 'q771', 'q772', 'q773', 'q774', 'q775', 'q776', 'q777', 'q778', 'q779', 'q78', 'q780', 'q781', 'q782', 'q783', 'q784', 'q785', 'q786', 'q787', 'q788', 'q789', 'q79', 'q790', 'q791', 'q792', 'q793', 'q794', 'q795', 'q796', 'q797', 'q798', 'q799', 'q8', 'q80', 'q800', 'q801', 'q802', 'q803', 'q804', 'q805', 'q806', 'q807', 'q808', 'q809', 'q81', 'q810', 'q811', 'q812', 'q813', 'q814', 'q815', 'q816', 'q817', 'q818', 'q819', 'q82', 'q820', 'q821', 'q822', 'q823', 'q824', 'q825', 'q826', 'q827', 'q828', 'q829', 'q83', 'q830', 'q831', 'q832', 'q833', 'q834', 'q835', 'q836', 'q837', 'q838', 'q839', 'q84', 'q840', 'q841', 'q842', 'q843', 'q844', 'q845', 'q846', 'q847', 'q848', 'q849', 'q85', 'q850', 'q851', 'q852', 'q853', 'q854', 'q855', 'q856', 'q857', 'q858', 'q859', 'q86', 'q860', 'q861', 'q862', 'q863', 'q864', 'q865', 'q866', 'q867', 'q868', 'q869', 'q87', 'q870', 'q871', 'q872', 'q873', 'q874', 'q875', 'q876', 'q877', 'q878', 'q879', 'q88', 'q880', 'q881', 'q882', 'q883', 'q884', 'q885', 'q886', 'q887', 'q888', 'q889', 'q89', 'q890', 'q891', 'q892', 'q893', 'q894', 'q895', 'q896', 'q897', 'q898', 'q899', 'q9', 'q90', 'q900', 'q901', 'q902', 'q903', 'q904', 'q905', 'q906', 'q907', 'q908', 'q909', 'q91', 'q910', 'q911', 'q912', 'q913', 'q914', 'q915', 'q916', 'q917', 'q918', 'q919', 'q92', 'q920', 'q921', 'q922', 'q923', 'q924', 'q925', 'q926', 'q927', 'q928', 'q929', 'q93', 'q930', 'q931', 'q932', 'q933', 'q934', 'q935', 'q936', 'q937', 'q938', 'q939', 'q94', 'q940', 'q941', 'q942', 'q943', 'q944', 'q945', 'q946', 'q947', 'q948', 'q949', 'q95', 'q950', 'q951', 'q952', 'q953', 'q954', 'q955', 'q956', 'q957', 'q958', 'q959', 'q96', 'q960', 'q961', 'q962', 'q963', 'q964', 'q965', 'q966', 'q967', 'q968', 'q969', 'q97', 'q970', 'q971', 'q972', 'q973', 'q974', 'q975', 'q976', 'q977', 'q978', 'q979', 'q98', 'q980', 'q981', 'q982', 'q983', 'q984', 'q985', 'q986', 'q987', 'q988', 'q989', 'q99', 'q990', 'q991', 'q992', 'q993', 'q994', 'q995', 'q996', 'q997', 'q998', 'q999'])"
      ]
     },
     "execution_count": 42,
     "metadata": {},
     "output_type": "execute_result"
    }
   ],
   "source": [
    "sampleset.variables"
   ]
  },
  {
   "cell_type": "markdown",
   "metadata": {},
   "source": [
    " ### Cleanup of variables array done in MS-Word. Following which we obtain the following array. \n",
    " ### Note: hello array = Variables array"
   ]
  },
  {
   "cell_type": "code",
   "execution_count": 43,
   "metadata": {},
   "outputs": [
    {
     "data": {
      "text/plain": [
       "1792"
      ]
     },
     "execution_count": 43,
     "metadata": {},
     "output_type": "execute_result"
    }
   ],
   "source": [
    "hello=np.array([1, 10, 100, 1000, 1001, 1002, 1003, 1004, 1005, 1006, 1007, 1008, 1009, 101, 1010, 1011, 1012, 1013, 1014, 1015, 1016, 1017, 1018, 1019, 102, 1020, 1021, 1022, 1023, 1024, 1025, 1026, 1027, 1028, 1029, 103, 1030, 1031, 1032, 1033, 1034, 1035, 1036, 1037, 1038, 1039, 104, 1040, 1041, 1042, 1043, 1044, 1045, 1046, 1047, 1048, 1049, 105, 1050, 1051, 1052, 1053, 1054, 1055, 1056, 1057, 1058, 1059, 106, 1060, 1061, 1062, 1063, 1064, 1065, 1066, 1067, 1068, 1069, 107, 1070, 1071, 1072, 1073, 1074, 1075, 1076, 1077, 1078, 1079, 108, 1080, 1081, 1082, 1083, 1084, 1085, 1086, 1087, 1088, 1089, 109, 1090, 1091, 1092, 1093, 1094, 1095, 1096, 1097, 1098, 1099, 11, 110, 1100, 1101, 1102, 1103, 1104, 1105, 1106, 1107, 1108, 1109, 111, 1110, 1111, 1112, 1113, 1114, 1115, 1116, 1117, 1118, 1119, 112, 1120, 1121, 1122, 1123, 1124, 1125, 1126, 1127, 1128, 1129, 113, 1130, 1131, 1132, 1133, 1134, 1135, 1136, 1137, 1138, 1139, 114, 1140, 1141, 1142, 1143, 1144, 1145, 1146, 1147, 1148, 1149, 115, 1150, 1151, 1152, 1153, 1154, 1155, 1156, 1157, 1158, 1159, 116, 1160, 1161, 1162, 1163, 1164, 1165, 1166, 1167, 1168, 1169, 117, 1170, 1171, 1172, 1173, 1174, 1175, 1176, 1177, 1178, 1179, 118, 1180, 1181, 1182, 1183, 1184, 1185, 1186, 1187, 1188, 1189, 119, 1190, 1191, 1192, 1193, 1194, 1195, 1196, 1197, 1198, 1199, 12, 120, 1200, 1201, 1202, 1203, 1204, 1205, 1206, 1207, 1208, 1209, 121, 1210, 1211, 1212, 1213, 1214, 1215, 1216, 1217, 1218, 1219, 122, 1220, 1221, 1222, 1223, 1224, 1225, 1226, 1227, 1228, 1229, 123, 1230, 1231, 1232, 1233, 1234, 1235, 1236, 1237, 1238, 1239, 124, 1240, 1241, 1242, 1243, 1244, 1245, 1246, 1247, 1248, 1249, 125, 1250, 1251, 1252, 1253, 1254, 1255, 1256, 1257, 1258, 1259, 126, 1260, 1261, 1262, 1263, 1264, 1265, 1266, 1267, 1268, 1269, 127, 1270, 1271, 1272, 1273, 1274, 1275, 1276, 1277, 1278, 1279, 128, 1280, 1281, 1282, 1283, 1284, 1285, 1286, 1287, 1288, 1289, 129, 1290, 1291, 1292, 1293, 1294, 1295, 1296, 1297, 1298, 1299, 13, 130, 1300, 1301, 1302, 1303, 1304, 1305, 1306, 1307, 1308, 1309, 131, 1310, 1311, 1312, 1313, 1314, 1315, 1316, 1317, 1318, 1319, 132, 1320, 1321, 1322, 1323, 1324, 1325, 1326, 1327, 1328, 1329, 133, 1330, 1331, 1332, 1333, 1334, 1335, 1336, 1337, 1338, 1339, 134, 1340, 1341, 1342, 1343, 1344, 1345, 1346, 1347, 1348, 1349, 135, 1350, 1351, 1352, 1353, 1354, 1355, 1356, 1357, 1358, 1359, 136, 1360, 1361, 1362, 1363, 1364, 1365, 1366, 1367, 1368, 1369, 137, 1370, 1371, 1372, 1373, 1374, 1375, 1376, 1377, 1378, 1379, 138, 1380, 1381, 1382, 1383, 1384, 1385, 1386, 1387, 1388, 1389, 139, 1390, 1391, 1392, 1393, 1394, 1395, 1396, 1397, 1398, 1399, 14, 140, 1400, 1401, 1402, 1403, 1404, 1405, 1406, 1407, 1408, 1409, 141, 1410, 1411, 1412, 1413, 1414, 1415, 1416, 1417, 1418, 1419, 142, 1420, 1421, 1422, 1423, 1424, 1425, 1426, 1427, 1428, 1429, 143, 1430, 1431, 1432, 1433, 1434, 1435, 1436, 1437, 1438, 1439, 144, 1440, 1441, 1442, 1443, 1444, 1445, 1446, 1447, 1448, 1449, 145, 1450, 1451, 1452, 1453, 1454, 1455, 1456, 1457, 1458, 1459, 146, 1460, 1461, 1462, 1463, 1464, 1465, 1466, 1467, 1468, 1469, 147, 1470, 1471, 1472, 1473, 1474, 1475, 1476, 1477, 1478, 1479, 148, 1480, 1481, 1482, 1483, 1484, 1485, 1486, 1487, 1488, 1489, 149, 1490, 1491, 1492, 1493, 1494, 1495, 1496, 1497, 1498, 1499, 15, 150, 1500, 1501, 1502, 1503, 1504, 1505, 1506, 1507, 1508, 1509, 151, 1510, 1511, 1512, 1513, 1514, 1515, 1516, 1517, 1518, 1519, 152, 1520, 1521, 1522, 1523, 1524, 1525, 1526, 1527, 1528, 1529, 153, 1530, 1531, 1532, 1533, 1534, 1535, 1536, 1537, 1538, 1539, 154, 1540, 1541, 1542, 1543, 1544, 1545, 1546, 1547, 1548, 1549, 155, 1550, 1551, 1552, 1553, 1554, 1555, 1556, 1557, 1558, 1559, 156, 1560, 1561, 1562, 1563, 1564, 1565, 1566, 1567, 1568, 1569, 157, 1570, 1571, 1572, 1573, 1574, 1575, 1576, 1577, 1578, 1579, 158, 1580, 1581, 1582, 1583, 1584, 1585, 1586, 1587, 1588, 1589, 159, 1590, 1591, 1592, 1593, 1594, 1595, 1596, 1597, 1598, 1599, 16, 160, 1600, 1601, 1602, 1603, 1604, 1605, 1606, 1607, 1608, 1609, 161, 1610, 1611, 1612, 1613, 1614, 1615, 1616, 1617, 1618, 1619, 162, 1620, 1621, 1622, 1623, 1624, 1625, 1626, 1627, 1628, 1629, 163, 1630, 1631, 1632, 1633, 1634, 1635, 1636, 1637, 1638, 1639, 164, 1640, 1641, 1642, 1643, 1644, 1645, 1646, 1647, 1648, 1649, 165, 1650, 1651, 1652, 1653, 1654, 1655, 1656, 1657, 1658, 1659, 166, 1660, 1661, 1662, 1663, 1664, 1665, 1666, 1667, 1668, 1669, 167, 1670, 1671, 1672, 1673, 1674, 1675, 1676, 1677, 1678, 1679, 168, 1680, 1681, 1682, 1683, 1684, 1685, 1686, 1687, 1688, 1689, 169, 1690, 1691, 1692, 1693, 1694, 1695, 1696, 1697, 1698, 1699, 17, 170, 1700, 1701, 1702, 1703, 1704, 1705, 1706, 1707, 1708, 1709, 171, 1710, 1711, 1712, 1713, 1714, 1715, 1716, 1717, 1718, 1719, 172, 1720, 1721, 1722, 1723, 1724, 1725, 1726, 1727, 1728, 1729, 173, 1730, 1731, 1732, 1733, 1734, 1735, 1736, 1737, 1738, 1739, 174, 1740, 1741, 1742, 1743, 1744, 1745, 1746, 1747, 1748, 1749, 175, 1750, 1751, 1752, 1753, 1754, 1755, 1756, 1757, 1758, 1759, 176, 1760, 1761, 1762, 1763, 1764, 1765, 1766, 1767, 1768, 1769, 177, 1770, 1771, 1772, 1773, 1774, 1775, 1776, 1777, 1778, 1779, 178, 1780, 1781, 1782, 1783, 1784, 1785, 1786, 1787, 1788, 1789, 179, 1790, 1791, 1792, 18, 180, 181, 182, 183, 184, 185, 186, 187, 188, 189, 19, 190, 191, 192, 193, 194, 195, 196, 197, 198, 199, 2, 20, 200, 201, 202, 203, 204, 205, 206, 207, 208, 209, 21, 210, 211, 212, 213, 214, 215, 216, 217, 218, 219, 22, 220, 221, 222, 223, 224, 225, 226, 227, 228, 229, 23, 230, 231, 232, 233, 234, 235, 236, 237, 238, 239, 24, 240, 241, 242, 243, 244, 245, 246, 247, 248, 249, 25, 250, 251, 252, 253, 254, 255, 256, 257, 258, 259, 26, 260, 261, 262, 263, 264, 265, 266, 267, 268, 269, 27, 270, 271, 272, 273, 274, 275, 276, 277, 278, 279, 28, 280, 281, 282, 283, 284, 285, 286, 287, 288, 289, 29, 290, 291, 292, 293, 294, 295, 296, 297, 298, 299, 3, 30, 300, 301, 302, 303, 304, 305, 306, 307, 308, 309, 31, 310, 311, 312, 313, 314, 315, 316, 317, 318, 319, 32, 320, 321, 322, 323, 324, 325, 326, 327, 328, 329, 33, 330, 331, 332, 333, 334, 335, 336, 337, 338, 339, 34, 340, 341, 342, 343, 344, 345, 346, 347, 348, 349, 35, 350, 351, 352, 353, 354, 355, 356, 357, 358, 359, 36, 360, 361, 362, 363, 364, 365, 366, 367, 368, 369, 37, 370, 371, 372, 373, 374, 375, 376, 377, 378, 379, 38, 380, 381, 382, 383, 384, 385, 386, 387, 388, 389, 39, 390, 391, 392, 393, 394, 395, 396, 397, 398, 399, 4, 40, 400, 401, 402, 403, 404, 405, 406, 407, 408, 409, 41, 410, 411, 412, 413, 414, 415, 416, 417, 418, 419, 42, 420, 421, 422, 423, 424, 425, 426, 427, 428, 429, 43, 430, 431, 432, 433, 434, 435, 436, 437, 438, 439, 44, 440, 441, 442, 443, 444, 445, 446, 447, 448, 449, 45, 450, 451, 452, 453, 454, 455, 456, 457, 458, 459, 46, 460, 461, 462, 463, 464, 465, 466, 467, 468, 469, 47, 470, 471, 472, 473, 474, 475, 476, 477, 478, 479, 48, 480, 481, 482, 483, 484, 485, 486, 487, 488, 489, 49, 490, 491, 492, 493, 494, 495, 496, 497, 498, 499, 5, 50, 500, 501, 502, 503, 504, 505, 506, 507, 508, 509, 51, 510, 511, 512, 513, 514, 515, 516, 517, 518, 519, 52, 520, 521, 522, 523, 524, 525, 526, 527, 528, 529, 53, 530, 531, 532, 533, 534, 535, 536, 537, 538, 539, 54, 540, 541, 542, 543, 544, 545, 546, 547, 548, 549, 55, 550, 551, 552, 553, 554, 555, 556, 557, 558, 559, 56, 560, 561, 562, 563, 564, 565, 566, 567, 568, 569, 57, 570, 571, 572, 573, 574, 575, 576, 577, 578, 579, 58, 580, 581, 582, 583, 584, 585, 586, 587, 588, 589, 59, 590, 591, 592, 593, 594, 595, 596, 597, 598, 599, 6, 60, 600, 601, 602, 603, 604, 605, 606, 607, 608, 609, 61, 610, 611, 612, 613, 614, 615, 616, 617, 618, 619, 62, 620, 621, 622, 623, 624, 625, 626, 627, 628, 629, 63, 630, 631, 632, 633, 634, 635, 636, 637, 638, 639, 64, 640, 641, 642, 643, 644, 645, 646, 647, 648, 649, 65, 650, 651, 652, 653, 654, 655, 656, 657, 658, 659, 66, 660, 661, 662, 663, 664, 665, 666, 667, 668, 669, 67, 670, 671, 672, 673, 674, 675, 676, 677, 678, 679, 68, 680, 681, 682, 683, 684, 685, 686, 687, 688, 689, 69, 690, 691, 692, 693, 694, 695, 696, 697, 698, 699, 7, 70, 700, 701, 702, 703, 704, 705, 706, 707, 708, 709, 71, 710, 711, 712, 713, 714, 715, 716, 717, 718, 719, 72, 720, 721, 722, 723, 724, 725, 726, 727, 728, 729, 73, 730, 731, 732, 733, 734, 735, 736, 737, 738, 739, 74, 740, 741, 742, 743, 744, 745, 746, 747, 748, 749, 75, 750, 751, 752, 753, 754, 755, 756, 757, 758, 759, 76, 760, 761, 762, 763, 764, 765, 766, 767, 768, 769, 77, 770, 771, 772, 773, 774, 775, 776, 777, 778, 779, 78, 780, 781, 782, 783, 784, 785, 786, 787, 788, 789, 79, 790, 791, 792, 793, 794, 795, 796, 797, 798, 799, 8, 80, 800, 801, 802, 803, 804, 805, 806, 807, 808, 809, 81, 810, 811, 812, 813, 814, 815, 816, 817, 818, 819, 82, 820, 821, 822, 823, 824, 825, 826, 827, 828, 829, 83, 830, 831, 832, 833, 834, 835, 836, 837, 838, 839, 84, 840, 841, 842, 843, 844, 845, 846, 847, 848, 849, 85, 850, 851, 852, 853, 854, 855, 856, 857, 858, 859, 86, 860, 861, 862, 863, 864, 865, 866, 867, 868, 869, 87, 870, 871, 872, 873, 874, 875, 876, 877, 878, 879, 88, 880, 881, 882, 883, 884, 885, 886, 887, 888, 889, 89, 890, 891, 892, 893, 894, 895, 896, 897, 898, 899, 9, 90, 900, 901, 902, 903, 904, 905, 906, 907, 908, 909, 91, 910, 911, 912, 913, 914, 915, 916, 917, 918, 919, 92, 920, 921, 922, 923, 924, 925, 926, 927, 928, 929, 93, 930, 931, 932, 933, 934, 935, 936, 937, 938, 939, 94, 940, 941, 942, 943, 944, 945, 946, 947, 948, 949, 95, 950, 951, 952, 953, 954, 955, 956, 957, 958, 959, 96, 960, 961, 962, 963, 964, 965, 966, 967, 968, 969, 97, 970, 971, 972, 973, 974, 975, 976, 977, 978, 979, 98, 980, 981, 982, 983, 984, 985, 986, 987, 988, 989, 99, 990, 991, 992, 993, 994, 995, 996, 997, 998, 999])\n",
    "len(hello)\n"
   ]
  },
  {
   "cell_type": "markdown",
   "metadata": {},
   "source": [
    "### Note: hi array = record array"
   ]
  },
  {
   "cell_type": "code",
   "execution_count": 44,
   "metadata": {},
   "outputs": [],
   "source": [
    "\n",
    "hi=np.array([0, 1, 1, 1, 1, 1, 1, 1, 1, 1, 1, 0, 0, 1, 1, 1, 1, 1, 1, 1, 1, 1, 1, 1, 1, 1, 1, 1, 0, 1, 1, 1, 1, 1, 1, 1, 1, 1, 1, 1, 1, 1, 0, 0, 1, 1, 1, 1, 1, 1, 1, 1, 1, 1, 1, 1, 1, 1, 1, 0, 1, 1, 1, 1, 1, 1, 1, 1, 1, 1, 1, 1, 1, 0, 0, 1, 1, 1, 1, 1, 1, 1, 1, 1, 1, 1, 1, 1, 0, 0, 1, 1, 1, 1, 1, 1, 1, 1, 1, 1, 1, 1, 1, 1, 1, 0, 1, 1, 1, 1, 1, 1, 1, 1, 1, 1, 1, 1, 1, 1, 0, 0, 1, 1, 1, 1, 1, 1, 1, 1, 1, 1, 1, 1, 1, 1, 1, 0, 1, 1, 1, 1, 1, 1, 1, 1, 0, 1, 1, 1, 1, 1, 0, 1, 1, 1, 1, 1, 1, 1, 1, 1, 1, 1, 1, 1, 1, 0, 1, 1, 1, 1, 1, 1, 1, 1, 1, 1, 1, 1, 1, 1, 0, 0, 1, 1, 1, 1, 1, 1, 1, 1, 1, 1, 1, 1, 1, 1, 0, 1, 1, 1, 1, 1, 1, 1, 1, 1, 1, 1, 1, 1, 1, 1, 0, 1, 1, 1, 1, 1, 1, 1, 1, 1, 1, 1, 1, 1, 1, 0, 0, 1, 1, 1, 1, 1, 1, 1, 1, 1, 1, 1, 1, 1, 0, 0, 1, 1, 1, 1, 1, 1, 1, 1, 1, 1, 1, 1, 1, 1, 0, 0, 1, 1, 1, 1, 1, 1, 1, 1, 1, 1, 1, 1, 1, 1, 0, 1, 1, 1, 1, 1, 1, 1, 1, 1, 1, 1, 1, 1, 0, 0, 0, 1, 1, 1, 1, 1, 1, 1, 1, 0, 1, 1, 1, 1, 0, 0, 1, 1, 1, 1, 1, 1, 1, 1, 1, 1, 1, 1, 1, 1, 0, 1, 1, 1, 1, 1, 1, 1, 1, 1, 1, 1, 1, 1, 1, 1, 0, 0, 1, 1, 1, 1, 1, 1, 1, 1, 1, 1, 1, 1, 1, 0, 0, 1, 1, 1, 1, 1, 1, 1, 1, 1, 1, 1, 1, 1, 1, 1, 0, 1, 1, 1, 1, 1, 1, 1, 1, 1, 1, 1, 1, 1, 1, 0, 1, 1, 1, 1, 1, 1, 1, 1, 1, 1, 1, 1, 1, 0, 0, 1, 1, 1, 1, 1, 1, 1, 1, 1, 1, 1, 1, 1, 1, 1, 0, 1, 1, 1, 1, 1, 1, 1, 1, 1, 1, 1, 1, 1, 1, 0, 1, 1, 1, 1, 1, 1, 1, 1, 1, 1, 1, 1, 1, 1, 0, 0, 0, 1, 1, 1, 1, 1, 1, 1, 1, 0, 1, 1, 1, 1, 0, 0, 1, 1, 1, 1, 1, 1, 1, 1, 1, 1, 1, 1, 1, 1, 0, 1, 1, 1, 1, 1, 1, 1, 1, 1, 1, 1, 1, 1, 1, 0, 0, 1, 1, 1, 1, 1, 1, 1, 1, 1, 1, 1, 1, 1, 1, 0, 1, 1, 1, 1, 1, 1, 1, 1, 1, 1, 1, 1, 1, 1, 0, 0, 1, 1, 1, 1, 1, 1, 1, 1, 1, 1, 1, 1, 1, 0, 0, 1, 1, 1, 1, 1, 1, 1, 1, 1, 1, 1, 1, 1, 1, 0, 0, 1, 1, 1, 1, 1, 1, 1, 1, 1, 1, 1, 1, 1, 1, 0, 0, 1, 1, 1, 1, 1, 1, 1, 1, 1, 1, 1, 1, 1, 0, 0, 1, 1, 1, 1, 1, 1, 1, 1, 1, 1, 1, 1, 1, 0, 0, 0, 1, 1, 1, 1, 1, 1, 1, 1, 0, 1, 1, 1, 1, 0, 0, 1, 1, 1, 1, 1, 1, 1, 1, 1, 1, 1, 1, 1, 0, 0, 1, 1, 1, 1, 1, 1, 1, 1, 1, 1, 1, 1, 1, 1, 1, 0, 1, 1, 1, 1, 1, 1, 1, 1, 1, 1, 1, 1, 1, 0, 0, 1, 1, 1, 1, 1, 1, 1, 1, 1, 1, 1, 1, 1, 1, 1, 0, 0, 1, 1, 1, 1, 1, 1, 1, 1, 1, 1, 1, 1, 1, 0, 0, 1, 1, 1, 1, 1, 1, 1, 1, 1, 1, 1, 1, 1, 0, 0, 1, 1, 1, 1, 1, 1, 1, 1, 1, 1, 1, 1, 1, 1, 1, 0, 1, 1, 1, 1, 1, 1, 1, 1, 1, 1, 1, 1, 1, 1, 0, 1, 1, 1, 1, 1, 1, 1, 1, 1, 1, 1, 1, 1, 1, 1, 0, 1, 1, 1, 1, 1, 1, 1, 1, 0, 1, 1, 1, 1, 1, 0, 1, 1, 1, 1, 1, 1, 1, 1, 1, 1, 1, 1, 1, 1, 0, 0, 1, 1, 1, 1, 1, 1, 1, 1, 1, 1, 1, 1, 1, 1, 1, 0, 1, 1, 1, 1, 1, 1, 1, 1, 1, 1, 1, 1, 1, 0, 0, 1, 1, 1, 1, 1, 1, 1, 1, 1, 1, 1, 1, 1, 1, 0, 0, 1, 1, 1, 1, 1, 1, 1, 1, 1, 1, 1, 1, 1, 0, 0, 1, 1, 1, 1, 1, 1, 1, 1, 1, 1, 1, 1, 1, 0, 0, 1, 1, 1, 1, 1, 1, 1, 1, 1, 1, 1, 1, 1, 1, 0, 1, 1, 1, 1, 0, 1, 1, 1, 1, 1, 1, 1, 1, 1, 1, 1, 1, 1, 1, 0, 1, 1, 1, 1, 1, 1, 1, 1, 1, 1, 1, 1, 1, 1, 1, 0, 0, 1, 1, 1, 1, 1, 1, 1, 1, 1, 1, 1, 1, 1, 0, 0, 1, 1, 1, 1, 1, 1, 1, 1, 1, 1, 1, 1, 1, 1, 0, 1, 1, 1, 1, 1, 1, 1, 1, 1, 1, 1, 1, 1, 1, 1, 0, 1, 1, 1, 1, 1, 1, 1, 1, 1, 1, 1, 1, 1, 1, 0, 1, 1, 1, 1, 1, 1, 1, 1, 1, 1, 1, 1, 1, 0, 1, 0, 1, 1, 1, 1, 1, 1, 1, 1, 0, 1, 1, 1, 1, 1, 0, 1, 1, 1, 1, 1, 1, 1, 1, 1, 1, 1, 1, 1, 1, 1, 0, 1, 1, 1, 1, 1, 1, 1, 1, 1, 1, 1, 1, 1, 1, 0, 0, 1, 1, 1, 1, 1, 1, 1, 1, 1, 1, 1, 1, 1, 1, 0, 1, 1, 1, 1, 1, 1, 1, 1, 1, 1, 1, 1, 1, 1, 1, 0, 1, 1, 1, 1, 1, 1, 1, 1, 1, 1, 1, 1, 1, 1, 0, 1, 1, 1, 1, 1, 1, 1, 1, 1, 1, 1, 1, 1, 0, 0, 1, 1, 1, 1, 1, 1, 1, 1, 1, 1, 1, 1, 1, 1, 0, 0, 1, 1, 1, 1, 1, 1, 1, 1, 1, 1, 1, 1, 1, 1, 0, 0, 1, 1, 1, 1, 1, 1, 1, 1, 1, 1, 1, 1, 1, 0, 0, 0, 1, 1, 1, 1, 1, 1, 1, 1, 0, 1, 1, 1, 1, 1, 0, 1, 1, 1, 1, 1, 1, 1, 1, 1, 1, 1, 1, 1, 0, 0, 1, 1, 1, 1, 1, 1, 1, 1, 1, 1, 1, 1, 1, 1, 0, 0, 1, 1, 1, 1, 1, 1, 1, 1, 1, 1, 1, 1, 1, 1, 0, 1, 1, 1, 1, 1, 1, 1, 1, 1, 1, 1, 1, 1, 1, 0, 0, 1, 1, 1, 1, 1, 1, 1, 1, 1, 1, 1, 1, 1, 1, 1, 1, 1, 1, 1, 1, 1, 1, 1, 1, 1, 1, 1, 1, 1, 0, 0, 1, 1, 1, 1, 1, 1, 1, 1, 1, 1, 1, 1, 1, 1, 0, 0, 1, 1, 1, 1, 1, 1, 1, 1, 1, 1, 1, 1, 1, 0, 0, 1, 1, 1, 1, 1, 1, 1, 1, 1, 1, 1, 1, 1, 1, 0, 0, 1, 1, 1, 1, 1, 1, 1, 1, 0, 1, 1, 1, 1, 0, 0, 1, 1, 1, 1, 1, 1, 1, 1, 1, 1, 1, 1, 1, 0, 0, 1, 1, 1, 1, 1, 1, 1, 1, 1, 1, 1, 1, 1, 1, 1, 0, 0, 1, 1, 1, 1, 1, 1, 1, 1, 1, 1, 1, 1, 1, 1, 0, 1, 1, 1, 1, 1, 1, 1, 1, 1, 1, 1, 1, 1, 1, 0, 0, 1, 1, 1, 1, 1, 1, 1, 1, 1, 1, 1, 1, 1, 1, 0, 1, 1, 1, 1, 1, 1, 1, 1, 1, 1, 1, 1, 1, 1, 0, 1, 1, 1, 1, 1, 1, 1, 1, 1, 1, 1, 1, 1, 1, 0, 0, 1, 1, 1, 1, 1, 1, 1, 1, 1, 1, 1, 1, 1, 0, 0, 1, 1, 1, 1, 1, 1, 1, 1, 1, 1, 1, 1, 1, 1, 0, 1, 0, 1, 1, 1, 1, 1, 1, 1, 1, 0, 1, 1, 1, 1, 0, 0, 1, 1, 1, 1, 1, 1, 1, 1, 1, 1, 1, 1, 1, 1, 0, 1, 1, 1, 1, 1, 1, 1, 1, 1, 1, 1, 1, 1, 1, 0, 0, 1, 1, 1, 1, 1, 1, 1, 1, 1, 1, 1, 1, 1, 0, 0, 1, 1, 1, 1, 1, 1, 1, 1, 1, 1, 1, 1, 1, 1, 0, 0, 1, 1, 1, 1, 1, 1, 1, 1, 1, 1, 1, 1, 1, 1, 0, 1, 1, 1, 1, 1, 1, 1, 1, 1, 1, 1, 1, 1, 0, 0, 1, 1, 1, 1, 1, 1, 1, 1, 1, 1, 1, 1, 1, 1, 1, 0, 0, 1, 1, 1, 1, 1, 1, 1, 1, 1, 1, 1, 1, 1, 1, 0, 1, 1, 1, 1, 1, 1, 1, 1, 1, 1, 1, 1, 1, 0, 1, 0, 1, 1, 1, 1, 1, 1, 1, 1, 0, 1, 1, 1, 1, 0, 0, 1, 1, 1, 1, 1, 1, 1, 1, 1, 1, 1, 1, 1, 0, 0, 1, 1, 1, 1, 1, 1, 1, 1, 1, 1, 1, 1, 1, 1, 0, 0, 1, 1, 1, 1, 1, 1, 1, 1, 1, 1, 1, 1, 1, 1, 0, 1, 1, 1, 1, 1, 1, 1, 1, 1, 1, 1, 1, 1, 1, 1, 1, 0, 1, 1, 1, 1, 1, 1, 1, 1, 1, 1, 1, 1, 1, 1, 0, 1, 1, 1, 1, 1, 1, 1, 1, 1, 1, 1, 1, 1, 0, 0, 1, 1, 1, 1, 1, 1, 1, 1, 1, 1, 1, 1, 1, 1, 0, 0, 1, 1, 1, 1, 1, 1, 1, 1, 1, 1, 1, 1, 1, 1, 0, 1, 1, 1, 1, 1, 1, 1, 1, 1, 1, 1, 1, 1, 1, 1, 0, 1, 1, 1, 1, 1, 1, 1, 1, 0, 1, 1, 1, 1, 0, 0, 1, 1, 1, 1])"
   ]
  },
  {
   "cell_type": "markdown",
   "metadata": {},
   "source": [
    "### Finally sorting done as desired"
   ]
  },
  {
   "cell_type": "code",
   "execution_count": 45,
   "metadata": {},
   "outputs": [
    {
     "name": "stdout",
     "output_type": "stream",
     "text": [
      "[0, 1, 1, 1, 1, 1, 1, 1, 1, 1, 1, 1, 1, 1, 0, 1, 1, 1, 1, 1, 1, 1, 1, 1, 1, 1, 1, 0, 0, 1, 1, 1, 1, 1, 1, 1, 1, 1, 1, 1, 1, 0, 0, 1, 1, 1, 1, 1, 1, 1, 1, 1, 1, 1, 1, 1, 0, 1, 1, 1, 1, 1, 1, 1, 1, 1, 1, 1, 1, 0, 0, 1, 1, 1, 1, 1, 1, 1, 1, 1, 1, 1, 1, 0, 0, 1, 1, 1, 1, 1, 1, 1, 1, 1, 1, 1, 1, 1, 0, 1, 1, 1, 1, 1, 1, 1, 1, 1, 1, 1, 1, 1, 0, 1, 1, 1, 1, 1, 1, 1, 1, 1, 1, 1, 1, 0, 0, 1, 1, 1, 1, 1, 1, 1, 1, 1, 1, 1, 1, 0, 0, 1, 1, 1, 1, 1, 1, 1, 1, 1, 1, 1, 1, 0, 0, 1, 1, 1, 1, 1, 1, 1, 1, 1, 1, 1, 1, 1, 0, 1, 1, 1, 1, 1, 1, 1, 1, 1, 1, 1, 1, 1, 0, 1, 1, 1, 1, 1, 1, 1, 1, 1, 1, 1, 1, 1, 0, 1, 1, 1, 1, 1, 1, 1, 1, 1, 1, 1, 1, 0, 0, 1, 1, 1, 1, 1, 1, 1, 1, 1, 1, 1, 1, 0, 0, 1, 1, 1, 1, 1, 1, 1, 1, 1, 1, 1, 1, 1, 0, 1, 1, 1, 1, 1, 1, 1, 1, 1, 1, 1, 1, 1, 0, 1, 1, 1, 1, 1, 1, 1, 1, 1, 1, 1, 1, 1, 0, 1, 1, 1, 1, 1, 1, 1, 1, 1, 1, 1, 1, 1, 0, 1, 1, 1, 1, 1, 1, 1, 1, 1, 1, 1, 1, 1, 0, 1, 1, 1, 1, 1, 1, 1, 1, 1, 1, 1, 1, 1, 0, 1, 1, 1, 1, 1, 1, 1, 1, 1, 1, 1, 1, 0, 0, 1, 1, 1, 1, 1, 1, 1, 1, 1, 1, 1, 1, 1, 0, 1, 1, 1, 1, 1, 1, 1, 1, 1, 1, 1, 1, 1, 0, 1, 1, 1, 1, 1, 1, 1, 1, 1, 1, 1, 1, 1, 0, 1, 1, 1, 1, 1, 1, 1, 1, 1, 1, 1, 1, 0, 0, 1, 1, 1, 1, 1, 1, 1, 1, 1, 1, 1, 1, 0, 0, 1, 1, 1, 1, 1, 1, 1, 1, 1, 1, 1, 1, 0, 0, 1, 1, 1, 1, 1, 1, 1, 1, 1, 1, 1, 1, 0, 0, 1, 1, 1, 1, 1, 1, 1, 1, 1, 1, 1, 1, 1, 0, 1, 1, 1, 1, 1, 1, 1, 1, 1, 1, 1, 1, 0, 0, 1, 1, 1, 1, 1, 1, 1, 1, 1, 1, 1, 1, 0, 0, 1, 1, 1, 1, 1, 1, 1, 1, 1, 1, 1, 1, 1, 0, 1, 1, 1, 1, 1, 1, 1, 1, 1, 1, 1, 1, 0, 0, 1, 1, 1, 1, 1, 1, 1, 1, 1, 1, 1, 1, 1, 1, 1, 1, 1, 1, 1, 1, 1, 1, 1, 1, 1, 1, 0, 0, 1, 1, 1, 1, 1, 1, 1, 1, 1, 1, 1, 1, 0, 0, 1, 1, 1, 1, 1, 1, 1, 1, 1, 1, 1, 1, 0, 0, 1, 1, 1, 1, 1, 1, 1, 1, 1, 1, 1, 1, 0, 0, 1, 1, 1, 1, 1, 1, 1, 1, 1, 1, 1, 1, 0, 0, 1, 1, 1, 1, 1, 1, 1, 1, 1, 1, 1, 1, 0, 0, 1, 1, 1, 1, 1, 1, 1, 1, 1, 1, 1, 1, 0, 0, 1, 1, 1, 1, 1, 1, 1, 1, 1, 1, 1, 1, 1, 0, 1, 1, 1, 1, 1, 1, 1, 1, 1, 1, 1, 1, 0, 0, 1, 1, 1, 1, 1, 1, 1, 1, 1, 1, 1, 1, 1, 0, 1, 1, 1, 1, 1, 1, 1, 1, 1, 1, 1, 1, 1, 0, 1, 1, 1, 1, 1, 1, 1, 1, 1, 1, 1, 1, 0, 0, 1, 1, 1, 1, 1, 1, 1, 1, 1, 1, 1, 1, 0, 0, 1, 1, 1, 1, 1, 1, 1, 1, 1, 1, 1, 1, 1, 0, 1, 1, 1, 1, 1, 1, 1, 1, 1, 1, 1, 1, 0, 0, 1, 1, 1, 1, 1, 1, 1, 1, 1, 1, 1, 1, 1, 0, 1, 1, 1, 1, 1, 1, 1, 1, 1, 1, 1, 1, 0, 0, 1, 1, 1, 1, 1, 1, 1, 1, 1, 1, 1, 1, 0, 0, 1, 1, 1, 1, 1, 1, 1, 1, 1, 1, 1, 1, 0, 0, 1, 1, 1, 1, 1, 1, 1, 1, 1, 1, 1, 1, 1, 0, 1, 1, 1, 1, 1, 1, 1, 1, 1, 1, 1, 1, 0, 0, 1, 1, 1, 1, 1, 1, 1, 1, 1, 1, 1, 1, 0, 0, 1, 1, 1, 1, 1, 1, 1, 1, 1, 1, 1, 1, 1, 0, 1, 1, 1, 1, 1, 1, 1, 1, 1, 1, 1, 1, 1, 0, 1, 1, 1, 1, 1, 1, 1, 1, 1, 1, 1, 1, 0, 0, 1, 1, 1, 1, 1, 1, 1, 1, 1, 1, 1, 1, 0, 0, 1, 1, 1, 1, 1, 1, 1, 1, 1, 1, 1, 1, 0, 0, 1, 1, 1, 1, 1, 1, 1, 1, 1, 1, 1, 1, 1, 0, 1, 1, 1, 1, 1, 1, 1, 1, 1, 1, 1, 1, 1, 0, 1, 1, 1, 1, 1, 1, 1, 1, 1, 1, 1, 1, 1, 0, 1, 1, 1, 1, 1, 1, 1, 1, 1, 1, 1, 1, 0, 0, 1, 1, 1, 1, 1, 1, 1, 1, 1, 1, 1, 1, 0, 0, 1, 1, 1, 1, 1, 1, 1, 1, 1, 1, 1, 1, 1, 0, 1, 1, 1, 1, 1, 1, 1, 1, 1, 1, 1, 1, 1, 0, 1, 1, 1, 1, 1, 1, 1, 1, 1, 1, 1, 1, 0, 0, 1, 1, 1, 1, 1, 1, 1, 1, 1, 1, 1, 1, 0, 0, 1, 1, 1, 1, 1, 1, 1, 1, 1, 1, 1, 1, 1, 0, 1, 1, 1, 1, 1, 1, 1, 1, 1, 1, 1, 1, 0, 0, 1, 1, 1, 1, 1, 1, 1, 1, 1, 1, 1, 1, 1, 0, 1, 1, 1, 1, 1, 1, 1, 1, 1, 1, 1, 1, 0, 0, 1, 1, 1, 1, 1, 1, 1, 1, 1, 1, 1, 1, 0, 0, 1, 1, 1, 1, 1, 1, 1, 1, 1, 1, 1, 1, 1, 0, 1, 1, 1, 1, 1, 1, 1, 1, 1, 1, 1, 1, 0, 0, 1, 1, 1, 1, 1, 1, 1, 1, 1, 1, 1, 1, 1, 0, 1, 1, 1, 1, 1, 1, 1, 1, 1, 1, 1, 1, 1, 0, 1, 1, 1, 1, 1, 1, 1, 1, 1, 1, 1, 1, 1, 0, 1, 1, 1, 1, 1, 1, 1, 1, 1, 1, 1, 1, 0, 0, 1, 1, 1, 1, 1, 1, 1, 1, 1, 1, 1, 1, 1, 0, 1, 1, 1, 1, 1, 1, 1, 1, 1, 1, 1, 1, 1, 0, 1, 1, 1, 1, 1, 1, 1, 1, 1, 1, 1, 1, 0, 0, 1, 1, 1, 1, 1, 1, 1, 1, 1, 1, 1, 1, 0, 0, 1, 1, 1, 1, 1, 1, 1, 1, 1, 1, 1, 1, 0, 0, 1, 1, 1, 1, 1, 1, 1, 1, 1, 1, 1, 1, 1, 0, 1, 1, 1, 1, 1, 1, 1, 1, 1, 1, 1, 1, 0, 0, 1, 1, 1, 1, 1, 1, 1, 1, 1, 1, 1, 1, 0, 0, 1, 1, 1, 1, 1, 1, 1, 1, 1, 1, 1, 1, 1, 0, 1, 1, 1, 1, 1, 1, 1, 1, 1, 1, 1, 1, 0, 0, 1, 1, 1, 1, 1, 1, 1, 1, 1, 1, 1, 1, 0, 0, 1, 1, 1, 1, 1, 1, 1, 1, 1, 1, 1, 1, 1, 0, 1, 1, 1, 1, 1, 1, 1, 1, 1, 1, 1, 1, 1, 0, 1, 1, 1, 1, 1, 1, 1, 1, 1, 1, 1, 1, 0, 0, 1, 1, 1, 1, 1, 1, 1, 1, 1, 1, 1, 1, 1, 0, 1, 1, 1, 1, 1, 1, 1, 1, 1, 1, 1, 1, 1, 0, 1, 1, 1, 1, 1, 1, 1, 1, 1, 1, 1, 1, 0, 0, 1, 1, 1, 1, 1, 1, 1, 1, 1, 1, 1, 1, 0, 0, 1, 1, 1, 1, 1, 1, 1, 1, 1, 1, 1, 1, 1, 0, 1, 1, 1, 1, 1, 1, 1, 1, 1, 1, 1, 1, 0, 0, 1, 1, 1, 1, 1, 1, 1, 1, 1, 1, 1, 1, 1, 0, 1, 1, 1, 1, 1, 1, 1, 1, 1, 1, 1, 1, 0, 0, 1, 1, 1, 1, 1, 1, 1, 1, 1, 1, 1, 1, 0, 0, 1, 1, 1, 1, 1, 1, 1, 1, 1, 1, 1, 1, 1, 0, 1, 1, 1, 1, 1, 1, 1, 1, 1, 1, 1, 1, 0, 0, 1, 1, 1, 1, 1, 1, 1, 1, 1, 1, 1, 1, 0, 0, 1, 1, 1, 1, 1, 1, 1, 1, 1, 1, 1, 1, 0, 0, 1, 1, 1, 1, 1, 1, 1, 1, 1, 1, 1, 1, 0, 0, 1, 1, 1, 1, 1, 1, 1, 1, 1, 1, 1, 1, 0, 0, 1, 1, 1, 1, 1, 1, 1, 1, 1, 1, 1, 1, 1, 0, 1, 1, 1, 1, 1, 1, 1, 1, 1, 1, 1, 1, 0, 0, 1, 1, 1, 1, 1, 1, 1, 1, 1, 1, 1, 1, 0, 0, 1, 1, 1, 1, 1, 1, 1, 1, 1, 1, 1, 1, 0, 0, 1, 1, 1, 1, 1, 1, 1, 1, 1, 1, 1, 1, 0, 0, 1, 1, 1, 1, 1, 1, 1, 1, 1, 1, 1, 1, 1, 0, 1, 1, 1, 1, 1, 1, 1, 1, 1, 1, 1, 1, 1, 0, 1, 1, 1, 1, 1, 1, 1, 1, 1, 1, 1, 1, 1, 0, 1, 1, 1, 1, 1, 1, 1, 1, 1, 1, 1, 1, 1, 0, 1, 1, 1, 1, 1, 1, 1, 1, 1, 1, 1, 1, 0, 0, 1, 1, 1, 1, 1, 1, 1, 1, 1, 1, 1, 1, 1, 0, 1, 1, 1, 1, 1, 1, 1, 1, 1, 1, 1, 1, 0, 0, 1, 1, 1, 1, 1, 1, 1, 1, 1, 1, 1, 1, 0, 0, 1, 1, 1, 1, 1, 1, 1, 1, 1, 1, 1, 1, 0, 0, 1, 1, 1, 1, 1, 1, 1, 1, 1, 1, 1, 1, 0, 0, 1, 1, 1, 1, 1, 1, 1, 1, 1, 1, 1, 1, 0]\n"
     ]
    }
   ],
   "source": [
    "hi_sorted = [x for _,x in sorted(zip(hello,hi))]\n",
    "print(hi_sorted)  "
   ]
  },
  {
   "cell_type": "markdown",
   "metadata": {},
   "source": [
    "# Converting into real number (x_i) from the qubits q_0,q_1,....,q_8191= Penguin(= hi_sorted) using equation (11) in https://arxiv.org/pdf/2106.10819.pdf\n",
    "\n",
    "### Note : In Penguin, some are q+ and some are q-. The following code gives the indices of q+ and q- in Penguin.\n",
    "### Namely, h gives the indices of q+ AND q gives the indices of q-\n"
   ]
  },
  {
   "cell_type": "code",
   "execution_count": 42,
   "metadata": {},
   "outputs": [],
   "source": [
    "# #x=[]\n",
    "# h=[] ### Positions of q+\n",
    "# q=[] ### Psotions of q-\n",
    "# for i in range(0,64):\n",
    "#     for l in range(-61,3):\n",
    "#         q_plus=(128*i + l + 61)   \n",
    "#         h.append(q_plus)\n",
    "#         q_minus=(128*i + l + 61 + 64)  ### postions\n",
    "#         q.append(q_minus)\n",
    "#         #y=pow(2,l)*q_plus - pow(2,l)*q_minus\n",
    "#         #x.append(y)"
   ]
  },
  {
   "cell_type": "code",
   "execution_count": 47,
   "metadata": {},
   "outputs": [],
   "source": [
    "#po1 = 64*i + l + 29  ### q+ positions\n",
    "#po2 = 64*i + l + 29 + 32 ### q- positions\n",
    "\n",
    "### THIS REQUIRES VERIFICATION THOUGH.\n",
    "\n",
    "x=[]\n",
    "\n",
    "for i in range(0,128):\n",
    "    y=0\n",
    "    for l in range(-8,5):\n",
    "        y+=-pow(2,m+1)*hi_sorted[14*i + 1] + pow(2,l)*hi_sorted[14*i + 8 + l]\n",
    "        #print(y)\n",
    "    x.append(y)"
   ]
  },
  {
   "cell_type": "markdown",
   "metadata": {},
   "source": [
    "### Final Solutions obtained as follows :"
   ]
  },
  {
   "cell_type": "code",
   "execution_count": 48,
   "metadata": {},
   "outputs": [
    {
     "data": {
      "text/plain": [
       "[-1632.0078125,\n",
       " -1632.0078125,\n",
       " -1632.0078125,\n",
       " -1632.0078125,\n",
       " -1632.0078125,\n",
       " -1632.0078125,\n",
       " -1632.0078125,\n",
       " -1632.0078125,\n",
       " -1632.0078125,\n",
       " -1632.0078125,\n",
       " -1632.0078125,\n",
       " -1632.0078125,\n",
       " -1632.0078125,\n",
       " -1632.0078125,\n",
       " -1632.0078125,\n",
       " -1632.0078125,\n",
       " -1632.0078125,\n",
       " -1632.0078125,\n",
       " -1632.0078125,\n",
       " -1632.0078125,\n",
       " -1632.0078125,\n",
       " -1632.0078125,\n",
       " -1632.0078125,\n",
       " -1632.0078125,\n",
       " -1632.0078125,\n",
       " -1632.0078125,\n",
       " -1632.0078125,\n",
       " -1632.0078125,\n",
       " -1632.0078125,\n",
       " -1632.0078125,\n",
       " -1632.0078125,\n",
       " -1632.0078125,\n",
       " -1632.0078125,\n",
       " -1632.0078125,\n",
       " -1632.0078125,\n",
       " -1632.0078125,\n",
       " -1632.00390625,\n",
       " -1632.0078125,\n",
       " -1632.0078125,\n",
       " -1632.0078125,\n",
       " -1632.0078125,\n",
       " -1632.0078125,\n",
       " -1632.0078125,\n",
       " -1632.0078125,\n",
       " -1632.0078125,\n",
       " -1632.0078125,\n",
       " -1632.0078125,\n",
       " -1632.0078125,\n",
       " -1632.0078125,\n",
       " -1632.0078125,\n",
       " -1632.0078125,\n",
       " -1632.0078125,\n",
       " -1632.0078125,\n",
       " -1632.0078125,\n",
       " -1632.0078125,\n",
       " -1632.0078125,\n",
       " -1632.0078125,\n",
       " -1632.0078125,\n",
       " -1632.0078125,\n",
       " -1632.0078125,\n",
       " -1632.0078125,\n",
       " -1632.0078125,\n",
       " -1632.0078125,\n",
       " -1632.0078125,\n",
       " -1632.0078125,\n",
       " -1632.0078125,\n",
       " -1632.0078125,\n",
       " -1632.0078125,\n",
       " -1632.0078125,\n",
       " -1632.0078125,\n",
       " -1632.0078125,\n",
       " -1632.0078125,\n",
       " -1632.0078125,\n",
       " -1632.0078125,\n",
       " -1632.0078125,\n",
       " -1632.0078125,\n",
       " -1632.0078125,\n",
       " -1632.0078125,\n",
       " -1632.0078125,\n",
       " -1632.0078125,\n",
       " -1632.0078125,\n",
       " -1632.0078125,\n",
       " -1632.0078125,\n",
       " -1632.0078125,\n",
       " -1632.0078125,\n",
       " -1632.0078125,\n",
       " -1632.0078125,\n",
       " -1632.0078125,\n",
       " -1632.0078125,\n",
       " -1632.0078125,\n",
       " -1632.0078125,\n",
       " -1632.0078125,\n",
       " -1632.0078125,\n",
       " -1632.0078125,\n",
       " -1632.0078125,\n",
       " -1632.0078125,\n",
       " -1632.0078125,\n",
       " -1632.0078125,\n",
       " -1632.0078125,\n",
       " -1632.0078125,\n",
       " -1632.0078125,\n",
       " -1632.0078125,\n",
       " -1632.0078125,\n",
       " -1632.0078125,\n",
       " -1632.0078125,\n",
       " -1632.0078125,\n",
       " -1632.0078125,\n",
       " -1632.0078125,\n",
       " -1632.0078125,\n",
       " -1632.0078125,\n",
       " -1632.0078125,\n",
       " -1632.0078125,\n",
       " -1632.0078125,\n",
       " -1632.0078125,\n",
       " -1632.0078125,\n",
       " -1632.0078125,\n",
       " -1632.0078125,\n",
       " -1632.0078125,\n",
       " -1632.0078125,\n",
       " -1632.0078125,\n",
       " -1632.0078125,\n",
       " -1632.0078125,\n",
       " -1632.0078125,\n",
       " -1632.0078125,\n",
       " -1632.0078125,\n",
       " -1632.0078125,\n",
       " -1632.0078125,\n",
       " -1632.0078125]"
      ]
     },
     "execution_count": 48,
     "metadata": {},
     "output_type": "execute_result"
    }
   ],
   "source": [
    "x"
   ]
  },
  {
   "cell_type": "markdown",
   "metadata": {},
   "source": [
    "# LET'S NOW HOPE FOR THE BEST. BECAUSE HOPE IS A GOOD THING, MAY BE THE BEST OF THINGS, AND NO GOOD THING EVER DIES  ! :)"
   ]
  },
  {
   "cell_type": "markdown",
   "metadata": {},
   "source": []
  },
  {
   "cell_type": "code",
   "execution_count": 49,
   "metadata": {},
   "outputs": [
    {
     "data": {
      "text/plain": [
       "array([[-1632.0078125 ],\n",
       "       [-1632.0078125 ],\n",
       "       [-1632.0078125 ],\n",
       "       [-1632.0078125 ],\n",
       "       [-1632.0078125 ],\n",
       "       [-1632.0078125 ],\n",
       "       [-1632.0078125 ],\n",
       "       [-1632.0078125 ],\n",
       "       [-1632.0078125 ],\n",
       "       [-1632.0078125 ],\n",
       "       [-1632.0078125 ],\n",
       "       [-1632.0078125 ],\n",
       "       [-1632.0078125 ],\n",
       "       [-1632.0078125 ],\n",
       "       [-1632.0078125 ],\n",
       "       [-1632.0078125 ],\n",
       "       [-1632.0078125 ],\n",
       "       [-1632.0078125 ],\n",
       "       [-1632.0078125 ],\n",
       "       [-1632.0078125 ],\n",
       "       [-1632.0078125 ],\n",
       "       [-1632.0078125 ],\n",
       "       [-1632.0078125 ],\n",
       "       [-1632.0078125 ],\n",
       "       [-1632.0078125 ],\n",
       "       [-1632.0078125 ],\n",
       "       [-1632.0078125 ],\n",
       "       [-1632.0078125 ],\n",
       "       [-1632.0078125 ],\n",
       "       [-1632.0078125 ],\n",
       "       [-1632.0078125 ],\n",
       "       [-1632.0078125 ],\n",
       "       [-1632.0078125 ],\n",
       "       [-1632.0078125 ],\n",
       "       [-1632.0078125 ],\n",
       "       [-1632.0078125 ],\n",
       "       [-1632.00390625],\n",
       "       [-1632.0078125 ],\n",
       "       [-1632.0078125 ],\n",
       "       [-1632.0078125 ],\n",
       "       [-1632.0078125 ],\n",
       "       [-1632.0078125 ],\n",
       "       [-1632.0078125 ],\n",
       "       [-1632.0078125 ],\n",
       "       [-1632.0078125 ],\n",
       "       [-1632.0078125 ],\n",
       "       [-1632.0078125 ],\n",
       "       [-1632.0078125 ],\n",
       "       [-1632.0078125 ],\n",
       "       [-1632.0078125 ],\n",
       "       [-1632.0078125 ],\n",
       "       [-1632.0078125 ],\n",
       "       [-1632.0078125 ],\n",
       "       [-1632.0078125 ],\n",
       "       [-1632.0078125 ],\n",
       "       [-1632.0078125 ],\n",
       "       [-1632.0078125 ],\n",
       "       [-1632.0078125 ],\n",
       "       [-1632.0078125 ],\n",
       "       [-1632.0078125 ],\n",
       "       [-1632.0078125 ],\n",
       "       [-1632.0078125 ],\n",
       "       [-1632.0078125 ],\n",
       "       [-1632.0078125 ],\n",
       "       [-1632.0078125 ],\n",
       "       [-1632.0078125 ],\n",
       "       [-1632.0078125 ],\n",
       "       [-1632.0078125 ],\n",
       "       [-1632.0078125 ],\n",
       "       [-1632.0078125 ],\n",
       "       [-1632.0078125 ],\n",
       "       [-1632.0078125 ],\n",
       "       [-1632.0078125 ],\n",
       "       [-1632.0078125 ],\n",
       "       [-1632.0078125 ],\n",
       "       [-1632.0078125 ],\n",
       "       [-1632.0078125 ],\n",
       "       [-1632.0078125 ],\n",
       "       [-1632.0078125 ],\n",
       "       [-1632.0078125 ],\n",
       "       [-1632.0078125 ],\n",
       "       [-1632.0078125 ],\n",
       "       [-1632.0078125 ],\n",
       "       [-1632.0078125 ],\n",
       "       [-1632.0078125 ],\n",
       "       [-1632.0078125 ],\n",
       "       [-1632.0078125 ],\n",
       "       [-1632.0078125 ],\n",
       "       [-1632.0078125 ],\n",
       "       [-1632.0078125 ],\n",
       "       [-1632.0078125 ],\n",
       "       [-1632.0078125 ],\n",
       "       [-1632.0078125 ],\n",
       "       [-1632.0078125 ],\n",
       "       [-1632.0078125 ],\n",
       "       [-1632.0078125 ],\n",
       "       [-1632.0078125 ],\n",
       "       [-1632.0078125 ],\n",
       "       [-1632.0078125 ],\n",
       "       [-1632.0078125 ],\n",
       "       [-1632.0078125 ],\n",
       "       [-1632.0078125 ],\n",
       "       [-1632.0078125 ],\n",
       "       [-1632.0078125 ],\n",
       "       [-1632.0078125 ],\n",
       "       [-1632.0078125 ],\n",
       "       [-1632.0078125 ],\n",
       "       [-1632.0078125 ],\n",
       "       [-1632.0078125 ],\n",
       "       [-1632.0078125 ],\n",
       "       [-1632.0078125 ],\n",
       "       [-1632.0078125 ],\n",
       "       [-1632.0078125 ],\n",
       "       [-1632.0078125 ],\n",
       "       [-1632.0078125 ],\n",
       "       [-1632.0078125 ],\n",
       "       [-1632.0078125 ],\n",
       "       [-1632.0078125 ],\n",
       "       [-1632.0078125 ],\n",
       "       [-1632.0078125 ],\n",
       "       [-1632.0078125 ],\n",
       "       [-1632.0078125 ],\n",
       "       [-1632.0078125 ],\n",
       "       [-1632.0078125 ],\n",
       "       [-1632.0078125 ],\n",
       "       [-1632.0078125 ],\n",
       "       [-1632.0078125 ],\n",
       "       [-1632.0078125 ]])"
      ]
     },
     "execution_count": 49,
     "metadata": {},
     "output_type": "execute_result"
    }
   ],
   "source": [
    "qwe=np.array(x)\n",
    "qwe.shape\n",
    "np.reshape(qwe, (128, 1))"
   ]
  },
  {
   "cell_type": "code",
   "execution_count": 50,
   "metadata": {},
   "outputs": [
    {
     "name": "stdout",
     "output_type": "stream",
     "text": [
      "[-469.2022460937501]\n",
      "[-438.19409765624994]\n",
      "[-487.15433203124996]\n",
      "[-561.4106875]\n",
      "[-387.60185546875005]\n",
      "[-408.00195312499994]\n",
      "[-430.03405859375]\n",
      "[-308.44947656249997]\n",
      "[-486.338328125]\n",
      "[-423.50602734374985]\n",
      "[-449.61815234375]\n",
      "[-405.5539414062499]\n",
      "[-422.6900234375]\n",
      "[-417.7939999999999]\n",
      "[-362.30573437500004]\n",
      "[-474.9142734375]\n",
      "[-273.36130859375]\n",
      "[-394.945890625]\n",
      "[-421.87401953125]\n",
      "[-501.0263984375]\n",
      "[-399.02591015625]\n",
      "[-347.61766406249995]\n",
      "[-416.97799609374994]\n",
      "[-457.77819140624996]\n",
      "[-291.31339453124997]\n",
      "[-456.14618359375004]\n",
      "[-490.4183476562499]\n",
      "[-340.27362890625005]\n",
      "[-424.32203124999995]\n",
      "[-363.93774218749996]\n",
      "[-344.3536484375]\n",
      "[-389.23386328125]\n",
      "[-372.91378515624996]\n",
      "[-284.78536328125]\n",
      "[-520.6104921875]\n",
      "[-730.32349609375]\n",
      "[-368.01776171875]\n",
      "[-407.18594921875]\n",
      "[-334.56160156249996]\n",
      "[-412.08197265625]\n",
      "[-372.09778125]\n",
      "[-302.73744921875004]\n",
      "[-563.85869921875]\n",
      "[-570.3867304687501]\n",
      "[-469.20224609375003]\n",
      "[-351.69768359375]\n",
      "[-293.76140624999994]\n",
      "[-558.146671875]\n",
      "[-458.5941953125]\n",
      "[-431.6660664062501]\n",
      "[-334.56160156249996]\n",
      "[-517.3464765625]\n",
      "[-333.74559765624997]\n",
      "[-403.10592968749995]\n",
      "[-476.54628125000005]\n",
      "[-465.1222265625001]\n",
      "[-417.794]\n",
      "[-515.71446875]\n",
      "[-502.6584062499999]\n",
      "[-349.24967187500005]\n",
      "[-479.81029687499995]\n",
      "[-421.058015625]\n",
      "[-495.31437109374997]\n",
      "[-452.06616406250004]\n",
      "[-387.60185546874993]\n",
      "[-386.7858515625]\n",
      "[-350.06567578125004]\n",
      "[-478.99429296875]\n",
      "[-402.28992578125]\n",
      "[-352.51368749999995]\n",
      "[-488.78633984375]\n",
      "[-135.4566484375]\n",
      "[-314.9775078125]\n",
      "[-491.2343515625001]\n",
      "[-456.96218749999997]\n",
      "[-406.36994531249996]\n",
      "[-408.00195312500006]\n",
      "[-345.98565625000003]\n",
      "[-435.7460859375001]\n",
      "[-456.1461835937499]\n",
      "[-471.65025781249994]\n",
      "[-412.89797656249993]\n",
      "[-407.18594921875]\n",
      "[-563.0426953125]\n",
      "[-318.24152343749995]\n",
      "[-571.202734375]\n",
      "[-417.794]\n",
      "[-459.41019921874994]\n",
      "[-292.1293984375]\n",
      "[-297.84142578125005]\n",
      "[-450.43415625]\n",
      "[-432.48207031249996]\n",
      "[-292.1293984375]\n",
      "[-422.6900234375001]\n",
      "[-441.45811328124995]\n",
      "[-452.0661640625]\n",
      "[-400.6579179687501]\n",
      "[-443.906125]\n",
      "[-307.63347265625]\n",
      "[-435.7460859374999]\n",
      "[-401.473921875]\n",
      "[-523.8745078125]\n",
      "[-362.30573437500004]\n",
      "[-292.1293984375]\n",
      "[-395.76189453125005]\n",
      "[-335.37760546875]\n",
      "[-502.6584062499999]\n",
      "[-318.2415234375]\n",
      "[-407.18594921875007]\n",
      "[-382.70583203125]\n",
      "[-404.73793749999993]\n",
      "[-238.273140625]\n",
      "[-424.32203125000007]\n",
      "[-501.84240234375005]\n",
      "[-383.5218359375]\n",
      "[-461.04220703125003]\n",
      "[-425.13803515625]\n",
      "[-515.7144687500002]\n",
      "[-316.609515625]\n",
      "[-532.034546875]\n",
      "[-393.3138828125]\n",
      "[-362.305734375]\n",
      "[-456.9621875]\n",
      "[-464.30622265624993]\n",
      "[-459.41019921875005]\n",
      "[-395.76189453125005]\n",
      "[-523.8745078125]\n",
      "[-487.15433203125]\n"
     ]
    }
   ],
   "source": [
    "A = X\n",
    "\n",
    "# take a 3x4 matrix\n",
    "B = [[-1632.0078125],\n",
    "       [-1632.0078125],\n",
    "       [-1632.0078125],\n",
    "       [-1632.0078125],\n",
    "       [-1632.0078125],\n",
    "       [-1632.0078125],\n",
    "       [-1632.0078125],\n",
    "       [-1632.0078125],\n",
    "       [-1632.0078125],\n",
    "       [-1632.0078125],\n",
    "       [-1632.0078125],\n",
    "       [-1632.0078125],\n",
    "       [-1632.0078125],\n",
    "       [-1632.0078125],\n",
    "       [-1632.0078125],\n",
    "       [-1632.0078125],\n",
    "       [-1632.0078125],\n",
    "       [-1632.0078125],\n",
    "       [-1632.0078125],\n",
    "       [-1632.0078125],\n",
    "       [-1632.0078125],\n",
    "       [-1632.0078125],\n",
    "       [-1632.0078125],\n",
    "       [-1632.0078125],\n",
    "       [-1632.0078125],\n",
    "       [-1632.0078125],\n",
    "       [-1632.0078125],\n",
    "       [-1632.0078125],\n",
    "       [-1632.0078125],\n",
    "       [-1632.0078125],\n",
    "       [-1632.0078125],\n",
    "       [-1632.0078125],\n",
    "       [-1632.0078125],\n",
    "       [-1632.0078125],\n",
    "       [-1632.0078125],\n",
    "       [-1632.0078125],\n",
    "       [-1632.0078125],\n",
    "       [-1632.0078125],\n",
    "       [-1632.0078125],\n",
    "       [-1632.0078125],\n",
    "       [-1632.0078125],\n",
    "       [-1632.0078125],\n",
    "       [-1632.0078125],\n",
    "       [-1632.0078125],\n",
    "       [-1632.0078125],\n",
    "       [-1632.0078125],\n",
    "       [-1632.0078125],\n",
    "       [-1632.0078125],\n",
    "       [-1632.0078125],\n",
    "       [-1632.0078125],\n",
    "       [-1632.0078125],\n",
    "       [-1632.0078125],\n",
    "       [-1632.0078125],\n",
    "       [-1632.0078125],\n",
    "       [-1632.0078125],\n",
    "       [-1632.0078125],\n",
    "       [-1632.0078125],\n",
    "       [-1632.0078125],\n",
    "       [-1632.0078125],\n",
    "       [-1632.0078125],\n",
    "       [-1632.0078125],\n",
    "       [-1632.0078125],\n",
    "       [-1632.0078125],\n",
    "       [-1632.0078125],\n",
    "       [-1632.0078125],\n",
    "       [-1632.0078125],\n",
    "       [-1632.0078125],\n",
    "       [-1632.0078125],\n",
    "       [-1632.0078125],\n",
    "       [-1632.0078125],\n",
    "       [-1632.0078125],\n",
    "       [-1632.0078125],\n",
    "       [-1632.0078125],\n",
    "       [-1632.0078125],\n",
    "       [-1632.0078125],\n",
    "       [-1632.0078125],\n",
    "       [-1632.0078125],\n",
    "       [-1632.0078125],\n",
    "       [-1632.0078125],\n",
    "       [-1632.0078125],\n",
    "       [-1632.0078125],\n",
    "       [-1632.0078125],\n",
    "       [-1632.0078125],\n",
    "       [-1632.0078125],\n",
    "       [-1632.0078125],\n",
    "       [-1632.0078125],\n",
    "       [-1632.0078125],\n",
    "       [-1632.0078125],\n",
    "       [-1632.0078125],\n",
    "       [-1632.0078125],\n",
    "       [-1632.0078125],\n",
    "       [-1632.0078125],\n",
    "       [-1632.0078125],\n",
    "       [-1632.0078125],\n",
    "       [-1632.0078125],\n",
    "       [-1632.0078125],\n",
    "       [-1632.0078125],\n",
    "       [-1632.0078125],\n",
    "       [-1632.0078125],\n",
    "       [-1632.0078125],\n",
    "       [-1632.0078125],\n",
    "       [-1632.0078125],\n",
    "       [-1632.0078125],\n",
    "       [-1632.0078125],\n",
    "       [-1632.0078125],\n",
    "       [-1632.0078125],\n",
    "       [-1632.0078125],\n",
    "       [-1632.0078125],\n",
    "       [-1632.0078125],\n",
    "       [-1632.0078125],\n",
    "       [-1632.0078125],\n",
    "       [-1632.0078125],\n",
    "       [-1632.0078125],\n",
    "       [-1632.0078125],\n",
    "       [-1632.0078125],\n",
    "       [-1632.0078125],\n",
    "       [-1632.0078125],\n",
    "       [-1632.0078125],\n",
    "       [-1632.0078125],\n",
    "       [-1632.0078125],\n",
    "       [-1632.0078125],\n",
    "       [-1632.0078125],\n",
    "       [-1632.0078125],\n",
    "       [-1632.0078125],\n",
    "       [-1632.0078125],\n",
    "       [-1632.0078125],\n",
    "       [-1632.0078125],\n",
    "       [-1632.0078125]]\n",
    "# result will be 3x4\n",
    "result = [[sum(a * b for a, b in zip(A_row, B_col))\n",
    "\t\t\t\t\t\tfor B_col in zip(*B)]\n",
    "\t\t\t\t\t\t\t\tfor A_row in A]\n",
    "\n",
    "for r in result:\n",
    "\tprint(r)"
   ]
  },
  {
   "cell_type": "code",
   "execution_count": 51,
   "metadata": {},
   "outputs": [
    {
     "name": "stdout",
     "output_type": "stream",
     "text": [
      "[[-469.2022460937501], [-438.2065976562499], [-487.16983203124994], [-561.4106875], [-387.60185546875005], [-408.00195312499994], [-430.03405859375], [-308.45897656249997], [-486.349328125], [-423.50602734374985], [-449.61815234375], [-405.5539414062499], [-422.70302343749995], [-417.7939999999999], [-362.31523437500005], [-474.9257734375], [-273.36130859375], [-394.945890625], [-421.87401953125], [-501.0263984375], [-399.02591015625], [-347.61766406249995], [-416.98649609374996], [-457.77819140624996], [-291.31339453124997], [-456.15618359375003], [-490.4253476562499], [-340.27362890625005], [-424.33403124999995], [-363.93774218749996], [-344.3536484375], [-389.24286328125004], [-372.91378515624996], [-284.79786328125], [-520.6219921874999], [-730.33399609375], [-368.02776171875], [-407.19844921875], [-334.57460156249994], [-412.09647265625], [-372.09778125], [-302.73744921875004], [-563.85869921875], [-570.3867304687501], [-469.21574609375006], [-351.69768359375], [-293.77290624999995], [-558.158171875], [-458.6031953125], [-431.6660664062501], [-334.57310156249997], [-517.3464765625], [-333.75509765625], [-403.1169296875], [-476.55828125000005], [-465.1222265625001], [-417.794], [-515.7274687500001], [-502.6584062499999], [-349.26317187500007], [-479.81029687499995], [-421.070515625], [-495.31437109374997], [-452.0766640625], [-387.60185546874993], [-386.7858515625], [-350.07717578125005], [-479.00529296875004], [-402.30792578125], [-352.51368749999995], [-488.78633984375], [-135.46714843750001], [-314.99050781249997], [-491.2343515625001], [-456.9756875], [-406.36994531249996], [-408.00195312500006], [-345.99615625], [-435.7595859375001], [-456.1606835937499], [-471.65025781249994], [-412.89797656249993], [-407.18594921875], [-563.0426953125], [-318.25202343749993], [-571.202734375], [-417.80699999999996], [-459.42169921874995], [-292.1293984375], [-297.84142578125005], [-450.44965625], [-432.48207031249996], [-292.1293984375], [-422.6900234375001], [-441.47261328124995], [-452.0661640625], [-400.6754179687501], [-443.906125], [-307.64647265624995], [-435.7625859374999], [-401.473921875], [-523.8860078125], [-362.32073437500003], [-292.1413984375], [-395.76189453125005], [-335.39160546875], [-502.66790624999993], [-318.2540234375], [-407.18594921875007], [-382.71633203125], [-404.73793749999993], [-238.286640625], [-424.33653125000006], [-501.8534023437501], [-383.5338359375], [-461.04220703125003], [-425.13803515625], [-515.7284687500002], [-316.62251562499995], [-532.046046875], [-393.3243828125], [-362.305734375], [-456.9621875], [-464.30622265624993], [-459.41019921875005], [-395.76189453125005], [-523.8850078125], [-487.15433203125]]\n"
     ]
    }
   ],
   "source": [
    "matrix2 = Y\n",
    "\n",
    "matrix1= [[-469.2022460937501],\n",
    "[-438.19409765624994],\n",
    "[-487.15433203124996],\n",
    "[-561.4106875],\n",
    "[-387.60185546875005],\n",
    "[-408.00195312499994],\n",
    "[-430.03405859375],\n",
    "[-308.44947656249997],\n",
    "[-486.338328125],\n",
    "[-423.50602734374985],\n",
    "[-449.61815234375],\n",
    "[-405.5539414062499],\n",
    "[-422.6900234375],\n",
    "[-417.7939999999999],\n",
    "[-362.30573437500004],\n",
    "[-474.9142734375],\n",
    "[-273.36130859375],\n",
    "[-394.945890625],\n",
    "[-421.87401953125],\n",
    "[-501.0263984375],\n",
    "[-399.02591015625],\n",
    "[-347.61766406249995],\n",
    "[-416.97799609374994],\n",
    "[-457.77819140624996],\n",
    "[-291.31339453124997],\n",
    "[-456.14618359375004],\n",
    "[-490.4183476562499],\n",
    "[-340.27362890625005],\n",
    "[-424.32203124999995],\n",
    "[-363.93774218749996],\n",
    "[-344.3536484375],\n",
    "[-389.23386328125],\n",
    "[-372.91378515624996],\n",
    "[-284.78536328125],\n",
    "[-520.6104921875],\n",
    "[-730.32349609375],\n",
    "[-368.01776171875],\n",
    "[-407.18594921875],\n",
    "[-334.56160156249996],\n",
    "[-412.08197265625],\n",
    "[-372.09778125],\n",
    "[-302.73744921875004],\n",
    "[-563.85869921875],\n",
    "[-570.3867304687501],\n",
    "[-469.20224609375003],\n",
    "[-351.69768359375],\n",
    "[-293.76140624999994],\n",
    "[-558.146671875],\n",
    "[-458.5941953125],\n",
    "[-431.6660664062501],\n",
    "[-334.56160156249996],\n",
    "[-517.3464765625],\n",
    "[-333.74559765624997],\n",
    "[-403.10592968749995],\n",
    "[-476.54628125000005],\n",
    "[-465.1222265625001],\n",
    "[-417.794],\n",
    "[-515.71446875],\n",
    "[-502.6584062499999],\n",
    "[-349.24967187500005],\n",
    "[-479.81029687499995],\n",
    "[-421.058015625],\n",
    "[-495.31437109374997],\n",
    "[-452.06616406250004],\n",
    "[-387.60185546874993],\n",
    "[-386.7858515625],\n",
    "[-350.06567578125004],\n",
    "[-478.99429296875],\n",
    "[-402.28992578125],\n",
    "[-352.51368749999995],\n",
    "[-488.78633984375],\n",
    "[-135.4566484375],\n",
    "[-314.9775078125],\n",
    "[-491.2343515625001],\n",
    "[-456.96218749999997],\n",
    "[-406.36994531249996],\n",
    "[-408.00195312500006],\n",
    "[-345.98565625000003],\n",
    "[-435.7460859375001],\n",
    "[-456.1461835937499],\n",
    "[-471.65025781249994],\n",
    "[-412.89797656249993],\n",
    "[-407.18594921875],\n",
    "[-563.0426953125],\n",
    "[-318.24152343749995],\n",
    "[-571.202734375],\n",
    "[-417.794],\n",
    "[-459.41019921874994],\n",
    "[-292.1293984375],\n",
    "[-297.84142578125005],\n",
    "[-450.43415625],\n",
    "[-432.48207031249996],\n",
    "[-292.1293984375],\n",
    "[-422.6900234375001],\n",
    "[-441.45811328124995],\n",
    "[-452.0661640625],\n",
    "[-400.6579179687501],\n",
    "[-443.906125],\n",
    "[-307.63347265625],\n",
    "[-435.7460859374999],\n",
    "[-401.473921875],\n",
    "[-523.8745078125],\n",
    "[-362.30573437500004],\n",
    "[-292.1293984375],\n",
    "[-395.76189453125005],\n",
    "[-335.37760546875],\n",
    "[-502.6584062499999],\n",
    "[-318.2415234375],\n",
    "[-407.18594921875007],\n",
    "[-382.70583203125],\n",
    "[-404.73793749999993],\n",
    "[-238.273140625],\n",
    "[-424.32203125000007],\n",
    "[-501.84240234375005],\n",
    "[-383.5218359375],\n",
    "[-461.04220703125003],\n",
    "[-425.13803515625],\n",
    "[-515.7144687500002],\n",
    "[-316.609515625],\n",
    "[-532.034546875],\n",
    "[-393.3138828125],\n",
    "[-362.305734375],\n",
    "[-456.9621875],\n",
    "[-464.30622265624993],\n",
    "[-459.41019921875005],\n",
    "[-395.76189453125005],\n",
    "[-523.8745078125],\n",
    "[-487.15433203125]]\n",
    "\n",
    "\n",
    "\n",
    "\n",
    "#output = [[-1, -1, -1], \n",
    "\t\t# [-1, 0, -1], \n",
    "        # [-1, -1, -1]]\n",
    "\n",
    "def subtractTheMatrix(matrix1, matrix2):\n",
    "    matrix1Rows = len(matrix1)\n",
    "    matrix2Rows = len(matrix2)\n",
    "    matrix1Col = len(matrix1[0])\n",
    "    matrix2Col = len(matrix2[0])\n",
    "\n",
    "    #base case\n",
    "    if(matrix1Rows != matrix2Rows or matrix1Col != matrix2Col):\n",
    "        return \"ERROR: dimensions of the two arrays must be the same\"\n",
    "\n",
    "    #make a matrix of the same size as matrix 1 and matrix 2\n",
    "    matrix = []\n",
    "    rows = []\n",
    "\n",
    "    for i in range(0, matrix1Rows):\n",
    "        for j in range(0, matrix2Col):\n",
    "            rows.append(0)\n",
    "        matrix.append(rows.copy())\n",
    "        rows = []\n",
    "\n",
    "    #loop through the two matricies and the subtraction should be placed in the\n",
    "    #matrix\n",
    "    for i in range(0, matrix1Rows):\n",
    "        for j in range(0, matrix2Col):\n",
    "            matrix[i][j] = matrix1[i][j] - matrix2[i][j]\n",
    "            \n",
    "    return matrix\n",
    "\n",
    "print(subtractTheMatrix(matrix1, matrix2))"
   ]
  },
  {
   "cell_type": "code",
   "execution_count": 52,
   "metadata": {},
   "outputs": [
    {
     "data": {
      "text/plain": [
       "array([425.45603268])"
      ]
     },
     "execution_count": 52,
     "metadata": {},
     "output_type": "execute_result"
    }
   ],
   "source": [
    "#y=np.linalg.solve(A,B)\n",
    "import numpy as np\n",
    "t=(subtractTheMatrix(matrix1, matrix2))\n",
    "m=np.array(t)\n",
    "g=0\n",
    "for i in range(0,128):\n",
    "    y=m[i]\n",
    "    g+=y*y\n",
    "\n",
    "\n",
    "u=g/128\n",
    "y=pow(u,0.5)\n",
    "y                                                      "
   ]
  },
  {
   "cell_type": "markdown",
   "metadata": {},
   "source": [
    "# Solution Using GMRES"
   ]
  },
  {
   "cell_type": "code",
   "execution_count": 56,
   "metadata": {},
   "outputs": [],
   "source": [
    "import scipy.sparse.linalg as sc"
   ]
  },
  {
   "cell_type": "code",
   "execution_count": 57,
   "metadata": {},
   "outputs": [],
   "source": [
    "c_sol= sc.gmres(X,Y,tol=1e-16)"
   ]
  },
  {
   "cell_type": "code",
   "execution_count": 58,
   "metadata": {},
   "outputs": [
    {
     "data": {
      "text/plain": [
       "(array([-0.01530601,  0.00375019,  0.13448089,  0.15365693,  0.06191029,\n",
       "         0.05783024,  0.12602755,  0.03185253,  0.04877503,  0.11404171,\n",
       "        -0.04050447, -0.1055013 , -0.07444316, -0.05840333,  0.11795521,\n",
       "        -0.08503122,  0.13546581, -0.10832079,  0.05330054, -0.09741569,\n",
       "        -0.06434166, -0.01153638,  0.00908001,  0.03093291,  0.0289397 ,\n",
       "        -0.00390896,  0.03373532, -0.00782227,  0.00804843, -0.03980516,\n",
       "        -0.13298429,  0.06924455,  0.09109137,  0.01653002,  0.1407556 ,\n",
       "         0.14772007, -0.06948246, -0.11525964,  0.15624843,  0.02321375,\n",
       "         0.05609872,  0.05527096, -0.05015722,  0.04738595,  0.02680638,\n",
       "         0.13718615, -0.01914702,  0.03883073,  0.00278026,  0.06985751,\n",
       "         0.10285665,  0.00079914,  0.01214095,  0.00063415, -0.0512967 ,\n",
       "        -0.19326246,  0.03986524, -0.0871016 , -0.02721198,  0.09392706,\n",
       "         0.05901759,  0.01050508, -0.0758373 ,  0.07483357, -0.09203368,\n",
       "         0.18625201, -0.05074855,  0.03897908,  0.0382122 ,  0.02440503,\n",
       "        -0.06814207, -0.12695373,  0.09596268,  0.07717824,  0.07294381,\n",
       "         0.15291284,  0.03548761,  0.08116726,  0.01475664,  0.13466735,\n",
       "         0.10079087,  0.01427202,  0.00602099,  0.11358644, -0.12475251,\n",
       "         0.04929932, -0.01457509,  0.06357728,  0.02472124,  0.08145796,\n",
       "        -0.12641478,  0.05772166,  0.02519545,  0.03627067,  0.00988261,\n",
       "         0.05806847,  0.09515239, -0.02875942,  0.0823997 , -0.08243843,\n",
       "        -0.04128227,  0.05833485, -0.0441098 ,  0.04798307, -0.04127508,\n",
       "        -0.03690739,  0.10422858, -0.01968625,  0.06135619, -0.04332135,\n",
       "         0.04369299, -0.00318615, -0.11109251,  0.02601913, -0.10184496,\n",
       "         0.07851321,  0.1382912 ,  0.16619887,  0.03003407, -0.03678233,\n",
       "         0.10068192,  0.07737092,  0.10609793, -0.01214323, -0.01976993,\n",
       "         0.01888841, -0.00423736,  0.07314442]),\n",
       " 1280)"
      ]
     },
     "execution_count": 58,
     "metadata": {},
     "output_type": "execute_result"
    }
   ],
   "source": [
    "c_sol\n"
   ]
  },
  {
   "cell_type": "markdown",
   "metadata": {},
   "source": [
    "## Ax"
   ]
  },
  {
   "cell_type": "code",
   "execution_count": 59,
   "metadata": {},
   "outputs": [
    {
     "name": "stdout",
     "output_type": "stream",
     "text": [
      "[0.0037111197650000005]\n",
      "[0.011742777740000003]\n",
      "[0.013497992975000003]\n",
      "[0.00565458573]\n",
      "[0.0010340853200000001]\n",
      "[0.00659778684]\n",
      "[0.0020404444550000005]\n",
      "[0.0020676621450000003]\n",
      "[0.012111026585]\n",
      "[0.00367105568]\n",
      "[0.0061839872749999995]\n",
      "[0.0064745688749999995]\n",
      "[0.0065383873350000005]\n",
      "[0.007567209880000001]\n",
      "[0.006287733349999999]\n",
      "[0.003309831495]\n",
      "[0.003990784205]\n",
      "[0.006878313449999999]\n",
      "[0.007646004009999999]\n",
      "[0.005573092369999998]\n",
      "[0.002912516775]\n",
      "[0.005223397609999999]\n",
      "[0.009162538060000001]\n",
      "[0.00664379246]\n",
      "[0.005961420869999999]\n",
      "[0.010478435089999998]\n",
      "[0.00765629643]\n",
      "[0.004475112765000001]\n",
      "[0.01211172604]\n",
      "[-0.0016588019250000003]\n",
      "[0.0010787223900000009]\n",
      "[0.00825089382]\n",
      "[0.0034026139200000003]\n",
      "[0.0031831526300000012]\n",
      "[0.009253478444999998]\n",
      "[0.010785785890000002]\n",
      "[-0.0018032620800000003]\n",
      "[0.00098599659]\n",
      "[0.0066032555199999985]\n",
      "[0.0074106227549999995]\n",
      "[0.003039943449999998]\n",
      "[0.00350002546]\n",
      "[0.003668154465]\n",
      "[0.005268352509999999]\n",
      "[0.0071805264599999995]\n",
      "[0.005028970825]\n",
      "[0.009934238785]\n",
      "[0.010437819210000001]\n",
      "[0.005982420015]\n",
      "[0.005980746435]\n",
      "[0.0033372140600000004]\n",
      "[0.00885529027]\n",
      "[0.005183365865]\n",
      "[0.0068444605600000005]\n",
      "[0.0032250140349999986]\n",
      "[0.004528184105]\n",
      "[0.0013309564099999993]\n",
      "[0.01212684521]\n",
      "[0.00435337698]\n",
      "[0.005886345770000001]\n",
      "[0.00478080523]\n",
      "[0.011272290944999997]\n",
      "[0.0035670195749999997]\n",
      "[0.007984475279999997]\n",
      "[0.006906541034999998]\n",
      "[0.0030832019700000003]\n",
      "[0.00496226592]\n",
      "[0.011170848449999998]\n",
      "[0.009576912165000001]\n",
      "[0.010231510795]\n",
      "[0.00198287623]\n",
      "[0.00528009288]\n",
      "[0.00601012316]\n",
      "[0.008421782399999996]\n",
      "[0.00847089257]\n",
      "[0.00532170729]\n",
      "[0.00466159321]\n",
      "[0.008109971274999999]\n",
      "[0.01029889126]\n",
      "[0.014419807730000001]\n",
      "[0.0026780478200000004]\n",
      "[0.0030966098950000005]\n",
      "[-0.002998476925000001]\n",
      "[0.00290678477]\n",
      "[0.004045023379999999]\n",
      "[0.007078453645]\n",
      "[0.007856074815]\n",
      "[0.009714125035]\n",
      "[0.0054227816]\n",
      "[0.004162763305]\n",
      "[0.01369346631]\n",
      "[-0.0011390888249999999]\n",
      "[0.003319763675]\n",
      "[0.00697109275]\n",
      "[0.00490663295]\n",
      "[0.00214264657]\n",
      "[0.012953117459999998]\n",
      "[0.007718782619999998]\n",
      "[0.00636895939]\n",
      "[0.00433716968]\n",
      "[0.005920681069999999]\n",
      "[0.007755659175]\n",
      "[0.001815701200000001]\n",
      "[0.0024122183649999997]\n",
      "[0.0011291598799999995]\n",
      "[0.010487680335000001]\n",
      "[0.008497533285]\n",
      "[0.004755265585]\n",
      "[0.0006676043650000003]\n",
      "[0.004858293035000001]\n",
      "[0.004299304065000001]\n",
      "[0.0034763603449999994]\n",
      "[0.00851946857]\n",
      "[0.00454864504]\n",
      "[0.012615419085000003]\n",
      "[0.0069286070400000005]\n",
      "[0.00838497303]\n",
      "[0.004345126140000001]\n",
      "[0.006129420524999999]\n",
      "[0.009231521630000001]\n",
      "[0.007836880525000001]\n",
      "[0.004667997555]\n",
      "[0.0027030519549999994]\n",
      "[0.00149114169]\n",
      "[0.002251187925]\n",
      "[0.00284592467]\n",
      "[0.0017559207550000005]\n",
      "[0.004277012994999998]\n"
     ]
    }
   ],
   "source": [
    "# Program to multiply two matrices using list comprehension\n",
    "\n",
    "# take a 3x3 matrix\n",
    "C = X\n",
    "\n",
    "# take a 3x4 matrix\n",
    "D = [[-0.01530601],[  0.00375019],[  0.13448089],[  0.15365693],[  0.06191029],[\n",
    "         0.05783024],[  0.12602755],[  0.03185253],[  0.04877503],[  0.11404171],[\n",
    "        -0.04050447],[ -0.1055013 ],[ -0.07444316],[ -0.05840333],[  0.11795521],[\n",
    "        -0.08503122],[  0.13546581],[ -0.10832079],[  0.05330054],[ -0.09741569],[\n",
    "        -0.06434166],[ -0.01153638],[  0.00908001],[  0.03093291],[  0.0289397 ],[\n",
    "        -0.00390896],[  0.03373532],[ -0.00782227],[  0.00804843],[ -0.03980516],[\n",
    "        -0.13298429],[  0.06924455],[  0.09109137],[  0.01653002],[  0.1407556 ],[\n",
    "         0.14772007],[ -0.06948246],[ -0.11525964],[  0.15624843],[  0.02321375],[\n",
    "         0.05609872],[  0.05527096],[ -0.05015722],[  0.04738595],[  0.02680638],[\n",
    "         0.13718615],[ -0.01914702],[  0.03883073],[  0.00278026],[  0.06985751],[\n",
    "         0.10285665],[  0.00079914],[  0.01214095],[  0.00063415],[ -0.0512967 ],[\n",
    "        -0.19326246],[  0.03986524],[ -0.0871016 ],[ -0.02721198],[  0.09392706],[\n",
    "         0.05901759],[  0.01050508],[ -0.0758373 ],[  0.07483357],[ -0.09203368],[\n",
    "         0.18625201],[ -0.05074855],[  0.03897908],[  0.0382122 ],[  0.02440503],[\n",
    "        -0.06814207],[ -0.12695373],[  0.09596268],[  0.07717824],[  0.07294381],[\n",
    "         0.15291284],[  0.03548761],[  0.08116726],[  0.01475664],[  0.13466735],[\n",
    "         0.10079087],[  0.01427202],[  0.00602099],[  0.11358644],[ -0.12475251],[\n",
    "         0.04929932],[ -0.01457509],[  0.06357728],[  0.02472124],[  0.08145796],[\n",
    "        -0.12641478],[  0.05772166],[  0.02519545],[  0.03627067],[  0.00988261],[\n",
    "         0.05806847],[  0.09515239],[ -0.02875942],[  0.0823997 ],[ -0.08243843],[\n",
    "        -0.04128227],[  0.05833485],[ -0.0441098 ],[  0.04798307],[ -0.04127508],[\n",
    "        -0.03690739],[  0.10422858],[ -0.01968625],[  0.06135619],[ -0.04332135],[\n",
    "         0.04369299],[ -0.00318615],[ -0.11109251],[  0.02601913],[ -0.10184496],[\n",
    "         0.07851321],[  0.1382912 ],[  0.16619887],[  0.03003407],[ -0.03678233],[\n",
    "         0.10068192],[  0.07737092],[  0.10609793],[ -0.01214323],[ -0.01976993],[\n",
    "         0.01888841],[ -0.00423736],[  0.07314442]]\n",
    "\n",
    "\n",
    "\n",
    "# result will be 3x4\n",
    "result = [[sum(a * b for a, b in zip(C_row, D_col))\n",
    "\t\t\t\t\t\tfor D_col in zip(*D)]\n",
    "\t\t\t\t\t\t\t\tfor C_row in C]\n",
    "\n",
    "for r in result:\n",
    "\tprint(r)"
   ]
  },
  {
   "cell_type": "markdown",
   "metadata": {},
   "source": [
    "## Ax-b"
   ]
  },
  {
   "cell_type": "code",
   "execution_count": 60,
   "metadata": {},
   "outputs": [
    {
     "name": "stdout",
     "output_type": "stream",
     "text": [
      "[[0.0037111197650000005], [-0.0007572222599999973], [-0.002002007024999997], [0.00565458573], [0.0010340853200000001], [0.00659778684], [0.0020404444550000005], [-0.007432337854999999], [0.001111026585000001], [0.00367105568], [0.0061839872749999995], [0.0064745688749999995], [-0.006461612664999999], [0.007567209880000001], [-0.003212266650000001], [-0.008190168505], [0.003990784205], [0.006878313449999999], [0.007646004009999999], [0.005573092369999998], [0.002912516775], [0.005223397609999999], [0.0006625380600000005], [0.00664379246], [0.005961420869999999], [0.00047843508999999805], [0.0006562964299999998], [0.004475112765000001], [0.00011172603999999933], [-0.0016588019250000003], [0.0010787223900000009], [-0.0007491061799999987], [0.0034026139200000003], [-0.009316847369999999], [-0.002246521555000002], [0.000285785890000001], [-0.01180326208], [-0.011514003410000001], [-0.006396744480000001], [-0.007089377245000001], [0.003039943449999998], [0.00350002546], [0.003668154465], [0.005268352509999999], [-0.00631947354], [0.005028970825], [-0.0015657612149999993], [-0.0010621807899999988], [-0.0030175799849999994], [0.005980746435], [-0.00816278594], [0.00885529027], [-0.004316634135], [-0.004155539439999999], [-0.008774985965000003], [0.004528184105], [0.0013309564099999993], [-0.0008731547899999987], [0.00435337698], [-0.007613654229999999], [0.00478080523], [-0.0012277090550000033], [0.0035670195749999997], [-0.002515524720000004], [0.006906541034999998], [0.0030832019700000003], [-0.00653773408], [0.00017084844999999856], [-0.008423087834999997], [0.010231510795], [0.00198287623], [-0.005219907120000001], [-0.006989876839999999], [0.008421782399999996], [-0.0050291074300000006], [0.00532170729], [0.00466159321], [-0.0023900287250000016], [-0.00320110874], [-8.019226999999955e-05], [0.0026780478200000004], [0.0030966098950000005], [-0.002998476925000001], [0.00290678477], [-0.006454976620000001], [0.007078453645], [-0.0051439251849999985], [-0.0017858749649999998], [0.0054227816], [0.004162763305], [-0.0018065336900000006], [-0.0011390888249999999], [0.003319763675], [0.00697109275], [-0.009593367050000001], [0.00214264657], [-0.004546882540000003], [0.007718782619999998], [-0.00663104061], [-0.012162830320000002], [0.005920681069999999], [-0.0037443408249999994], [-0.013184298799999999], [-0.009587781635], [0.0011291598799999995], [-0.0035123196649999994], [-0.001002466714999999], [-0.007744734415000001], [0.0006676043650000003], [-0.005641706965], [0.004299304065000001], [-0.010023639655], [-0.00598053143], [-0.006451354959999999], [0.0006154190850000026], [0.0069286070400000005], [0.00838497303], [-0.00965487386], [-0.006870579475], [-0.0022684783699999985], [-0.0026631194749999997], [0.004667997555], [0.0027030519549999994], [0.00149114169], [0.002251187925], [0.00284592467], [-0.008744079245], [0.004277012994999998]]\n"
     ]
    }
   ],
   "source": [
    "matrix2 = Y\n",
    "\n",
    "matrix1 = [[0.0037111197650000005],\n",
    "[0.011742777740000003],\n",
    "[0.013497992975000003],\n",
    "[0.00565458573],\n",
    "[0.0010340853200000001],\n",
    "[0.00659778684],\n",
    "[0.0020404444550000005],\n",
    "[0.0020676621450000003],\n",
    "[0.012111026585],\n",
    "[0.00367105568],\n",
    "[0.0061839872749999995],\n",
    "[0.0064745688749999995],\n",
    "[0.0065383873350000005],\n",
    "[0.007567209880000001],\n",
    "[0.006287733349999999],\n",
    "[0.003309831495],\n",
    "[0.003990784205],\n",
    "[0.006878313449999999],\n",
    "[0.007646004009999999],\n",
    "[0.005573092369999998],\n",
    "[0.002912516775],\n",
    "[0.005223397609999999],\n",
    "[0.009162538060000001],\n",
    "[0.00664379246],\n",
    "[0.005961420869999999],\n",
    "[0.010478435089999998],\n",
    "[0.00765629643],\n",
    "[0.004475112765000001],\n",
    "[0.01211172604],\n",
    "[-0.0016588019250000003],\n",
    "[0.0010787223900000009],\n",
    "[0.00825089382],\n",
    "[0.0034026139200000003],\n",
    "[0.0031831526300000012],\n",
    "[0.009253478444999998],\n",
    "[0.010785785890000002],\n",
    "[-0.0018032620800000003],\n",
    "[0.00098599659],\n",
    "[0.0066032555199999985],\n",
    "[0.0074106227549999995],\n",
    "[0.003039943449999998],\n",
    "[0.00350002546],\n",
    "[0.003668154465],\n",
    "[0.005268352509999999],\n",
    "[0.0071805264599999995],\n",
    "[0.005028970825],\n",
    "[0.009934238785],\n",
    "[0.010437819210000001],\n",
    "[0.005982420015],\n",
    "[0.005980746435],\n",
    "[0.0033372140600000004],\n",
    "[0.00885529027],\n",
    "[0.005183365865],\n",
    "[0.0068444605600000005],\n",
    "[0.0032250140349999986],\n",
    "[0.004528184105],\n",
    "[0.0013309564099999993],\n",
    "[0.01212684521],\n",
    "[0.00435337698],\n",
    "[0.005886345770000001],\n",
    "[0.00478080523],\n",
    "[0.011272290944999997],\n",
    "[0.0035670195749999997],\n",
    "[0.007984475279999997],\n",
    "[0.006906541034999998],\n",
    "[0.0030832019700000003],\n",
    "[0.00496226592],\n",
    "[0.011170848449999998],\n",
    "[0.009576912165000001],\n",
    "[0.010231510795],\n",
    "[0.00198287623],\n",
    "[0.00528009288],\n",
    "[0.00601012316],\n",
    "[0.008421782399999996],\n",
    "[0.00847089257],\n",
    "[0.00532170729],\n",
    "[0.00466159321],\n",
    "[0.008109971274999999],\n",
    "[0.01029889126],\n",
    "[0.014419807730000001],\n",
    "[0.0026780478200000004],\n",
    "[0.0030966098950000005],\n",
    "[-0.002998476925000001],\n",
    "[0.00290678477],\n",
    "[0.004045023379999999],\n",
    "[0.007078453645],\n",
    "[0.007856074815],\n",
    "[0.009714125035],\n",
    "[0.0054227816],\n",
    "[0.004162763305],\n",
    "[0.01369346631],\n",
    "[-0.0011390888249999999],\n",
    "[0.003319763675],\n",
    "[0.00697109275],\n",
    "[0.00490663295],\n",
    "[0.00214264657],\n",
    "[0.012953117459999998],\n",
    "[0.007718782619999998],\n",
    "[0.00636895939],\n",
    "[0.00433716968],\n",
    "[0.005920681069999999],\n",
    "[0.007755659175],\n",
    "[0.001815701200000001],\n",
    "[0.0024122183649999997],\n",
    "[0.0011291598799999995],\n",
    "[0.010487680335000001],\n",
    "[0.008497533285],\n",
    "[0.004755265585],\n",
    "[0.0006676043650000003],\n",
    "[0.004858293035000001],\n",
    "[0.004299304065000001],\n",
    "[0.0034763603449999994],\n",
    "[0.00851946857],\n",
    "[0.00454864504],\n",
    "[0.012615419085000003],\n",
    "[0.0069286070400000005],\n",
    "[0.00838497303],\n",
    "[0.004345126140000001],\n",
    "[0.006129420524999999],\n",
    "[0.009231521630000001],\n",
    "[0.007836880525000001],\n",
    "[0.004667997555],\n",
    "[0.0027030519549999994],\n",
    "[0.00149114169],\n",
    "[0.002251187925],\n",
    "[0.00284592467],\n",
    "[0.0017559207550000005],\n",
    "[0.004277012994999998]]\n",
    "\n",
    "\n",
    "\n",
    "#output = [[-1, -1, -1], \n",
    "\t\t# [-1, 0, -1], \n",
    "        # [-1, -1, -1]]\n",
    "\n",
    "def subtractTheMatrix(matrix1, matrix2):\n",
    "    matrix1Rows = len(matrix1)\n",
    "    matrix2Rows = len(matrix2)\n",
    "    matrix1Col = len(matrix1[0])\n",
    "    matrix2Col = len(matrix2[0])\n",
    "\n",
    "    #base case\n",
    "    if(matrix1Rows != matrix2Rows or matrix1Col != matrix2Col):\n",
    "        return \"ERROR: dimensions of the two arrays must be the same\"\n",
    "\n",
    "    #make a matrix of the same size as matrix 1 and matrix 2\n",
    "    matrix = []\n",
    "    rows = []\n",
    "\n",
    "    for i in range(0, matrix1Rows):\n",
    "        for j in range(0, matrix2Col):\n",
    "            rows.append(0)\n",
    "        matrix.append(rows.copy())\n",
    "        rows = []\n",
    "\n",
    "    #loop through the two matricies and the subtraction should be placed in the\n",
    "    #matrix\n",
    "    for i in range(0, matrix1Rows):\n",
    "        for j in range(0, matrix2Col):\n",
    "            matrix[i][j] = matrix1[i][j] - matrix2[i][j]\n",
    "            \n",
    "    return matrix\n",
    "\n",
    "\n",
    "\n",
    "print(subtractTheMatrix(matrix1, matrix2))"
   ]
  },
  {
   "cell_type": "markdown",
   "metadata": {},
   "source": [
    "# Loss Function    "
   ]
  },
  {
   "cell_type": "code",
   "execution_count": 61,
   "metadata": {},
   "outputs": [
    {
     "data": {
      "text/plain": [
       "array([0.00555199])"
      ]
     },
     "execution_count": 61,
     "metadata": {},
     "output_type": "execute_result"
    }
   ],
   "source": [
    "t1=(subtractTheMatrix(matrix1, matrix2))\n",
    "m1=np.array(t1)\n",
    "g1=0\n",
    "for i in range(0,128):\n",
    "    y1=m1[i]\n",
    "    g1+=y1*y1\n",
    "\n",
    "u1=g1/128\n",
    "y1=pow(u1,0.5)\n",
    "y1"
   ]
  },
  {
   "cell_type": "code",
   "execution_count": 62,
   "metadata": {},
   "outputs": [
    {
     "name": "stdout",
     "output_type": "stream",
     "text": [
      "[2067381.21658312] %\n"
     ]
    },
    {
     "data": {
      "text/plain": [
       "128"
      ]
     },
     "execution_count": 62,
     "metadata": {},
     "output_type": "execute_result"
    }
   ],
   "source": [
    "# New loss function :\n",
    "#qwe and c_sol\n",
    "#c_sol.size\n",
    "\n",
    "# ||x_ANNEALING - x_GMRES|| / || x_GMRES ||\n",
    "\n",
    "z=0\n",
    "p=0\n",
    "for i in range(128):\n",
    "    m=qwe[i]-D[i]\n",
    "    #print(qwe[i])\n",
    "    z+=pow(m,2)\n",
    "\n",
    "    \n",
    "D=np.array(D)    \n",
    "for j in range(128):\n",
    "    o=D[j]\n",
    "    p+=pow(o,2)\n",
    "    \n",
    "u=pow(p,0.5)    \n",
    "f=pow(z,0.5)  \n",
    "Result = f/u\n",
    "\n",
    "\n",
    "Percent= Result * 100\n",
    "print(Percent, \"%\")\n",
    "qwe.size"
   ]
  },
  {
   "cell_type": "markdown",
   "metadata": {},
   "source": [
    "# Solution using spsolve"
   ]
  },
  {
   "cell_type": "code",
   "execution_count": 63,
   "metadata": {},
   "outputs": [],
   "source": [
    "from scipy.sparse.linalg import spsolve\n",
    "from scipy.sparse import csc_matrix"
   ]
  },
  {
   "cell_type": "code",
   "execution_count": 64,
   "metadata": {},
   "outputs": [
    {
     "name": "stderr",
     "output_type": "stream",
     "text": [
      "C:\\Users\\Bhargav\\AppData\\Roaming\\Python\\Python38\\site-packages\\scipy\\sparse\\linalg\\dsolve\\linsolve.py:144: SparseEfficiencyWarning: spsolve requires A be CSC or CSR matrix format\n",
      "  warn('spsolve requires A be CSC or CSR matrix format',\n"
     ]
    }
   ],
   "source": [
    "c_sol1 = spsolve(X, Y)"
   ]
  },
  {
   "cell_type": "code",
   "execution_count": null,
   "metadata": {},
   "outputs": [],
   "source": []
  },
  {
   "cell_type": "code",
   "execution_count": 65,
   "metadata": {},
   "outputs": [
    {
     "data": {
      "text/plain": [
       "array([  2.53367592,  -2.27962705,  -3.24678524,  -3.76200613,\n",
       "        -4.57257635,  -7.93491357,   1.59560943,   3.96981171,\n",
       "        -5.0559489 ,  -2.18976062,   1.19256786,   2.26241073,\n",
       "         6.40610437,  -6.199362  ,   2.39296393,  -2.06107475,\n",
       "        -0.81850704,   1.59512404,   3.15747149,  -3.40991942,\n",
       "        -2.12036043,   2.13800855,  -1.29629638,   2.29232615,\n",
       "         4.16323991,   0.73200959,  -5.76394702,  -3.05762705,\n",
       "        -3.74122933,   2.58421818,  -9.45772523,   1.29277069,\n",
       "         8.67816974,   6.39964496,   1.2204635 ,  -0.2369933 ,\n",
       "        -5.27409511,   4.1534701 ,   6.03717346,  -0.80491146,\n",
       "         0.58256451,  -0.71863655,  -3.77098037,   2.85397646,\n",
       "        -1.61665069,   0.64446323,   3.42028386,  -1.86828088,\n",
       "        -0.4659027 ,  -7.41011818,  -4.5756088 ,  -1.30612014,\n",
       "        -4.84971123,   2.29791858,   5.35990456,   0.33444594,\n",
       "        -2.68079026,  -5.58901219,  -1.51321058,  -2.18069476,\n",
       "         3.03944958,  -8.53653645,   0.73503335,  -2.17057248,\n",
       "         0.40258507,   3.21460142,  -5.04627958,   4.41924795,\n",
       "         4.38205122,   5.34173106,   0.51545724,   3.60404755,\n",
       "         0.75140053,   3.92353722,  -5.06637145,   2.67405943,\n",
       "         4.24389935,   5.83155823,   1.01158914,   2.14259432,\n",
       "        -3.21561815,   6.99964605,   2.9296312 ,   0.89643805,\n",
       "        -1.66680304,   4.01966403,   3.23808387,  -7.86908549,\n",
       "        -8.31175577,  -4.66434141,   3.68728503,  -3.96735424,\n",
       "        -0.58502369,  -0.39783935,  -0.64648884,  -2.17409431,\n",
       "         5.55523639,  -5.17557493,  -1.77962848,  12.20493613,\n",
       "         7.73179727,  -2.05677733,  -4.99598141,  -0.63285806,\n",
       "        -1.42715843,   1.78437732,   1.3554495 ,  -5.6691298 ,\n",
       "         1.89726658,  -0.74684257,  -1.16001189,   2.26396961,\n",
       "         0.30842155,   0.60078533,   2.69443213,   2.22667994,\n",
       "         0.39204484,   5.87953963,  -1.79882173,   3.12111628,\n",
       "        -7.25907884,   1.71060205,   3.59659288,  -0.24329926,\n",
       "         7.18593728,  -1.1669511 ,  -1.67433869, -10.64310453])"
      ]
     },
     "execution_count": 65,
     "metadata": {},
     "output_type": "execute_result"
    }
   ],
   "source": [
    "c_sol1"
   ]
  },
  {
   "cell_type": "code",
   "execution_count": null,
   "metadata": {},
   "outputs": [],
   "source": []
  },
  {
   "cell_type": "markdown",
   "metadata": {},
   "source": [
    "## Ax"
   ]
  },
  {
   "cell_type": "code",
   "execution_count": 66,
   "metadata": {},
   "outputs": [
    {
     "name": "stdout",
     "output_type": "stream",
     "text": [
      "[1.199999960510567e-10]\n",
      "[0.012500000164999997]\n",
      "[0.015499999844999977]\n",
      "[-2.350000055661994e-10]\n",
      "[-8.499989601062907e-11]\n",
      "[-7.999997192476016e-11]\n",
      "[1.549999763955645e-10]\n",
      "[0.009499999924999999]\n",
      "[0.01100000021]\n",
      "[-3.2499999219615106e-10]\n",
      "[-5.999997720884664e-11]\n",
      "[-7.000001966961378e-11]\n",
      "[0.012999999570000004]\n",
      "[1.5500000241641665e-10]\n",
      "[0.009499999915000015]\n",
      "[0.01150000004999999]\n",
      "[4.499999678442279e-11]\n",
      "[-4.15000030867807e-10]\n",
      "[-1.49999915266541e-10]\n",
      "[9.000000744663339e-11]\n",
      "[-1.2000000992884452e-10]\n",
      "[3.499998901812518e-11]\n",
      "[0.008499999719999977]\n",
      "[-2.3000003594383922e-10]\n",
      "[-1.249999721786299e-10]\n",
      "[0.009999999979999938]\n",
      "[0.007000000060000039]\n",
      "[-1.199999821732689e-10]\n",
      "[0.011999999830000052]\n",
      "[-1.2999997085760828e-10]\n",
      "[-5.999999108663445e-11]\n",
      "[0.009000000115000028]\n",
      "[-1.7999999407658507e-10]\n",
      "[0.012500000005000025]\n",
      "[0.011499999895000015]\n",
      "[0.010499999865000068]\n",
      "[0.009999999874999981]\n",
      "[0.01249999984499997]\n",
      "[0.012999999945000004]\n",
      "[0.014500000215000058]\n",
      "[-4.0000010248508744e-11]\n",
      "[1.8000000101547897e-10]\n",
      "[-1.3999991443913729e-10]\n",
      "[-2.099999826810084e-10]\n",
      "[0.013499999919999995]\n",
      "[-2.0999996186432668e-10]\n",
      "[0.011499999884999987]\n",
      "[0.011499999815000071]\n",
      "[0.009000000104999994]\n",
      "[-1.7500002271950144e-10]\n",
      "[0.011499999834999997]\n",
      "[4.5000012396934075e-11]\n",
      "[0.009500000064999958]\n",
      "[0.010999999855000067]\n",
      "[0.011999999889999988]\n",
      "[1.050000108561433e-10]\n",
      "[-1.3499999729216228e-10]\n",
      "[0.012999999659999976]\n",
      "[-1.149999782901201e-10]\n",
      "[0.01349999991499996]\n",
      "[-1.2499998952586466e-10]\n",
      "[0.012499999955000025]\n",
      "[1.3499999729216228e-10]\n",
      "[0.010500000084999989]\n",
      "[1.0500002603497371e-10]\n",
      "[-2.599999590624513e-10]\n",
      "[0.011499999995000024]\n",
      "[0.011000000180000039]\n",
      "[0.017999999995]\n",
      "[-1.1000000910144081e-10]\n",
      "[-1.9999973899231804e-11]\n",
      "[0.010500000010000017]\n",
      "[0.013000000179999999]\n",
      "[-1.9999994715913516e-10]\n",
      "[0.013500000070000018]\n",
      "[-1.9999960021443997e-11]\n",
      "[-4.999999112659248e-12]\n",
      "[0.010500000010000031]\n",
      "[0.013500000150000052]\n",
      "[0.014499999684999959]\n",
      "[1.2999999687846042e-10]\n",
      "[-2.4000004761326466e-10]\n",
      "[-1.6000003058569412e-10]\n",
      "[-2.7999995377836484e-10]\n",
      "[0.010499999934999987]\n",
      "[2.1000004036056397e-10]\n",
      "[0.013000000195]\n",
      "[0.011499999875000028]\n",
      "[-5.999999108663445e-11]\n",
      "[-1.6500000064173515e-10]\n",
      "[0.015500000049999959]\n",
      "[-1.2499996870918295e-10]\n",
      "[5.500001495906126e-11]\n",
      "[-1.3999999770586413e-10]\n",
      "[0.014499999949999925]\n",
      "[-9.499992806305535e-11]\n",
      "[0.01750000002500004]\n",
      "[5.0000385776183265e-12]\n",
      "[0.01299999979999997]\n",
      "[0.016499999949999983]\n",
      "[2.5499999681266594e-10]\n",
      "[0.011500000095000018]\n",
      "[0.014999999760000014]\n",
      "[0.011999999909999982]\n",
      "[-1.9999985174934398e-11]\n",
      "[0.013999999734999935]\n",
      "[0.009499999920000002]\n",
      "[0.012499999825000021]\n",
      "[-1.3500000076160923e-10]\n",
      "[0.010499999850000032]\n",
      "[-2.3000004678586095e-10]\n",
      "[0.013499999750000005]\n",
      "[0.014499999814999998]\n",
      "[0.011000000045000059]\n",
      "[0.011999999725000036]\n",
      "[-1.7999998713769116e-10]\n",
      "[-1.9499998837879673e-10]\n",
      "[0.013999999810000024]\n",
      "[0.013000000014999997]\n",
      "[0.011499999470000022]\n",
      "[0.010499999804999993]\n",
      "[-2.4999999292951713e-10]\n",
      "[-7.999997539420711e-11]\n",
      "[-1.0499996705437553e-10]\n",
      "[4.000001718740265e-11]\n",
      "[-4.100000356582756e-10]\n",
      "[0.010499999945000046]\n",
      "[-1.549999989469697e-10]\n"
     ]
    }
   ],
   "source": [
    "# Program to multiply two matrices using list comprehension\n",
    "\n",
    "# take a 3x3 matrix\n",
    "A = X\n",
    "\n",
    "# take a 3x4 matrix\n",
    "B = [[  2.53367592],[  -2.27962705],[  -3.24678524],[  -3.76200613],[\n",
    "        -4.57257635],[  -7.93491357],[   1.59560943],[   3.96981171],[\n",
    "        -5.0559489 ],[  -2.18976062],[   1.19256786],[   2.26241073],[\n",
    "         6.40610437],[  -6.199362  ],[   2.39296393],[  -2.06107475],[\n",
    "        -0.81850704],[   1.59512404],[   3.15747149],[  -3.40991942],[\n",
    "        -2.12036043],[   2.13800855],[  -1.29629638],[   2.29232615],[\n",
    "         4.16323991],[   0.73200959],[  -5.76394702],[  -3.05762705],[\n",
    "        -3.74122933],[   2.58421818],[  -9.45772523],[   1.29277069],[\n",
    "         8.67816974],[   6.39964496],[   1.2204635 ],[  -0.2369933 ],[\n",
    "        -5.27409511],[   4.1534701 ],[   6.03717346],[  -0.80491146],[\n",
    "         0.58256451],[  -0.71863655],[  -3.77098037],[   2.85397646],[\n",
    "        -1.61665069],[   0.64446323],[   3.42028386],[  -1.86828088],[\n",
    "        -0.4659027 ],[  -7.41011818],[  -4.5756088 ],[  -1.30612014],[\n",
    "        -4.84971123],[   2.29791858],[   5.35990456],[   0.33444594],[\n",
    "        -2.68079026],[  -5.58901219],[  -1.51321058],[  -2.18069476],[\n",
    "         3.03944958],[  -8.53653645],[   0.73503335],[  -2.17057248],[\n",
    "         0.40258507],[   3.21460142],[  -5.04627958],[   4.41924795],[\n",
    "         4.38205122],[   5.34173106],[   0.51545724],[   3.60404755],[\n",
    "         0.75140053],[   3.92353722],[  -5.06637145],[   2.67405943],[\n",
    "         4.24389935],[   5.83155823],[   1.01158914],[   2.14259432],[\n",
    "        -3.21561815],[   6.99964605],[   2.9296312 ],[   0.89643805],[\n",
    "        -1.66680304],[   4.01966403],[   3.23808387],[  -7.86908549],[\n",
    "        -8.31175577],[  -4.66434141],[   3.68728503],[  -3.96735424],[\n",
    "        -0.58502369],[  -0.39783935],[  -0.64648884],[  -2.17409431],[\n",
    "         5.55523639],[  -5.17557493],[  -1.77962848],[  12.20493613],[\n",
    "         7.73179727],[  -2.05677733],[  -4.99598141],[  -0.63285806],[\n",
    "        -1.42715843],[   1.78437732],[   1.3554495 ],[  -5.6691298 ],[\n",
    "         1.89726658],[  -0.74684257],[  -1.16001189],[   2.26396961],[\n",
    "         0.30842155],[   0.60078533],[   2.69443213],[   2.22667994],[\n",
    "         0.39204484],[   5.87953963],[  -1.79882173],[   3.12111628],[\n",
    "        -7.25907884],[   1.71060205],[   3.59659288],[  -0.24329926],[\n",
    "         7.18593728],[  -1.1669511 ],[  -1.67433869],[ -10.64310453]]\n",
    "\n",
    "\n",
    "# result will be 3x4\n",
    "result = [[sum(a * b for a, b in zip(A_row, B_col))\n",
    "\t\t\t\t\t\tfor B_col in zip(*B)]\n",
    "\t\t\t\t\t\t\t\tfor A_row in A]\n",
    "\n",
    "for r in result:\n",
    "\tprint(r)"
   ]
  },
  {
   "cell_type": "markdown",
   "metadata": {},
   "source": [
    "## Ax-b"
   ]
  },
  {
   "cell_type": "code",
   "execution_count": 67,
   "metadata": {},
   "outputs": [
    {
     "name": "stdout",
     "output_type": "stream",
     "text": [
      "[[1.199999960510567e-10], [1.6499999630492646e-10], [-1.5500002323309836e-10], [-2.350000055661994e-10], [-8.499989601062907e-11], [-7.999997192476016e-11], [1.549999763955645e-10], [-7.50000010013574e-11], [2.1000000002824315e-10], [-3.2499999219615106e-10], [-5.999997720884664e-11], [-7.000001966961378e-11], [-4.299999956797196e-10], [1.5500000241641665e-10], [-8.499998448152635e-11], [4.999999025923074e-11], [4.499999678442279e-11], [-4.15000030867807e-10], [-1.49999915266541e-10], [9.000000744663339e-11], [-1.2000000992884452e-10], [3.499998901812518e-11], [-2.800000231673039e-10], [-2.3000003594383922e-10], [-1.249999721786299e-10], [-2.000006237012908e-11], [6.000003879153004e-11], [-1.199999821732689e-10], [-1.6999994814637098e-10], [-1.2999997085760828e-10], [-5.999999108663445e-11], [1.150000285971009e-10], [-1.7999999407658507e-10], [5.000024699830519e-12], [-1.0499998440161029e-10], [-1.3499993310739367e-10], [-1.2500001901616375e-10], [-1.5500003017199226e-10], [-5.4999995877103025e-11], [2.150000576878197e-10], [-4.0000010248508744e-11], [1.8000000101547897e-10], [-1.3999991443913729e-10], [-2.099999826810084e-10], [-8.00000048845062e-11], [-2.0999996186432668e-10], [-1.1500001298458962e-10], [-1.8499992857079484e-10], [1.0499999480995115e-10], [-1.7500002271950144e-10], [-1.6500000324382036e-10], [4.5000012396934075e-11], [6.499995854059026e-11], [-1.449999322000739e-10], [-1.1000001257088776e-10], [1.050000108561433e-10], [-1.3499999729216228e-10], [-3.400000229275557e-10], [-1.149999782901201e-10], [-8.500003999267758e-11], [-1.2499998952586466e-10], [-4.499997596774108e-11], [1.3499999729216228e-10], [8.49999879509733e-11], [1.0500002603497371e-10], [-2.599999590624513e-10], [-4.999976127573191e-12], [1.8000003917939544e-10], [-4.999996944254903e-12], [-1.1000000910144081e-10], [-1.9999973899231804e-11], [1.0000016439914994e-11], [1.799999992807555e-10], [-1.9999994715913516e-10], [7.00000179348903e-11], [-1.9999960021443997e-11], [-4.999999112659248e-12], [1.0000030317702802e-11], [1.500000523096956e-10], [-3.1500004167572815e-10], [1.2999999687846042e-10], [-2.4000004761326466e-10], [-1.6000003058569412e-10], [-2.7999995377836484e-10], [-6.50000140517415e-11], [2.1000004036056397e-10], [1.9500000052186106e-10], [-1.249999721786299e-10], [-5.999999108663445e-11], [-1.6500000064173515e-10], [4.9999959034208175e-11], [-1.2499996870918295e-10], [5.500001495906126e-11], [-1.3999999770586413e-10], [-5.0000075260681065e-11], [-9.499992806305535e-11], [2.5000036762978795e-11], [5.0000385776183265e-12], [-2.0000002869113853e-10], [-5.000001801480636e-11], [2.5499999681266594e-10], [9.50000182686761e-11], [-2.399999851632195e-10], [-9.000001785497425e-11], [-1.9999985174934398e-11], [-2.650000652942852e-10], [-7.99999979456123e-11], [-1.749999797850954e-10], [-1.3500000076160923e-10], [-1.4999996904296875e-10], [-2.3000004678586095e-10], [-2.499999946642406e-10], [-1.850000031639043e-10], [4.5000059234467926e-11], [-2.7499996377300384e-10], [-1.7999998713769116e-10], [-1.9499998837879673e-10], [-1.8999997582203054e-10], [1.4999997771658613e-11], [-5.299999779329045e-10], [-1.9500000746075496e-10], [-2.4999999292951713e-10], [-7.999997539420711e-11], [-1.0499996705437553e-10], [4.000001718740265e-11], [-4.100000356582756e-10], [-5.49999542437396e-11], [-1.549999989469697e-10]]\n"
     ]
    }
   ],
   "source": [
    "matrix2 = Y\n",
    "\n",
    "matrix1 = [[1.199999960510567e-10],\n",
    "[0.012500000164999997],\n",
    "[0.015499999844999977],\n",
    "[-2.350000055661994e-10],\n",
    "[-8.499989601062907e-11],\n",
    "[-7.999997192476016e-11],\n",
    "[1.549999763955645e-10],\n",
    "[0.009499999924999999],\n",
    "[0.01100000021],\n",
    "[-3.2499999219615106e-10],\n",
    "[-5.999997720884664e-11],\n",
    "[-7.000001966961378e-11],\n",
    "[0.012999999570000004],\n",
    "[1.5500000241641665e-10],\n",
    "[0.009499999915000015],\n",
    "[0.01150000004999999],\n",
    "[4.499999678442279e-11],\n",
    "[-4.15000030867807e-10],\n",
    "[-1.49999915266541e-10],\n",
    "[9.000000744663339e-11],\n",
    "[-1.2000000992884452e-10],\n",
    "[3.499998901812518e-11],\n",
    "[0.008499999719999977],\n",
    "[-2.3000003594383922e-10],\n",
    "[-1.249999721786299e-10],\n",
    "[0.009999999979999938],\n",
    "[0.007000000060000039],\n",
    "[-1.199999821732689e-10],\n",
    "[0.011999999830000052],\n",
    "[-1.2999997085760828e-10],\n",
    "[-5.999999108663445e-11],\n",
    "[0.009000000115000028],\n",
    "[-1.7999999407658507e-10],\n",
    "[0.012500000005000025],\n",
    "[0.011499999895000015],\n",
    "[0.010499999865000068],\n",
    "[0.009999999874999981],\n",
    "[0.01249999984499997],\n",
    "[0.012999999945000004],\n",
    "[0.014500000215000058],\n",
    "[-4.0000010248508744e-11],\n",
    "[1.8000000101547897e-10],\n",
    "[-1.3999991443913729e-10],\n",
    "[-2.099999826810084e-10],\n",
    "[0.013499999919999995],\n",
    "[-2.0999996186432668e-10],\n",
    "[0.011499999884999987],\n",
    "[0.011499999815000071],\n",
    "[0.009000000104999994],\n",
    "[-1.7500002271950144e-10],\n",
    "[0.011499999834999997],\n",
    "[4.5000012396934075e-11],\n",
    "[0.009500000064999958],\n",
    "[0.010999999855000067],\n",
    "[0.011999999889999988],\n",
    "[1.050000108561433e-10],\n",
    "[-1.3499999729216228e-10],\n",
    "[0.012999999659999976],\n",
    "[-1.149999782901201e-10],\n",
    "[0.01349999991499996],\n",
    "[-1.2499998952586466e-10],\n",
    "[0.012499999955000025],\n",
    "[1.3499999729216228e-10],\n",
    "[0.010500000084999989],\n",
    "[1.0500002603497371e-10],\n",
    "[-2.599999590624513e-10],\n",
    "[0.011499999995000024],\n",
    "[0.011000000180000039],\n",
    "[0.017999999995],\n",
    "[-1.1000000910144081e-10],\n",
    "[-1.9999973899231804e-11],\n",
    "[0.010500000010000017],\n",
    "[0.013000000179999999],\n",
    "[-1.9999994715913516e-10],\n",
    "[0.013500000070000018],\n",
    "[-1.9999960021443997e-11],\n",
    "[-4.999999112659248e-12],\n",
    "[0.010500000010000031],\n",
    "[0.013500000150000052],\n",
    "[0.014499999684999959],\n",
    "[1.2999999687846042e-10],\n",
    "[-2.4000004761326466e-10],\n",
    "[-1.6000003058569412e-10],\n",
    "[-2.7999995377836484e-10],\n",
    "[0.010499999934999987],\n",
    "[2.1000004036056397e-10],\n",
    "[0.013000000195],\n",
    "[0.011499999875000028],\n",
    "[-5.999999108663445e-11],\n",
    "[-1.6500000064173515e-10],\n",
    "[0.015500000049999959],\n",
    "[-1.2499996870918295e-10],\n",
    "[5.500001495906126e-11],\n",
    "[-1.3999999770586413e-10],\n",
    "[0.014499999949999925],\n",
    "[-9.499992806305535e-11],\n",
    "[0.01750000002500004],\n",
    "[5.0000385776183265e-12],\n",
    "[0.01299999979999997],\n",
    "[0.016499999949999983],\n",
    "[2.5499999681266594e-10],\n",
    "[0.011500000095000018],\n",
    "[0.014999999760000014],\n",
    "[0.011999999909999982],\n",
    "[-1.9999985174934398e-11],\n",
    "[0.013999999734999935],\n",
    "[0.009499999920000002],\n",
    "[0.012499999825000021],\n",
    "[-1.3500000076160923e-10],\n",
    "[0.010499999850000032],\n",
    "[-2.3000004678586095e-10],\n",
    "[0.013499999750000005],\n",
    "[0.014499999814999998],\n",
    "[0.011000000045000059],\n",
    "[0.011999999725000036],\n",
    "[-1.7999998713769116e-10],\n",
    "[-1.9499998837879673e-10],\n",
    "[0.013999999810000024],\n",
    "[0.013000000014999997],\n",
    "[0.011499999470000022],\n",
    "[0.010499999804999993],\n",
    "[-2.4999999292951713e-10],\n",
    "[-7.999997539420711e-11],\n",
    "[-1.0499996705437553e-10],\n",
    "[4.000001718740265e-11],\n",
    "[-4.100000356582756e-10],\n",
    "[0.010499999945000046],\n",
    "[-1.549999989469697e-10]]\n",
    "\n",
    "\n",
    "\n",
    "#output = [[-1, -1, -1], \n",
    "\t\t# [-1, 0, -1], \n",
    "        # [-1, -1, -1]]\n",
    "\n",
    "def subtractTheMatrix(matrix1, matrix2):\n",
    "    matrix1Rows = len(matrix1)\n",
    "    matrix2Rows = len(matrix2)\n",
    "    matrix1Col = len(matrix1[0])\n",
    "    matrix2Col = len(matrix2[0])\n",
    "\n",
    "    #base case\n",
    "    if(matrix1Rows != matrix2Rows or matrix1Col != matrix2Col):\n",
    "        return \"ERROR: dimensions of the two arrays must be the same\"\n",
    "\n",
    "    #make a matrix of the same size as matrix 1 and matrix 2\n",
    "    matrix = []\n",
    "    rows = []\n",
    "\n",
    "    for i in range(0, matrix1Rows):\n",
    "        for j in range(0, matrix2Col):\n",
    "            rows.append(0)\n",
    "        matrix.append(rows.copy())\n",
    "        rows = []\n",
    "\n",
    "    #loop through the two matricies and the subtraction should be placed in the\n",
    "    #matrix\n",
    "    for i in range(0, matrix1Rows):\n",
    "        for j in range(0, matrix2Col):\n",
    "            matrix[i][j] = matrix1[i][j] - matrix2[i][j]\n",
    "            \n",
    "    return matrix\n",
    "\n",
    "\n",
    "\n",
    "print(subtractTheMatrix(matrix1, matrix2))"
   ]
  },
  {
   "cell_type": "markdown",
   "metadata": {},
   "source": [
    "# Loss Function"
   ]
  },
  {
   "cell_type": "code",
   "execution_count": 68,
   "metadata": {},
   "outputs": [
    {
     "data": {
      "text/plain": [
       "array([1.67705679e-10])"
      ]
     },
     "execution_count": 68,
     "metadata": {},
     "output_type": "execute_result"
    }
   ],
   "source": [
    "t2=(subtractTheMatrix(matrix1, matrix2))\n",
    "m2=np.array(t2)\n",
    "g2=0\n",
    "for i in range(0,128):\n",
    "    y2=m2[i]\n",
    "    g2+=y2*y2\n",
    "\n",
    "u2=g2/128\n",
    "\n",
    "y2=pow(u2,0.5)\n",
    "y2"
   ]
  },
  {
   "cell_type": "code",
   "execution_count": null,
   "metadata": {},
   "outputs": [],
   "source": [
    "### New loss function "
   ]
  },
  {
   "cell_type": "code",
   "execution_count": 72,
   "metadata": {},
   "outputs": [
    {
     "name": "stdout",
     "output_type": "stream",
     "text": [
      "[39881.7319125] %\n"
     ]
    },
    {
     "data": {
      "text/plain": [
       "128"
      ]
     },
     "execution_count": 72,
     "metadata": {},
     "output_type": "execute_result"
    }
   ],
   "source": [
    "# ||x_ANNEALING - x_SPSOLVE|| / || x_SPSOLVE ||\n",
    "\n",
    "z=0\n",
    "p=0\n",
    "for i in range(128):\n",
    "    m=qwe[i]-B[i]\n",
    "    #print(qwe[i])\n",
    "    z+=pow(m,2)\n",
    "\n",
    "    \n",
    "B=np.array(B)    \n",
    "for j in range(128):\n",
    "    o=B[j]\n",
    "    #print(o)\n",
    "    p+=pow(o,2)\n",
    "    \n",
    "u=pow(p,0.5)    \n",
    "f=pow(z,0.5)  \n",
    "Result = f/u\n",
    "\n",
    "\n",
    "Percent= Result * 100\n",
    "print(Percent, \"%\")\n",
    "qwe.size"
   ]
  },
  {
   "cell_type": "code",
   "execution_count": null,
   "metadata": {},
   "outputs": [],
   "source": []
  },
  {
   "cell_type": "code",
   "execution_count": null,
   "metadata": {},
   "outputs": [],
   "source": []
  },
  {
   "cell_type": "code",
   "execution_count": null,
   "metadata": {},
   "outputs": [],
   "source": []
  }
 ],
 "metadata": {
  "kernelspec": {
   "display_name": "Python 3 (ipykernel)",
   "language": "python",
   "name": "python3"
  },
  "language_info": {
   "codemirror_mode": {
    "name": "ipython",
    "version": 3
   },
   "file_extension": ".py",
   "mimetype": "text/x-python",
   "name": "python",
   "nbconvert_exporter": "python",
   "pygments_lexer": "ipython3",
   "version": "3.8.11"
  }
 },
 "nbformat": 4,
 "nbformat_minor": 4
}
