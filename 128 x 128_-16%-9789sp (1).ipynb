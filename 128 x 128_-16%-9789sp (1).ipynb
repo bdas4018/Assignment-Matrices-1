{
 "cells": [
  {
   "cell_type": "markdown",
   "metadata": {},
   "source": [
    "# Material Deformation - Using QUBO\n"
   ]
  },
  {
   "cell_type": "code",
   "execution_count": null,
   "metadata": {},
   "outputs": [],
   "source": [
    "\n",
    "\n",
    "\n"
   ]
  },
  {
   "cell_type": "code",
   "execution_count": null,
   "metadata": {},
   "outputs": [],
   "source": []
  },
  {
   "cell_type": "code",
   "execution_count": null,
   "metadata": {},
   "outputs": [],
   "source": []
  },
  {
   "cell_type": "code",
   "execution_count": null,
   "metadata": {},
   "outputs": [],
   "source": []
  },
  {
   "cell_type": "code",
   "execution_count": null,
   "metadata": {},
   "outputs": [],
   "source": []
  },
  {
   "cell_type": "code",
   "execution_count": 1,
   "metadata": {},
   "outputs": [],
   "source": [
    "import sys as sys\n",
    "import pandas as pd\n",
    "import numpy as np\n",
    "import pandas as pd\n",
    "import random, math\n",
    "import copy\n",
    "import numba\n",
    "from numba import jit\n",
    "import tqdm\n",
    "from time import time\n",
    "from tqdm import tqdm\n",
    "from matplotlib import pyplot as plt\n",
    "df = pd.read_csv(r'C:\\Users\\Bhargav\\BMW\\Set C\\128x128_-16%-9789.csv',header=None)\n",
    "#df.as_matrix()\n",
    "\n"
   ]
  },
  {
   "cell_type": "code",
   "execution_count": 2,
   "metadata": {},
   "outputs": [],
   "source": [
    "#np.set_printoptions(threshold=sys.maxsize)"
   ]
  },
  {
   "cell_type": "code",
   "execution_count": 3,
   "metadata": {},
   "outputs": [],
   "source": [
    "X1 = df.values"
   ]
  },
  {
   "cell_type": "code",
   "execution_count": 4,
   "metadata": {},
   "outputs": [
    {
     "data": {
      "text/plain": [
       "array([[29., 21.,  0., ...,  0., 22., 30.],\n",
       "       [ 0.,  0.,  0., ...,  0.,  0.,  0.],\n",
       "       [ 0.,  0.,  0., ...,  0.,  0.,  0.],\n",
       "       ...,\n",
       "       [ 0.,  0.,  0., ...,  0.,  0.,  0.],\n",
       "       [ 0.,  0.,  0., ...,  0., 16.,  0.],\n",
       "       [ 0.,  0.,  0., ...,  0., 30.,  0.]])"
      ]
     },
     "execution_count": 4,
     "metadata": {},
     "output_type": "execute_result"
    }
   ],
   "source": [
    "X1"
   ]
  },
  {
   "cell_type": "code",
   "execution_count": 5,
   "metadata": {},
   "outputs": [
    {
     "data": {
      "text/plain": [
       "(128, 128)"
      ]
     },
     "execution_count": 5,
     "metadata": {},
     "output_type": "execute_result"
    }
   ],
   "source": [
    "\n",
    "X1.shape"
   ]
  },
  {
   "cell_type": "code",
   "execution_count": 6,
   "metadata": {},
   "outputs": [],
   "source": [
    "X = np.true_divide(X1 ,  2000)"
   ]
  },
  {
   "cell_type": "code",
   "execution_count": 7,
   "metadata": {
    "scrolled": true
   },
   "outputs": [
    {
     "data": {
      "text/plain": [
       "array([[0.0145, 0.0105, 0.    , ..., 0.    , 0.011 , 0.015 ],\n",
       "       [0.    , 0.    , 0.    , ..., 0.    , 0.    , 0.    ],\n",
       "       [0.    , 0.    , 0.    , ..., 0.    , 0.    , 0.    ],\n",
       "       ...,\n",
       "       [0.    , 0.    , 0.    , ..., 0.    , 0.    , 0.    ],\n",
       "       [0.    , 0.    , 0.    , ..., 0.    , 0.008 , 0.    ],\n",
       "       [0.    , 0.    , 0.    , ..., 0.    , 0.015 , 0.    ]])"
      ]
     },
     "execution_count": 7,
     "metadata": {},
     "output_type": "execute_result"
    }
   ],
   "source": [
    "X"
   ]
  },
  {
   "cell_type": "code",
   "execution_count": 8,
   "metadata": {},
   "outputs": [
    {
     "data": {
      "image/png": "[encoded data removed]",
      "text/plain": [
       "<Figure size 1080x720 with 1 Axes>"
      ]
     },
     "metadata": {
      "needs_background": "light"
     },
     "output_type": "display_data"
    }
   ],
   "source": [
    "plt.spy(X, precision = 0.01, markersize = 4)\n",
    "# betterspy.write_png(\"out.png\", X , border_width=2, border_color=\"red\", colormap=\"viridis\")\n",
    "# betterspy 1138.mtx [Matrix.png]\n",
    "# betterspy.show(X)\n",
    "# betterspy.write_png(\"X matrix\", X)\n",
    "F = plt.gcf()\n",
    "Size = F.get_size_inches()\n",
    "F.set_size_inches(Size[0]*2.5, Size[1]*2.5, forward=True)\n",
    "\n",
    "# plt.colorbar()\n",
    "# plt.show()"
   ]
  },
  {
   "cell_type": "code",
   "execution_count": 9,
   "metadata": {},
   "outputs": [],
   "source": [
    "df1 = pd.read_csv(r'C:\\Users\\Bhargav\\BMW\\Set C\\128x1_-16%-9789.csv',header=None)\n",
    "#df.as_matrix()"
   ]
  },
  {
   "cell_type": "code",
   "execution_count": 10,
   "metadata": {},
   "outputs": [],
   "source": [
    "Y1=df1.values"
   ]
  },
  {
   "cell_type": "code",
   "execution_count": 11,
   "metadata": {},
   "outputs": [
    {
     "data": {
      "text/plain": [
       "(128, 1)"
      ]
     },
     "execution_count": 11,
     "metadata": {},
     "output_type": "execute_result"
    }
   ],
   "source": [
    "Y1.shape"
   ]
  },
  {
   "cell_type": "code",
   "execution_count": 12,
   "metadata": {},
   "outputs": [],
   "source": [
    "Y = np.true_divide(Y1 , 2000)"
   ]
  },
  {
   "cell_type": "code",
   "execution_count": 13,
   "metadata": {},
   "outputs": [
    {
     "data": {
      "text/plain": [
       "array([[0.    ],\n",
       "       [0.008 ],\n",
       "       [0.    ],\n",
       "       [0.0105],\n",
       "       [0.0115],\n",
       "       [0.0135],\n",
       "       [0.    ],\n",
       "       [0.    ],\n",
       "       [0.0105],\n",
       "       [0.017 ],\n",
       "       [0.    ],\n",
       "       [0.    ],\n",
       "       [0.0105],\n",
       "       [0.01  ],\n",
       "       [0.012 ],\n",
       "       [0.    ],\n",
       "       [0.    ],\n",
       "       [0.015 ],\n",
       "       [0.015 ],\n",
       "       [0.    ],\n",
       "       [0.015 ],\n",
       "       [0.    ],\n",
       "       [0.0095],\n",
       "       [0.014 ],\n",
       "       [0.0175],\n",
       "       [0.    ],\n",
       "       [0.    ],\n",
       "       [0.0125],\n",
       "       [0.    ],\n",
       "       [0.014 ],\n",
       "       [0.008 ],\n",
       "       [0.    ],\n",
       "       [0.    ],\n",
       "       [0.009 ],\n",
       "       [0.    ],\n",
       "       [0.    ],\n",
       "       [0.0155],\n",
       "       [0.    ],\n",
       "       [0.    ],\n",
       "       [0.013 ],\n",
       "       [0.014 ],\n",
       "       [0.0145],\n",
       "       [0.011 ],\n",
       "       [0.0135],\n",
       "       [0.014 ],\n",
       "       [0.    ],\n",
       "       [0.    ],\n",
       "       [0.0095],\n",
       "       [0.    ],\n",
       "       [0.0155],\n",
       "       [0.    ],\n",
       "       [0.    ],\n",
       "       [0.0105],\n",
       "       [0.    ],\n",
       "       [0.0105],\n",
       "       [0.    ],\n",
       "       [0.    ],\n",
       "       [0.    ],\n",
       "       [0.0135],\n",
       "       [0.0095],\n",
       "       [0.    ],\n",
       "       [0.    ],\n",
       "       [0.    ],\n",
       "       [0.012 ],\n",
       "       [0.    ],\n",
       "       [0.    ],\n",
       "       [0.    ],\n",
       "       [0.0145],\n",
       "       [0.    ],\n",
       "       [0.0105],\n",
       "       [0.0095],\n",
       "       [0.0085],\n",
       "       [0.014 ],\n",
       "       [0.0105],\n",
       "       [0.0135],\n",
       "       [0.    ],\n",
       "       [0.    ],\n",
       "       [0.    ],\n",
       "       [0.    ],\n",
       "       [0.    ],\n",
       "       [0.01  ],\n",
       "       [0.013 ],\n",
       "       [0.    ],\n",
       "       [0.    ],\n",
       "       [0.0165],\n",
       "       [0.014 ],\n",
       "       [0.0155],\n",
       "       [0.    ],\n",
       "       [0.    ],\n",
       "       [0.    ],\n",
       "       [0.    ],\n",
       "       [0.01  ],\n",
       "       [0.    ],\n",
       "       [0.    ],\n",
       "       [0.    ],\n",
       "       [0.014 ],\n",
       "       [0.    ],\n",
       "       [0.014 ],\n",
       "       [0.    ],\n",
       "       [0.    ],\n",
       "       [0.    ],\n",
       "       [0.0145],\n",
       "       [0.    ],\n",
       "       [0.    ],\n",
       "       [0.0135],\n",
       "       [0.013 ],\n",
       "       [0.    ],\n",
       "       [0.0115],\n",
       "       [0.0125],\n",
       "       [0.    ],\n",
       "       [0.    ],\n",
       "       [0.    ],\n",
       "       [0.0115],\n",
       "       [0.    ],\n",
       "       [0.0125],\n",
       "       [0.    ],\n",
       "       [0.012 ],\n",
       "       [0.0135],\n",
       "       [0.017 ],\n",
       "       [0.    ],\n",
       "       [0.    ],\n",
       "       [0.014 ],\n",
       "       [0.0155],\n",
       "       [0.012 ],\n",
       "       [0.011 ],\n",
       "       [0.    ],\n",
       "       [0.0105],\n",
       "       [0.0125]])"
      ]
     },
     "execution_count": 13,
     "metadata": {},
     "output_type": "execute_result"
    }
   ],
   "source": [
    "Y"
   ]
  },
  {
   "cell_type": "code",
   "execution_count": 14,
   "metadata": {},
   "outputs": [],
   "source": [
    "Dimension = 128\n",
    "bits = 13     \n",
    "#b = HDimension = 16\n",
    "#qubits = 2\n",
    "A = X\n",
    "b = Y\n",
    "m = 6"
   ]
  },
  {
   "cell_type": "code",
   "execution_count": 15,
   "metadata": {},
   "outputs": [],
   "source": [
    "t0 = time()"
   ]
  },
  {
   "cell_type": "code",
   "execution_count": 16,
   "metadata": {},
   "outputs": [
    {
     "data": {
      "text/plain": [
       "array([[0., 0., 0., ..., 0., 0., 0.],\n",
       "       [0., 0., 0., ..., 0., 0., 0.],\n",
       "       [0., 0., 0., ..., 0., 0., 0.],\n",
       "       ...,\n",
       "       [0., 0., 0., ..., 0., 0., 0.],\n",
       "       [0., 0., 0., ..., 0., 0., 0.],\n",
       "       [0., 0., 0., ..., 0., 0., 0.]])"
      ]
     },
     "execution_count": 16,
     "metadata": {},
     "output_type": "execute_result"
    }
   ],
   "source": [
    "QM = np.zeros(((bits+1)*Dimension, (bits+1)*Dimension), dtype=np.float64)\n",
    "QM"
   ]
  },
  {
   "cell_type": "code",
   "execution_count": 17,
   "metadata": {},
   "outputs": [
    {
     "data": {
      "text/plain": [
       "(1792, 1792)"
      ]
     },
     "execution_count": 17,
     "metadata": {},
     "output_type": "execute_result"
    }
   ],
   "source": [
    "QM.shape"
   ]
  },
  {
   "cell_type": "code",
   "execution_count": 18,
   "metadata": {},
   "outputs": [],
   "source": [
    "for k in range(Dimension):\n",
    "    for i in range(Dimension):\n",
    "        for l in range(-8,5):\n",
    "            cef1 = pow(2,2*l)* pow (A[k][i],2)-pow(2,l+1)* A[k][i]*b[k]\n",
    "            po1 = 14*i + l + 8\n",
    "            QM[po1][po1] = QM[po1][po1] + cef1\n",
    "            #################################################\n",
    "            cef2 = -pow(2,(l+m+2))* pow (A[k][i],2)\n",
    "            po3 = 14*i + 1  # q_i-\n",
    "            po4 = 14*i + l + 8 #q_i,l +\n",
    "            QM[po3][po4] = QM[po3][po4] + cef2\n",
    "            \n",
    "            \n",
    "#QM #okkkkkkkkkkkkkkkkkkkkkk"
   ]
  },
  {
   "cell_type": "code",
   "execution_count": 19,
   "metadata": {},
   "outputs": [],
   "source": [
    "\n",
    "# No l loop +13?????\n",
    "\n",
    "# 2nd for loop\n",
    "for k in range(Dimension):\n",
    "    for i in range(Dimension):\n",
    "            cef1 = pow(2,(2*m+2))* pow (A[k][i],2)\n",
    "            cef2= pow(2,m+2)* A[k][i]*b[k]\n",
    "            po1 = 14*i  \n",
    "            po2 = 14*i + 1\n",
    "            QM[po2][po2] = QM[po2][po2] + cef1 #q-\n",
    "            QM[po1][po1] = QM[po1][po1] + cef2  # q+\n",
    "            \n",
    "#QM #okkkkkkkkkkkkkkkkkk"
   ]
  },
  {
   "cell_type": "code",
   "execution_count": null,
   "metadata": {},
   "outputs": [],
   "source": []
  },
  {
   "cell_type": "code",
   "execution_count": null,
   "metadata": {},
   "outputs": [],
   "source": []
  },
  {
   "cell_type": "code",
   "execution_count": 20,
   "metadata": {},
   "outputs": [],
   "source": [
    "# 3rd for loop\n",
    "@jit(nopython=True)\n",
    "\n",
    "def faster0(QM): \n",
    "    for k in range(Dimension):\n",
    "        for i in range(Dimension):\n",
    "            for l1 in range(-8,5):\n",
    "                for l2 in range(l1+1,5):\n",
    "                    qcef = pow(2, l1+l2+1)*pow(A[k][i],2)\n",
    "                    po1 = 14*i + l1 + 8\n",
    "                    po2 = 14*i + l2 + 8\n",
    "                    QM[po1][po2] = QM[po1][po2] + qcef\n",
    "    return QM\n",
    "\n",
    "QM = faster0(QM)  \n",
    "#QM\n",
    "######### okkkkkk "
   ]
  },
  {
   "cell_type": "code",
   "execution_count": null,
   "metadata": {},
   "outputs": [],
   "source": []
  },
  {
   "cell_type": "code",
   "execution_count": 21,
   "metadata": {},
   "outputs": [],
   "source": [
    "## 4th for loop\n",
    "@jit(nopython=True)\n",
    "\n",
    "def faster(QM):  \n",
    "    for k in range(Dimension):\n",
    "        for i in range(Dimension-1):\n",
    "            for j in range(i+1,Dimension):\n",
    "                for l1 in range(-8,5):\n",
    "                    for l2 in range(-8,5):\n",
    "                        qcef = pow(2, l1+l2+1) * A[k][i] * A[k][j]\n",
    "                        po1 = 14*i + l1 + 8\n",
    "                        po2 = 14*j + l2 + 8\n",
    "                        QM[po1][po2] = QM[po1][po2] + qcef\n",
    "    return QM\n",
    "\n",
    "QM = faster(QM) \n",
    "#QM\n",
    "#### okkkkkkkkkkkkkkkkkkkkk"
   ]
  },
  {
   "cell_type": "code",
   "execution_count": 22,
   "metadata": {
    "scrolled": true
   },
   "outputs": [],
   "source": [
    "###5th loop\n",
    "@jit(nopython=True)\n",
    "\n",
    "def faster1(QM): \n",
    "    for k in range(Dimension):\n",
    "        for i in range(Dimension-1):\n",
    "            for j in range(i+1,Dimension):\n",
    "                qcef = pow(2, m+3) * A[k][i]*A[k][j]\n",
    "                po1 = 14*i + 1\n",
    "                po2 = 14*j + 1\n",
    "                QM[po1][po2] = QM[po1][po2] + qcef\n",
    "\n",
    "                for l in range(-8,5):\n",
    "                    qcef1 = -pow(2, l+m+2) * A[k][i] * A[k][j]\n",
    "                    po1 = 14*i + 1  # q_i -\n",
    "                    po2 = 14*j + l + 8 # q_j,l +\n",
    "                    QM[po1][po2] = QM[po1][po2] + qcef1\n",
    "\n",
    "                    po3 = 14*i + l + 8  #q_i,l+\n",
    "                    po4 = 14*j + 1  # q_j-\n",
    "                    QM[po3][po4] = QM[po3][po4] + qcef1\n",
    "    return QM\n",
    "                \n",
    "QM = faster1(QM)\n",
    "#QM\n",
    "###okkkkkkkkkkkkk"
   ]
  },
  {
   "cell_type": "code",
   "execution_count": null,
   "metadata": {},
   "outputs": [],
   "source": []
  },
  {
   "cell_type": "code",
   "execution_count": 23,
   "metadata": {},
   "outputs": [
    {
     "data": {
      "text/plain": [
       "array([[ 6.08685489e-01,  0.00000000e+00,  0.00000000e+00, ...,\n",
       "         0.00000000e+00,  0.00000000e+00,  0.00000000e+00],\n",
       "       [-4.23950000e-03,  6.94514521e+01, -1.69580000e-02, ...,\n",
       "        -1.65785600e+00, -3.31571200e+00,  0.00000000e+00],\n",
       "       [ 0.00000000e+00,  0.00000000e+00, -7.32696533e-05, ...,\n",
       "         0.00000000e+00,  0.00000000e+00,  0.00000000e+00],\n",
       "       ...,\n",
       "       [ 0.00000000e+00,  0.00000000e+00,  0.00000000e+00, ...,\n",
       "         1.48952000e-01,  6.82240000e-01,  0.00000000e+00],\n",
       "       [ 0.00000000e+00,  0.00000000e+00,  0.00000000e+00, ...,\n",
       "         0.00000000e+00,  6.39024000e-01,  0.00000000e+00],\n",
       "       [ 0.00000000e+00,  0.00000000e+00,  0.00000000e+00, ...,\n",
       "         0.00000000e+00,  0.00000000e+00,  0.00000000e+00]])"
      ]
     },
     "execution_count": 23,
     "metadata": {},
     "output_type": "execute_result"
    }
   ],
   "source": [
    "QM"
   ]
  },
  {
   "cell_type": "code",
   "execution_count": 24,
   "metadata": {},
   "outputs": [
    {
     "data": {
      "text/plain": [
       "5.888513088226318"
      ]
     },
     "execution_count": 24,
     "metadata": {},
     "output_type": "execute_result"
    }
   ],
   "source": [
    "time_taken_qubogen=time()-t0\n",
    "time_taken_qubogen"
   ]
  },
  {
   "cell_type": "code",
   "execution_count": 25,
   "metadata": {},
   "outputs": [],
   "source": [
    "from dwave.system import LeapHybridSampler"
   ]
  },
  {
   "cell_type": "code",
   "execution_count": 26,
   "metadata": {},
   "outputs": [],
   "source": [
    "sampler = LeapHybridSampler(Profile='Max1')"
   ]
  },
  {
   "cell_type": "code",
   "execution_count": 27,
   "metadata": {},
   "outputs": [],
   "source": [
    "# %%capture captured\n",
    "# # Print Python code for the run in D-Wave quantum processing unit\n",
    "# print(\"\\n\\nfrom dwave.system import DWaveSampler, EmbeddingComposite\")\n",
    "# print(\"sampler_auto = EmbeddingComposite(DWaveSampler(solver={'qpu': True}))\\n\")\n",
    "# #from dwave.system import DWaveSampler, EmbeddingComposite\n",
    "# #sampler_auto = EmbeddingComposite(DWaveSampler(solver={'qpu': True}))\n",
    "\n",
    "# print(\"linear = {\", end = \"\")\n",
    "# for i in range((bits+1)*Dimension-1): \n",
    "#     linear = i + 1\n",
    "#     print (\"('q\",linear,\"','q\",linear,\"'):\",format(QM[i][i]),sep='', end = \", \")\n",
    "# print (\"('q\",(bits+1)*Dimension,\"','q\",(bits+1)*Dimension,\"'):\",format(QM[(bits+1)*Dimension-1][(bits+1)*Dimension-1]),\"}\", sep='')\n",
    "\n",
    "# print(\"\\nquadratic = {\", end = \"\")\n",
    "# for i in range((bits+1)*Dimension-1):\n",
    "#     for j in range(i+1,(bits+1)*Dimension):\n",
    "#         if QM[i][j] != 0:\n",
    "#             qdrt1 = i + 1\n",
    "#             qdrt2 = j + 1\n",
    "#             if i == (bits+1)*Dimension-2 and j == (bits+1)*Dimension-1:\n",
    "#                 print (\"('q\",qdrt1,\"','q\",qdrt2,\"'):\",format(QM[i][j]), \"}\", sep='')\n",
    "#             else:\n",
    "#                 print (\"('q\",qdrt1,\"','q\",qdrt2,\"'):\",format(QM[i][j]), sep ='', end = \", \")\n",
    "\n",
    "# print(\"\\nQ = dict(linear)\")\n",
    "# print(\"Q.update(quadratic)\\n\")\n",
    "\n",
    "# qa_iter = 1000\n",
    "# #print(\"sampleset = sampler_auto.sample_qubo(Q, num_reads=\",qa_iter,\")\", sep = \"\")\n",
    "# #print(\"print(sampleset)\")\n",
    "\n",
    "# #Q = dict(linear)\n",
    "# #Q.update(quadratic)\n",
    "# print(\"sampleset = sampler.sample_qubo(Q)\")\n",
    "# print(\"print(sampleset)\")\n",
    "# #sampleset = sampler_auto.sample_qubo(Q, num_reads=1000)\n",
    "# #print(sampleset)\n"
   ]
  },
  {
   "cell_type": "code",
   "execution_count": 27,
   "metadata": {},
   "outputs": [],
   "source": [
    "f = open(\"code128_16sp%.py\", \"a\")\n",
    "# Print Python code for the run in D-Wave quantum processing unit\n",
    "print(\"\\n\\nfrom dwave.system import DWaveSampler, EmbeddingComposite\", file=f)\n",
    "print(\"#sampler_auto = EmbeddingComposite(DWaveSampler(solver={'qpu': True}))\\n\", file=f)\n",
    "print(\"linear = {\", end = \"\", file=f)\n",
    "\n",
    "for i in range((bits+1)*Dimension-1):\n",
    "    linear = i + 1\n",
    "    print (\"('q\",linear,\"','q\",linear,\"'):\",format(QM[i][i]),sep='', end = \", \", file=f)\n",
    "print (\"('q\",(bits+1)*Dimension,\"','q\",(bits+1)*Dimension,\"'):\",format(QM[((bits+1)*Dimension)-1][((bits+1)*Dimension)-1]),\"}\", sep='', file=f)\n",
    "print(\"\\nquadratic = {\", end = \"\", file=f)\n",
    "for i in range((bits+1)*Dimension-1):\n",
    "    for j in range(i+1,(bits+1)*Dimension):\n",
    "        if QM[i][j] != 0:\n",
    "            qdrt1 = i + 1\n",
    "            qdrt2 = j + 1\n",
    "            if i == (bits+1)*Dimension-2 and j == (bits+1)*Dimension-1:\n",
    "                print (\"('q\",qdrt1,\"','q\",qdrt2,\"'):\",format(QM[i][j]), \"}\", sep='', file=f)\n",
    "            else:\n",
    "                print (\"('q\",qdrt1,\"','q\",qdrt2,\"'):\",format(QM[i][j]), sep ='', end = \", \", file=f)\n",
    "print(\"\\nQ = dict(linear)\", file=f)\n",
    "print(\"Q.update(quadratic)\\n\", file=f)\n",
    "qa_iter = 1000\n",
    "print(\"sampleset = sampler.sample_qubo(Q)\", sep = \"\", file=f)\n",
    "print(\"print(sampleset)\", file=f)\n",
    "f.close()\n",
    "\n",
    "\n",
    "\n"
   ]
  },
  {
   "cell_type": "code",
   "execution_count": 30,
   "metadata": {},
   "outputs": [],
   "source": [
    "t1 = time()"
   ]
  },
  {
   "cell_type": "code",
   "execution_count": 31,
   "metadata": {},
   "outputs": [
    {
     "name": "stdout",
     "output_type": "stream",
     "text": [
      "  q1 q10 q100 q1000 q1001 q1002 q1003 q1004 ... q999        energy num_oc.\n",
      "0  0   1    1     1     1     1     1     1 ...    1 -53971.738884       1\n",
      "['BINARY', 1 rows, 1 samples, 1792 variables]\n"
     ]
    }
   ],
   "source": [
    "f = open(\"code128_16sp%.py\", \"r\")\n",
    "exec(f.read())\n",
    "f.close()"
   ]
  },
  {
   "cell_type": "code",
   "execution_count": 32,
   "metadata": {},
   "outputs": [
    {
     "data": {
      "text/plain": [
       "62.956172704696655"
      ]
     },
     "execution_count": 32,
     "metadata": {},
     "output_type": "execute_result"
    }
   ],
   "source": [
    "time_taken_quboans=time()-t1\n",
    "time_taken_quboans"
   ]
  },
  {
   "cell_type": "code",
   "execution_count": null,
   "metadata": {},
   "outputs": [],
   "source": [
    "#str=captured.stdout"
   ]
  },
  {
   "cell_type": "code",
   "execution_count": null,
   "metadata": {},
   "outputs": [],
   "source": [
    "#exec(str)"
   ]
  },
  {
   "cell_type": "markdown",
   "metadata": {},
   "source": [
    "## Sample code for testing the zip method"
   ]
  },
  {
   "cell_type": "code",
   "execution_count": null,
   "metadata": {},
   "outputs": [],
   "source": [
    "hi_1 = [ 1, 0 , 1 , 1 , 1 , 1, 0 , 0, 1 ]\n",
    "hello_1 =[1,5,  3,  6,  9,  2, 4, 7,   8]\n",
    "\n",
    "hi_1_sorted = [x for _,x in sorted(zip(hello_1,hi_1))]\n",
    "print(hi_1_sorted)     # 1,2,3,4,5,6,7,8,9 <-> 1,1,1,0,0,1,0,1,1"
   ]
  },
  {
   "cell_type": "markdown",
   "metadata": {},
   "source": [
    "# Sorting record array with respect to variables array."
   ]
  },
  {
   "cell_type": "code",
   "execution_count": 33,
   "metadata": {},
   "outputs": [
    {
     "data": {
      "text/plain": [
       "rec.array([([0, 1, 1, 1, 1, 1, 1, 1, 1, 1, 1, 1, 0, 1, 1, 1, 1, 1, 1, 1, 1, 1, 1, 1, 1, 1, 1, 0, 0, 1, 1, 1, 1, 1, 1, 1, 1, 1, 1, 1, 1, 1, 0, 0, 1, 1, 1, 1, 1, 1, 1, 1, 1, 1, 1, 1, 1, 1, 1, 0, 1, 1, 1, 1, 1, 1, 1, 1, 1, 1, 1, 1, 1, 1, 0, 1, 1, 1, 1, 1, 1, 1, 1, 1, 1, 1, 1, 1, 0, 0, 1, 1, 1, 1, 1, 1, 1, 1, 1, 1, 1, 1, 1, 1, 1, 0, 1, 1, 1, 1, 1, 1, 1, 1, 1, 1, 1, 1, 1, 1, 1, 0, 1, 1, 1, 1, 1, 1, 1, 1, 1, 1, 1, 1, 1, 0, 1, 0, 1, 1, 1, 1, 1, 1, 1, 1, 0, 1, 1, 1, 1, 1, 0, 1, 1, 1, 1, 1, 1, 1, 1, 1, 1, 1, 1, 1, 0, 0, 1, 1, 1, 1, 1, 1, 1, 1, 1, 1, 1, 1, 1, 1, 0, 0, 1, 1, 1, 1, 1, 1, 1, 1, 1, 1, 1, 1, 1, 0, 0, 1, 1, 1, 1, 1, 1, 1, 1, 1, 1, 1, 1, 1, 1, 1, 0, 1, 1, 1, 1, 1, 1, 1, 1, 1, 1, 1, 1, 1, 1, 0, 0, 1, 1, 1, 1, 1, 1, 1, 1, 1, 1, 1, 1, 1, 1, 0, 1, 1, 1, 1, 1, 1, 1, 1, 1, 1, 1, 1, 1, 1, 0, 0, 1, 1, 1, 1, 1, 1, 1, 1, 1, 1, 1, 1, 1, 1, 0, 1, 1, 1, 1, 1, 1, 1, 1, 1, 1, 1, 1, 1, 1, 1, 0, 1, 1, 1, 1, 1, 1, 1, 1, 0, 1, 1, 1, 1, 0, 0, 1, 1, 1, 1, 1, 1, 1, 1, 1, 1, 1, 1, 1, 1, 0, 1, 1, 1, 1, 1, 1, 1, 1, 1, 1, 1, 1, 1, 1, 1, 0, 0, 1, 1, 1, 1, 1, 1, 1, 1, 1, 1, 1, 1, 1, 1, 0, 1, 1, 1, 1, 1, 1, 1, 1, 1, 1, 1, 1, 1, 1, 1, 0, 1, 1, 1, 1, 1, 1, 1, 1, 1, 1, 1, 1, 1, 0, 0, 1, 1, 1, 1, 1, 1, 1, 1, 1, 1, 1, 1, 1, 0, 0, 1, 1, 1, 1, 1, 1, 1, 1, 1, 1, 1, 1, 1, 1, 1, 0, 1, 1, 1, 1, 1, 1, 1, 1, 1, 1, 1, 1, 1, 0, 0, 1, 1, 1, 1, 1, 1, 1, 1, 1, 1, 1, 1, 1, 1, 0, 1, 0, 1, 1, 1, 1, 1, 1, 1, 1, 0, 1, 1, 1, 1, 1, 0, 1, 1, 1, 1, 1, 1, 1, 1, 1, 1, 1, 1, 1, 0, 0, 1, 1, 1, 1, 1, 1, 1, 1, 1, 1, 1, 1, 1, 1, 0, 0, 1, 1, 1, 1, 1, 1, 1, 1, 1, 1, 1, 1, 1, 0, 0, 1, 1, 1, 1, 1, 1, 1, 1, 1, 1, 1, 1, 1, 1, 1, 0, 1, 1, 1, 1, 1, 1, 1, 1, 1, 1, 1, 1, 1, 0, 0, 1, 1, 1, 1, 1, 1, 1, 1, 1, 1, 1, 1, 1, 1, 0, 0, 1, 1, 1, 1, 1, 1, 1, 1, 1, 1, 1, 1, 1, 1, 1, 0, 1, 1, 1, 1, 1, 1, 1, 1, 1, 1, 1, 1, 1, 1, 0, 1, 1, 1, 1, 1, 1, 1, 1, 1, 1, 1, 1, 1, 0, 1, 0, 1, 1, 1, 1, 1, 1, 1, 1, 0, 1, 1, 1, 1, 1, 0, 1, 1, 1, 1, 1, 1, 1, 1, 1, 1, 1, 1, 1, 0, 0, 1, 1, 1, 1, 1, 1, 1, 1, 1, 1, 1, 1, 1, 1, 0, 0, 1, 1, 1, 1, 1, 1, 1, 1, 1, 1, 1, 1, 1, 0, 0, 1, 1, 1, 1, 1, 1, 1, 1, 1, 1, 1, 1, 1, 1, 1, 1, 0, 1, 1, 1, 1, 1, 1, 1, 1, 1, 1, 1, 1, 1, 0, 0, 1, 1, 1, 1, 1, 1, 1, 1, 1, 1, 1, 1, 1, 1, 0, 1, 1, 1, 1, 1, 1, 1, 1, 1, 1, 1, 1, 1, 1, 1, 0, 1, 1, 1, 1, 1, 1, 1, 1, 1, 1, 1, 1, 1, 1, 0, 1, 1, 1, 1, 1, 1, 1, 1, 1, 1, 1, 1, 1, 0, 0, 0, 1, 1, 1, 1, 1, 1, 1, 1, 0, 1, 1, 1, 1, 1, 0, 1, 1, 1, 1, 1, 1, 1, 1, 1, 1, 1, 1, 1, 1, 0, 0, 1, 1, 1, 1, 1, 1, 1, 1, 1, 1, 1, 1, 1, 1, 1, 0, 1, 1, 1, 1, 1, 1, 1, 1, 1, 1, 1, 1, 1, 1, 0, 1, 1, 1, 1, 1, 1, 1, 1, 1, 1, 1, 1, 1, 1, 0, 0, 1, 1, 1, 1, 1, 1, 1, 1, 1, 1, 1, 1, 1, 1, 0, 1, 1, 1, 1, 1, 1, 1, 1, 1, 1, 1, 1, 1, 0, 0, 1, 1, 1, 1, 1, 1, 1, 1, 1, 1, 1, 1, 1, 1, 1, 1, 1, 1, 1, 0, 1, 1, 1, 1, 1, 1, 1, 1, 1, 1, 1, 1, 1, 1, 0, 1, 1, 1, 1, 1, 1, 1, 1, 1, 1, 1, 1, 1, 1, 1, 0, 0, 1, 1, 1, 1, 1, 1, 1, 1, 1, 1, 1, 1, 1, 1, 0, 1, 1, 1, 1, 1, 1, 1, 1, 1, 1, 1, 1, 1, 0, 0, 1, 1, 1, 1, 1, 1, 1, 1, 1, 1, 1, 1, 1, 1, 1, 0, 1, 1, 1, 1, 1, 1, 1, 1, 1, 1, 1, 1, 1, 1, 0, 1, 1, 1, 1, 1, 1, 1, 1, 1, 1, 1, 1, 1, 0, 0, 0, 1, 1, 1, 1, 1, 1, 1, 1, 0, 1, 1, 1, 1, 1, 0, 1, 1, 1, 1, 1, 1, 1, 1, 1, 1, 1, 1, 1, 1, 1, 0, 1, 1, 1, 1, 1, 1, 1, 1, 1, 1, 1, 1, 1, 1, 1, 0, 1, 1, 1, 1, 1, 1, 1, 1, 1, 1, 1, 1, 1, 0, 0, 1, 1, 1, 1, 1, 1, 1, 1, 1, 1, 1, 1, 1, 1, 0, 0, 1, 1, 1, 1, 1, 1, 1, 1, 1, 1, 1, 1, 1, 0, 0, 1, 1, 1, 1, 1, 1, 1, 1, 1, 1, 1, 1, 1, 0, 0, 1, 1, 1, 1, 1, 1, 1, 1, 1, 1, 1, 1, 1, 1, 1, 0, 1, 1, 1, 1, 1, 1, 1, 1, 1, 1, 1, 1, 1, 1, 0, 0, 1, 1, 1, 1, 1, 1, 1, 1, 1, 1, 1, 1, 1, 0, 1, 0, 1, 1, 1, 1, 1, 1, 1, 1, 0, 1, 1, 1, 1, 1, 0, 1, 1, 1, 1, 1, 1, 1, 1, 1, 1, 1, 1, 1, 0, 0, 1, 1, 1, 1, 1, 1, 1, 1, 1, 1, 1, 1, 1, 1, 1, 0, 1, 1, 1, 1, 1, 1, 1, 1, 1, 1, 1, 1, 1, 0, 0, 1, 1, 1, 1, 1, 1, 1, 1, 1, 1, 1, 1, 1, 1, 1, 0, 1, 1, 1, 1, 1, 1, 1, 1, 1, 1, 1, 1, 1, 1, 1, 0, 1, 1, 1, 1, 1, 1, 1, 1, 1, 1, 1, 1, 1, 0, 0, 1, 1, 1, 1, 1, 1, 1, 1, 1, 1, 1, 1, 1, 1, 1, 0, 1, 1, 1, 1, 1, 1, 1, 1, 1, 1, 1, 1, 1, 1, 0, 1, 1, 1, 1, 1, 1, 1, 1, 1, 1, 1, 1, 1, 1, 0, 0, 1, 1, 1, 1, 1, 1, 1, 1, 0, 1, 1, 1, 1, 1, 0, 1, 1, 1, 1, 1, 1, 1, 1, 1, 1, 1, 1, 1, 1, 0, 1, 1, 1, 1, 1, 1, 1, 1, 1, 1, 1, 1, 1, 1, 1, 0, 0, 1, 1, 1, 1, 1, 1, 1, 1, 1, 1, 1, 1, 1, 1, 0, 1, 1, 1, 1, 1, 1, 1, 1, 1, 1, 1, 1, 1, 1, 0, 0, 1, 1, 1, 1, 1, 1, 1, 1, 1, 1, 1, 1, 1, 1, 0, 1, 1, 1, 1, 1, 1, 1, 1, 1, 1, 1, 1, 1, 0, 0, 1, 1, 1, 1, 1, 1, 1, 1, 1, 1, 1, 1, 1, 1, 1, 0, 1, 1, 1, 1, 1, 1, 1, 1, 1, 1, 1, 1, 1, 1, 0, 1, 1, 1, 1, 1, 1, 1, 1, 1, 1, 1, 1, 1, 1, 1, 0, 0, 1, 1, 1, 1, 1, 1, 1, 1, 0, 1, 1, 1, 1, 1, 0, 1, 1, 1, 1, 1, 1, 1, 1, 1, 1, 1, 1, 1, 1, 0, 1, 1, 1, 1, 1, 1, 1, 1, 1, 1, 1, 1, 1, 1, 0, 0, 1, 1, 1, 1, 1, 1, 1, 1, 1, 1, 1, 1, 1, 1, 0, 1, 1, 1, 1, 1, 1, 1, 1, 1, 1, 1, 1, 1, 1, 0, 0, 1, 1, 1, 1, 1, 1, 1, 1, 1, 1, 1, 1, 1, 0, 0, 1, 1, 1, 1, 1, 1, 1, 1, 1, 1, 1, 1, 1, 1, 0, 1, 1, 1, 1, 1, 1, 1, 1, 1, 1, 1, 1, 1, 1, 1, 1, 0, 1, 1, 1, 1, 1, 1, 1, 1, 1, 1, 1, 1, 1, 0, 0, 1, 1, 1, 1, 1, 1, 1, 1, 1, 1, 1, 1, 1, 1, 0, 0, 1, 1, 1, 1, 1, 1, 1, 1, 0, 1, 1, 1, 1, 0, 0, 1, 1, 1, 1, 1, 1, 1, 1, 1, 1, 1, 1, 1, 1, 0, 1, 1, 1, 1, 1, 1, 1, 1, 1, 1, 1, 1, 1, 1, 1, 0, 1, 1, 1, 1, 1, 1, 1, 1, 1, 1, 1, 1, 1, 1, 0, 1, 1, 1, 1, 1, 1, 1, 1, 1, 1, 1, 1, 1, 1, 1, 0, 0, 1, 1, 1, 1, 1, 1, 1, 1, 1, 1, 1, 1, 1, 1, 0, 1, 1, 1, 1, 1, 1, 1, 1, 1, 1, 1, 1, 1, 0, 0, 1, 1, 1, 1, 1, 1, 1, 1, 1, 1, 1, 1, 1, 1, 1, 0, 1, 1, 1, 1, 1, 1, 1, 1, 1, 1, 1, 1, 1, 1, 0, 1, 1, 1, 1, 1, 1, 1, 1, 1, 1, 1, 1, 1, 1, 0, 0, 1, 1, 1, 1, 1, 1, 1, 1, 0, 1, 1, 1, 1, 0, 0, 1, 1, 1, 1], -53971.73888421, 1)],\n",
       "          dtype=[('sample', '<i4', (1792,)), ('energy', '<f8'), ('num_occurrences', '<i8')])"
      ]
     },
     "execution_count": 33,
     "metadata": {},
     "output_type": "execute_result"
    }
   ],
   "source": [
    "#qubit_values\n",
    "sampleset.record"
   ]
  },
  {
   "cell_type": "code",
   "execution_count": 34,
   "metadata": {},
   "outputs": [
    {
     "data": {
      "text/plain": [
       "Variables(['q1', 'q10', 'q100', 'q1000', 'q1001', 'q1002', 'q1003', 'q1004', 'q1005', 'q1006', 'q1007', 'q1008', 'q1009', 'q101', 'q1010', 'q1011', 'q1012', 'q1013', 'q1014', 'q1015', 'q1016', 'q1017', 'q1018', 'q1019', 'q102', 'q1020', 'q1021', 'q1022', 'q1023', 'q1024', 'q1025', 'q1026', 'q1027', 'q1028', 'q1029', 'q103', 'q1030', 'q1031', 'q1032', 'q1033', 'q1034', 'q1035', 'q1036', 'q1037', 'q1038', 'q1039', 'q104', 'q1040', 'q1041', 'q1042', 'q1043', 'q1044', 'q1045', 'q1046', 'q1047', 'q1048', 'q1049', 'q105', 'q1050', 'q1051', 'q1052', 'q1053', 'q1054', 'q1055', 'q1056', 'q1057', 'q1058', 'q1059', 'q106', 'q1060', 'q1061', 'q1062', 'q1063', 'q1064', 'q1065', 'q1066', 'q1067', 'q1068', 'q1069', 'q107', 'q1070', 'q1071', 'q1072', 'q1073', 'q1074', 'q1075', 'q1076', 'q1077', 'q1078', 'q1079', 'q108', 'q1080', 'q1081', 'q1082', 'q1083', 'q1084', 'q1085', 'q1086', 'q1087', 'q1088', 'q1089', 'q109', 'q1090', 'q1091', 'q1092', 'q1093', 'q1094', 'q1095', 'q1096', 'q1097', 'q1098', 'q1099', 'q11', 'q110', 'q1100', 'q1101', 'q1102', 'q1103', 'q1104', 'q1105', 'q1106', 'q1107', 'q1108', 'q1109', 'q111', 'q1110', 'q1111', 'q1112', 'q1113', 'q1114', 'q1115', 'q1116', 'q1117', 'q1118', 'q1119', 'q112', 'q1120', 'q1121', 'q1122', 'q1123', 'q1124', 'q1125', 'q1126', 'q1127', 'q1128', 'q1129', 'q113', 'q1130', 'q1131', 'q1132', 'q1133', 'q1134', 'q1135', 'q1136', 'q1137', 'q1138', 'q1139', 'q114', 'q1140', 'q1141', 'q1142', 'q1143', 'q1144', 'q1145', 'q1146', 'q1147', 'q1148', 'q1149', 'q115', 'q1150', 'q1151', 'q1152', 'q1153', 'q1154', 'q1155', 'q1156', 'q1157', 'q1158', 'q1159', 'q116', 'q1160', 'q1161', 'q1162', 'q1163', 'q1164', 'q1165', 'q1166', 'q1167', 'q1168', 'q1169', 'q117', 'q1170', 'q1171', 'q1172', 'q1173', 'q1174', 'q1175', 'q1176', 'q1177', 'q1178', 'q1179', 'q118', 'q1180', 'q1181', 'q1182', 'q1183', 'q1184', 'q1185', 'q1186', 'q1187', 'q1188', 'q1189', 'q119', 'q1190', 'q1191', 'q1192', 'q1193', 'q1194', 'q1195', 'q1196', 'q1197', 'q1198', 'q1199', 'q12', 'q120', 'q1200', 'q1201', 'q1202', 'q1203', 'q1204', 'q1205', 'q1206', 'q1207', 'q1208', 'q1209', 'q121', 'q1210', 'q1211', 'q1212', 'q1213', 'q1214', 'q1215', 'q1216', 'q1217', 'q1218', 'q1219', 'q122', 'q1220', 'q1221', 'q1222', 'q1223', 'q1224', 'q1225', 'q1226', 'q1227', 'q1228', 'q1229', 'q123', 'q1230', 'q1231', 'q1232', 'q1233', 'q1234', 'q1235', 'q1236', 'q1237', 'q1238', 'q1239', 'q124', 'q1240', 'q1241', 'q1242', 'q1243', 'q1244', 'q1245', 'q1246', 'q1247', 'q1248', 'q1249', 'q125', 'q1250', 'q1251', 'q1252', 'q1253', 'q1254', 'q1255', 'q1256', 'q1257', 'q1258', 'q1259', 'q126', 'q1260', 'q1261', 'q1262', 'q1263', 'q1264', 'q1265', 'q1266', 'q1267', 'q1268', 'q1269', 'q127', 'q1270', 'q1271', 'q1272', 'q1273', 'q1274', 'q1275', 'q1276', 'q1277', 'q1278', 'q1279', 'q128', 'q1280', 'q1281', 'q1282', 'q1283', 'q1284', 'q1285', 'q1286', 'q1287', 'q1288', 'q1289', 'q129', 'q1290', 'q1291', 'q1292', 'q1293', 'q1294', 'q1295', 'q1296', 'q1297', 'q1298', 'q1299', 'q13', 'q130', 'q1300', 'q1301', 'q1302', 'q1303', 'q1304', 'q1305', 'q1306', 'q1307', 'q1308', 'q1309', 'q131', 'q1310', 'q1311', 'q1312', 'q1313', 'q1314', 'q1315', 'q1316', 'q1317', 'q1318', 'q1319', 'q132', 'q1320', 'q1321', 'q1322', 'q1323', 'q1324', 'q1325', 'q1326', 'q1327', 'q1328', 'q1329', 'q133', 'q1330', 'q1331', 'q1332', 'q1333', 'q1334', 'q1335', 'q1336', 'q1337', 'q1338', 'q1339', 'q134', 'q1340', 'q1341', 'q1342', 'q1343', 'q1344', 'q1345', 'q1346', 'q1347', 'q1348', 'q1349', 'q135', 'q1350', 'q1351', 'q1352', 'q1353', 'q1354', 'q1355', 'q1356', 'q1357', 'q1358', 'q1359', 'q136', 'q1360', 'q1361', 'q1362', 'q1363', 'q1364', 'q1365', 'q1366', 'q1367', 'q1368', 'q1369', 'q137', 'q1370', 'q1371', 'q1372', 'q1373', 'q1374', 'q1375', 'q1376', 'q1377', 'q1378', 'q1379', 'q138', 'q1380', 'q1381', 'q1382', 'q1383', 'q1384', 'q1385', 'q1386', 'q1387', 'q1388', 'q1389', 'q139', 'q1390', 'q1391', 'q1392', 'q1393', 'q1394', 'q1395', 'q1396', 'q1397', 'q1398', 'q1399', 'q14', 'q140', 'q1400', 'q1401', 'q1402', 'q1403', 'q1404', 'q1405', 'q1406', 'q1407', 'q1408', 'q1409', 'q141', 'q1410', 'q1411', 'q1412', 'q1413', 'q1414', 'q1415', 'q1416', 'q1417', 'q1418', 'q1419', 'q142', 'q1420', 'q1421', 'q1422', 'q1423', 'q1424', 'q1425', 'q1426', 'q1427', 'q1428', 'q1429', 'q143', 'q1430', 'q1431', 'q1432', 'q1433', 'q1434', 'q1435', 'q1436', 'q1437', 'q1438', 'q1439', 'q144', 'q1440', 'q1441', 'q1442', 'q1443', 'q1444', 'q1445', 'q1446', 'q1447', 'q1448', 'q1449', 'q145', 'q1450', 'q1451', 'q1452', 'q1453', 'q1454', 'q1455', 'q1456', 'q1457', 'q1458', 'q1459', 'q146', 'q1460', 'q1461', 'q1462', 'q1463', 'q1464', 'q1465', 'q1466', 'q1467', 'q1468', 'q1469', 'q147', 'q1470', 'q1471', 'q1472', 'q1473', 'q1474', 'q1475', 'q1476', 'q1477', 'q1478', 'q1479', 'q148', 'q1480', 'q1481', 'q1482', 'q1483', 'q1484', 'q1485', 'q1486', 'q1487', 'q1488', 'q1489', 'q149', 'q1490', 'q1491', 'q1492', 'q1493', 'q1494', 'q1495', 'q1496', 'q1497', 'q1498', 'q1499', 'q15', 'q150', 'q1500', 'q1501', 'q1502', 'q1503', 'q1504', 'q1505', 'q1506', 'q1507', 'q1508', 'q1509', 'q151', 'q1510', 'q1511', 'q1512', 'q1513', 'q1514', 'q1515', 'q1516', 'q1517', 'q1518', 'q1519', 'q152', 'q1520', 'q1521', 'q1522', 'q1523', 'q1524', 'q1525', 'q1526', 'q1527', 'q1528', 'q1529', 'q153', 'q1530', 'q1531', 'q1532', 'q1533', 'q1534', 'q1535', 'q1536', 'q1537', 'q1538', 'q1539', 'q154', 'q1540', 'q1541', 'q1542', 'q1543', 'q1544', 'q1545', 'q1546', 'q1547', 'q1548', 'q1549', 'q155', 'q1550', 'q1551', 'q1552', 'q1553', 'q1554', 'q1555', 'q1556', 'q1557', 'q1558', 'q1559', 'q156', 'q1560', 'q1561', 'q1562', 'q1563', 'q1564', 'q1565', 'q1566', 'q1567', 'q1568', 'q1569', 'q157', 'q1570', 'q1571', 'q1572', 'q1573', 'q1574', 'q1575', 'q1576', 'q1577', 'q1578', 'q1579', 'q158', 'q1580', 'q1581', 'q1582', 'q1583', 'q1584', 'q1585', 'q1586', 'q1587', 'q1588', 'q1589', 'q159', 'q1590', 'q1591', 'q1592', 'q1593', 'q1594', 'q1595', 'q1596', 'q1597', 'q1598', 'q1599', 'q16', 'q160', 'q1600', 'q1601', 'q1602', 'q1603', 'q1604', 'q1605', 'q1606', 'q1607', 'q1608', 'q1609', 'q161', 'q1610', 'q1611', 'q1612', 'q1613', 'q1614', 'q1615', 'q1616', 'q1617', 'q1618', 'q1619', 'q162', 'q1620', 'q1621', 'q1622', 'q1623', 'q1624', 'q1625', 'q1626', 'q1627', 'q1628', 'q1629', 'q163', 'q1630', 'q1631', 'q1632', 'q1633', 'q1634', 'q1635', 'q1636', 'q1637', 'q1638', 'q1639', 'q164', 'q1640', 'q1641', 'q1642', 'q1643', 'q1644', 'q1645', 'q1646', 'q1647', 'q1648', 'q1649', 'q165', 'q1650', 'q1651', 'q1652', 'q1653', 'q1654', 'q1655', 'q1656', 'q1657', 'q1658', 'q1659', 'q166', 'q1660', 'q1661', 'q1662', 'q1663', 'q1664', 'q1665', 'q1666', 'q1667', 'q1668', 'q1669', 'q167', 'q1670', 'q1671', 'q1672', 'q1673', 'q1674', 'q1675', 'q1676', 'q1677', 'q1678', 'q1679', 'q168', 'q1680', 'q1681', 'q1682', 'q1683', 'q1684', 'q1685', 'q1686', 'q1687', 'q1688', 'q1689', 'q169', 'q1690', 'q1691', 'q1692', 'q1693', 'q1694', 'q1695', 'q1696', 'q1697', 'q1698', 'q1699', 'q17', 'q170', 'q1700', 'q1701', 'q1702', 'q1703', 'q1704', 'q1705', 'q1706', 'q1707', 'q1708', 'q1709', 'q171', 'q1710', 'q1711', 'q1712', 'q1713', 'q1714', 'q1715', 'q1716', 'q1717', 'q1718', 'q1719', 'q172', 'q1720', 'q1721', 'q1722', 'q1723', 'q1724', 'q1725', 'q1726', 'q1727', 'q1728', 'q1729', 'q173', 'q1730', 'q1731', 'q1732', 'q1733', 'q1734', 'q1735', 'q1736', 'q1737', 'q1738', 'q1739', 'q174', 'q1740', 'q1741', 'q1742', 'q1743', 'q1744', 'q1745', 'q1746', 'q1747', 'q1748', 'q1749', 'q175', 'q1750', 'q1751', 'q1752', 'q1753', 'q1754', 'q1755', 'q1756', 'q1757', 'q1758', 'q1759', 'q176', 'q1760', 'q1761', 'q1762', 'q1763', 'q1764', 'q1765', 'q1766', 'q1767', 'q1768', 'q1769', 'q177', 'q1770', 'q1771', 'q1772', 'q1773', 'q1774', 'q1775', 'q1776', 'q1777', 'q1778', 'q1779', 'q178', 'q1780', 'q1781', 'q1782', 'q1783', 'q1784', 'q1785', 'q1786', 'q1787', 'q1788', 'q1789', 'q179', 'q1790', 'q1791', 'q1792', 'q18', 'q180', 'q181', 'q182', 'q183', 'q184', 'q185', 'q186', 'q187', 'q188', 'q189', 'q19', 'q190', 'q191', 'q192', 'q193', 'q194', 'q195', 'q196', 'q197', 'q198', 'q199', 'q2', 'q20', 'q200', 'q201', 'q202', 'q203', 'q204', 'q205', 'q206', 'q207', 'q208', 'q209', 'q21', 'q210', 'q211', 'q212', 'q213', 'q214', 'q215', 'q216', 'q217', 'q218', 'q219', 'q22', 'q220', 'q221', 'q222', 'q223', 'q224', 'q225', 'q226', 'q227', 'q228', 'q229', 'q23', 'q230', 'q231', 'q232', 'q233', 'q234', 'q235', 'q236', 'q237', 'q238', 'q239', 'q24', 'q240', 'q241', 'q242', 'q243', 'q244', 'q245', 'q246', 'q247', 'q248', 'q249', 'q25', 'q250', 'q251', 'q252', 'q253', 'q254', 'q255', 'q256', 'q257', 'q258', 'q259', 'q26', 'q260', 'q261', 'q262', 'q263', 'q264', 'q265', 'q266', 'q267', 'q268', 'q269', 'q27', 'q270', 'q271', 'q272', 'q273', 'q274', 'q275', 'q276', 'q277', 'q278', 'q279', 'q28', 'q280', 'q281', 'q282', 'q283', 'q284', 'q285', 'q286', 'q287', 'q288', 'q289', 'q29', 'q290', 'q291', 'q292', 'q293', 'q294', 'q295', 'q296', 'q297', 'q298', 'q299', 'q3', 'q30', 'q300', 'q301', 'q302', 'q303', 'q304', 'q305', 'q306', 'q307', 'q308', 'q309', 'q31', 'q310', 'q311', 'q312', 'q313', 'q314', 'q315', 'q316', 'q317', 'q318', 'q319', 'q32', 'q320', 'q321', 'q322', 'q323', 'q324', 'q325', 'q326', 'q327', 'q328', 'q329', 'q33', 'q330', 'q331', 'q332', 'q333', 'q334', 'q335', 'q336', 'q337', 'q338', 'q339', 'q34', 'q340', 'q341', 'q342', 'q343', 'q344', 'q345', 'q346', 'q347', 'q348', 'q349', 'q35', 'q350', 'q351', 'q352', 'q353', 'q354', 'q355', 'q356', 'q357', 'q358', 'q359', 'q36', 'q360', 'q361', 'q362', 'q363', 'q364', 'q365', 'q366', 'q367', 'q368', 'q369', 'q37', 'q370', 'q371', 'q372', 'q373', 'q374', 'q375', 'q376', 'q377', 'q378', 'q379', 'q38', 'q380', 'q381', 'q382', 'q383', 'q384', 'q385', 'q386', 'q387', 'q388', 'q389', 'q39', 'q390', 'q391', 'q392', 'q393', 'q394', 'q395', 'q396', 'q397', 'q398', 'q399', 'q4', 'q40', 'q400', 'q401', 'q402', 'q403', 'q404', 'q405', 'q406', 'q407', 'q408', 'q409', 'q41', 'q410', 'q411', 'q412', 'q413', 'q414', 'q415', 'q416', 'q417', 'q418', 'q419', 'q42', 'q420', 'q421', 'q422', 'q423', 'q424', 'q425', 'q426', 'q427', 'q428', 'q429', 'q43', 'q430', 'q431', 'q432', 'q433', 'q434', 'q435', 'q436', 'q437', 'q438', 'q439', 'q44', 'q440', 'q441', 'q442', 'q443', 'q444', 'q445', 'q446', 'q447', 'q448', 'q449', 'q45', 'q450', 'q451', 'q452', 'q453', 'q454', 'q455', 'q456', 'q457', 'q458', 'q459', 'q46', 'q460', 'q461', 'q462', 'q463', 'q464', 'q465', 'q466', 'q467', 'q468', 'q469', 'q47', 'q470', 'q471', 'q472', 'q473', 'q474', 'q475', 'q476', 'q477', 'q478', 'q479', 'q48', 'q480', 'q481', 'q482', 'q483', 'q484', 'q485', 'q486', 'q487', 'q488', 'q489', 'q49', 'q490', 'q491', 'q492', 'q493', 'q494', 'q495', 'q496', 'q497', 'q498', 'q499', 'q5', 'q50', 'q500', 'q501', 'q502', 'q503', 'q504', 'q505', 'q506', 'q507', 'q508', 'q509', 'q51', 'q510', 'q511', 'q512', 'q513', 'q514', 'q515', 'q516', 'q517', 'q518', 'q519', 'q52', 'q520', 'q521', 'q522', 'q523', 'q524', 'q525', 'q526', 'q527', 'q528', 'q529', 'q53', 'q530', 'q531', 'q532', 'q533', 'q534', 'q535', 'q536', 'q537', 'q538', 'q539', 'q54', 'q540', 'q541', 'q542', 'q543', 'q544', 'q545', 'q546', 'q547', 'q548', 'q549', 'q55', 'q550', 'q551', 'q552', 'q553', 'q554', 'q555', 'q556', 'q557', 'q558', 'q559', 'q56', 'q560', 'q561', 'q562', 'q563', 'q564', 'q565', 'q566', 'q567', 'q568', 'q569', 'q57', 'q570', 'q571', 'q572', 'q573', 'q574', 'q575', 'q576', 'q577', 'q578', 'q579', 'q58', 'q580', 'q581', 'q582', 'q583', 'q584', 'q585', 'q586', 'q587', 'q588', 'q589', 'q59', 'q590', 'q591', 'q592', 'q593', 'q594', 'q595', 'q596', 'q597', 'q598', 'q599', 'q6', 'q60', 'q600', 'q601', 'q602', 'q603', 'q604', 'q605', 'q606', 'q607', 'q608', 'q609', 'q61', 'q610', 'q611', 'q612', 'q613', 'q614', 'q615', 'q616', 'q617', 'q618', 'q619', 'q62', 'q620', 'q621', 'q622', 'q623', 'q624', 'q625', 'q626', 'q627', 'q628', 'q629', 'q63', 'q630', 'q631', 'q632', 'q633', 'q634', 'q635', 'q636', 'q637', 'q638', 'q639', 'q64', 'q640', 'q641', 'q642', 'q643', 'q644', 'q645', 'q646', 'q647', 'q648', 'q649', 'q65', 'q650', 'q651', 'q652', 'q653', 'q654', 'q655', 'q656', 'q657', 'q658', 'q659', 'q66', 'q660', 'q661', 'q662', 'q663', 'q664', 'q665', 'q666', 'q667', 'q668', 'q669', 'q67', 'q670', 'q671', 'q672', 'q673', 'q674', 'q675', 'q676', 'q677', 'q678', 'q679', 'q68', 'q680', 'q681', 'q682', 'q683', 'q684', 'q685', 'q686', 'q687', 'q688', 'q689', 'q69', 'q690', 'q691', 'q692', 'q693', 'q694', 'q695', 'q696', 'q697', 'q698', 'q699', 'q7', 'q70', 'q700', 'q701', 'q702', 'q703', 'q704', 'q705', 'q706', 'q707', 'q708', 'q709', 'q71', 'q710', 'q711', 'q712', 'q713', 'q714', 'q715', 'q716', 'q717', 'q718', 'q719', 'q72', 'q720', 'q721', 'q722', 'q723', 'q724', 'q725', 'q726', 'q727', 'q728', 'q729', 'q73', 'q730', 'q731', 'q732', 'q733', 'q734', 'q735', 'q736', 'q737', 'q738', 'q739', 'q74', 'q740', 'q741', 'q742', 'q743', 'q744', 'q745', 'q746', 'q747', 'q748', 'q749', 'q75', 'q750', 'q751', 'q752', 'q753', 'q754', 'q755', 'q756', 'q757', 'q758', 'q759', 'q76', 'q760', 'q761', 'q762', 'q763', 'q764', 'q765', 'q766', 'q767', 'q768', 'q769', 'q77', 'q770', 'q771', 'q772', 'q773', 'q774', 'q775', 'q776', 'q777', 'q778', 'q779', 'q78', 'q780', 'q781', 'q782', 'q783', 'q784', 'q785', 'q786', 'q787', 'q788', 'q789', 'q79', 'q790', 'q791', 'q792', 'q793', 'q794', 'q795', 'q796', 'q797', 'q798', 'q799', 'q8', 'q80', 'q800', 'q801', 'q802', 'q803', 'q804', 'q805', 'q806', 'q807', 'q808', 'q809', 'q81', 'q810', 'q811', 'q812', 'q813', 'q814', 'q815', 'q816', 'q817', 'q818', 'q819', 'q82', 'q820', 'q821', 'q822', 'q823', 'q824', 'q825', 'q826', 'q827', 'q828', 'q829', 'q83', 'q830', 'q831', 'q832', 'q833', 'q834', 'q835', 'q836', 'q837', 'q838', 'q839', 'q84', 'q840', 'q841', 'q842', 'q843', 'q844', 'q845', 'q846', 'q847', 'q848', 'q849', 'q85', 'q850', 'q851', 'q852', 'q853', 'q854', 'q855', 'q856', 'q857', 'q858', 'q859', 'q86', 'q860', 'q861', 'q862', 'q863', 'q864', 'q865', 'q866', 'q867', 'q868', 'q869', 'q87', 'q870', 'q871', 'q872', 'q873', 'q874', 'q875', 'q876', 'q877', 'q878', 'q879', 'q88', 'q880', 'q881', 'q882', 'q883', 'q884', 'q885', 'q886', 'q887', 'q888', 'q889', 'q89', 'q890', 'q891', 'q892', 'q893', 'q894', 'q895', 'q896', 'q897', 'q898', 'q899', 'q9', 'q90', 'q900', 'q901', 'q902', 'q903', 'q904', 'q905', 'q906', 'q907', 'q908', 'q909', 'q91', 'q910', 'q911', 'q912', 'q913', 'q914', 'q915', 'q916', 'q917', 'q918', 'q919', 'q92', 'q920', 'q921', 'q922', 'q923', 'q924', 'q925', 'q926', 'q927', 'q928', 'q929', 'q93', 'q930', 'q931', 'q932', 'q933', 'q934', 'q935', 'q936', 'q937', 'q938', 'q939', 'q94', 'q940', 'q941', 'q942', 'q943', 'q944', 'q945', 'q946', 'q947', 'q948', 'q949', 'q95', 'q950', 'q951', 'q952', 'q953', 'q954', 'q955', 'q956', 'q957', 'q958', 'q959', 'q96', 'q960', 'q961', 'q962', 'q963', 'q964', 'q965', 'q966', 'q967', 'q968', 'q969', 'q97', 'q970', 'q971', 'q972', 'q973', 'q974', 'q975', 'q976', 'q977', 'q978', 'q979', 'q98', 'q980', 'q981', 'q982', 'q983', 'q984', 'q985', 'q986', 'q987', 'q988', 'q989', 'q99', 'q990', 'q991', 'q992', 'q993', 'q994', 'q995', 'q996', 'q997', 'q998', 'q999'])"
      ]
     },
     "execution_count": 34,
     "metadata": {},
     "output_type": "execute_result"
    }
   ],
   "source": [
    "sampleset.variables"
   ]
  },
  {
   "cell_type": "markdown",
   "metadata": {},
   "source": [
    " ### Cleanup of variables array done in MS-Word. Following which we obtain the following array. \n",
    " ### Note: hello array = Variables array"
   ]
  },
  {
   "cell_type": "code",
   "execution_count": 35,
   "metadata": {},
   "outputs": [
    {
     "data": {
      "text/plain": [
       "1792"
      ]
     },
     "execution_count": 35,
     "metadata": {},
     "output_type": "execute_result"
    }
   ],
   "source": [
    "hello=np.array([1, 10, 100, 1000, 1001, 1002, 1003, 1004, 1005, 1006, 1007, 1008, 1009, 101, 1010, 1011, 1012, 1013, 1014, 1015, 1016, 1017, 1018, 1019, 102, 1020, 1021, 1022, 1023, 1024, 1025, 1026, 1027, 1028, 1029, 103, 1030, 1031, 1032, 1033, 1034, 1035, 1036, 1037, 1038, 1039, 104, 1040, 1041, 1042, 1043, 1044, 1045, 1046, 1047, 1048, 1049, 105, 1050, 1051, 1052, 1053, 1054, 1055, 1056, 1057, 1058, 1059, 106, 1060, 1061, 1062, 1063, 1064, 1065, 1066, 1067, 1068, 1069, 107, 1070, 1071, 1072, 1073, 1074, 1075, 1076, 1077, 1078, 1079, 108, 1080, 1081, 1082, 1083, 1084, 1085, 1086, 1087, 1088, 1089, 109, 1090, 1091, 1092, 1093, 1094, 1095, 1096, 1097, 1098, 1099, 11, 110, 1100, 1101, 1102, 1103, 1104, 1105, 1106, 1107, 1108, 1109, 111, 1110, 1111, 1112, 1113, 1114, 1115, 1116, 1117, 1118, 1119, 112, 1120, 1121, 1122, 1123, 1124, 1125, 1126, 1127, 1128, 1129, 113, 1130, 1131, 1132, 1133, 1134, 1135, 1136, 1137, 1138, 1139, 114, 1140, 1141, 1142, 1143, 1144, 1145, 1146, 1147, 1148, 1149, 115, 1150, 1151, 1152, 1153, 1154, 1155, 1156, 1157, 1158, 1159, 116, 1160, 1161, 1162, 1163, 1164, 1165, 1166, 1167, 1168, 1169, 117, 1170, 1171, 1172, 1173, 1174, 1175, 1176, 1177, 1178, 1179, 118, 1180, 1181, 1182, 1183, 1184, 1185, 1186, 1187, 1188, 1189, 119, 1190, 1191, 1192, 1193, 1194, 1195, 1196, 1197, 1198, 1199, 12, 120, 1200, 1201, 1202, 1203, 1204, 1205, 1206, 1207, 1208, 1209, 121, 1210, 1211, 1212, 1213, 1214, 1215, 1216, 1217, 1218, 1219, 122, 1220, 1221, 1222, 1223, 1224, 1225, 1226, 1227, 1228, 1229, 123, 1230, 1231, 1232, 1233, 1234, 1235, 1236, 1237, 1238, 1239, 124, 1240, 1241, 1242, 1243, 1244, 1245, 1246, 1247, 1248, 1249, 125, 1250, 1251, 1252, 1253, 1254, 1255, 1256, 1257, 1258, 1259, 126, 1260, 1261, 1262, 1263, 1264, 1265, 1266, 1267, 1268, 1269, 127, 1270, 1271, 1272, 1273, 1274, 1275, 1276, 1277, 1278, 1279, 128, 1280, 1281, 1282, 1283, 1284, 1285, 1286, 1287, 1288, 1289, 129, 1290, 1291, 1292, 1293, 1294, 1295, 1296, 1297, 1298, 1299, 13, 130, 1300, 1301, 1302, 1303, 1304, 1305, 1306, 1307, 1308, 1309, 131, 1310, 1311, 1312, 1313, 1314, 1315, 1316, 1317, 1318, 1319, 132, 1320, 1321, 1322, 1323, 1324, 1325, 1326, 1327, 1328, 1329, 133, 1330, 1331, 1332, 1333, 1334, 1335, 1336, 1337, 1338, 1339, 134, 1340, 1341, 1342, 1343, 1344, 1345, 1346, 1347, 1348, 1349, 135, 1350, 1351, 1352, 1353, 1354, 1355, 1356, 1357, 1358, 1359, 136, 1360, 1361, 1362, 1363, 1364, 1365, 1366, 1367, 1368, 1369, 137, 1370, 1371, 1372, 1373, 1374, 1375, 1376, 1377, 1378, 1379, 138, 1380, 1381, 1382, 1383, 1384, 1385, 1386, 1387, 1388, 1389, 139, 1390, 1391, 1392, 1393, 1394, 1395, 1396, 1397, 1398, 1399, 14, 140, 1400, 1401, 1402, 1403, 1404, 1405, 1406, 1407, 1408, 1409, 141, 1410, 1411, 1412, 1413, 1414, 1415, 1416, 1417, 1418, 1419, 142, 1420, 1421, 1422, 1423, 1424, 1425, 1426, 1427, 1428, 1429, 143, 1430, 1431, 1432, 1433, 1434, 1435, 1436, 1437, 1438, 1439, 144, 1440, 1441, 1442, 1443, 1444, 1445, 1446, 1447, 1448, 1449, 145, 1450, 1451, 1452, 1453, 1454, 1455, 1456, 1457, 1458, 1459, 146, 1460, 1461, 1462, 1463, 1464, 1465, 1466, 1467, 1468, 1469, 147, 1470, 1471, 1472, 1473, 1474, 1475, 1476, 1477, 1478, 1479, 148, 1480, 1481, 1482, 1483, 1484, 1485, 1486, 1487, 1488, 1489, 149, 1490, 1491, 1492, 1493, 1494, 1495, 1496, 1497, 1498, 1499, 15, 150, 1500, 1501, 1502, 1503, 1504, 1505, 1506, 1507, 1508, 1509, 151, 1510, 1511, 1512, 1513, 1514, 1515, 1516, 1517, 1518, 1519, 152, 1520, 1521, 1522, 1523, 1524, 1525, 1526, 1527, 1528, 1529, 153, 1530, 1531, 1532, 1533, 1534, 1535, 1536, 1537, 1538, 1539, 154, 1540, 1541, 1542, 1543, 1544, 1545, 1546, 1547, 1548, 1549, 155, 1550, 1551, 1552, 1553, 1554, 1555, 1556, 1557, 1558, 1559, 156, 1560, 1561, 1562, 1563, 1564, 1565, 1566, 1567, 1568, 1569, 157, 1570, 1571, 1572, 1573, 1574, 1575, 1576, 1577, 1578, 1579, 158, 1580, 1581, 1582, 1583, 1584, 1585, 1586, 1587, 1588, 1589, 159, 1590, 1591, 1592, 1593, 1594, 1595, 1596, 1597, 1598, 1599, 16, 160, 1600, 1601, 1602, 1603, 1604, 1605, 1606, 1607, 1608, 1609, 161, 1610, 1611, 1612, 1613, 1614, 1615, 1616, 1617, 1618, 1619, 162, 1620, 1621, 1622, 1623, 1624, 1625, 1626, 1627, 1628, 1629, 163, 1630, 1631, 1632, 1633, 1634, 1635, 1636, 1637, 1638, 1639, 164, 1640, 1641, 1642, 1643, 1644, 1645, 1646, 1647, 1648, 1649, 165, 1650, 1651, 1652, 1653, 1654, 1655, 1656, 1657, 1658, 1659, 166, 1660, 1661, 1662, 1663, 1664, 1665, 1666, 1667, 1668, 1669, 167, 1670, 1671, 1672, 1673, 1674, 1675, 1676, 1677, 1678, 1679, 168, 1680, 1681, 1682, 1683, 1684, 1685, 1686, 1687, 1688, 1689, 169, 1690, 1691, 1692, 1693, 1694, 1695, 1696, 1697, 1698, 1699, 17, 170, 1700, 1701, 1702, 1703, 1704, 1705, 1706, 1707, 1708, 1709, 171, 1710, 1711, 1712, 1713, 1714, 1715, 1716, 1717, 1718, 1719, 172, 1720, 1721, 1722, 1723, 1724, 1725, 1726, 1727, 1728, 1729, 173, 1730, 1731, 1732, 1733, 1734, 1735, 1736, 1737, 1738, 1739, 174, 1740, 1741, 1742, 1743, 1744, 1745, 1746, 1747, 1748, 1749, 175, 1750, 1751, 1752, 1753, 1754, 1755, 1756, 1757, 1758, 1759, 176, 1760, 1761, 1762, 1763, 1764, 1765, 1766, 1767, 1768, 1769, 177, 1770, 1771, 1772, 1773, 1774, 1775, 1776, 1777, 1778, 1779, 178, 1780, 1781, 1782, 1783, 1784, 1785, 1786, 1787, 1788, 1789, 179, 1790, 1791, 1792, 18, 180, 181, 182, 183, 184, 185, 186, 187, 188, 189, 19, 190, 191, 192, 193, 194, 195, 196, 197, 198, 199, 2, 20, 200, 201, 202, 203, 204, 205, 206, 207, 208, 209, 21, 210, 211, 212, 213, 214, 215, 216, 217, 218, 219, 22, 220, 221, 222, 223, 224, 225, 226, 227, 228, 229, 23, 230, 231, 232, 233, 234, 235, 236, 237, 238, 239, 24, 240, 241, 242, 243, 244, 245, 246, 247, 248, 249, 25, 250, 251, 252, 253, 254, 255, 256, 257, 258, 259, 26, 260, 261, 262, 263, 264, 265, 266, 267, 268, 269, 27, 270, 271, 272, 273, 274, 275, 276, 277, 278, 279, 28, 280, 281, 282, 283, 284, 285, 286, 287, 288, 289, 29, 290, 291, 292, 293, 294, 295, 296, 297, 298, 299, 3, 30, 300, 301, 302, 303, 304, 305, 306, 307, 308, 309, 31, 310, 311, 312, 313, 314, 315, 316, 317, 318, 319, 32, 320, 321, 322, 323, 324, 325, 326, 327, 328, 329, 33, 330, 331, 332, 333, 334, 335, 336, 337, 338, 339, 34, 340, 341, 342, 343, 344, 345, 346, 347, 348, 349, 35, 350, 351, 352, 353, 354, 355, 356, 357, 358, 359, 36, 360, 361, 362, 363, 364, 365, 366, 367, 368, 369, 37, 370, 371, 372, 373, 374, 375, 376, 377, 378, 379, 38, 380, 381, 382, 383, 384, 385, 386, 387, 388, 389, 39, 390, 391, 392, 393, 394, 395, 396, 397, 398, 399, 4, 40, 400, 401, 402, 403, 404, 405, 406, 407, 408, 409, 41, 410, 411, 412, 413, 414, 415, 416, 417, 418, 419, 42, 420, 421, 422, 423, 424, 425, 426, 427, 428, 429, 43, 430, 431, 432, 433, 434, 435, 436, 437, 438, 439, 44, 440, 441, 442, 443, 444, 445, 446, 447, 448, 449, 45, 450, 451, 452, 453, 454, 455, 456, 457, 458, 459, 46, 460, 461, 462, 463, 464, 465, 466, 467, 468, 469, 47, 470, 471, 472, 473, 474, 475, 476, 477, 478, 479, 48, 480, 481, 482, 483, 484, 485, 486, 487, 488, 489, 49, 490, 491, 492, 493, 494, 495, 496, 497, 498, 499, 5, 50, 500, 501, 502, 503, 504, 505, 506, 507, 508, 509, 51, 510, 511, 512, 513, 514, 515, 516, 517, 518, 519, 52, 520, 521, 522, 523, 524, 525, 526, 527, 528, 529, 53, 530, 531, 532, 533, 534, 535, 536, 537, 538, 539, 54, 540, 541, 542, 543, 544, 545, 546, 547, 548, 549, 55, 550, 551, 552, 553, 554, 555, 556, 557, 558, 559, 56, 560, 561, 562, 563, 564, 565, 566, 567, 568, 569, 57, 570, 571, 572, 573, 574, 575, 576, 577, 578, 579, 58, 580, 581, 582, 583, 584, 585, 586, 587, 588, 589, 59, 590, 591, 592, 593, 594, 595, 596, 597, 598, 599, 6, 60, 600, 601, 602, 603, 604, 605, 606, 607, 608, 609, 61, 610, 611, 612, 613, 614, 615, 616, 617, 618, 619, 62, 620, 621, 622, 623, 624, 625, 626, 627, 628, 629, 63, 630, 631, 632, 633, 634, 635, 636, 637, 638, 639, 64, 640, 641, 642, 643, 644, 645, 646, 647, 648, 649, 65, 650, 651, 652, 653, 654, 655, 656, 657, 658, 659, 66, 660, 661, 662, 663, 664, 665, 666, 667, 668, 669, 67, 670, 671, 672, 673, 674, 675, 676, 677, 678, 679, 68, 680, 681, 682, 683, 684, 685, 686, 687, 688, 689, 69, 690, 691, 692, 693, 694, 695, 696, 697, 698, 699, 7, 70, 700, 701, 702, 703, 704, 705, 706, 707, 708, 709, 71, 710, 711, 712, 713, 714, 715, 716, 717, 718, 719, 72, 720, 721, 722, 723, 724, 725, 726, 727, 728, 729, 73, 730, 731, 732, 733, 734, 735, 736, 737, 738, 739, 74, 740, 741, 742, 743, 744, 745, 746, 747, 748, 749, 75, 750, 751, 752, 753, 754, 755, 756, 757, 758, 759, 76, 760, 761, 762, 763, 764, 765, 766, 767, 768, 769, 77, 770, 771, 772, 773, 774, 775, 776, 777, 778, 779, 78, 780, 781, 782, 783, 784, 785, 786, 787, 788, 789, 79, 790, 791, 792, 793, 794, 795, 796, 797, 798, 799, 8, 80, 800, 801, 802, 803, 804, 805, 806, 807, 808, 809, 81, 810, 811, 812, 813, 814, 815, 816, 817, 818, 819, 82, 820, 821, 822, 823, 824, 825, 826, 827, 828, 829, 83, 830, 831, 832, 833, 834, 835, 836, 837, 838, 839, 84, 840, 841, 842, 843, 844, 845, 846, 847, 848, 849, 85, 850, 851, 852, 853, 854, 855, 856, 857, 858, 859, 86, 860, 861, 862, 863, 864, 865, 866, 867, 868, 869, 87, 870, 871, 872, 873, 874, 875, 876, 877, 878, 879, 88, 880, 881, 882, 883, 884, 885, 886, 887, 888, 889, 89, 890, 891, 892, 893, 894, 895, 896, 897, 898, 899, 9, 90, 900, 901, 902, 903, 904, 905, 906, 907, 908, 909, 91, 910, 911, 912, 913, 914, 915, 916, 917, 918, 919, 92, 920, 921, 922, 923, 924, 925, 926, 927, 928, 929, 93, 930, 931, 932, 933, 934, 935, 936, 937, 938, 939, 94, 940, 941, 942, 943, 944, 945, 946, 947, 948, 949, 95, 950, 951, 952, 953, 954, 955, 956, 957, 958, 959, 96, 960, 961, 962, 963, 964, 965, 966, 967, 968, 969, 97, 970, 971, 972, 973, 974, 975, 976, 977, 978, 979, 98, 980, 981, 982, 983, 984, 985, 986, 987, 988, 989, 99, 990, 991, 992, 993, 994, 995, 996, 997, 998, 999])\n",
    "len(hello)\n"
   ]
  },
  {
   "cell_type": "markdown",
   "metadata": {},
   "source": [
    "### Note: hi array = record array"
   ]
  },
  {
   "cell_type": "code",
   "execution_count": 36,
   "metadata": {},
   "outputs": [
    {
     "data": {
      "text/plain": [
       "1792"
      ]
     },
     "execution_count": 36,
     "metadata": {},
     "output_type": "execute_result"
    }
   ],
   "source": [
    "\n",
    "hi=np.array([0, 1, 1, 1, 1, 1, 1, 1, 1, 1, 1, 1, 0, 1, 1, 1, 1, 1, 1, 1, 1, 1, 1, 1, 1, 1, 1, 0, 0, 1, 1, 1, 1, 1, 1, 1, 1, 1, 1, 1, 1, 1, 1, 0, 1, 1, 1, 1, 1, 1, 1, 1, 1, 1, 1, 1, 1, 1, 0, 0, 1, 1, 1, 1, 1, 1, 1, 1, 1, 1, 1, 1, 1, 1, 0, 1, 1, 1, 1, 1, 1, 1, 1, 1, 1, 1, 1, 1, 0, 0, 1, 1, 1, 1, 1, 1, 1, 1, 1, 1, 1, 1, 1, 1, 0, 0, 1, 1, 1, 1, 1, 1, 1, 1, 1, 1, 1, 1, 1, 1, 0, 0, 1, 1, 1, 1, 1, 1, 1, 1, 1, 1, 1, 1, 1, 1, 1, 0, 1, 1, 1, 1, 1, 1, 1, 1, 0, 1, 1, 1, 1, 0, 0, 1, 1, 1, 1, 1, 1, 1, 1, 1, 1, 1, 1, 1, 1, 0, 1, 1, 1, 1, 1, 1, 1, 1, 1, 1, 1, 1, 1, 1, 1, 0, 1, 1, 1, 1, 1, 1, 1, 1, 1, 1, 1, 1, 1, 1, 0, 1, 1, 1, 1, 1, 1, 1, 1, 1, 1, 1, 1, 1, 1, 1, 0, 1, 1, 1, 1, 1, 1, 1, 1, 1, 1, 1, 1, 1, 1, 1, 0, 1, 1, 1, 1, 1, 1, 1, 1, 1, 1, 1, 1, 1, 0, 0, 1, 1, 1, 1, 1, 1, 1, 1, 1, 1, 1, 1, 1, 1, 1, 0, 1, 1, 1, 1, 1, 1, 1, 1, 1, 1, 1, 1, 1, 0, 0, 1, 1, 1, 1, 1, 1, 1, 1, 1, 1, 1, 1, 1, 0, 0, 0, 1, 1, 1, 1, 1, 1, 1, 1, 0, 1, 1, 1, 1, 0, 0, 1, 1, 1, 1, 1, 1, 1, 1, 1, 1, 1, 1, 1, 1, 0, 1, 1, 1, 1, 1, 1, 1, 1, 1, 1, 1, 1, 1, 1, 1, 0, 0, 1, 1, 1, 1, 1, 1, 1, 1, 1, 1, 1, 1, 1, 1, 0, 1, 1, 1, 1, 1, 1, 1, 1, 1, 1, 1, 1, 1, 1, 0, 0, 1, 1, 1, 1, 1, 1, 1, 1, 1, 1, 1, 1, 1, 0, 0, 1, 1, 1, 1, 1, 1, 1, 1, 1, 1, 1, 1, 1, 1, 0, 1, 1, 1, 1, 1, 1, 1, 1, 1, 1, 1, 1, 1, 1, 1, 0, 1, 1, 1, 1, 1, 1, 1, 1, 1, 1, 1, 1, 1, 1, 0, 1, 1, 1, 1, 1, 1, 1, 1, 1, 1, 1, 1, 1, 0, 0, 1, 0, 1, 1, 1, 1, 1, 1, 1, 1, 0, 1, 1, 1, 1, 0, 0, 1, 1, 1, 1, 1, 1, 1, 1, 1, 1, 1, 1, 1, 1, 0, 1, 1, 1, 1, 1, 1, 1, 1, 1, 1, 1, 1, 1, 1, 1, 0, 1, 1, 1, 1, 1, 1, 1, 1, 1, 1, 1, 1, 1, 1, 0, 1, 1, 1, 1, 1, 1, 1, 1, 1, 1, 1, 1, 1, 1, 0, 0, 1, 1, 1, 1, 1, 1, 1, 1, 1, 1, 1, 1, 1, 1, 0, 1, 1, 1, 1, 1, 1, 1, 1, 1, 1, 1, 1, 1, 0, 0, 0, 1, 1, 1, 1, 1, 1, 1, 1, 1, 1, 1, 1, 1, 1, 0, 0, 1, 1, 1, 1, 1, 1, 1, 1, 1, 1, 1, 1, 1, 0, 0, 1, 1, 1, 1, 1, 1, 1, 1, 1, 1, 1, 1, 1, 0, 1, 0, 1, 1, 1, 1, 1, 1, 1, 1, 0, 1, 1, 1, 1, 1, 0, 1, 1, 1, 1, 1, 1, 1, 1, 1, 1, 1, 1, 1, 0, 0, 1, 1, 1, 1, 1, 1, 1, 1, 1, 1, 1, 1, 1, 1, 1, 0, 1, 1, 1, 1, 1, 1, 1, 1, 1, 1, 1, 1, 1, 1, 0, 1, 1, 1, 1, 1, 1, 1, 1, 1, 1, 1, 1, 1, 1, 1, 0, 0, 1, 1, 1, 1, 1, 1, 1, 1, 1, 1, 1, 1, 1, 0, 0, 1, 1, 1, 1, 1, 1, 1, 1, 1, 1, 1, 1, 1, 1, 0, 1, 1, 1, 1, 1, 1, 1, 1, 1, 1, 1, 1, 1, 1, 1, 0, 1, 1, 1, 1, 1, 1, 1, 1, 1, 1, 1, 1, 1, 0, 0, 1, 1, 1, 1, 1, 1, 1, 1, 1, 1, 1, 1, 1, 0, 0, 0, 1, 1, 1, 1, 1, 1, 1, 1, 0, 1, 1, 1, 1, 0, 0, 1, 1, 1, 1, 1, 1, 1, 1, 1, 1, 1, 1, 1, 1, 0, 0, 1, 1, 1, 1, 1, 1, 1, 1, 1, 1, 1, 1, 1, 1, 0, 0, 1, 1, 1, 1, 1, 1, 1, 1, 1, 1, 1, 1, 1, 0, 0, 1, 1, 1, 1, 1, 1, 1, 1, 1, 1, 1, 1, 1, 1, 1, 0, 1, 1, 1, 1, 1, 1, 1, 1, 1, 1, 1, 1, 1, 0, 0, 1, 1, 1, 1, 1, 1, 1, 1, 1, 1, 1, 1, 1, 1, 0, 1, 1, 1, 1, 1, 1, 1, 1, 1, 1, 1, 1, 1, 1, 0, 1, 1, 1, 1, 0, 1, 1, 1, 1, 1, 1, 1, 1, 1, 1, 1, 1, 1, 1, 0, 1, 1, 1, 1, 1, 1, 1, 1, 1, 1, 1, 1, 1, 1, 1, 1, 0, 1, 1, 1, 1, 1, 1, 1, 1, 1, 1, 1, 1, 1, 0, 0, 1, 1, 1, 1, 1, 1, 1, 1, 1, 1, 1, 1, 1, 0, 0, 1, 1, 1, 1, 1, 1, 1, 1, 1, 1, 1, 1, 1, 1, 0, 0, 1, 1, 1, 1, 1, 1, 1, 1, 1, 1, 1, 1, 1, 1, 0, 1, 1, 1, 1, 1, 1, 1, 1, 1, 1, 1, 1, 1, 1, 0, 0, 1, 1, 1, 1, 1, 1, 1, 1, 0, 1, 1, 1, 1, 0, 0, 1, 1, 1, 1, 1, 1, 1, 1, 1, 1, 1, 1, 1, 1, 1, 0, 1, 1, 1, 1, 1, 1, 1, 1, 1, 1, 1, 1, 1, 1, 0, 0, 1, 1, 1, 1, 1, 1, 1, 1, 1, 1, 1, 1, 1, 0, 0, 1, 1, 1, 1, 1, 1, 1, 1, 1, 1, 1, 1, 1, 1, 1, 0, 1, 1, 1, 1, 1, 1, 1, 1, 1, 1, 1, 1, 1, 0, 0, 1, 1, 1, 1, 1, 1, 1, 1, 1, 1, 1, 1, 1, 0, 0, 1, 1, 1, 1, 1, 1, 1, 1, 1, 1, 1, 1, 1, 1, 1, 0, 1, 1, 1, 1, 1, 1, 1, 1, 1, 1, 1, 1, 1, 1, 1, 0, 1, 1, 1, 1, 1, 1, 1, 1, 1, 1, 1, 1, 1, 1, 1, 0, 1, 1, 1, 1, 1, 1, 1, 1, 0, 1, 1, 1, 1, 1, 0, 1, 1, 1, 1, 1, 1, 1, 1, 1, 1, 1, 1, 1, 1, 0, 1, 1, 1, 1, 1, 1, 1, 1, 1, 1, 1, 1, 1, 1, 0, 0, 1, 1, 1, 1, 1, 1, 1, 1, 1, 1, 1, 1, 1, 1, 0, 1, 1, 1, 1, 1, 1, 1, 1, 1, 1, 1, 1, 1, 1, 0, 0, 1, 1, 1, 1, 1, 1, 1, 1, 1, 1, 1, 1, 1, 1, 0, 0, 1, 1, 1, 1, 1, 1, 1, 1, 1, 1, 1, 1, 1, 0, 0, 1, 1, 1, 1, 1, 1, 1, 1, 1, 1, 1, 1, 1, 1, 0, 0, 1, 1, 1, 1, 1, 1, 1, 1, 1, 1, 1, 1, 1, 1, 0, 1, 1, 1, 1, 1, 1, 1, 1, 1, 1, 1, 1, 1, 0, 0, 0, 1, 1, 1, 1, 1, 1, 1, 1, 0, 1, 1, 1, 1, 1, 0, 1, 1, 1, 1, 1, 1, 1, 1, 1, 1, 1, 1, 1, 1, 0, 1, 1, 1, 1, 1, 1, 1, 1, 1, 1, 1, 1, 1, 1, 1, 0, 0, 1, 1, 1, 1, 1, 1, 1, 1, 1, 1, 1, 1, 1, 0, 0, 1, 1, 1, 1, 1, 1, 1, 1, 1, 1, 1, 1, 1, 1, 1, 0, 1, 1, 1, 1, 1, 1, 1, 1, 1, 1, 1, 1, 1, 0, 0, 1, 1, 1, 1, 1, 1, 1, 1, 1, 1, 1, 1, 1, 1, 0, 1, 1, 1, 1, 1, 1, 1, 1, 1, 1, 1, 1, 1, 1, 0, 0, 1, 1, 1, 1, 1, 1, 1, 1, 1, 1, 1, 1, 1, 1, 0, 1, 1, 1, 1, 1, 1, 1, 1, 1, 1, 1, 1, 1, 1, 1, 1, 0, 1, 1, 1, 1, 1, 1, 1, 1, 0, 1, 1, 1, 1, 1, 0, 1, 1, 1, 1, 1, 1, 1, 1, 1, 1, 1, 1, 1, 0, 0, 1, 1, 1, 1, 1, 1, 1, 1, 1, 1, 1, 1, 1, 1, 1, 0, 1, 1, 1, 1, 1, 1, 1, 1, 1, 1, 1, 1, 1, 0, 0, 1, 1, 1, 1, 1, 1, 1, 1, 1, 1, 1, 1, 1, 1, 0, 0, 1, 1, 1, 1, 1, 1, 1, 1, 1, 1, 1, 1, 1, 1, 0, 1, 1, 1, 1, 1, 1, 1, 1, 1, 1, 1, 1, 1, 0, 0, 1, 1, 1, 1, 1, 1, 1, 1, 1, 1, 1, 1, 1, 1, 1, 1, 0, 1, 1, 1, 1, 1, 1, 1, 1, 1, 1, 1, 1, 1, 0, 0, 1, 1, 1, 1, 1, 1, 1, 1, 1, 1, 1, 1, 1, 0, 0, 0, 1, 1, 1, 1, 1, 1, 1, 1, 0, 1, 1, 1, 1, 0, 0, 1, 1, 1, 1, 1, 1, 1, 1, 1, 1, 1, 1, 1, 1, 0, 1, 1, 1, 1, 1, 1, 1, 1, 1, 1, 1, 1, 1, 1, 1, 0, 1, 1, 1, 1, 1, 1, 1, 1, 1, 1, 1, 1, 1, 1, 0, 1, 1, 1, 1, 1, 1, 1, 1, 1, 1, 1, 1, 1, 1, 1, 1, 0, 1, 1, 1, 1, 1, 1, 1, 1, 1, 1, 1, 1, 1, 1, 0, 1, 1, 1, 1, 1, 1, 1, 1, 1, 1, 1, 1, 1, 1, 0, 1, 1, 1, 1, 1, 1, 1, 1, 1, 1, 1, 1, 1, 1, 1, 0, 1, 1, 1, 1, 1, 1, 1, 1, 1, 1, 1, 1, 1, 1, 0, 1, 1, 1, 1, 1, 1, 1, 1, 1, 1, 1, 1, 1, 1, 0, 0, 1, 1, 1, 1, 1, 1, 1, 1, 0, 1, 1, 1, 1, 0, 0, 1, 1, 1, 1])   \n",
    "len(hi)"
   ]
  },
  {
   "cell_type": "markdown",
   "metadata": {},
   "source": [
    "### Finally sorting done as desired"
   ]
  },
  {
   "cell_type": "code",
   "execution_count": 37,
   "metadata": {},
   "outputs": [
    {
     "name": "stdout",
     "output_type": "stream",
     "text": [
      "[0, 1, 1, 1, 1, 1, 1, 1, 1, 1, 1, 1, 1, 0, 0, 1, 1, 1, 1, 1, 1, 1, 1, 1, 1, 1, 1, 1, 0, 1, 1, 1, 1, 1, 1, 1, 1, 1, 1, 1, 1, 1, 0, 1, 1, 1, 1, 1, 1, 1, 1, 1, 1, 1, 1, 0, 0, 1, 1, 1, 1, 1, 1, 1, 1, 1, 1, 1, 1, 1, 0, 1, 1, 1, 1, 1, 1, 1, 1, 1, 1, 1, 1, 0, 0, 1, 1, 1, 1, 1, 1, 1, 1, 1, 1, 1, 1, 1, 0, 1, 1, 1, 1, 1, 1, 1, 1, 1, 1, 1, 1, 1, 0, 1, 1, 1, 1, 1, 1, 1, 1, 1, 1, 1, 1, 0, 0, 1, 1, 1, 1, 1, 1, 1, 1, 1, 1, 1, 1, 0, 0, 1, 1, 1, 1, 1, 1, 1, 1, 1, 1, 1, 1, 0, 0, 1, 1, 1, 1, 1, 1, 1, 1, 1, 1, 1, 1, 0, 0, 1, 1, 1, 1, 1, 1, 1, 1, 1, 1, 1, 1, 1, 0, 1, 1, 1, 1, 1, 1, 1, 1, 1, 1, 1, 1, 1, 0, 1, 1, 1, 1, 1, 1, 1, 1, 1, 1, 1, 1, 1, 0, 1, 1, 1, 1, 1, 1, 1, 1, 1, 1, 1, 1, 0, 0, 1, 1, 1, 1, 1, 1, 1, 1, 1, 1, 1, 1, 0, 0, 1, 1, 1, 1, 1, 1, 1, 1, 1, 1, 1, 1, 0, 0, 1, 1, 1, 1, 1, 1, 1, 1, 1, 1, 1, 1, 1, 0, 1, 1, 1, 1, 1, 1, 1, 1, 1, 1, 1, 1, 0, 0, 1, 1, 1, 1, 1, 1, 1, 1, 1, 1, 1, 1, 0, 0, 1, 1, 1, 1, 1, 1, 1, 1, 1, 1, 1, 1, 1, 0, 1, 1, 1, 1, 1, 1, 1, 1, 1, 1, 1, 1, 0, 0, 1, 1, 1, 1, 1, 1, 1, 1, 1, 1, 1, 1, 0, 0, 1, 1, 1, 1, 1, 1, 1, 1, 1, 1, 1, 1, 1, 0, 1, 1, 1, 1, 1, 1, 1, 1, 1, 1, 1, 1, 0, 0, 1, 1, 1, 1, 1, 1, 1, 1, 1, 1, 1, 1, 0, 0, 1, 1, 1, 1, 1, 1, 1, 1, 1, 1, 1, 1, 1, 0, 1, 1, 1, 1, 1, 1, 1, 1, 1, 1, 1, 1, 1, 0, 1, 1, 1, 1, 1, 1, 1, 1, 1, 1, 1, 1, 1, 0, 1, 1, 1, 1, 1, 1, 1, 1, 1, 1, 1, 1, 1, 0, 1, 1, 1, 1, 1, 1, 1, 1, 1, 1, 1, 1, 1, 0, 1, 1, 1, 1, 1, 1, 1, 1, 1, 1, 1, 1, 0, 0, 1, 1, 1, 1, 1, 1, 1, 1, 1, 1, 1, 1, 1, 0, 1, 1, 1, 1, 1, 1, 1, 1, 1, 1, 1, 1, 0, 0, 1, 1, 1, 1, 1, 1, 1, 1, 1, 1, 1, 1, 0, 0, 1, 1, 1, 1, 1, 1, 1, 1, 1, 1, 1, 1, 0, 0, 1, 1, 1, 1, 1, 1, 1, 1, 1, 1, 1, 1, 0, 0, 1, 1, 1, 1, 1, 1, 1, 1, 1, 1, 1, 1, 1, 0, 1, 1, 1, 1, 1, 1, 1, 1, 1, 1, 1, 1, 0, 0, 1, 1, 1, 1, 1, 1, 1, 1, 1, 1, 1, 1, 1, 0, 1, 1, 1, 1, 1, 1, 1, 1, 1, 1, 1, 1, 1, 0, 1, 1, 1, 1, 1, 1, 1, 1, 1, 1, 1, 1, 0, 0, 1, 1, 1, 1, 1, 1, 1, 1, 1, 1, 1, 1, 0, 0, 1, 1, 1, 1, 1, 1, 1, 1, 1, 1, 1, 1, 1, 0, 1, 1, 1, 1, 1, 1, 1, 1, 1, 1, 1, 1, 0, 0, 1, 1, 1, 1, 1, 1, 1, 1, 1, 1, 1, 1, 1, 0, 1, 1, 1, 1, 1, 1, 1, 1, 1, 1, 1, 1, 0, 0, 1, 1, 1, 1, 1, 1, 1, 1, 1, 1, 1, 1, 1, 0, 1, 1, 1, 1, 1, 1, 1, 1, 1, 1, 1, 1, 1, 0, 1, 1, 1, 1, 1, 1, 1, 1, 1, 1, 1, 1, 1, 0, 1, 1, 1, 1, 1, 1, 1, 1, 1, 1, 1, 1, 0, 0, 1, 1, 1, 1, 1, 1, 1, 1, 1, 1, 1, 1, 1, 0, 1, 1, 1, 1, 1, 1, 1, 1, 1, 1, 1, 1, 0, 0, 1, 1, 1, 1, 1, 1, 1, 1, 1, 1, 1, 1, 0, 0, 1, 1, 1, 1, 1, 1, 1, 1, 1, 1, 1, 1, 1, 0, 1, 1, 1, 1, 1, 1, 1, 1, 1, 1, 1, 1, 0, 0, 1, 1, 1, 1, 1, 1, 1, 1, 1, 1, 1, 1, 1, 0, 1, 1, 1, 1, 1, 1, 1, 1, 1, 1, 1, 1, 0, 0, 1, 1, 1, 1, 1, 1, 1, 1, 1, 1, 1, 1, 0, 0, 1, 1, 1, 1, 1, 1, 1, 1, 1, 1, 1, 1, 0, 0, 1, 1, 1, 1, 1, 1, 1, 1, 1, 1, 1, 1, 1, 0, 1, 1, 1, 1, 1, 1, 1, 1, 1, 1, 1, 1, 1, 0, 1, 1, 1, 1, 1, 1, 1, 1, 1, 1, 1, 1, 1, 0, 1, 1, 1, 1, 1, 1, 1, 1, 1, 1, 1, 1, 1, 0, 1, 1, 1, 1, 1, 1, 1, 1, 1, 1, 1, 1, 1, 0, 1, 1, 1, 1, 1, 1, 1, 1, 1, 1, 1, 1, 1, 0, 1, 1, 1, 1, 1, 1, 1, 1, 1, 1, 1, 1, 1, 0, 1, 1, 1, 1, 1, 1, 1, 1, 1, 1, 1, 1, 1, 0, 1, 1, 1, 1, 1, 1, 1, 1, 1, 1, 1, 1, 0, 0, 1, 1, 1, 1, 1, 1, 1, 1, 1, 1, 1, 1, 0, 0, 1, 1, 1, 1, 1, 1, 1, 1, 1, 1, 1, 1, 1, 0, 1, 1, 1, 1, 1, 1, 1, 1, 1, 1, 1, 1, 0, 0, 1, 1, 1, 1, 1, 1, 1, 1, 1, 1, 1, 1, 1, 0, 1, 1, 1, 1, 1, 1, 1, 1, 1, 1, 1, 1, 0, 0, 1, 1, 1, 1, 1, 1, 1, 1, 1, 1, 1, 1, 1, 0, 1, 1, 1, 1, 1, 1, 1, 1, 1, 1, 1, 1, 0, 0, 1, 1, 1, 1, 1, 1, 1, 1, 1, 1, 1, 1, 0, 0, 1, 1, 1, 1, 1, 1, 1, 1, 1, 1, 1, 1, 0, 0, 1, 1, 1, 1, 1, 1, 1, 1, 1, 1, 1, 1, 1, 0, 1, 1, 1, 1, 1, 1, 1, 1, 1, 1, 1, 1, 0, 0, 1, 1, 1, 1, 1, 1, 1, 1, 1, 1, 1, 1, 1, 0, 1, 1, 1, 1, 1, 1, 1, 1, 1, 1, 1, 1, 1, 0, 1, 1, 1, 1, 1, 1, 1, 1, 1, 1, 1, 1, 1, 0, 1, 1, 1, 1, 1, 1, 1, 1, 1, 1, 1, 1, 1, 0, 1, 1, 1, 1, 1, 1, 1, 1, 1, 1, 1, 1, 1, 0, 1, 1, 1, 1, 1, 1, 1, 1, 1, 1, 1, 1, 0, 0, 1, 1, 1, 1, 1, 1, 1, 1, 1, 1, 1, 1, 1, 0, 1, 1, 1, 1, 1, 1, 1, 1, 1, 1, 1, 1, 0, 0, 1, 1, 1, 1, 1, 1, 1, 1, 1, 1, 1, 1, 0, 0, 1, 1, 1, 1, 1, 1, 1, 1, 1, 1, 1, 1, 0, 0, 1, 1, 1, 1, 1, 1, 1, 1, 1, 1, 1, 1, 1, 0, 1, 1, 1, 1, 1, 1, 1, 1, 1, 1, 1, 1, 0, 0, 1, 1, 1, 1, 1, 1, 1, 1, 1, 1, 1, 1, 1, 0, 1, 1, 1, 1, 1, 1, 1, 1, 1, 1, 1, 1, 0, 0, 1, 1, 1, 1, 1, 1, 1, 1, 1, 1, 1, 1, 0, 0, 1, 1, 1, 1, 1, 1, 1, 1, 1, 1, 1, 1, 1, 0, 1, 1, 1, 1, 1, 1, 1, 1, 1, 1, 1, 1, 1, 0, 1, 1, 1, 1, 1, 1, 1, 1, 1, 1, 1, 1, 1, 0, 1, 1, 1, 1, 1, 1, 1, 1, 1, 1, 1, 1, 1, 0, 1, 1, 1, 1, 1, 1, 1, 1, 1, 1, 1, 1, 0, 0, 1, 1, 1, 1, 1, 1, 1, 1, 1, 1, 1, 1, 1, 0, 1, 1, 1, 1, 1, 1, 1, 1, 1, 1, 1, 1, 1, 0, 1, 1, 1, 1, 1, 1, 1, 1, 1, 1, 1, 1, 1, 0, 1, 1, 1, 1, 1, 1, 1, 1, 1, 1, 1, 1, 0, 0, 1, 1, 1, 1, 1, 1, 1, 1, 1, 1, 1, 1, 1, 0, 1, 1, 1, 1, 1, 1, 1, 1, 1, 1, 1, 1, 0, 0, 1, 1, 1, 1, 1, 1, 1, 1, 1, 1, 1, 1, 0, 0, 1, 1, 1, 1, 1, 1, 1, 1, 1, 1, 1, 1, 0, 0, 1, 1, 1, 1, 1, 1, 1, 1, 1, 1, 1, 1, 1, 0, 1, 1, 1, 1, 1, 1, 1, 1, 1, 1, 1, 1, 1, 0, 1, 1, 1, 1, 1, 1, 1, 1, 1, 1, 1, 1, 0, 0, 1, 1, 1, 1, 1, 1, 1, 1, 1, 1, 1, 1, 1, 0, 1, 1, 1, 1, 1, 1, 1, 1, 1, 1, 1, 1, 1, 0, 1, 1, 1, 1, 1, 1, 1, 1, 1, 1, 1, 1, 0, 0, 1, 1, 1, 1, 1, 1, 1, 1, 1, 1, 1, 1, 0, 0, 1, 1, 1, 1, 1, 1, 1, 1, 1, 1, 1, 1, 1, 0, 1, 1, 1, 1, 1, 1, 1, 1, 1, 1, 1, 1, 1, 0, 1, 1, 1, 1, 1, 1, 1, 1, 1, 1, 1, 1, 0, 0, 1, 1, 1, 1, 1, 1, 1, 1, 1, 1, 1, 1, 0, 0, 1, 1, 1, 1, 1, 1, 1, 1, 1, 1, 1, 1, 0, 0, 1, 1, 1, 1, 1, 1, 1, 1, 1, 1, 1, 1, 0, 0, 1, 1, 1, 1, 1, 1, 1, 1, 1, 1, 1, 1, 0, 0, 1, 1, 1, 1, 1, 1, 1, 1, 1, 1, 1, 1, 0, 0, 1, 1, 1, 1, 1, 1, 1, 1, 1, 1, 1, 1, 1, 0, 1, 1, 1, 1, 1, 1, 1, 1, 1, 1, 1, 1, 0, 0, 1, 1, 1, 1, 1, 1, 1, 1, 1, 1, 1, 1, 1, 0, 1, 1, 1, 1, 1, 1, 1, 1, 1, 1, 1, 1, 0]\n"
     ]
    }
   ],
   "source": [
    "hi_sorted = [x for _,x in sorted(zip(hello,hi))]\n",
    "print(hi_sorted)  "
   ]
  },
  {
   "cell_type": "markdown",
   "metadata": {},
   "source": [
    "# Converting into real number (x_i) from the qubits q_0,q_1,....,q_8191= Penguin(= hi_sorted) using equation (11) in https://arxiv.org/pdf/2106.10819.pdf\n",
    "\n",
    "### Note : In Penguin, some are q+ and some are q-. The following code gives the indices of q+ and q- in Penguin.\n",
    "### Namely, h gives the indices of q+ AND q gives the indices of q-\n"
   ]
  },
  {
   "cell_type": "code",
   "execution_count": 42,
   "metadata": {},
   "outputs": [],
   "source": [
    "# #x=[]\n",
    "# h=[] ### Positions of q+\n",
    "# q=[] ### Psotions of q-\n",
    "# for i in range(0,64):\n",
    "#     for l in range(-61,3):\n",
    "#         q_plus=(128*i + l + 61)   \n",
    "#         h.append(q_plus)\n",
    "#         q_minus=(128*i + l + 61 + 64)  ### postions\n",
    "#         q.append(q_minus)\n",
    "#         #y=pow(2,l)*q_plus - pow(2,l)*q_minus\n",
    "#         #x.append(y)"
   ]
  },
  {
   "cell_type": "code",
   "execution_count": 38,
   "metadata": {},
   "outputs": [],
   "source": [
    "#po1 = 64*i + l + 29  ### q+ positions\n",
    "#po2 = 64*i + l + 29 + 32 ### q- positions\n",
    "\n",
    "### THIS REQUIRES VERIFICATION THOUGH.\n",
    "\n",
    "x=[]\n",
    "\n",
    "for i in range(0,128):\n",
    "    y=0\n",
    "    for l in range(-8,5):\n",
    "        y+=-pow(2,m+1)*hi_sorted[14*i + 1] + pow(2,l)*hi_sorted[14*i + 8 + l]\n",
    "        #print(y)\n",
    "    x.append(y)"
   ]
  },
  {
   "cell_type": "markdown",
   "metadata": {},
   "source": [
    "### Final Solutions obtained as follows :"
   ]
  },
  {
   "cell_type": "code",
   "execution_count": 39,
   "metadata": {},
   "outputs": [
    {
     "data": {
      "text/plain": [
       "[-1632.0078125,\n",
       " -1632.0078125,\n",
       " -1632.0078125,\n",
       " -1632.0078125,\n",
       " -1632.0078125,\n",
       " -1632.0078125,\n",
       " -1632.0078125,\n",
       " -1632.0078125,\n",
       " -1632.0078125,\n",
       " -1632.0078125,\n",
       " -1632.0078125,\n",
       " -1632.0078125,\n",
       " -1632.0078125,\n",
       " -1632.0078125,\n",
       " -1632.0078125,\n",
       " -1632.0078125,\n",
       " -1632.0078125,\n",
       " -1632.0078125,\n",
       " -1632.0078125,\n",
       " -1632.0078125,\n",
       " -1632.0078125,\n",
       " -1632.0078125,\n",
       " -1632.0078125,\n",
       " -1632.0078125,\n",
       " -1632.0078125,\n",
       " -1632.0078125,\n",
       " -1632.0078125,\n",
       " -1632.0078125,\n",
       " -1632.0078125,\n",
       " -1632.0078125,\n",
       " -1632.0078125,\n",
       " -1632.0078125,\n",
       " -1632.0078125,\n",
       " -1632.0078125,\n",
       " -1632.0078125,\n",
       " -1632.0078125,\n",
       " -1632.0078125,\n",
       " -1632.0078125,\n",
       " -1632.0078125,\n",
       " -1632.0078125,\n",
       " -1632.0078125,\n",
       " -1632.0078125,\n",
       " -1632.0078125,\n",
       " -1632.0078125,\n",
       " -1632.0078125,\n",
       " -1632.0078125,\n",
       " -1632.0078125,\n",
       " -1632.0078125,\n",
       " -1632.0078125,\n",
       " -1632.0078125,\n",
       " -1632.0078125,\n",
       " -1632.0078125,\n",
       " -1632.0078125,\n",
       " -1632.0078125,\n",
       " -1632.0078125,\n",
       " -1632.0078125,\n",
       " -1632.0078125,\n",
       " -1632.0078125,\n",
       " -1632.0078125,\n",
       " -1632.0078125,\n",
       " -1632.0078125,\n",
       " -1632.0078125,\n",
       " -1632.0078125,\n",
       " -1632.0078125,\n",
       " -1632.0078125,\n",
       " -1632.0078125,\n",
       " -1632.0078125,\n",
       " -1632.0078125,\n",
       " -1632.0078125,\n",
       " -1632.0078125,\n",
       " -1632.0078125,\n",
       " -1632.0078125,\n",
       " -1632.0078125,\n",
       " -1632.0078125,\n",
       " -1632.0078125,\n",
       " -1632.0078125,\n",
       " -1632.0078125,\n",
       " -1632.0078125,\n",
       " -1632.0078125,\n",
       " -1632.0078125,\n",
       " -1632.0078125,\n",
       " -1632.0078125,\n",
       " -1632.0078125,\n",
       " -1632.0078125,\n",
       " -1632.0078125,\n",
       " -1632.0078125,\n",
       " -1632.0078125,\n",
       " -1632.0078125,\n",
       " -1632.0078125,\n",
       " -1632.0078125,\n",
       " -1632.0078125,\n",
       " -1632.0078125,\n",
       " -1632.0078125,\n",
       " -1632.0078125,\n",
       " -1632.0078125,\n",
       " -1632.0078125,\n",
       " -1632.0078125,\n",
       " -1632.0078125,\n",
       " -1632.0078125,\n",
       " -1632.0078125,\n",
       " -1632.0078125,\n",
       " -1632.0078125,\n",
       " -1632.0078125,\n",
       " -1632.0078125,\n",
       " -1632.0078125,\n",
       " -1632.0078125,\n",
       " -1632.0078125,\n",
       " -1632.0078125,\n",
       " -1632.0078125,\n",
       " -1632.0078125,\n",
       " -1632.0078125,\n",
       " -1632.0078125,\n",
       " -1632.0078125,\n",
       " -1632.0078125,\n",
       " -1632.0078125,\n",
       " -1632.0078125,\n",
       " -1632.0078125,\n",
       " -1632.0078125,\n",
       " -1632.0078125,\n",
       " -1632.0078125,\n",
       " -1632.0078125,\n",
       " -1632.0078125,\n",
       " -1632.0078125,\n",
       " -1632.0078125,\n",
       " -1632.0078125,\n",
       " -1632.0078125,\n",
       " -1632.0078125,\n",
       " -1632.0078125]"
      ]
     },
     "execution_count": 39,
     "metadata": {},
     "output_type": "execute_result"
    }
   ],
   "source": [
    "x"
   ]
  },
  {
   "cell_type": "markdown",
   "metadata": {},
   "source": [
    "# LET'S NOW HOPE FOR THE BEST. BECAUSE HOPE IS A GOOD THING, MAY BE THE BEST OF THINGS, AND NO GOOD THING EVER DIES  ! :)"
   ]
  },
  {
   "cell_type": "markdown",
   "metadata": {},
   "source": []
  },
  {
   "cell_type": "code",
   "execution_count": 40,
   "metadata": {},
   "outputs": [
    {
     "data": {
      "text/plain": [
       "array([[-1632.0078125],\n",
       "       [-1632.0078125],\n",
       "       [-1632.0078125],\n",
       "       [-1632.0078125],\n",
       "       [-1632.0078125],\n",
       "       [-1632.0078125],\n",
       "       [-1632.0078125],\n",
       "       [-1632.0078125],\n",
       "       [-1632.0078125],\n",
       "       [-1632.0078125],\n",
       "       [-1632.0078125],\n",
       "       [-1632.0078125],\n",
       "       [-1632.0078125],\n",
       "       [-1632.0078125],\n",
       "       [-1632.0078125],\n",
       "       [-1632.0078125],\n",
       "       [-1632.0078125],\n",
       "       [-1632.0078125],\n",
       "       [-1632.0078125],\n",
       "       [-1632.0078125],\n",
       "       [-1632.0078125],\n",
       "       [-1632.0078125],\n",
       "       [-1632.0078125],\n",
       "       [-1632.0078125],\n",
       "       [-1632.0078125],\n",
       "       [-1632.0078125],\n",
       "       [-1632.0078125],\n",
       "       [-1632.0078125],\n",
       "       [-1632.0078125],\n",
       "       [-1632.0078125],\n",
       "       [-1632.0078125],\n",
       "       [-1632.0078125],\n",
       "       [-1632.0078125],\n",
       "       [-1632.0078125],\n",
       "       [-1632.0078125],\n",
       "       [-1632.0078125],\n",
       "       [-1632.0078125],\n",
       "       [-1632.0078125],\n",
       "       [-1632.0078125],\n",
       "       [-1632.0078125],\n",
       "       [-1632.0078125],\n",
       "       [-1632.0078125],\n",
       "       [-1632.0078125],\n",
       "       [-1632.0078125],\n",
       "       [-1632.0078125],\n",
       "       [-1632.0078125],\n",
       "       [-1632.0078125],\n",
       "       [-1632.0078125],\n",
       "       [-1632.0078125],\n",
       "       [-1632.0078125],\n",
       "       [-1632.0078125],\n",
       "       [-1632.0078125],\n",
       "       [-1632.0078125],\n",
       "       [-1632.0078125],\n",
       "       [-1632.0078125],\n",
       "       [-1632.0078125],\n",
       "       [-1632.0078125],\n",
       "       [-1632.0078125],\n",
       "       [-1632.0078125],\n",
       "       [-1632.0078125],\n",
       "       [-1632.0078125],\n",
       "       [-1632.0078125],\n",
       "       [-1632.0078125],\n",
       "       [-1632.0078125],\n",
       "       [-1632.0078125],\n",
       "       [-1632.0078125],\n",
       "       [-1632.0078125],\n",
       "       [-1632.0078125],\n",
       "       [-1632.0078125],\n",
       "       [-1632.0078125],\n",
       "       [-1632.0078125],\n",
       "       [-1632.0078125],\n",
       "       [-1632.0078125],\n",
       "       [-1632.0078125],\n",
       "       [-1632.0078125],\n",
       "       [-1632.0078125],\n",
       "       [-1632.0078125],\n",
       "       [-1632.0078125],\n",
       "       [-1632.0078125],\n",
       "       [-1632.0078125],\n",
       "       [-1632.0078125],\n",
       "       [-1632.0078125],\n",
       "       [-1632.0078125],\n",
       "       [-1632.0078125],\n",
       "       [-1632.0078125],\n",
       "       [-1632.0078125],\n",
       "       [-1632.0078125],\n",
       "       [-1632.0078125],\n",
       "       [-1632.0078125],\n",
       "       [-1632.0078125],\n",
       "       [-1632.0078125],\n",
       "       [-1632.0078125],\n",
       "       [-1632.0078125],\n",
       "       [-1632.0078125],\n",
       "       [-1632.0078125],\n",
       "       [-1632.0078125],\n",
       "       [-1632.0078125],\n",
       "       [-1632.0078125],\n",
       "       [-1632.0078125],\n",
       "       [-1632.0078125],\n",
       "       [-1632.0078125],\n",
       "       [-1632.0078125],\n",
       "       [-1632.0078125],\n",
       "       [-1632.0078125],\n",
       "       [-1632.0078125],\n",
       "       [-1632.0078125],\n",
       "       [-1632.0078125],\n",
       "       [-1632.0078125],\n",
       "       [-1632.0078125],\n",
       "       [-1632.0078125],\n",
       "       [-1632.0078125],\n",
       "       [-1632.0078125],\n",
       "       [-1632.0078125],\n",
       "       [-1632.0078125],\n",
       "       [-1632.0078125],\n",
       "       [-1632.0078125],\n",
       "       [-1632.0078125],\n",
       "       [-1632.0078125],\n",
       "       [-1632.0078125],\n",
       "       [-1632.0078125],\n",
       "       [-1632.0078125],\n",
       "       [-1632.0078125],\n",
       "       [-1632.0078125],\n",
       "       [-1632.0078125],\n",
       "       [-1632.0078125],\n",
       "       [-1632.0078125],\n",
       "       [-1632.0078125],\n",
       "       [-1632.0078125]])"
      ]
     },
     "execution_count": 40,
     "metadata": {},
     "output_type": "execute_result"
    }
   ],
   "source": [
    "qwe=np.array(x)\n",
    "qwe.shape\n",
    "np.reshape(qwe, (128, 1))"
   ]
  },
  {
   "cell_type": "code",
   "execution_count": 41,
   "metadata": {},
   "outputs": [
    {
     "name": "stdout",
     "output_type": "stream",
     "text": [
      "[-446.35413671875]\n",
      "[-467.57023828125]\n",
      "[-492.05035546875]\n",
      "[-412.8979765625]\n",
      "[-311.71349218750004]\n",
      "[-425.1380351562499]\n",
      "[-387.60185546875005]\n",
      "[-485.52232421875]\n",
      "[-302.73744921874993]\n",
      "[-388.4178593749999]\n",
      "[-346.8016601562501]\n",
      "[-334.5616015625]\n",
      "[-368.01776171875]\n",
      "[-503.4744101562499]\n",
      "[-353.32969140625]\n",
      "[-444.72212890624996]\n",
      "[-485.52232421875]\n",
      "[-482.25830859375014]\n",
      "[-254.59321875]\n",
      "[-338.64162109375]\n",
      "[-563.85869921875]\n",
      "[-463.49021874999994]\n",
      "[-553.2506484375]\n",
      "[-510.8184453125]\n",
      "[-461.0422070312501]\n",
      "[-533.6665546875001]\n",
      "[-297.84142578125]\n",
      "[-461.8582109375001]\n",
      "[-355.777703125]\n",
      "[-441.45811328124995]\n",
      "[-442.2741171875]\n",
      "[-372.09778124999997]\n",
      "[-525.5065156250001]\n",
      "[-438.19409765625]\n",
      "[-402.28992578125]\n",
      "[-341.90563671875003]\n",
      "[-443.09012109375004]\n",
      "[-492.866359375]\n",
      "[-396.57789843750004]\n",
      "[-360.67372656250006]\n",
      "[-493.68236328125]\n",
      "[-581.8107851562501]\n",
      "[-510.00244140624994]\n",
      "[-435.74608593749986]\n",
      "[-357.4097109375]\n",
      "[-509.1864375]\n",
      "[-385.1538437499999]\n",
      "[-332.92959375000004]\n",
      "[-365.56975]\n",
      "[-385.96984765624995]\n",
      "[-459.41019921875]\n",
      "[-369.6497695312501]\n",
      "[-355.77770312499996]\n",
      "[-341.0896328125]\n",
      "[-401.4739218749999]\n",
      "[-367.2017578125]\n",
      "[-435.7460859375]\n",
      "[-378.6258125]\n",
      "[-395.76189453125]\n",
      "[-397.39390234374997]\n",
      "[-518.978484375]\n",
      "[-440.642109375]\n",
      "[-320.68953515625003]\n",
      "[-508.37043359374996]\n",
      "[-303.553453125]\n",
      "[-466.754234375]\n",
      "[-599.7628710937502]\n",
      "[-541.01058984375]\n",
      "[-533.6665546875]\n",
      "[-341.90563671875]\n",
      "[-350.8816796875]\n",
      "[-471.6502578125]\n",
      "[-580.9947812500001]\n",
      "[-303.553453125]\n",
      "[-437.37809375000006]\n",
      "[-470.0182500000001]\n",
      "[-406.36994531249996]\n",
      "[-444.72212890625]\n",
      "[-411.26596875000007]\n",
      "[-425.95403906250004]\n",
      "[-407.18594921875]\n",
      "[-496.94637890624995]\n",
      "[-383.52183593749993]\n",
      "[-473.282265625]\n",
      "[-446.35413671875]\n",
      "[-298.65742968750004]\n",
      "[-482.25830859375003]\n",
      "[-571.2027343749999]\n",
      "[-507.55442968750003]\n",
      "[-391.681875]\n",
      "[-488.7863398437501]\n",
      "[-431.6660664062499]\n",
      "[-459.41019921875]\n",
      "[-327.21756640625]\n",
      "[-295.3934140625]\n",
      "[-542.6425976562501]\n",
      "[-471.6502578125001]\n",
      "[-419.42600781249996]\n",
      "[-277.441328125]\n",
      "[-331.2975859375]\n",
      "[-427.5860468750001]\n",
      "[-248.88119140625003]\n",
      "[-425.13803515624994]\n",
      "[-303.55345312500003]\n",
      "[-288.86538281250006]\n",
      "[-454.51417578125006]\n",
      "[-372.09778124999997]\n",
      "[-465.93823046874996]\n",
      "[-393.3138828125]\n",
      "[-282.33735156250003]\n",
      "[-478.99429296875]\n",
      "[-439.0101015625001]\n",
      "[-441.4581132812499]\n",
      "[-501.84240234375]\n",
      "[-403.92193359375005]\n",
      "[-324.7695546875]\n",
      "[-375.36179687500004]\n",
      "[-460.22620312500004]\n",
      "[-463.49021874999994]\n",
      "[-385.96984765625]\n",
      "[-573.65074609375]\n",
      "[-526.32251953125]\n",
      "[-287.233375]\n",
      "[-281.52134765625]\n",
      "[-458.59419531249995]\n",
      "[-436.5620898437501]\n",
      "[-310.89748828125005]\n",
      "[-501.84240234375005]\n"
     ]
    }
   ],
   "source": [
    "A = X\n",
    "\n",
    "# take a 3x4 matrix\n",
    "B = [[-1632.0078125],\n",
    "       [-1632.0078125],\n",
    "       [-1632.0078125],\n",
    "       [-1632.0078125],\n",
    "       [-1632.0078125],\n",
    "       [-1632.0078125],\n",
    "       [-1632.0078125],\n",
    "       [-1632.0078125],\n",
    "       [-1632.0078125],\n",
    "       [-1632.0078125],\n",
    "       [-1632.0078125],\n",
    "       [-1632.0078125],\n",
    "       [-1632.0078125],\n",
    "       [-1632.0078125],\n",
    "       [-1632.0078125],\n",
    "       [-1632.0078125],\n",
    "       [-1632.0078125],\n",
    "       [-1632.0078125],\n",
    "       [-1632.0078125],\n",
    "       [-1632.0078125],\n",
    "       [-1632.0078125],\n",
    "       [-1632.0078125],\n",
    "       [-1632.0078125],\n",
    "       [-1632.0078125],\n",
    "       [-1632.0078125],\n",
    "       [-1632.0078125],\n",
    "       [-1632.0078125],\n",
    "       [-1632.0078125],\n",
    "       [-1632.0078125],\n",
    "       [-1632.0078125],\n",
    "       [-1632.0078125],\n",
    "       [-1632.0078125],\n",
    "       [-1632.0078125],\n",
    "       [-1632.0078125],\n",
    "       [-1632.0078125],\n",
    "       [-1632.0078125],\n",
    "       [-1632.0078125],\n",
    "       [-1632.0078125],\n",
    "       [-1632.0078125],\n",
    "       [-1632.0078125],\n",
    "       [-1632.0078125],\n",
    "       [-1632.0078125],\n",
    "       [-1632.0078125],\n",
    "       [-1632.0078125],\n",
    "       [-1632.0078125],\n",
    "       [-1632.0078125],\n",
    "       [-1632.0078125],\n",
    "       [-1632.0078125],\n",
    "       [-1632.0078125],\n",
    "       [-1632.0078125],\n",
    "       [-1632.0078125],\n",
    "       [-1632.0078125],\n",
    "       [-1632.0078125],\n",
    "       [-1632.0078125],\n",
    "       [-1632.0078125],\n",
    "       [-1632.0078125],\n",
    "       [-1632.0078125],\n",
    "       [-1632.0078125],\n",
    "       [-1632.0078125],\n",
    "       [-1632.0078125],\n",
    "       [-1632.0078125],\n",
    "       [-1632.0078125],\n",
    "       [-1632.0078125],\n",
    "       [-1632.0078125],\n",
    "       [-1632.0078125],\n",
    "       [-1632.0078125],\n",
    "       [-1632.0078125],\n",
    "       [-1632.0078125],\n",
    "       [-1632.0078125],\n",
    "       [-1632.0078125],\n",
    "       [-1632.0078125],\n",
    "       [-1632.0078125],\n",
    "       [-1632.0078125],\n",
    "       [-1632.0078125],\n",
    "       [-1632.0078125],\n",
    "       [-1632.0078125],\n",
    "       [-1632.0078125],\n",
    "       [-1632.0078125],\n",
    "       [-1632.0078125],\n",
    "       [-1632.0078125],\n",
    "       [-1632.0078125],\n",
    "       [-1632.0078125],\n",
    "       [-1632.0078125],\n",
    "       [-1632.0078125],\n",
    "       [-1632.0078125],\n",
    "       [-1632.0078125],\n",
    "       [-1632.0078125],\n",
    "       [-1632.0078125],\n",
    "       [-1632.0078125],\n",
    "       [-1632.0078125],\n",
    "       [-1632.0078125],\n",
    "       [-1632.0078125],\n",
    "       [-1632.0078125],\n",
    "       [-1632.0078125],\n",
    "       [-1632.0078125],\n",
    "       [-1632.0078125],\n",
    "       [-1632.0078125],\n",
    "       [-1632.0078125],\n",
    "       [-1632.0078125],\n",
    "       [-1632.0078125],\n",
    "       [-1632.0078125],\n",
    "       [-1632.0078125],\n",
    "       [-1632.0078125],\n",
    "       [-1632.0078125],\n",
    "       [-1632.0078125],\n",
    "       [-1632.0078125],\n",
    "       [-1632.0078125],\n",
    "       [-1632.0078125],\n",
    "       [-1632.0078125],\n",
    "       [-1632.0078125],\n",
    "       [-1632.0078125],\n",
    "       [-1632.0078125],\n",
    "       [-1632.0078125],\n",
    "       [-1632.0078125],\n",
    "       [-1632.0078125],\n",
    "       [-1632.0078125],\n",
    "       [-1632.0078125],\n",
    "       [-1632.0078125],\n",
    "       [-1632.0078125],\n",
    "       [-1632.0078125],\n",
    "       [-1632.0078125],\n",
    "       [-1632.0078125],\n",
    "       [-1632.0078125],\n",
    "       [-1632.0078125],\n",
    "       [-1632.0078125],\n",
    "       [-1632.0078125],\n",
    "       [-1632.0078125],\n",
    "       [-1632.0078125]]\n",
    "# result will be 3x4\n",
    "result = [[sum(a * b for a, b in zip(A_row, B_col))\n",
    "\t\t\t\t\t\tfor B_col in zip(*B)]\n",
    "\t\t\t\t\t\t\t\tfor A_row in A]\n",
    "\n",
    "for r in result:\n",
    "\tprint(r)"
   ]
  },
  {
   "cell_type": "code",
   "execution_count": 42,
   "metadata": {},
   "outputs": [
    {
     "name": "stdout",
     "output_type": "stream",
     "text": [
      "[[-446.35413671875], [-467.57823828125], [-492.05035546875], [-412.90847656249997], [-311.72499218750005], [-425.1515351562499], [-387.60185546875005], [-485.52232421875], [-302.7479492187499], [-388.4348593749999], [-346.8016601562501], [-334.5616015625], [-368.02826171875], [-503.4844101562499], [-353.34169140625], [-444.72212890624996], [-485.52232421875], [-482.27330859375013], [-254.60821875], [-338.64162109375], [-563.87369921875], [-463.49021874999994], [-553.2601484375], [-510.8324453125], [-461.05970703125007], [-533.6665546875001], [-297.84142578125], [-461.87071093750006], [-355.777703125], [-441.47211328124996], [-442.2821171875], [-372.09778124999997], [-525.5065156250001], [-438.20309765625], [-402.28992578125], [-341.90563671875003], [-443.10562109375], [-492.866359375], [-396.57789843750004], [-360.68672656250004], [-493.69636328125], [-581.8252851562501], [-510.01344140624997], [-435.7595859374999], [-357.4237109375], [-509.1864375], [-385.1538437499999], [-332.93909375000004], [-365.56975], [-385.9853476562499], [-459.41019921875], [-369.6497695312501], [-355.78820312499994], [-341.0896328125], [-401.4844218749999], [-367.2017578125], [-435.7460859375], [-378.6258125], [-395.77539453125], [-397.40340234375], [-518.978484375], [-440.642109375], [-320.68953515625003], [-508.38243359374997], [-303.553453125], [-466.754234375], [-599.7628710937502], [-541.02508984375], [-533.6665546875], [-341.91613671874995], [-350.8911796875], [-471.6587578125], [-581.0087812500001], [-303.56395312499995], [-437.3915937500001], [-470.0182500000001], [-406.36994531249996], [-444.72212890625], [-411.26596875000007], [-425.95403906250004], [-407.19594921875], [-496.9593789062499], [-383.52183593749993], [-473.282265625], [-446.37063671875], [-298.67142968750005], [-482.27380859375], [-571.2027343749999], [-507.55442968750003], [-391.681875], [-488.7863398437501], [-431.6760664062499], [-459.41019921875], [-327.21756640625], [-295.3934140625], [-542.6565976562501], [-471.6502578125001], [-419.44000781249997], [-277.441328125], [-331.2975859375], [-427.5860468750001], [-248.89569140625002], [-425.13803515624994], [-303.55345312500003], [-288.8788828125001], [-454.52717578125004], [-372.09778124999997], [-465.94973046875], [-393.3263828125], [-282.33735156250003], [-478.99429296875], [-439.0101015625001], [-441.4696132812499], [-501.84240234375], [-403.93443359375004], [-324.7695546875], [-375.37379687500004], [-460.23970312500006], [-463.50721874999994], [-385.96984765625], [-573.65074609375], [-526.33651953125], [-287.248875], [-281.53334765625], [-458.6051953125], [-436.5620898437501], [-310.90798828125], [-501.85490234375004]]\n"
     ]
    }
   ],
   "source": [
    "matrix2 = Y\n",
    "\n",
    "matrix1= [[-446.35413671875],\n",
    "[-467.57023828125],\n",
    "[-492.05035546875],\n",
    "[-412.8979765625],\n",
    "[-311.71349218750004],\n",
    "[-425.1380351562499],\n",
    "[-387.60185546875005],\n",
    "[-485.52232421875],\n",
    "[-302.73744921874993],\n",
    "[-388.4178593749999],\n",
    "[-346.8016601562501],\n",
    "[-334.5616015625],\n",
    "[-368.01776171875],\n",
    "[-503.4744101562499],\n",
    "[-353.32969140625],\n",
    "[-444.72212890624996],\n",
    "[-485.52232421875],\n",
    "[-482.25830859375014],\n",
    "[-254.59321875],\n",
    "[-338.64162109375],\n",
    "[-563.85869921875],\n",
    "[-463.49021874999994],\n",
    "[-553.2506484375],\n",
    "[-510.8184453125],\n",
    "[-461.0422070312501],\n",
    "[-533.6665546875001],\n",
    "[-297.84142578125],\n",
    "[-461.8582109375001],\n",
    "[-355.777703125],\n",
    "[-441.45811328124995],\n",
    "[-442.2741171875],\n",
    "[-372.09778124999997],\n",
    "[-525.5065156250001],\n",
    "[-438.19409765625],\n",
    "[-402.28992578125],\n",
    "[-341.90563671875003],\n",
    "[-443.09012109375004],\n",
    "[-492.866359375],\n",
    "[-396.57789843750004],\n",
    "[-360.67372656250006],\n",
    "[-493.68236328125],\n",
    "[-581.8107851562501],\n",
    "[-510.00244140624994],\n",
    "[-435.74608593749986],\n",
    "[-357.4097109375],\n",
    "[-509.1864375],\n",
    "[-385.1538437499999],\n",
    "[-332.92959375000004],\n",
    "[-365.56975],\n",
    "[-385.96984765624995],\n",
    "[-459.41019921875],\n",
    "[-369.6497695312501],\n",
    "[-355.77770312499996],\n",
    "[-341.0896328125],\n",
    "[-401.4739218749999],\n",
    "[-367.2017578125],\n",
    "[-435.7460859375],\n",
    "[-378.6258125],\n",
    "[-395.76189453125],\n",
    "[-397.39390234374997],\n",
    "[-518.978484375],\n",
    "[-440.642109375],\n",
    "[-320.68953515625003],\n",
    "[-508.37043359374996],\n",
    "[-303.553453125],\n",
    "[-466.754234375],\n",
    "[-599.7628710937502],\n",
    "[-541.01058984375],\n",
    "[-533.6665546875],\n",
    "[-341.90563671875],\n",
    "[-350.8816796875],\n",
    "[-471.6502578125],\n",
    "[-580.9947812500001],\n",
    "[-303.553453125],\n",
    "[-437.37809375000006],\n",
    "[-470.0182500000001],\n",
    "[-406.36994531249996],\n",
    "[-444.72212890625],\n",
    "[-411.26596875000007],\n",
    "[-425.95403906250004],\n",
    "[-407.18594921875],\n",
    "[-496.94637890624995],\n",
    "[-383.52183593749993],\n",
    "[-473.282265625],\n",
    "[-446.35413671875],\n",
    "[-298.65742968750004],\n",
    "[-482.25830859375003],\n",
    "[-571.2027343749999],\n",
    "[-507.55442968750003],\n",
    "[-391.681875],\n",
    "[-488.7863398437501],\n",
    "[-431.6660664062499],\n",
    "[-459.41019921875],\n",
    "[-327.21756640625],\n",
    "[-295.3934140625],\n",
    "[-542.6425976562501],\n",
    "[-471.6502578125001],\n",
    "[-419.42600781249996],\n",
    "[-277.441328125],\n",
    "[-331.2975859375],\n",
    "[-427.5860468750001],\n",
    "[-248.88119140625003],\n",
    "[-425.13803515624994],\n",
    "[-303.55345312500003],\n",
    "[-288.86538281250006],\n",
    "[-454.51417578125006],\n",
    "[-372.09778124999997],\n",
    "[-465.93823046874996],\n",
    "[-393.3138828125],\n",
    "[-282.33735156250003],\n",
    "[-478.99429296875],\n",
    "[-439.0101015625001],\n",
    "[-441.4581132812499],\n",
    "[-501.84240234375],\n",
    "[-403.92193359375005],\n",
    "[-324.7695546875],\n",
    "[-375.36179687500004],\n",
    "[-460.22620312500004],\n",
    "[-463.49021874999994],\n",
    "[-385.96984765625],\n",
    "[-573.65074609375],\n",
    "[-526.32251953125],\n",
    "[-287.233375],\n",
    "[-281.52134765625],\n",
    "[-458.59419531249995],\n",
    "[-436.5620898437501],\n",
    "[-310.89748828125005],\n",
    "[-501.84240234375005]]\n",
    "\n",
    "\n",
    "\n",
    "#output = [[-1, -1, -1], \n",
    "\t\t# [-1, 0, -1], \n",
    "        # [-1, -1, -1]]\n",
    "\n",
    "def subtractTheMatrix(matrix1, matrix2):\n",
    "    matrix1Rows = len(matrix1)\n",
    "    matrix2Rows = len(matrix2)\n",
    "    matrix1Col = len(matrix1[0])\n",
    "    matrix2Col = len(matrix2[0])\n",
    "\n",
    "    #base case\n",
    "    if(matrix1Rows != matrix2Rows or matrix1Col != matrix2Col):\n",
    "        return \"ERROR: dimensions of the two arrays must be the same\"\n",
    "\n",
    "    #make a matrix of the same size as matrix 1 and matrix 2\n",
    "    matrix = []\n",
    "    rows = []\n",
    "\n",
    "    for i in range(0, matrix1Rows):\n",
    "        for j in range(0, matrix2Col):\n",
    "            rows.append(0)\n",
    "        matrix.append(rows.copy())\n",
    "        rows = []\n",
    "\n",
    "    #loop through the two matricies and the subtraction should be placed in the\n",
    "    #matrix\n",
    "    for i in range(0, matrix1Rows):\n",
    "        for j in range(0, matrix2Col):\n",
    "            matrix[i][j] = matrix1[i][j] - matrix2[i][j]\n",
    "            \n",
    "    return matrix\n",
    "\n",
    "print(subtractTheMatrix(matrix1, matrix2))"
   ]
  },
  {
   "cell_type": "code",
   "execution_count": 43,
   "metadata": {},
   "outputs": [
    {
     "data": {
      "text/plain": [
       "array([428.14873076])"
      ]
     },
     "execution_count": 43,
     "metadata": {},
     "output_type": "execute_result"
    }
   ],
   "source": [
    "#y=np.linalg.solve(A,B)\n",
    "import numpy as np\n",
    "t=(subtractTheMatrix(matrix1, matrix2))\n",
    "m=np.array(t)\n",
    "g=0\n",
    "for i in range(0,128):\n",
    "    y=m[i]\n",
    "    g+=y*y\n",
    "\n",
    "\n",
    "u=g/128\n",
    "y=pow(u,0.5)\n",
    "y                                                      "
   ]
  },
  {
   "cell_type": "markdown",
   "metadata": {},
   "source": [
    "# Solution Using GMRES"
   ]
  },
  {
   "cell_type": "code",
   "execution_count": 44,
   "metadata": {},
   "outputs": [],
   "source": [
    "import scipy.sparse.linalg as sc"
   ]
  },
  {
   "cell_type": "code",
   "execution_count": 45,
   "metadata": {},
   "outputs": [],
   "source": [
    "c_sol= sc.gmres(X,Y,tol=1e-16)"
   ]
  },
  {
   "cell_type": "code",
   "execution_count": 46,
   "metadata": {},
   "outputs": [
    {
     "data": {
      "text/plain": [
       "(array([ 0.13489872, -0.00292927,  0.08862679,  0.06636855, -0.05276115,\n",
       "         0.02953033,  0.08484681,  0.04304524, -0.02474481,  0.01893021,\n",
       "         0.05832742,  0.00978006, -0.02317069,  0.09563211, -0.05661433,\n",
       "         0.01512472,  0.0505376 , -0.07871589,  0.03281831, -0.03959273,\n",
       "        -0.04896781,  0.11418792,  0.11154033, -0.04096568, -0.01255365,\n",
       "         0.05180683,  0.03217924,  0.00436205,  0.03766704, -0.02702426,\n",
       "         0.00435501,  0.03575281,  0.09050305,  0.03326133,  0.03250572,\n",
       "        -0.05307637,  0.04550181,  0.14241848,  0.0359694 , -0.00481592,\n",
       "        -0.09295621,  0.08140235, -0.0103659 , -0.03394478, -0.01207841,\n",
       "         0.07823605,  0.08095165,  0.10319209,  0.09308384, -0.0187249 ,\n",
       "         0.03671202, -0.02466109, -0.06765479,  0.04523535,  0.01729891,\n",
       "         0.01159825,  0.06859795,  0.02058604, -0.03166716,  0.04458999,\n",
       "         0.06970497,  0.05017254,  0.08881707,  0.09748228,  0.08229819,\n",
       "         0.11501163,  0.08846213, -0.0654275 , -0.02473757,  0.05446018,\n",
       "         0.03180015, -0.01059088, -0.06707353, -0.02769237,  0.08641315,\n",
       "        -0.00172882,  0.09619365, -0.02540962,  0.04981881,  0.06251929,\n",
       "        -0.01892231,  0.07010392,  0.07033987,  0.10667081, -0.04793687,\n",
       "         0.02401691,  0.04612973,  0.00528686,  0.08530202, -0.06668658,\n",
       "         0.13173177,  0.01040627,  0.05644309,  0.06357511,  0.03397912,\n",
       "        -0.06726789,  0.02438338, -0.09626269, -0.01353761,  0.06487201,\n",
       "         0.02986241,  0.03060837,  0.11730056, -0.03719103, -0.01341764,\n",
       "         0.04031937,  0.05351178,  0.00173487,  0.01965032,  0.06478354,\n",
       "         0.07652141,  0.07614961, -0.05425611, -0.03125198, -0.03070539,\n",
       "        -0.02052928, -0.05595606, -0.02257838,  0.07618416, -0.00084204,\n",
       "         0.00861031,  0.11213866, -0.06397892,  0.03263949, -0.12559942,\n",
       "         0.04410074,  0.01146497,  0.02851711]),\n",
       " 1280)"
      ]
     },
     "execution_count": 46,
     "metadata": {},
     "output_type": "execute_result"
    }
   ],
   "source": [
    "c_sol\n"
   ]
  },
  {
   "cell_type": "markdown",
   "metadata": {},
   "source": [
    "## Ax"
   ]
  },
  {
   "cell_type": "code",
   "execution_count": 47,
   "metadata": {},
   "outputs": [
    {
     "name": "stdout",
     "output_type": "stream",
     "text": [
      "[0.010347525115000002]\n",
      "[0.004643147284999999]\n",
      "[0.001467653805]\n",
      "[0.00540653966]\n",
      "[0.0028072875850000006]\n",
      "[0.008278546775000001]\n",
      "[0.007032829424999999]\n",
      "[-0.0005869982350000002]\n",
      "[0.003308928655]\n",
      "[0.00571581523]\n",
      "[0.003574581430000001]\n",
      "[0.0033858686350000003]\n",
      "[0.0044686394050000005]\n",
      "[0.004497019595]\n",
      "[0.00943798743]\n",
      "[0.00574605607]\n",
      "[0.008775966435]\n",
      "[0.0075089443100000005]\n",
      "[0.004693862705]\n",
      "[0.0025118553899999996]\n",
      "[0.014790572080000003]\n",
      "[0.010278279155]\n",
      "[0.002848957975]\n",
      "[0.005077973770000001]\n",
      "[0.009042067785000002]\n",
      "[0.004262776145]\n",
      "[0.004009697469999999]\n",
      "[0.013317073560000002]\n",
      "[0.00344915156]\n",
      "[0.007538121595]\n",
      "[0.008711654060000002]\n",
      "[0.00568239859]\n",
      "[0.005838289839999999]\n",
      "[0.007367487349999999]\n",
      "[0.008203008175]\n",
      "[0.004518160979999999]\n",
      "[0.010573642350000002]\n",
      "[0.0036074983299999998]\n",
      "[0.00487199176]\n",
      "[0.007976555335]\n",
      "[0.008275124069999999]\n",
      "[0.008436269245]\n",
      "[0.010711551495]\n",
      "[0.011095248210000004]\n",
      "[0.007949680195]\n",
      "[0.006117021530000002]\n",
      "[0.005043016770000001]\n",
      "[0.006810037579999999]\n",
      "[0.005165337525000001]\n",
      "[0.0062248684899999995]\n",
      "[0.00840495263]\n",
      "[0.0050108445549999995]\n",
      "[0.003252153660000001]\n",
      "[0.0053690345000000006]\n",
      "[0.00440028199]\n",
      "[0.0026317075250000006]\n",
      "[0.006368432599999999]\n",
      "[0.004371453030000001]\n",
      "[0.0038202317400000004]\n",
      "[0.007812284830000001]\n",
      "[0.0034453272900000003]\n",
      "[0.003249383855000001]\n",
      "[0.0061470374749999996]\n",
      "[0.008207254075]\n",
      "[0.0038465126550000007]\n",
      "[0.0040909523]\n",
      "[0.006871962569999999]\n",
      "[0.012671965740000003]\n",
      "[0.0013857382799999996]\n",
      "[0.00104370056]\n",
      "[0.008890555990000002]\n",
      "[0.007345712840000004]\n",
      "[0.013793412175]\n",
      "[0.00286321668]\n",
      "[0.006280747429999999]\n",
      "[0.0020424510350000005]\n",
      "[0.005604886145]\n",
      "[0.009138673029999999]\n",
      "[0.0020969524949999998]\n",
      "[0.0009286410900000001]\n",
      "[0.005734623114999999]\n",
      "[0.012246740755]\n",
      "[0.0026348272350000005]\n",
      "[0.00381344269]\n",
      "[0.00510310122]\n",
      "[0.008021420949999998]\n",
      "[0.008208974394999999]\n",
      "[0.0071736089099999996]\n",
      "[0.00220903464]\n",
      "[0.006792079869999999]\n",
      "[0.007557685810000002]\n",
      "[0.004117327654999999]\n",
      "[0.0035671790049999997]\n",
      "[0.002341832280000001]\n",
      "[-0.00248352534]\n",
      "[0.007683619810000001]\n",
      "[0.008104673565000001]\n",
      "[0.00814791057]\n",
      "[0.005261042045]\n",
      "[0.002856059915]\n",
      "[0.0006809087400000005]\n",
      "[0.0017146017899999997]\n",
      "[0.008816930530000001]\n",
      "[0.006313592535000001]\n",
      "[0.003112977335]\n",
      "[0.008373961979999997]\n",
      "[0.005298896319999999]\n",
      "[0.00874495415]\n",
      "[0.008091786394999998]\n",
      "[0.0028686175650000007]\n",
      "[0.006106224069999999]\n",
      "[0.010608193265]\n",
      "[0.006798334124999999]\n",
      "[0.005697798255000001]\n",
      "[0.007930802845000001]\n",
      "[0.008786386265]\n",
      "[0.0067627125949999995]\n",
      "[0.008483463430000001]\n",
      "[0.008667101420000002]\n",
      "[0.005583706145]\n",
      "[0.006770694805000003]\n",
      "[0.006130897609999999]\n",
      "[0.003447212869999999]\n",
      "[0.00697632276]\n",
      "[0.007363084035]\n",
      "[0.00648355462]\n",
      "[0.00913047671]\n",
      "[0.01355709717]\n"
     ]
    }
   ],
   "source": [
    "# Program to multiply two matrices using list comprehension\n",
    "\n",
    "# take a 3x3 matrix\n",
    "C = X\n",
    "\n",
    "# take a 3x4 matrix\n",
    "D = [[ 0.13489872],[ -0.00292927],[  0.08862679],[  0.06636855],[ -0.05276115],[\n",
    "         0.02953033],[  0.08484681],[  0.04304524],[ -0.02474481],[  0.01893021],[\n",
    "         0.05832742],[  0.00978006],[ -0.02317069],[  0.09563211],[ -0.05661433],[\n",
    "         0.01512472],[  0.0505376 ],[ -0.07871589],[  0.03281831],[ -0.03959273],[\n",
    "        -0.04896781],[  0.11418792],[  0.11154033],[ -0.04096568],[ -0.01255365],[\n",
    "         0.05180683],[  0.03217924],[  0.00436205],[  0.03766704],[ -0.02702426],[\n",
    "         0.00435501],[  0.03575281],[  0.09050305],[  0.03326133],[  0.03250572],[\n",
    "        -0.05307637],[  0.04550181],[  0.14241848],[  0.0359694 ],[ -0.00481592],[\n",
    "        -0.09295621],[  0.08140235],[ -0.0103659 ],[ -0.03394478],[ -0.01207841],[\n",
    "         0.07823605],[  0.08095165],[  0.10319209],[  0.09308384],[ -0.0187249 ],[\n",
    "         0.03671202],[ -0.02466109],[ -0.06765479],[  0.04523535],[  0.01729891],[\n",
    "         0.01159825],[  0.06859795],[  0.02058604],[ -0.03166716],[  0.04458999],[\n",
    "         0.06970497],[  0.05017254],[  0.08881707],[  0.09748228],[  0.08229819],[\n",
    "         0.11501163],[  0.08846213],[ -0.0654275 ],[ -0.02473757],[  0.05446018],[\n",
    "         0.03180015],[ -0.01059088],[ -0.06707353],[ -0.02769237],[  0.08641315],[\n",
    "        -0.00172882],[  0.09619365],[ -0.02540962],[  0.04981881],[  0.06251929],[\n",
    "        -0.01892231],[  0.07010392],[  0.07033987],[  0.10667081],[ -0.04793687],[\n",
    "         0.02401691],[  0.04612973],[  0.00528686],[  0.08530202],[ -0.06668658],[\n",
    "         0.13173177],[  0.01040627],[  0.05644309],[  0.06357511],[  0.03397912],[\n",
    "        -0.06726789],[  0.02438338],[ -0.09626269],[ -0.01353761],[  0.06487201],[\n",
    "         0.02986241],[  0.03060837],[  0.11730056],[ -0.03719103],[ -0.01341764],[\n",
    "         0.04031937],[  0.05351178],[  0.00173487],[  0.01965032],[  0.06478354],[\n",
    "         0.07652141],[  0.07614961],[ -0.05425611],[ -0.03125198],[ -0.03070539],[\n",
    "        -0.02052928],[ -0.05595606],[ -0.02257838],[  0.07618416],[ -0.00084204],[\n",
    "         0.00861031],[  0.11213866],[ -0.06397892],[  0.03263949],[ -0.12559942],[\n",
    "         0.04410074],[  0.01146497],[  0.02851711]]\n",
    "\n",
    "\n",
    "\n",
    "# result will be 3x4\n",
    "result = [[sum(a * b for a, b in zip(C_row, D_col))\n",
    "\t\t\t\t\t\tfor D_col in zip(*D)]\n",
    "\t\t\t\t\t\t\t\tfor C_row in C]\n",
    "\n",
    "for r in result:\n",
    "\tprint(r)"
   ]
  },
  {
   "cell_type": "markdown",
   "metadata": {},
   "source": [
    "## Ax-b"
   ]
  },
  {
   "cell_type": "code",
   "execution_count": 48,
   "metadata": {},
   "outputs": [
    {
     "name": "stdout",
     "output_type": "stream",
     "text": [
      "[[0.010347525115000002], [-0.0033568527150000015], [0.001467653805], [-0.0050934603400000006], [-0.008692712415], [-0.005221453224999999], [0.007032829424999999], [-0.0005869982350000002], [-0.007191071345000001], [-0.01128418477], [0.003574581430000001], [0.0033858686350000003], [-0.006031360595], [-0.005502980405], [-0.002562012570000001], [0.00574605607], [0.008775966435], [-0.007491055689999999], [-0.010306137295], [0.0025118553899999996], [-0.0002094279199999962], [0.010278279155], [-0.006651042025], [-0.00892202623], [-0.008457932215], [0.004262776145], [0.004009697469999999], [0.000817073560000001], [0.00344915156], [-0.0064618784050000004], [0.0007116540600000023], [0.00568239859], [0.005838289839999999], [-0.00163251265], [0.008203008175], [0.004518160979999999], [-0.0049263576499999975], [0.0036074983299999998], [0.00487199176], [-0.005023444665], [-0.005724875930000001], [-0.006063730755000002], [-0.0002884485049999986], [-0.002404751789999996], [-0.006050319805000001], [0.006117021530000002], [0.005043016770000001], [-0.0026899624200000007], [0.005165337525000001], [-0.00927513151], [0.00840495263], [0.0050108445549999995], [-0.007247846339999999], [0.0053690345000000006], [-0.0060997180100000005], [0.0026317075250000006], [0.006368432599999999], [0.004371453030000001], [-0.009679768259999999], [-0.0016877151699999987], [0.0034453272900000003], [0.003249383855000001], [0.0061470374749999996], [-0.0037927459250000004], [0.0038465126550000007], [0.0040909523], [0.006871962569999999], [-0.0018280342599999982], [0.0013857382799999996], [-0.009456299440000001], [-0.000609444009999998], [-0.0011542871599999963], [-0.000206587825], [-0.007636783320000001], [-0.007219252570000001], [0.0020424510350000005], [0.005604886145], [0.009138673029999999], [0.0020969524949999998], [0.0009286410900000001], [-0.004265376885000001], [-0.0007532592449999986], [0.0026348272350000005], [0.00381344269], [-0.011396898780000001], [-0.005978579050000002], [-0.007291025605000001], [0.0071736089099999996], [0.00220903464], [0.006792079869999999], [0.007557685810000002], [-0.005882672345000001], [0.0035671790049999997], [0.002341832280000001], [-0.00248352534], [-0.006316380189999999], [0.008104673565000001], [-0.0058520894300000004], [0.005261042045], [0.002856059915], [0.0006809087400000005], [-0.012785398210000002], [0.008816930530000001], [0.006313592535000001], [-0.010387022665], [-0.004626038020000002], [0.005298896319999999], [-0.0027550458500000003], [-0.004408213605000003], [0.0028686175650000007], [0.006106224069999999], [0.010608193265], [-0.004701665875000001], [0.005697798255000001], [-0.0045691971549999995], [0.008786386265], [-0.005237287405000001], [-0.005016536569999999], [-0.00833289858], [0.005583706145], [0.006770694805000003], [-0.00786910239], [-0.012052787130000001], [-0.005023677240000001], [-0.0036369159649999993], [0.00648355462], [-0.0013695232900000007], [0.00105709717]]\n"
     ]
    }
   ],
   "source": [
    "matrix2 = Y\n",
    "\n",
    "matrix1 = [[0.010347525115000002],\n",
    "[0.004643147284999999],\n",
    "[0.001467653805],\n",
    "[0.00540653966],\n",
    "[0.0028072875850000006],\n",
    "[0.008278546775000001],\n",
    "[0.007032829424999999],\n",
    "[-0.0005869982350000002],\n",
    "[0.003308928655],\n",
    "[0.00571581523],\n",
    "[0.003574581430000001],\n",
    "[0.0033858686350000003],\n",
    "[0.0044686394050000005],\n",
    "[0.004497019595],\n",
    "[0.00943798743],\n",
    "[0.00574605607],\n",
    "[0.008775966435],\n",
    "[0.0075089443100000005],\n",
    "[0.004693862705],\n",
    "[0.0025118553899999996],\n",
    "[0.014790572080000003],\n",
    "[0.010278279155],\n",
    "[0.002848957975],\n",
    "[0.005077973770000001],\n",
    "[0.009042067785000002],\n",
    "[0.004262776145],\n",
    "[0.004009697469999999],\n",
    "[0.013317073560000002],\n",
    "[0.00344915156],\n",
    "[0.007538121595],\n",
    "[0.008711654060000002],\n",
    "[0.00568239859],\n",
    "[0.005838289839999999],\n",
    "[0.007367487349999999],\n",
    "[0.008203008175],\n",
    "[0.004518160979999999],\n",
    "[0.010573642350000002],\n",
    "[0.0036074983299999998],\n",
    "[0.00487199176],\n",
    "[0.007976555335],\n",
    "[0.008275124069999999],\n",
    "[0.008436269245],\n",
    "[0.010711551495],\n",
    "[0.011095248210000004],\n",
    "[0.007949680195],\n",
    "[0.006117021530000002],\n",
    "[0.005043016770000001],\n",
    "[0.006810037579999999],\n",
    "[0.005165337525000001],\n",
    "[0.0062248684899999995],\n",
    "[0.00840495263],\n",
    "[0.0050108445549999995],\n",
    "[0.003252153660000001],\n",
    "[0.0053690345000000006],\n",
    "[0.00440028199],\n",
    "[0.0026317075250000006],\n",
    "[0.006368432599999999],\n",
    "[0.004371453030000001],\n",
    "[0.0038202317400000004],\n",
    "[0.007812284830000001],\n",
    "[0.0034453272900000003],\n",
    "[0.003249383855000001],\n",
    "[0.0061470374749999996],\n",
    "[0.008207254075],\n",
    "[0.0038465126550000007],\n",
    "[0.0040909523],\n",
    "[0.006871962569999999],\n",
    "[0.012671965740000003],\n",
    "[0.0013857382799999996],\n",
    "[0.00104370056],\n",
    "[0.008890555990000002],\n",
    "[0.007345712840000004],\n",
    "[0.013793412175],\n",
    "[0.00286321668],\n",
    "[0.006280747429999999],\n",
    "[0.0020424510350000005],\n",
    "[0.005604886145],\n",
    "[0.009138673029999999],\n",
    "[0.0020969524949999998],\n",
    "[0.0009286410900000001],\n",
    "[0.005734623114999999],\n",
    "[0.012246740755],\n",
    "[0.0026348272350000005],\n",
    "[0.00381344269],\n",
    "[0.00510310122],\n",
    "[0.008021420949999998],\n",
    "[0.008208974394999999],\n",
    "[0.0071736089099999996],\n",
    "[0.00220903464],\n",
    "[0.006792079869999999],\n",
    "[0.007557685810000002],\n",
    "[0.004117327654999999],\n",
    "[0.0035671790049999997],\n",
    "[0.002341832280000001],\n",
    "[-0.00248352534],\n",
    "[0.007683619810000001],\n",
    "[0.008104673565000001],\n",
    "[0.00814791057],\n",
    "[0.005261042045],\n",
    "[0.002856059915],\n",
    "[0.0006809087400000005],\n",
    "[0.0017146017899999997],\n",
    "[0.008816930530000001],\n",
    "[0.006313592535000001],\n",
    "[0.003112977335],\n",
    "[0.008373961979999997],\n",
    "[0.005298896319999999],\n",
    "[0.00874495415],\n",
    "[0.008091786394999998],\n",
    "[0.0028686175650000007],\n",
    "[0.006106224069999999],\n",
    "[0.010608193265],\n",
    "[0.006798334124999999],\n",
    "[0.005697798255000001],\n",
    "[0.007930802845000001],\n",
    "[0.008786386265],\n",
    "[0.0067627125949999995],\n",
    "[0.008483463430000001],\n",
    "[0.008667101420000002],\n",
    "[0.005583706145],\n",
    "[0.006770694805000003],\n",
    "[0.006130897609999999],\n",
    "[0.003447212869999999],\n",
    "[0.00697632276],\n",
    "[0.007363084035],\n",
    "[0.00648355462],\n",
    "[0.00913047671],\n",
    "[0.01355709717]]\n",
    "\n",
    "\n",
    "#output = [[-1, -1, -1], \n",
    "\t\t# [-1, 0, -1], \n",
    "        # [-1, -1, -1]]\n",
    "\n",
    "def subtractTheMatrix(matrix1, matrix2):\n",
    "    matrix1Rows = len(matrix1)\n",
    "    matrix2Rows = len(matrix2)\n",
    "    matrix1Col = len(matrix1[0])\n",
    "    matrix2Col = len(matrix2[0])\n",
    "\n",
    "    #base case\n",
    "    if(matrix1Rows != matrix2Rows or matrix1Col != matrix2Col):\n",
    "        return \"ERROR: dimensions of the two arrays must be the same\"\n",
    "\n",
    "    #make a matrix of the same size as matrix 1 and matrix 2\n",
    "    matrix = []\n",
    "    rows = []\n",
    "\n",
    "    for i in range(0, matrix1Rows):\n",
    "        for j in range(0, matrix2Col):\n",
    "            rows.append(0)\n",
    "        matrix.append(rows.copy())\n",
    "        rows = []\n",
    "\n",
    "    #loop through the two matricies and the subtraction should be placed in the\n",
    "    #matrix\n",
    "    for i in range(0, matrix1Rows):\n",
    "        for j in range(0, matrix2Col):\n",
    "            matrix[i][j] = matrix1[i][j] - matrix2[i][j]\n",
    "            \n",
    "    return matrix\n",
    "\n",
    "\n",
    "\n",
    "print(subtractTheMatrix(matrix1, matrix2))"
   ]
  },
  {
   "cell_type": "markdown",
   "metadata": {},
   "source": [
    "# Loss Function    "
   ]
  },
  {
   "cell_type": "code",
   "execution_count": 49,
   "metadata": {},
   "outputs": [
    {
     "data": {
      "text/plain": [
       "array([0.0059712])"
      ]
     },
     "execution_count": 49,
     "metadata": {},
     "output_type": "execute_result"
    }
   ],
   "source": [
    "t1=(subtractTheMatrix(matrix1, matrix2))\n",
    "m1=np.array(t1)\n",
    "g1=0\n",
    "for i in range(0,128):\n",
    "    y1=m1[i]\n",
    "    g1+=y1*y1\n",
    "\n",
    "u1=g1/128\n",
    "y1=pow(u1,0.5)\n",
    "y1"
   ]
  },
  {
   "cell_type": "code",
   "execution_count": 52,
   "metadata": {},
   "outputs": [
    {
     "name": "stdout",
     "output_type": "stream",
     "text": [
      "[2679942.97351878] %\n"
     ]
    },
    {
     "data": {
      "text/plain": [
       "128"
      ]
     },
     "execution_count": 52,
     "metadata": {},
     "output_type": "execute_result"
    }
   ],
   "source": [
    "# New loss function :\n",
    "#qwe and c_sol\n",
    "#c_sol.size\n",
    "\n",
    "# ||x_ANNEALING - x_GMRES|| / || x_GMRES ||\n",
    "\n",
    "z=0\n",
    "p=0\n",
    "for i in range(128):\n",
    "    m=qwe[i]-D[i]\n",
    "    #print(qwe[i])\n",
    "    z+=pow(m,2)\n",
    "\n",
    "    \n",
    "D=np.array(D)    \n",
    "for j in range(128):\n",
    "    o=D[j]\n",
    "    p+=pow(o,2)\n",
    "    \n",
    "u=pow(p,0.5)    \n",
    "f=pow(z,0.5)  \n",
    "Result = f/u\n",
    "\n",
    "\n",
    "Percent= Result * 100\n",
    "print(Percent, \"%\")\n",
    "qwe.size"
   ]
  },
  {
   "cell_type": "markdown",
   "metadata": {},
   "source": [
    "# Solution using spsolve"
   ]
  },
  {
   "cell_type": "code",
   "execution_count": 53,
   "metadata": {},
   "outputs": [],
   "source": [
    "from scipy.sparse.linalg import spsolve\n",
    "from scipy.sparse import csc_matrix"
   ]
  },
  {
   "cell_type": "code",
   "execution_count": 54,
   "metadata": {},
   "outputs": [
    {
     "name": "stderr",
     "output_type": "stream",
     "text": [
      "C:\\Users\\Bhargav\\AppData\\Roaming\\Python\\Python38\\site-packages\\scipy\\sparse\\linalg\\dsolve\\linsolve.py:144: SparseEfficiencyWarning: spsolve requires A be CSC or CSR matrix format\n",
      "  warn('spsolve requires A be CSC or CSR matrix format',\n"
     ]
    }
   ],
   "source": [
    "c_sol1 = spsolve(X, Y)"
   ]
  },
  {
   "cell_type": "code",
   "execution_count": null,
   "metadata": {},
   "outputs": [],
   "source": []
  },
  {
   "cell_type": "code",
   "execution_count": 55,
   "metadata": {},
   "outputs": [
    {
     "data": {
      "text/plain": [
       "array([ 11.95541816,  -7.99742651,   2.44218585,  -4.7397275 ,\n",
       "         3.65919961,  -2.22433155, -13.79891201,   3.59397394,\n",
       "       -16.65587277,   1.72533684,  -2.66621896,   5.504041  ,\n",
       "         8.99290222,   9.97778919,  -1.09952059,   2.80166571,\n",
       "         3.06223377,  11.79632101,   6.45561194,   1.73920262,\n",
       "       -12.82916346,  13.72452411,  -1.55460144,   0.6606956 ,\n",
       "         4.11884858,   7.15090509,  -1.78644666,  -5.46267683,\n",
       "         1.04701214,  -3.83566963,   4.27486668,   8.56479933,\n",
       "       -14.09346691,  -1.61663912,  15.1292234 ,  12.27843458,\n",
       "        -6.83897376,  -8.40999419,  -7.1436851 ,  -2.79205906,\n",
       "         6.20362544,   0.56035549,   7.00476803,  -5.42612892,\n",
       "        -0.91521648,   5.69701393,   2.59897812,  -0.39497494,\n",
       "        11.46824636,   9.42368885,  -4.5519448 ,   2.06394478,\n",
       "         5.89801897,   2.92715397,  14.56186619,  10.59629529,\n",
       "         0.71898583,  -5.2021318 ,   3.30969656, -10.69397105,\n",
       "        -4.91461383, -21.26944151,  -5.31400784, -10.71489636,\n",
       "       -15.64835145,  -6.6325541 ,   0.38188435, -18.56795591,\n",
       "        -8.00651215,  -3.76236044,   0.4662476 ,  -4.69988891,\n",
       "         9.40360652,   6.58741865,   2.87059238,   0.06737067,\n",
       "         1.3945305 ,  -6.70791106,  20.43106873,  10.16720269,\n",
       "         3.69732573, -12.72123919, -33.52967445,  -2.90893974,\n",
       "         3.95433561,  -1.80507202,  13.54740641, -14.03919708,\n",
       "         8.35264101,   6.42206576,  19.97753396,  -5.86702837,\n",
       "        -6.41041912,  -1.60477119, -14.09237   ,  -3.24695766,\n",
       "         5.64940503, -12.92000035,  -6.88959037,   6.13731285,\n",
       "         9.41429615,  -6.30141226,   0.14162746,  -6.9949316 ,\n",
       "        16.83757492,  -4.72471688,  13.72224304,  16.45904797,\n",
       "       -21.26981975,  -0.96226066, -17.3166476 ,  10.09445156,\n",
       "        13.20222601, -18.79410578, -11.07760941,   8.66198763,\n",
       "        12.0018157 ,   5.91158648,  -4.16076401,  -3.75200695,\n",
       "        -7.38614764,   3.51487825,  -9.23539921,   4.17010917,\n",
       "        -1.2842535 ,   5.59524926,  14.46154833,   4.497417  ])"
      ]
     },
     "execution_count": 55,
     "metadata": {},
     "output_type": "execute_result"
    }
   ],
   "source": [
    "c_sol1"
   ]
  },
  {
   "cell_type": "code",
   "execution_count": null,
   "metadata": {},
   "outputs": [],
   "source": []
  },
  {
   "cell_type": "markdown",
   "metadata": {},
   "source": [
    "## Ax"
   ]
  },
  {
   "cell_type": "code",
   "execution_count": 59,
   "metadata": {},
   "outputs": [
    {
     "name": "stdout",
     "output_type": "stream",
     "text": [
      "[-1.3499995565879885e-10]\n",
      "[0.00799999984999998]\n",
      "[-1.6999994467692403e-10]\n",
      "[0.010499999499999996]\n",
      "[0.011499999890000001]\n",
      "[0.01349999989000003]\n",
      "[-3.0000010808883815e-10]\n",
      "[-1.5500008915259045e-10]\n",
      "[0.010499999805000076]\n",
      "[0.01700000001000003]\n",
      "[-2.8999998236134417e-10]\n",
      "[-2.000000165480742e-11]\n",
      "[0.01050000010999999]\n",
      "[0.009999999595000003]\n",
      "[0.011999999960000007]\n",
      "[-1.4499999811956599e-10]\n",
      "[-1.8500001530696863e-10]\n",
      "[0.014999999679999931]\n",
      "[0.015000000030000078]\n",
      "[-1.6499995814100998e-10]\n",
      "[0.014999999520000015]\n",
      "[-1.250000450370159e-10]\n",
      "[0.009499999880000012]\n",
      "[0.013999999925000006]\n",
      "[0.017499999744999988]\n",
      "[-2.199998239138523e-10]\n",
      "[-1.9999989858687783e-10]\n",
      "[0.012499999734999934]\n",
      "[-1.6999994814637098e-10]\n",
      "[0.013999999945000022]\n",
      "[0.007999999915]\n",
      "[-3.3499993057350963e-10]\n",
      "[-1.8999991857615584e-10]\n",
      "[0.008999999875000032]\n",
      "[-2.1000003125326572e-10]\n",
      "[-2.0500004471735167e-10]\n",
      "[0.015499999539999934]\n",
      "[-4.499992045658985e-11]\n",
      "[2.5000057579660506e-11]\n",
      "[0.012999999759999922]\n",
      "[0.013999999850000014]\n",
      "[0.01449999998000013]\n",
      "[0.010999999615000054]\n",
      "[0.013499999864999987]\n",
      "[0.013999999905000088]\n",
      "[4.9998824525054886e-12]\n",
      "[-2.4000004761326466e-10]\n",
      "[0.00949999971500004]\n",
      "[-1.550000267025453e-10]\n",
      "[0.015499999790000038]\n",
      "[-2.7999995377836484e-10]\n",
      "[-3.000011350451359e-11]\n",
      "[0.010499999829999898]\n",
      "[-5.499998373403869e-11]\n",
      "[0.010499999839999996]\n",
      "[5.49999976118265e-11]\n",
      "[2.7755575615628914e-17]\n",
      "[-1.9999998879249858e-10]\n",
      "[0.01349999987999996]\n",
      "[0.009499999879999978]\n",
      "[3.500014861268497e-11]\n",
      "[-1.0000003602961272e-10]\n",
      "[-1.6999994467692403e-10]\n",
      "[0.011999999569999975]\n",
      "[-2.4999999292951713e-10]\n",
      "[-7.500007559446686e-11]\n",
      "[-2.3000010229701218e-10]\n",
      "[0.01449999977999998]\n",
      "[-1.000000082740371e-11]\n",
      "[0.010499999744999988]\n",
      "[0.009499999914999988]\n",
      "[0.008499999580000125]\n",
      "[0.013999999839999944]\n",
      "[0.010499999994999912]\n",
      "[0.013500000174999985]\n",
      "[-2.1999994881394258e-10]\n",
      "[-1.700000765159082e-10]\n",
      "[-1.4000003933922756e-10]\n",
      "[-2.949999550194704e-10]\n",
      "[-7.000004742518939e-11]\n",
      "[0.01000000027000001]\n",
      "[0.012999999884999974]\n",
      "[-2.399999365909622e-10]\n",
      "[-2.2499992147206882e-10]\n",
      "[0.01649999967000007]\n",
      "[0.014000000049999961]\n",
      "[0.015499999800000094]\n",
      "[1.2999998300067261e-10]\n",
      "[-2.7499991173129956e-10]\n",
      "[-1.6000012426076182e-10]\n",
      "[-2.999993309327209e-11]\n",
      "[0.010000000055000055]\n",
      "[3.5000002895912985e-11]\n",
      "[2.9999974726635514e-11]\n",
      "[-1.800000426488424e-10]\n",
      "[0.013999999564999921]\n",
      "[-5.000090619322606e-12]\n",
      "[0.01399999983499986]\n",
      "[-1.4499994954730866e-10]\n",
      "[-1.5000004016663127e-10]\n",
      "[-1.7499992427394417e-10]\n",
      "[0.014500000165000013]\n",
      "[-5.5000094756341156e-11]\n",
      "[-4.500002367263667e-11]\n",
      "[0.013499999699999987]\n",
      "[0.013000000024999958]\n",
      "[-7.000000579182597e-11]\n",
      "[0.011499999849999887]\n",
      "[0.012499999744999962]\n",
      "[-6.49999845614424e-11]\n",
      "[1.9999994715913516e-10]\n",
      "[-4.50000176011045e-11]\n",
      "[0.011499999714999959]\n",
      "[-3.750000171498513e-10]\n",
      "[0.012499999960000008]\n",
      "[9.000000050773949e-11]\n",
      "[0.012000000014999936]\n",
      "[0.01349999992499995]\n",
      "[0.016999999809999937]\n",
      "[-2.749999949980264e-10]\n",
      "[-2.600000978403294e-10]\n",
      "[0.01400000027000009]\n",
      "[0.015499999844999945]\n",
      "[0.011999999669999997]\n",
      "[0.010999999980000046]\n",
      "[-2.299999635191341e-10]\n",
      "[0.010499999885000041]\n",
      "[0.0124999999949999]\n"
     ]
    }
   ],
   "source": [
    "# Program to multiply two matrices using list comprehension\n",
    "\n",
    "# take a 3x3 matrix\n",
    "A = X\n",
    "\n",
    "# take a 3x4 matrix\n",
    "B = [[ 11.95541816],[  -7.99742651],[   2.44218585],[  -4.7397275 ],[\n",
    "         3.65919961],[  -2.22433155],[ -13.79891201],[   3.59397394],[\n",
    "       -16.65587277],[   1.72533684],[  -2.66621896],[   5.504041  ],[\n",
    "         8.99290222],[   9.97778919],[  -1.09952059],[   2.80166571],[\n",
    "         3.06223377],[  11.79632101],[   6.45561194],[   1.73920262],[\n",
    "       -12.82916346],[  13.72452411],[  -1.55460144],[   0.6606956 ],[\n",
    "         4.11884858],[   7.15090509],[  -1.78644666],[  -5.46267683],[\n",
    "         1.04701214],[  -3.83566963],[   4.27486668],[   8.56479933],[\n",
    "       -14.09346691],[  -1.61663912],[  15.1292234 ],[  12.27843458],[\n",
    "        -6.83897376],[  -8.40999419],[  -7.1436851 ],[  -2.79205906],[\n",
    "         6.20362544],[   0.56035549],[   7.00476803],[  -5.42612892],[\n",
    "        -0.91521648],[   5.69701393],[   2.59897812],[  -0.39497494],[\n",
    "        11.46824636],[   9.42368885],[  -4.5519448 ],[   2.06394478],[\n",
    "         5.89801897],[   2.92715397],[  14.56186619],[  10.59629529],[\n",
    "         0.71898583],[  -5.2021318 ],[   3.30969656],[ -10.69397105],[\n",
    "        -4.91461383],[ -21.26944151],[  -5.31400784],[ -10.71489636],[\n",
    "       -15.64835145],[  -6.6325541 ],[   0.38188435],[ -18.56795591],[\n",
    "        -8.00651215],[  -3.76236044],[   0.4662476 ],[  -4.69988891],[\n",
    "         9.40360652],[   6.58741865],[   2.87059238],[   0.06737067],[\n",
    "         1.3945305 ],[  -6.70791106],[  20.43106873],[  10.16720269],[\n",
    "         3.69732573],[ -12.72123919],[ -33.52967445],[  -2.90893974],[\n",
    "         3.95433561],[  -1.80507202],[  13.54740641],[ -14.03919708],[\n",
    "         8.35264101],[   6.42206576],[  19.97753396],[  -5.86702837],[\n",
    "        -6.41041912],[  -1.60477119],[ -14.09237   ],[  -3.24695766],[\n",
    "         5.64940503],[ -12.92000035],[  -6.88959037],[   6.13731285],[\n",
    "         9.41429615],[  -6.30141226],[   0.14162746],[  -6.9949316 ],[\n",
    "        16.83757492],[  -4.72471688],[  13.72224304],[  16.45904797],[\n",
    "       -21.26981975],[  -0.96226066],[ -17.3166476 ],[  10.09445156],[\n",
    "        13.20222601],[ -18.79410578],[ -11.07760941],[   8.66198763],[\n",
    "        12.0018157 ],[   5.91158648],[  -4.16076401],[  -3.75200695],[\n",
    "        -7.38614764],[   3.51487825],[  -9.23539921],[   4.17010917],[\n",
    "        -1.2842535 ],[   5.59524926],[  14.46154833],[   4.497417  ]]\n",
    "\n",
    "# result will be 3x4\n",
    "result = [[sum(a * b for a, b in zip(A_row, B_col))\n",
    "\t\t\t\t\t\tfor B_col in zip(*B)]\n",
    "\t\t\t\t\t\t\t\tfor A_row in A]\n",
    "\n",
    "for r in result:\n",
    "\tprint(r)"
   ]
  },
  {
   "cell_type": "markdown",
   "metadata": {},
   "source": [
    "## Ax-b"
   ]
  },
  {
   "cell_type": "code",
   "execution_count": 60,
   "metadata": {},
   "outputs": [
    {
     "name": "stdout",
     "output_type": "stream",
     "text": [
      "[[-1.3499995565879885e-10], [-1.5000001934994955e-10], [-1.6999994467692403e-10], [-5.000000049409925e-10], [-1.0999999869309995e-10], [-1.0999996920280086e-10], [-3.0000010808883815e-10], [-1.5500008915259045e-10], [-1.9499992419402812e-10], [1.0000028582979326e-11], [-2.8999998236134417e-10], [-2.000000165480742e-11], [1.0999999001948257e-10], [-4.0499999708065726e-10], [-3.9999992901273984e-11], [-1.4499999811956599e-10], [-1.8500001530696863e-10], [-3.2000006811028214e-10], [3.000007881004407e-11], [-1.6499995814100998e-10], [-4.799999842042268e-10], [-1.250000450370159e-10], [-1.1999998737743933e-10], [-7.499999406246349e-11], [-2.550000141599007e-10], [-2.199998239138523e-10], [-1.9999989858687783e-10], [-2.650000670290087e-10], [-1.6999994814637098e-10], [-5.4999978529868265e-11], [-8.500000009403763e-11], [-3.3499993057350963e-10], [-1.8999991857615584e-10], [-1.2499996697445948e-10], [-2.1000003125326572e-10], [-2.0500004471735167e-10], [-4.600000658161463e-10], [-4.499992045658985e-11], [2.5000057579660506e-11], [-2.4000007710356375e-10], [-1.499999863902035e-10], [-1.9999871550546722e-11], [-3.8499994511886904e-10], [-1.3500001290467356e-10], [-9.499991245054407e-11], [4.9998824525054886e-12], [-2.4000004761326466e-10], [-2.849999593962371e-10], [-1.550000267025453e-10], [-2.0999996186432668e-10], [-2.7999995377836484e-10], [-3.000011350451359e-11], [-1.7000010253676034e-10], [-5.499998373403869e-11], [-1.6000000456484198e-10], [5.49999976118265e-11], [2.7755575615628914e-17], [-1.9999998879249858e-10], [-1.200000394191436e-10], [-1.2000002207190885e-10], [3.500014861268497e-11], [-1.0000003602961272e-10], [-1.6999994467692403e-10], [-4.3000002517001867e-10], [-2.4999999292951713e-10], [-7.500007559446686e-11], [-2.3000010229701218e-10], [-2.200000199376051e-10], [-1.000000082740371e-11], [-2.550000124251772e-10], [-8.500001223710196e-11], [-4.1999987515639603e-10], [-1.6000005660654626e-10], [-5.00008888459913e-12], [1.7499998498926583e-10], [-2.1999994881394258e-10], [-1.700000765159082e-10], [-1.4000003933922756e-10], [-2.949999550194704e-10], [-7.000004742518939e-11], [2.7000001019683584e-10], [-1.1500002512765395e-10], [-2.399999365909622e-10], [-2.2499992147206882e-10], [-3.299999301598078e-10], [4.999996076893165e-11], [-1.9999990552577174e-10], [1.2999998300067261e-10], [-2.7499991173129956e-10], [-1.6000012426076182e-10], [-2.999993309327209e-11], [5.500005485770121e-11], [3.5000002895912985e-11], [2.9999974726635514e-11], [-1.800000426488424e-10], [-4.350000793601483e-10], [-5.000090619322606e-12], [-1.6500014028697496e-10], [-1.4499994954730866e-10], [-1.5000004016663127e-10], [-1.7499992427394417e-10], [1.6500001191743774e-10], [-5.5000094756341156e-11], [-4.500002367263667e-11], [-3.0000001267904697e-10], [2.4999958700422376e-11], [-7.000000579182597e-11], [-1.5000011302501726e-10], [-2.5500003844602936e-10], [-6.49999845614424e-11], [1.9999994715913516e-10], [-4.50000176011045e-11], [-2.850000409282405e-10], [-3.750000171498513e-10], [-3.9999992901273984e-11], [9.000000050773949e-11], [1.4999935321613478e-11], [-7.500004957361472e-11], [-1.9000006429292782e-10], [-2.749999949980264e-10], [-2.600000978403294e-10], [2.7000008999411573e-10], [-1.5500005445812093e-10], [-3.3000000301819377e-10], [-1.9999953082550093e-11], [-2.299999635191341e-10], [-1.1499995920816186e-10], [-5.000101027663462e-12]]\n"
     ]
    }
   ],
   "source": [
    "matrix2 = Y\n",
    "\n",
    "matrix1 = [[-1.3499995565879885e-10],\n",
    "[0.00799999984999998],\n",
    "[-1.6999994467692403e-10],\n",
    "[0.010499999499999996],\n",
    "[0.011499999890000001],\n",
    "[0.01349999989000003],\n",
    "[-3.0000010808883815e-10],\n",
    "[-1.5500008915259045e-10],\n",
    "[0.010499999805000076],\n",
    "[0.01700000001000003],\n",
    "[-2.8999998236134417e-10],\n",
    "[-2.000000165480742e-11],\n",
    "[0.01050000010999999],\n",
    "[0.009999999595000003],\n",
    "[0.011999999960000007],\n",
    "[-1.4499999811956599e-10],\n",
    "[-1.8500001530696863e-10],\n",
    "[0.014999999679999931],\n",
    "[0.015000000030000078],\n",
    "[-1.6499995814100998e-10],\n",
    "[0.014999999520000015],\n",
    "[-1.250000450370159e-10],\n",
    "[0.009499999880000012],\n",
    "[0.013999999925000006],\n",
    "[0.017499999744999988],\n",
    "[-2.199998239138523e-10],\n",
    "[-1.9999989858687783e-10],\n",
    "[0.012499999734999934],\n",
    "[-1.6999994814637098e-10],\n",
    "[0.013999999945000022],\n",
    "[0.007999999915],\n",
    "[-3.3499993057350963e-10],\n",
    "[-1.8999991857615584e-10],\n",
    "[0.008999999875000032],\n",
    "[-2.1000003125326572e-10],\n",
    "[-2.0500004471735167e-10],\n",
    "[0.015499999539999934],\n",
    "[-4.499992045658985e-11],\n",
    "[2.5000057579660506e-11],\n",
    "[0.012999999759999922],\n",
    "[0.013999999850000014],\n",
    "[0.01449999998000013],\n",
    "[0.010999999615000054],\n",
    "[0.013499999864999987],\n",
    "[0.013999999905000088],\n",
    "[4.9998824525054886e-12],\n",
    "[-2.4000004761326466e-10],\n",
    "[0.00949999971500004],\n",
    "[-1.550000267025453e-10],\n",
    "[0.015499999790000038],\n",
    "[-2.7999995377836484e-10],\n",
    "[-3.000011350451359e-11],\n",
    "[0.010499999829999898],\n",
    "[-5.499998373403869e-11],\n",
    "[0.010499999839999996],\n",
    "[5.49999976118265e-11],\n",
    "[2.7755575615628914e-17],\n",
    "[-1.9999998879249858e-10],\n",
    "[0.01349999987999996],\n",
    "[0.009499999879999978],\n",
    "[3.500014861268497e-11],\n",
    "[-1.0000003602961272e-10],\n",
    "[-1.6999994467692403e-10],\n",
    "[0.011999999569999975],\n",
    "[-2.4999999292951713e-10],\n",
    "[-7.500007559446686e-11],\n",
    "[-2.3000010229701218e-10],\n",
    "[0.01449999977999998],\n",
    "[-1.000000082740371e-11],\n",
    "[0.010499999744999988],\n",
    "[0.009499999914999988],\n",
    "[0.008499999580000125],\n",
    "[0.013999999839999944],\n",
    "[0.010499999994999912],\n",
    "[0.013500000174999985],\n",
    "[-2.1999994881394258e-10],\n",
    "[-1.700000765159082e-10],\n",
    "[-1.4000003933922756e-10],\n",
    "[-2.949999550194704e-10],\n",
    "[-7.000004742518939e-11],\n",
    "[0.01000000027000001],\n",
    "[0.012999999884999974],\n",
    "[-2.399999365909622e-10],\n",
    "[-2.2499992147206882e-10],\n",
    "[0.01649999967000007],\n",
    "[0.014000000049999961],\n",
    "[0.015499999800000094],\n",
    "[1.2999998300067261e-10],\n",
    "[-2.7499991173129956e-10],\n",
    "[-1.6000012426076182e-10],\n",
    "[-2.999993309327209e-11],\n",
    "[0.010000000055000055],\n",
    "[3.5000002895912985e-11],\n",
    "[2.9999974726635514e-11],\n",
    "[-1.800000426488424e-10],\n",
    "[0.013999999564999921],\n",
    "[-5.000090619322606e-12],\n",
    "[0.01399999983499986],\n",
    "[-1.4499994954730866e-10],\n",
    "[-1.5000004016663127e-10],\n",
    "[-1.7499992427394417e-10],\n",
    "[0.014500000165000013],\n",
    "[-5.5000094756341156e-11],\n",
    "[-4.500002367263667e-11],\n",
    "[0.013499999699999987],\n",
    "[0.013000000024999958],\n",
    "[-7.000000579182597e-11],\n",
    "[0.011499999849999887],\n",
    "[0.012499999744999962],\n",
    "[-6.49999845614424e-11],\n",
    "[1.9999994715913516e-10],\n",
    "[-4.50000176011045e-11],\n",
    "[0.011499999714999959],\n",
    "[-3.750000171498513e-10],\n",
    "[0.012499999960000008],\n",
    "[9.000000050773949e-11],\n",
    "[0.012000000014999936],\n",
    "[0.01349999992499995],\n",
    "[0.016999999809999937],\n",
    "[-2.749999949980264e-10],\n",
    "[-2.600000978403294e-10],\n",
    "[0.01400000027000009],\n",
    "[0.015499999844999945],\n",
    "[0.011999999669999997],\n",
    "[0.010999999980000046],\n",
    "[-2.299999635191341e-10],\n",
    "[0.010499999885000041],\n",
    "[0.0124999999949999]]\n",
    "\n",
    "\n",
    "\n",
    "#output = [[-1, -1, -1], \n",
    "\t\t# [-1, 0, -1], \n",
    "        # [-1, -1, -1]]\n",
    "\n",
    "def subtractTheMatrix(matrix1, matrix2):\n",
    "    matrix1Rows = len(matrix1)\n",
    "    matrix2Rows = len(matrix2)\n",
    "    matrix1Col = len(matrix1[0])\n",
    "    matrix2Col = len(matrix2[0])\n",
    "\n",
    "    #base case\n",
    "    if(matrix1Rows != matrix2Rows or matrix1Col != matrix2Col):\n",
    "        return \"ERROR: dimensions of the two arrays must be the same\"\n",
    "\n",
    "    #make a matrix of the same size as matrix 1 and matrix 2\n",
    "    matrix = []\n",
    "    rows = []\n",
    "\n",
    "    for i in range(0, matrix1Rows):\n",
    "        for j in range(0, matrix2Col):\n",
    "            rows.append(0)\n",
    "        matrix.append(rows.copy())\n",
    "        rows = []\n",
    "\n",
    "    #loop through the two matricies and the subtraction should be placed in the\n",
    "    #matrix\n",
    "    for i in range(0, matrix1Rows):\n",
    "        for j in range(0, matrix2Col):\n",
    "            matrix[i][j] = matrix1[i][j] - matrix2[i][j]\n",
    "            \n",
    "    return matrix\n",
    "\n",
    "\n",
    "\n",
    "print(subtractTheMatrix(matrix1, matrix2))"
   ]
  },
  {
   "cell_type": "markdown",
   "metadata": {},
   "source": [
    "# Loss Function"
   ]
  },
  {
   "cell_type": "code",
   "execution_count": 62,
   "metadata": {},
   "outputs": [
    {
     "data": {
      "text/plain": [
       "array([2.02342726e-10])"
      ]
     },
     "execution_count": 62,
     "metadata": {},
     "output_type": "execute_result"
    }
   ],
   "source": [
    "t2=(subtractTheMatrix(matrix1, matrix2))\n",
    "m2=np.array(t2)\n",
    "g2=0\n",
    "for i in range(0,128):\n",
    "    y2=m2[i]\n",
    "    g2+=y2*y2\n",
    "\n",
    "u2=g2/128\n",
    "\n",
    "y2=pow(u2,0.5)\n",
    "y2"
   ]
  },
  {
   "cell_type": "code",
   "execution_count": null,
   "metadata": {},
   "outputs": [],
   "source": [
    "### New loss function "
   ]
  },
  {
   "cell_type": "code",
   "execution_count": 68,
   "metadata": {},
   "outputs": [
    {
     "name": "stdout",
     "output_type": "stream",
     "text": [
      "[17279.95114646] %\n"
     ]
    },
    {
     "data": {
      "text/plain": [
       "128"
      ]
     },
     "execution_count": 68,
     "metadata": {},
     "output_type": "execute_result"
    }
   ],
   "source": [
    "# ||x_ANNEALING - x_SPSOLVE|| / || x_SPSOLVE ||\n",
    "\n",
    "z=0\n",
    "p=0\n",
    "for i in range(128):\n",
    "    m=qwe[i]-B[i]\n",
    "    #print(B[i])\n",
    "    z+=pow(m,2)\n",
    "\n",
    "    \n",
    "B=np.array(B)    \n",
    "for j in range(128):\n",
    "    o=B[j]\n",
    "    #print(o)\n",
    "    p+=pow(o,2)\n",
    "    \n",
    "u=pow(p,0.5)    \n",
    "f=pow(z,0.5)  \n",
    "Result = f/u\n",
    "\n",
    "\n",
    "Percent= Result * 100\n",
    "print(Percent, \"%\")\n",
    "qwe.size"
   ]
  },
  {
   "cell_type": "code",
   "execution_count": null,
   "metadata": {},
   "outputs": [],
   "source": []
  },
  {
   "cell_type": "code",
   "execution_count": null,
   "metadata": {},
   "outputs": [],
   "source": []
  },
  {
   "cell_type": "code",
   "execution_count": null,
   "metadata": {},
   "outputs": [],
   "source": []
  }
 ],
 "metadata": {
  "kernelspec": {
   "display_name": "Python 3 (ipykernel)",
   "language": "python",
   "name": "python3"
  },
  "language_info": {
   "codemirror_mode": {
    "name": "ipython",
    "version": 3
   },
   "file_extension": ".py",
   "mimetype": "text/x-python",
   "name": "python",
   "nbconvert_exporter": "python",
   "pygments_lexer": "ipython3",
   "version": "3.8.11"
  }
 },
 "nbformat": 4,
 "nbformat_minor": 4
}
